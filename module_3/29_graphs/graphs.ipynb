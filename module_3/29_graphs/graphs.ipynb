{
 "cells": [
  {
   "attachments": {},
   "cell_type": "markdown",
   "id": "791eea95",
   "metadata": {},
   "source": [
    "Plan:\n",
    "\n",
    "* Graph definition\n",
    "* Graph vizualization\n",
    "* Graph representation in memory\n",
    "* Graph problems (loops, strongly connected components, flows)\n",
    "* Graph algorithms (traversal, search, path)"
   ]
  },
  {
   "attachments": {},
   "cell_type": "markdown",
   "id": "d8ee149c",
   "metadata": {},
   "source": [
    "## Naive graph representation:"
   ]
  },
  {
   "cell_type": "code",
   "execution_count": 3,
   "id": "6917e2e2",
   "metadata": {},
   "outputs": [],
   "source": [
    "from typing import NamedTuple, List, Tuple"
   ]
  },
  {
   "cell_type": "code",
   "execution_count": 4,
   "id": "269900c2",
   "metadata": {},
   "outputs": [],
   "source": [
    "class Graph(NamedTuple):\n",
    "    nodes: List[str]\n",
    "    edges: List[Tuple[str, str]]\n"
   ]
  },
  {
   "cell_type": "code",
   "execution_count": 5,
   "id": "17402614",
   "metadata": {},
   "outputs": [],
   "source": [
    "konigsberg_nodes = [\"A\", \"B\", \"C\", \"D\"]"
   ]
  },
  {
   "cell_type": "code",
   "execution_count": 6,
   "id": "6f35e7be",
   "metadata": {},
   "outputs": [],
   "source": [
    "konigsberg_edges = [\n",
    "    (\"A\", \"B\"),\n",
    "    (\"A\", \"B\"),\n",
    "    (\"A\", \"C\"),\n",
    "    (\"A\", \"C\"),\n",
    "    (\"A\", \"D\"),\n",
    "    (\"B\", \"D\"),\n",
    "    (\"C\", \"D\"),\n",
    "]"
   ]
  },
  {
   "cell_type": "code",
   "execution_count": 10,
   "id": "6cd19f20",
   "metadata": {},
   "outputs": [],
   "source": [
    "konigsberg_bridges = Graph(konigsberg_nodes, konigsberg_edges)"
   ]
  },
  {
   "attachments": {},
   "cell_type": "markdown",
   "id": "75c2805d",
   "metadata": {},
   "source": [
    "## Linked objects representation:"
   ]
  },
  {
   "cell_type": "code",
   "execution_count": null,
   "id": "eda6a846",
   "metadata": {},
   "outputs": [],
   "source": []
  },
  {
   "attachments": {},
   "cell_type": "markdown",
   "id": "760d6382",
   "metadata": {},
   "source": [
    "## Adjacency list (список суміжності)"
   ]
  },
  {
   "attachments": {},
   "cell_type": "markdown",
   "id": "a85c0d13",
   "metadata": {},
   "source": [
    "Це спосіб репрезентації зв'язків у графі через створення записів у словнику виду:\n",
    "\n",
    "Node: [Node1, Node2, Node3... NodeM]. В списку знаходяться ноди, від котрих до Node існує ребро (edge)\n",
    "\n",
    "В Python правильний це adjacency dict. Звідси висновок: об'єкт, котрий в нас виступає в ролі ноди, має бути hashable.\n",
    "\n",
    "Також у системах, де можливо робити декілька записів для одного і того самого ключа, ви можете розгорнути adjacency list у набір записів типу NodeM: Node1, NodeM: Node2, etc (наприклад у RDBMS)"
   ]
  },
  {
   "cell_type": "code",
   "execution_count": 11,
   "id": "1791fba2",
   "metadata": {},
   "outputs": [],
   "source": [
    "def get_adjacency_list(graph: Graph):\n",
    "    \"\"\"\n",
    "    Return the adjacency list representation\n",
    "    of the graph.\n",
    "    \"\"\"\n",
    "    adj = {node: list() for node in graph.nodes}\n",
    "    for edge in graph.edges:\n",
    "        node_1, node_2 = edge[0], edge[1]\n",
    "        adj[node_1].append(node_2)\n",
    "        adj[node_2].append(node_1)\n",
    "    return adj"
   ]
  },
  {
   "cell_type": "code",
   "execution_count": 12,
   "id": "18ec460d",
   "metadata": {},
   "outputs": [
    {
     "data": {
      "text/plain": [
       "{'A': ['B', 'B', 'C', 'C', 'D'],\n",
       " 'B': ['A', 'A', 'D'],\n",
       " 'C': ['A', 'A', 'D'],\n",
       " 'D': ['A', 'B', 'C']}"
      ]
     },
     "execution_count": 12,
     "metadata": {},
     "output_type": "execute_result"
    }
   ],
   "source": [
    "get_adjacency_list(konigsberg_bridges)"
   ]
  },
  {
   "cell_type": "code",
   "execution_count": 17,
   "id": "8eb97ece",
   "metadata": {},
   "outputs": [
    {
     "data": {
      "text/plain": [
       "{'A': 0, 'B': 1, 'C': 2, 'D': 3}"
      ]
     },
     "execution_count": 17,
     "metadata": {},
     "output_type": "execute_result"
    }
   ],
   "source": [
    "{edge: index for index, edge in enumerate(konigsberg_bridges.nodes)}"
   ]
  },
  {
   "attachments": {},
   "cell_type": "markdown",
   "id": "284d0a20",
   "metadata": {},
   "source": [
    "## Adjacency matrix (матриця суміжності)"
   ]
  },
  {
   "cell_type": "code",
   "execution_count": 13,
   "id": "db4121c3",
   "metadata": {},
   "outputs": [],
   "source": [
    "import numpy as np\n",
    "\n",
    "def get_adjacency_matrix(graph):\n",
    "    \"\"\"\n",
    "    Returns the adjacency matrix of the graph.\n",
    "    \"\"\"\n",
    "    num_nodes = len(graph.nodes)\n",
    "    edges_to_index = {edge: index for index, edge in enumerate(konigsberg_bridges.nodes)}\n",
    "    adj_matrix = np.zeros((num_nodes, num_nodes), dtype=np.int8)\n",
    "    \n",
    "    for edge in graph.edges:\n",
    "        node_1, node_2 = edge[0], edge[1]\n",
    "        \n",
    "    "
   ]
  },
  {
   "attachments": {},
   "cell_type": "markdown",
   "id": "d9f45b97",
   "metadata": {},
   "source": [
    "## Incidence matrix"
   ]
  }
 ],
 "metadata": {
  "kernelspec": {
   "display_name": "Python 3 (ipykernel)",
   "language": "python",
   "name": "python3"
  },
  "language_info": {
   "codemirror_mode": {
    "name": "ipython",
    "version": 3
   },
   "file_extension": ".py",
   "mimetype": "text/x-python",
   "name": "python",
   "nbconvert_exporter": "python",
   "pygments_lexer": "ipython3",
   "version": "3.9.16"
  }
 },
 "nbformat": 4,
 "nbformat_minor": 5
}
