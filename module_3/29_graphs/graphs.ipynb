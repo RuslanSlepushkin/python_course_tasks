{
 "cells": [
  {
   "attachments": {},
   "cell_type": "markdown",
   "id": "85b0dec2",
   "metadata": {},
   "source": [
    "Графи - це спосіб репрезентації об'єктів та зв'язків між ними. \n",
    "\n",
    "Графи складаються з двох елементів:\n",
    "\n",
    "* Вершини\n",
    "* Ребра (зв'язки між вершинами)"
   ]
  },
  {
   "cell_type": "code",
   "execution_count": 140,
   "id": "cfd8a295",
   "metadata": {},
   "outputs": [
    {
     "name": "stdout",
     "output_type": "stream",
     "text": [
      "Warning: When  cdn_resources is 'local' jupyter notebook has issues displaying graphics on chrome/safari. Use cdn_resources='in_line' or cdn_resources='remote' if you have issues viewing graphics in a notebook.\n",
      "graph.html\n"
     ]
    },
    {
     "data": {
      "text/html": [
       "\n",
       "        <iframe\n",
       "            width=\"100%\"\n",
       "            height=\"600px\"\n",
       "            src=\"graph.html\"\n",
       "            frameborder=\"0\"\n",
       "            allowfullscreen\n",
       "            \n",
       "        ></iframe>\n",
       "        "
      ],
      "text/plain": [
       "<IPython.lib.display.IFrame at 0x7f79736292d0>"
      ]
     },
     "execution_count": 140,
     "metadata": {},
     "output_type": "execute_result"
    }
   ],
   "source": [
    "from pyvis.network import Network\n",
    "\n",
    "graph = Network(notebook=True, directed=True)\n",
    "\n",
    "graph.add_nodes(list(range(4)))\n",
    "\n",
    "graph.add_edges([(0, 1), (0, 1), (0, 2), (0, 2), (0, 3), (1, 3), (2, 3)])\n",
    "\n",
    "graph.set_edge_smooth('dynamic')\n",
    "\n",
    "graph.show(\"graph.html\")\n"
   ]
  },
  {
   "attachments": {},
   "cell_type": "markdown",
   "id": "d8ee149c",
   "metadata": {},
   "source": [
    "## Naive graph representation:"
   ]
  },
  {
   "cell_type": "code",
   "execution_count": 141,
   "id": "269900c2",
   "metadata": {},
   "outputs": [],
   "source": [
    "from typing import NamedTuple, List, Tuple, TypeVar\n",
    "\n",
    "T = TypeVar(\"T\")\n",
    "\n",
    "class Graph(NamedTuple):\n",
    "    nodes: List[T]\n",
    "    edges: List[Tuple[T, T]]\n",
    "    is_directed: bool = False\n"
   ]
  },
  {
   "cell_type": "code",
   "execution_count": 142,
   "id": "17402614",
   "metadata": {},
   "outputs": [],
   "source": [
    "konigsberg_nodes = [\"A\", \"B\", \"C\", \"D\"]"
   ]
  },
  {
   "cell_type": "code",
   "execution_count": 143,
   "id": "6f35e7be",
   "metadata": {},
   "outputs": [],
   "source": [
    "konigsberg_edges = [\n",
    "    (\"A\", \"B\"),\n",
    "    (\"A\", \"B\"),\n",
    "    (\"A\", \"C\"),\n",
    "    (\"A\", \"C\"),\n",
    "    (\"A\", \"D\"),\n",
    "    (\"B\", \"D\"),\n",
    "    (\"C\", \"D\"),\n",
    "]"
   ]
  },
  {
   "cell_type": "code",
   "execution_count": 144,
   "id": "6cd19f20",
   "metadata": {},
   "outputs": [],
   "source": [
    "konigsberg_bridges = Graph(konigsberg_nodes, konigsberg_edges, is_directed=False)"
   ]
  },
  {
   "cell_type": "code",
   "execution_count": 145,
   "id": "6e1cdb10",
   "metadata": {},
   "outputs": [],
   "source": [
    "konigsberg_bridges_dir = Graph(konigsberg_nodes, konigsberg_edges, is_directed=True)"
   ]
  },
  {
   "cell_type": "code",
   "execution_count": 146,
   "id": "a2b2e79d",
   "metadata": {},
   "outputs": [],
   "source": [
    "class WeighedGraph(Graph):\n",
    "    edges: List[Tuple[T, T, float]]"
   ]
  },
  {
   "cell_type": "code",
   "execution_count": 147,
   "id": "026fde81",
   "metadata": {},
   "outputs": [],
   "source": [
    "weighted_graph = WeighedGraph(list(range(10)), [(0, 1, 0.5), \n",
    "                                                (0, 2, 0.3), \n",
    "                                                (1, 2, 0.1), \n",
    "                                                (2, 3, 0.2), \n",
    "                                                (3, 4, 0.4), \n",
    "                                                (4, 5, 0.2), \n",
    "                                                (5, 6, 0.1), \n",
    "                                                (6, 7, 0.3), \n",
    "                                                (7, 8, 0.2), \n",
    "                                                (8, 9, 0.1),\n",
    "                                                (7, 0, 0.3),\n",
    "                                                (6, 2, 0.1244)])"
   ]
  },
  {
   "cell_type": "code",
   "execution_count": 148,
   "id": "440c858f",
   "metadata": {},
   "outputs": [
    {
     "name": "stdout",
     "output_type": "stream",
     "text": [
      "Warning: When  cdn_resources is 'local' jupyter notebook has issues displaying graphics on chrome/safari. Use cdn_resources='in_line' or cdn_resources='remote' if you have issues viewing graphics in a notebook.\n",
      "weighted_graph.html\n"
     ]
    },
    {
     "data": {
      "text/html": [
       "\n",
       "        <iframe\n",
       "            width=\"100%\"\n",
       "            height=\"600px\"\n",
       "            src=\"weighted_graph.html\"\n",
       "            frameborder=\"0\"\n",
       "            allowfullscreen\n",
       "            \n",
       "        ></iframe>\n",
       "        "
      ],
      "text/plain": [
       "<IPython.lib.display.IFrame at 0x7f7973877d10>"
      ]
     },
     "execution_count": 148,
     "metadata": {},
     "output_type": "execute_result"
    }
   ],
   "source": [
    "from pyvis.network import Network\n",
    "\n",
    "weighted_graph_viz = Network(notebook=True)\n",
    "\n",
    "for node in weighted_graph.nodes:\n",
    "    weighted_graph_viz.add_node(node, label=str(node))\n",
    "\n",
    "for edge in weighted_graph.edges:\n",
    "    weighted_graph_viz.add_edge(edge[0], edge[1], title=edge[2], value=edge[2])\n",
    "\n",
    "weighted_graph_viz.set_edge_smooth('dynamic')\n",
    "\n",
    "weighted_graph_viz.show(\"weighted_graph.html\")\n"
   ]
  },
  {
   "attachments": {},
   "cell_type": "markdown",
   "id": "760d6382",
   "metadata": {},
   "source": [
    "## Adjacency list (список суміжності)"
   ]
  },
  {
   "attachments": {},
   "cell_type": "markdown",
   "id": "a85c0d13",
   "metadata": {},
   "source": [
    "Це спосіб репрезентації зв'язків у графі через створення записів у словнику виду:\n",
    "\n",
    "Node: [Node1, Node2, Node3... NodeM]. В списку знаходяться ноди, від котрих до Node існує ребро (edge)\n",
    "\n",
    "В Python правильний це adjacency dict. Звідси висновок: об'єкт, котрий в нас виступає в ролі ноди, має бути hashable.\n",
    "\n",
    "Також у системах, де можливо робити декілька записів для одного і того самого ключа, ви можете розгорнути adjacency list у набір записів типу NodeM: Node1, NodeM: Node2, etc (наприклад у RDBMS)"
   ]
  },
  {
   "cell_type": "code",
   "execution_count": 149,
   "id": "1791fba2",
   "metadata": {},
   "outputs": [],
   "source": [
    "def get_adjacency_list(graph: Graph):\n",
    "    \"\"\"\n",
    "    Return the adjacency list representation\n",
    "    of the graph.\n",
    "    \"\"\"\n",
    "    adj = {node: list() for node in graph.nodes}\n",
    "    for edge in graph.edges:\n",
    "        node_1, node_2 = edge[0], edge[1]\n",
    "        adj[node_1].append(node_2)\n",
    "        if not graph.is_directed:\n",
    "            adj[node_2].append(node_1)\n",
    "    return adj"
   ]
  },
  {
   "cell_type": "code",
   "execution_count": 150,
   "id": "18ec460d",
   "metadata": {},
   "outputs": [
    {
     "data": {
      "text/plain": [
       "{'A': ['B', 'B', 'C', 'C', 'D'],\n",
       " 'B': ['A', 'A', 'D'],\n",
       " 'C': ['A', 'A', 'D'],\n",
       " 'D': ['A', 'B', 'C']}"
      ]
     },
     "execution_count": 150,
     "metadata": {},
     "output_type": "execute_result"
    }
   ],
   "source": [
    "get_adjacency_list(konigsberg_bridges)"
   ]
  },
  {
   "cell_type": "code",
   "execution_count": 151,
   "id": "6bc45ff7",
   "metadata": {},
   "outputs": [
    {
     "data": {
      "text/plain": [
       "{'A': ['B', 'B', 'C', 'C', 'D'], 'B': ['D'], 'C': ['D'], 'D': []}"
      ]
     },
     "execution_count": 151,
     "metadata": {},
     "output_type": "execute_result"
    }
   ],
   "source": [
    "get_adjacency_list(konigsberg_bridges_dir)"
   ]
  },
  {
   "attachments": {},
   "cell_type": "markdown",
   "id": "284d0a20",
   "metadata": {},
   "source": [
    "## Adjacency matrix (матриця суміжності)"
   ]
  },
  {
   "cell_type": "code",
   "execution_count": 168,
   "id": "db4121c3",
   "metadata": {},
   "outputs": [],
   "source": [
    "import numpy as np\n",
    "\n",
    "def get_adjacency_matrix(graph):\n",
    "    \"\"\"\n",
    "    Returns the adjacency matrix of the graph.\n",
    "    Important!!! This implementation assumes that nodes are labeled as integers\n",
    "    \"\"\"\n",
    "    num_nodes = len(graph.nodes)\n",
    "    adj_matrix = np.zeros((num_nodes, num_nodes), dtype=np.int8)\n",
    "    \n",
    "    for edge in graph.edges:\n",
    "        node_1, node_2 = edge[0], edge[1]\n",
    "        adj_matrix[node_1][node_2] += 1\n",
    "        if not graph.is_directed:\n",
    "            adj_matrix[node_2][node_1] += 1\n",
    "    \n",
    "    return adj_matrix"
   ]
  },
  {
   "cell_type": "code",
   "execution_count": 162,
   "id": "ac499101",
   "metadata": {},
   "outputs": [],
   "source": [
    "konigsberg_bridges_int = Graph([0, 1, 2, 3], [(0, 1), (0, 1), (0, 2), (0, 2), (0, 3), (1, 3), (2, 3)])"
   ]
  },
  {
   "cell_type": "code",
   "execution_count": 163,
   "id": "4470fdeb",
   "metadata": {},
   "outputs": [],
   "source": [
    "konigsberg_bridges_int_dir = Graph([0, 1, 2, 3], [(0, 1), (0, 1), (0, 2), (0, 2), (0, 3), (1, 3), (2, 3)], is_directed=True)"
   ]
  },
  {
   "cell_type": "code",
   "execution_count": 164,
   "id": "6710d33d",
   "metadata": {},
   "outputs": [
    {
     "data": {
      "text/plain": [
       "array([[0, 2, 2, 1],\n",
       "       [2, 0, 0, 1],\n",
       "       [2, 0, 0, 1],\n",
       "       [1, 1, 1, 0]], dtype=int8)"
      ]
     },
     "execution_count": 164,
     "metadata": {},
     "output_type": "execute_result"
    }
   ],
   "source": [
    "get_adjacency_matrix(konigsberg_bridges_int)"
   ]
  },
  {
   "cell_type": "code",
   "execution_count": 165,
   "id": "e8070331",
   "metadata": {},
   "outputs": [
    {
     "data": {
      "text/plain": [
       "array([[0, 2, 2, 1],\n",
       "       [0, 0, 0, 1],\n",
       "       [0, 0, 0, 1],\n",
       "       [0, 0, 0, 0]], dtype=int8)"
      ]
     },
     "execution_count": 165,
     "metadata": {},
     "output_type": "execute_result"
    }
   ],
   "source": [
    "get_adjacency_matrix(konigsberg_bridges_int_dir)"
   ]
  }
 ],
 "metadata": {
  "kernelspec": {
   "display_name": "Python 3 (ipykernel)",
   "language": "python",
   "name": "python3"
  },
  "language_info": {
   "codemirror_mode": {
    "name": "ipython",
    "version": 3
   },
   "file_extension": ".py",
   "mimetype": "text/x-python",
   "name": "python",
   "nbconvert_exporter": "python",
   "pygments_lexer": "ipython3",
   "version": "3.11.0"
  }
 },
 "nbformat": 4,
 "nbformat_minor": 5
}
