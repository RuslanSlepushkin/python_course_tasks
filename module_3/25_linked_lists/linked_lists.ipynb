{
 "cells": [
  {
   "cell_type": "markdown",
   "id": "d4352656",
   "metadata": {},
   "source": [
    "## Builtin lists. Arrays. NumPy arrays."
   ]
  },
  {
   "cell_type": "markdown",
   "id": "e18a1c17",
   "metadata": {},
   "source": [
    "Ми вже говорили про списки як вбудовані структури даних у Python. Але важливо, як вони влаштовані \"під капотом\".\n",
    "List імплементовано як так званий \"динамічний масив\" ([dynamic array](https://www.geeksforgeeks.org/how-do-dynamic-arrays-work/)).\n",
    "\n",
    "Масиви зазвичай мають __константну__ складність для операцій доступу до елементу по індексу та вставки останнього елементу.\n",
    "\n",
    "В Python також існує вбудований модуль array, котрий дозволяє створювати масиви для значень одного типу (тільки якщо це вбудований тип). [Деталі](https://docs.python.org/3/library/array.html) \n",
    "\n",
    "Також ви можете скористатися модулем NumPy, котрий має тип NumPy.array. Він має фіксоване значення, але в деяких ситуаціях забезпечує кращий перфоманс (перш за все коли можна скористатись вбудованими NumPy типами та коли потрібна [векторизація обчислень](https://towardsdatascience.com/how-to-speedup-data-processing-with-numpy-vectorization-12acac71cfca))"
   ]
  },
  {
   "cell_type": "code",
   "execution_count": 1,
   "id": "a19acc54",
   "metadata": {},
   "outputs": [],
   "source": [
    "import random\n",
    "import sys\n",
    "\n",
    "SIZE = 100000\n",
    "\n",
    "INDEX = random.randint(0, SIZE-1)"
   ]
  },
  {
   "cell_type": "code",
   "execution_count": 2,
   "id": "c823d309",
   "metadata": {},
   "outputs": [
    {
     "name": "stdout",
     "output_type": "stream",
     "text": [
      "1.3 ms ± 90.7 µs per loop (mean ± std. dev. of 7 runs, 1,000 loops each)\n"
     ]
    }
   ],
   "source": [
    "%%timeit\n",
    "\n",
    "l = list(range(SIZE))"
   ]
  },
  {
   "cell_type": "code",
   "execution_count": 3,
   "id": "1353b2a0",
   "metadata": {},
   "outputs": [],
   "source": [
    "l = list(range(SIZE))"
   ]
  },
  {
   "cell_type": "code",
   "execution_count": 4,
   "id": "e36a436f",
   "metadata": {},
   "outputs": [
    {
     "name": "stdout",
     "output_type": "stream",
     "text": [
      "828 ns ± 57.8 ns per loop (mean ± std. dev. of 7 runs, 1,000,000 loops each)\n"
     ]
    }
   ],
   "source": [
    "%%timeit\n",
    "\n",
    "l[random.randint(0, SIZE-1)]"
   ]
  },
  {
   "cell_type": "code",
   "execution_count": 5,
   "id": "2df5e1f7",
   "metadata": {},
   "outputs": [
    {
     "data": {
      "text/plain": [
       "800056"
      ]
     },
     "execution_count": 5,
     "metadata": {},
     "output_type": "execute_result"
    }
   ],
   "source": [
    "sys.getsizeof(l)"
   ]
  },
  {
   "cell_type": "code",
   "execution_count": 6,
   "id": "ba0ad7a3",
   "metadata": {},
   "outputs": [],
   "source": [
    "import array"
   ]
  },
  {
   "cell_type": "code",
   "execution_count": 7,
   "id": "76599df8",
   "metadata": {},
   "outputs": [
    {
     "name": "stdout",
     "output_type": "stream",
     "text": [
      "5.62 ms ± 309 µs per loop (mean ± std. dev. of 7 runs, 100 loops each)\n"
     ]
    }
   ],
   "source": [
    "%%timeit\n",
    "\n",
    "a = array.array(\"i\", range(SIZE))"
   ]
  },
  {
   "cell_type": "code",
   "execution_count": 8,
   "id": "bd945495",
   "metadata": {},
   "outputs": [],
   "source": [
    "a = array.array(\"i\", range(SIZE))"
   ]
  },
  {
   "cell_type": "code",
   "execution_count": 9,
   "id": "f49e976f",
   "metadata": {},
   "outputs": [
    {
     "name": "stdout",
     "output_type": "stream",
     "text": [
      "752 ns ± 37.3 ns per loop (mean ± std. dev. of 7 runs, 1,000,000 loops each)\n"
     ]
    }
   ],
   "source": [
    "%%timeit\n",
    "\n",
    "a[random.randint(0, SIZE-1)]"
   ]
  },
  {
   "cell_type": "code",
   "execution_count": 10,
   "id": "9f216db5",
   "metadata": {},
   "outputs": [
    {
     "data": {
      "text/plain": [
       "408344"
      ]
     },
     "execution_count": 10,
     "metadata": {},
     "output_type": "execute_result"
    }
   ],
   "source": [
    "sys.getsizeof(a)"
   ]
  },
  {
   "cell_type": "code",
   "execution_count": 11,
   "id": "6723df5a",
   "metadata": {},
   "outputs": [],
   "source": [
    "import numpy as np"
   ]
  },
  {
   "cell_type": "code",
   "execution_count": 12,
   "id": "15be83a1",
   "metadata": {},
   "outputs": [
    {
     "name": "stdout",
     "output_type": "stream",
     "text": [
      "7.94 ms ± 678 µs per loop (mean ± std. dev. of 7 runs, 100 loops each)\n"
     ]
    }
   ],
   "source": [
    "%%timeit\n",
    "\n",
    "n = np.array(range(SIZE))"
   ]
  },
  {
   "cell_type": "code",
   "execution_count": 13,
   "id": "95922107",
   "metadata": {},
   "outputs": [],
   "source": [
    "n = np.array(range(SIZE))"
   ]
  },
  {
   "cell_type": "code",
   "execution_count": 14,
   "id": "137f916d",
   "metadata": {},
   "outputs": [
    {
     "name": "stdout",
     "output_type": "stream",
     "text": [
      "813 ns ± 65.7 ns per loop (mean ± std. dev. of 7 runs, 1,000,000 loops each)\n"
     ]
    }
   ],
   "source": [
    "%%timeit\n",
    "\n",
    "n[random.randint(0, SIZE-1)]"
   ]
  },
  {
   "cell_type": "code",
   "execution_count": 15,
   "id": "6e946307",
   "metadata": {},
   "outputs": [
    {
     "data": {
      "text/plain": [
       "800112"
      ]
     },
     "execution_count": 15,
     "metadata": {},
     "output_type": "execute_result"
    }
   ],
   "source": [
    "sys.getsizeof(n)"
   ]
  },
  {
   "cell_type": "code",
   "execution_count": 54,
   "id": "ac8ce37a",
   "metadata": {},
   "outputs": [
    {
     "data": {
      "text/plain": [
       "800112"
      ]
     },
     "execution_count": 54,
     "metadata": {},
     "output_type": "execute_result"
    }
   ],
   "source": [
    "sys.getsizeof(np.array([np.int64(x) for x in range(SIZE)]))"
   ]
  },
  {
   "cell_type": "code",
   "execution_count": 55,
   "id": "6e676063",
   "metadata": {},
   "outputs": [
    {
     "data": {
      "text/plain": [
       "400112"
      ]
     },
     "execution_count": 55,
     "metadata": {},
     "output_type": "execute_result"
    }
   ],
   "source": [
    "sys.getsizeof(np.array([np.int32(x) for x in range(SIZE)]))"
   ]
  },
  {
   "cell_type": "markdown",
   "id": "9e686366",
   "metadata": {},
   "source": [
    "## Linked Lists"
   ]
  },
  {
   "cell_type": "markdown",
   "id": "e545afc4",
   "metadata": {},
   "source": [
    "Зв'язаний список - це лінійна структура даних, де кожен елемент зберігає посилання на наступний, попередній або ще якийсь інший елемент. Порядок у зв'язаному списку задається не індексом (як у вбудованих списках у Python), а посиланням на наступний елемент.\n",
    "\n",
    "Приклад імплементації взято [звідси](https://runestone.academy/ns/books/published/pythonds/BasicDS/ImplementinganUnorderedListLinkedLists.html), модифіковано для очевидного пришвидшення знаходження розміру списку.\n",
    "\n",
    "Головна ідея подібної імплементації це розділення відповідальності. Клас ноди імплементує функціонал контейнера (зберігає дані, котрі ми в неї покладемо).\n",
    "\n",
    "Клас списку реалізує основні операції з нодами (пошук, додавання, видалення тощо). В простих випадках можна обійтись без класу списку, він потрібен перш за все для збереження типових операцій."
   ]
  },
  {
   "cell_type": "code",
   "execution_count": 39,
   "id": "5e828af3",
   "metadata": {},
   "outputs": [],
   "source": [
    "class Node:\n",
    "    \"\"\"Class which represents single node of linked list\"\"\"\n",
    "    def __init__(self, initdata):\n",
    "        self.data = initdata\n",
    "        self.next = None\n",
    "\n",
    "    def get_data(self):\n",
    "        return self.data\n",
    "\n",
    "    def get_next(self):\n",
    "        return self.next\n",
    "\n",
    "    def set_data(self,newdata):\n",
    "        self.data = newdata\n",
    "\n",
    "    def set_next(self,newnext):\n",
    "        self.next = newnext"
   ]
  },
  {
   "cell_type": "code",
   "execution_count": 40,
   "id": "8486259a",
   "metadata": {},
   "outputs": [],
   "source": [
    "class UnorderedList:\n",
    "    \"\"\"Class which represents unordered linked list\"\"\"\n",
    "\n",
    "    def __init__(self):\n",
    "        self.head = None\n",
    "        self.size = 0\n",
    "\n",
    "    def is_empty(self):\n",
    "        return self.head == None\n",
    "\n",
    "    def add(self, item):\n",
    "        \"\"\"Time complexity: O(1)\"\"\"\n",
    "        temp = Node(item)\n",
    "        temp.set_next(self.head)\n",
    "        self.head = temp\n",
    "        self.size += 1\n",
    "\n",
    "    def search(self,item):\n",
    "        \"\"\"Time complexity: O(n)\"\"\"\n",
    "        current = self.head\n",
    "        found = False\n",
    "        while current != None and not found:\n",
    "            if current.get_data() == item:\n",
    "                found = True\n",
    "            else:\n",
    "                current = current.get_next()\n",
    "        return found\n",
    "\n",
    "    def remove(self, item):\n",
    "        \"\"\"Time complexity: O(n)\"\"\"\n",
    "        current = self.head\n",
    "        previous = None\n",
    "        found = False\n",
    "        while not found:\n",
    "            if current.get_data() == item:\n",
    "                found = True\n",
    "                self.size -= 1\n",
    "            else:\n",
    "                previous = current\n",
    "                current = current.get_next()\n",
    "        if previous == None:\n",
    "            self.head = current.get_next()\n",
    "        else:\n",
    "            previous.set_next(current.get_next())"
   ]
  },
  {
   "cell_type": "code",
   "execution_count": 41,
   "id": "8b0661c2",
   "metadata": {},
   "outputs": [],
   "source": [
    "mylist = UnorderedList()"
   ]
  },
  {
   "cell_type": "code",
   "execution_count": 42,
   "id": "3e78ede0",
   "metadata": {},
   "outputs": [
    {
     "name": "stdout",
     "output_type": "stream",
     "text": [
      "31\n",
      "77\n",
      "17\n",
      "93\n",
      "26\n"
     ]
    }
   ],
   "source": [
    "mylist.add(31)\n",
    "print(mylist.head.get_data())\n",
    "mylist.add(77)\n",
    "print(mylist.head.get_data())\n",
    "mylist.add(17)\n",
    "print(mylist.head.get_data())\n",
    "mylist.add(93)\n",
    "print(mylist.head.get_data())\n",
    "mylist.add(26)\n",
    "print(mylist.head.get_data())\n",
    "mylist.add(54)"
   ]
  },
  {
   "cell_type": "code",
   "execution_count": 43,
   "id": "edde61d0",
   "metadata": {},
   "outputs": [
    {
     "name": "stdout",
     "output_type": "stream",
     "text": [
      "6\n",
      "True\n",
      "False\n"
     ]
    }
   ],
   "source": [
    "print(mylist.size)\n",
    "print(mylist.search(93))\n",
    "print(mylist.search(100))"
   ]
  },
  {
   "cell_type": "code",
   "execution_count": 44,
   "id": "463163ac",
   "metadata": {},
   "outputs": [
    {
     "name": "stdout",
     "output_type": "stream",
     "text": [
      "True\n",
      "7\n"
     ]
    }
   ],
   "source": [
    "mylist.add(100)\n",
    "print(mylist.search(100))\n",
    "print(mylist.size)"
   ]
  },
  {
   "cell_type": "code",
   "execution_count": 45,
   "id": "61debf25",
   "metadata": {},
   "outputs": [
    {
     "name": "stdout",
     "output_type": "stream",
     "text": [
      "6\n",
      "5\n",
      "4\n",
      "False\n"
     ]
    }
   ],
   "source": [
    "mylist.remove(54)\n",
    "print(mylist.size)\n",
    "mylist.remove(93)\n",
    "print(mylist.size)\n",
    "mylist.remove(31)\n",
    "print(mylist.size)\n",
    "print(mylist.search(93))"
   ]
  },
  {
   "cell_type": "markdown",
   "id": "a6827792",
   "metadata": {},
   "source": [
    "Також окрім single linked list ви можете будувати double linked lists і multilinked list. Схема імплементації симетрична: клас ноди реалізує зв'язки та контейнер, клас списку реалізує основні операції над нодами."
   ]
  },
  {
   "cell_type": "code",
   "execution_count": 46,
   "id": "569fac28",
   "metadata": {},
   "outputs": [],
   "source": [
    "class DoubleLinkedNode:\n",
    "    def __init__(self, initdata=None):\n",
    "        self.data = initdata\n",
    "        self.prev = None\n",
    "        self.next = None\n",
    "      \n",
    "    def get_data(self):\n",
    "        return self.data\n",
    "\n",
    "    def get_next(self):\n",
    "        return self.next\n",
    "    \n",
    "    def get_prev(self):\n",
    "        return self.prev\n",
    "\n",
    "    def set_data(self, newdata):\n",
    "        self.data = newdata\n",
    "\n",
    "    def set_next(self, newnext):\n",
    "        self.next = newnext\n",
    "        \n",
    "    def set_prev(self, newprev):\n",
    "        self.prev = newprev"
   ]
  },
  {
   "cell_type": "code",
   "execution_count": 64,
   "id": "82d335ed",
   "metadata": {},
   "outputs": [],
   "source": [
    "class DoubleLinkedList:\n",
    "    def __init__(self):\n",
    "        self.head = None\n",
    "    \n",
    "    def append(self, data):\n",
    "        new_node = Node(data)\n",
    "        if self.head is None:\n",
    "            self.head = new_node\n",
    "        else:\n",
    "            current = self.head\n",
    "            while current.next:\n",
    "                current = current.next\n",
    "            current.next = new_node\n",
    "            new_node.prev = current\n",
    "    \n",
    "    def prepend(self, data):\n",
    "        new_node = Node(data)\n",
    "        if self.head is None:\n",
    "            self.head = new_node\n",
    "        else:\n",
    "            self.head.prev = new_node\n",
    "            new_node.next = self.head\n",
    "            self.head = new_node\n",
    "            \n",
    "    def delete(self, key):\n",
    "        current = self.head\n",
    "        while current:\n",
    "            if current.data == key and current == self.head:\n",
    "                if not current.next:\n",
    "                    current = None\n",
    "                    self.head = None\n",
    "                    return\n",
    "                else:\n",
    "                    nxt = current.next\n",
    "                    current.next = None\n",
    "                    nxt.prev = None\n",
    "                    current = None\n",
    "                    self.head = nxt\n",
    "                    return\n",
    "            elif current.data == key:\n",
    "                if current.next:\n",
    "                    nxt = current.next\n",
    "                    prev = current.prev\n",
    "                    prev.next = nxt\n",
    "                    nxt.prev = prev\n",
    "                    current.next = None\n",
    "                    current.prev = None\n",
    "                    current = None\n",
    "                    return\n",
    "                else:\n",
    "                    prev = current.prev\n",
    "                    prev.next = None\n",
    "                    current.prev = None\n",
    "                    current = None\n",
    "                    return\n",
    "            current = current.next\n",
    "            \n",
    "    def print_list(self):\n",
    "        current = self.head\n",
    "        while current:\n",
    "            print(current.data)\n",
    "            current = current.next"
   ]
  },
  {
   "cell_type": "code",
   "execution_count": 67,
   "id": "ab8eeabb",
   "metadata": {},
   "outputs": [],
   "source": [
    "dllist = DoubleLinkedList()\n",
    "\n",
    "dllist.append(1)\n",
    "dllist.append(2)\n",
    "dllist.append(3)\n",
    "dllist.append(4)\n",
    "dllist.prepend(0)"
   ]
  },
  {
   "cell_type": "code",
   "execution_count": 68,
   "id": "196e12a0",
   "metadata": {},
   "outputs": [
    {
     "name": "stdout",
     "output_type": "stream",
     "text": [
      "0\n",
      "1\n",
      "2\n",
      "3\n",
      "4\n"
     ]
    }
   ],
   "source": [
    "dllist.print_list()"
   ]
  },
  {
   "cell_type": "code",
   "execution_count": 69,
   "id": "4797aeb7",
   "metadata": {},
   "outputs": [
    {
     "name": "stdout",
     "output_type": "stream",
     "text": [
      "0\n",
      "2\n",
      "3\n",
      "4\n"
     ]
    }
   ],
   "source": [
    "dllist.delete(1)\n",
    "dllist.print_list()"
   ]
  },
  {
   "cell_type": "markdown",
   "id": "8f0b9055",
   "metadata": {},
   "source": [
    "В Python зв'язні списки використовуються в основному як база для об'єктно орієнтований імплементації інших структур даних (дерево як найперший приклад).\n",
    "\n",
    "Але, в інших мовах програмування зв'язні списки мають велике значення. Перш за все через те, що він дозволяє з'єднувати між собою далекі області пам'яті (завдяки ідеї, що одна нода посилається на наступну). \n",
    "\n",
    "Комміти в git структуровані саме як однозв'язний список. Також, як однозв'язний список може бути структурована історія браузеру або послідовність команд, котрі можна відмінити в застосунку\n",
    "\n"
   ]
  },
  {
   "cell_type": "markdown",
   "id": "3f0c44c2",
   "metadata": {},
   "source": [
    "Асимптотична складність основних операцій для linked list:\n",
    "\n",
    "* Обхід списку - **O(n)**\n",
    "* Пошук у списку - **O(n)**\n",
    "* Random access (aka доступ за індексом) - **O(index)**, **O(n)** in worst case\n",
    "* Вставка елементу - сама операція робиться за **O(1)**, але якщо ми робимо вставку не на початку списку, це займає O(n) в найгіршому випадку\n",
    "* Видалення елементу - аналогічно вставці, **O(1)** само по собі, але включає в себе traversing (обхід). Тобто, скоріше О(n)"
   ]
  },
  {
   "cell_type": "markdown",
   "id": "4c8fb39f",
   "metadata": {},
   "source": [
    "Для порівняння, асимптотична складність вбудованих списків у Python:\n",
    "\n",
    "* Обхід списку - **O(n)**\n",
    "* Пошук у списку - **O(log(n))** в середньому якщо відсортований, **O(n)** в середньому якщо не відсортовано\n",
    "* Random access (aka доступ за індексом) - **O(1)**\n",
    "* Вставка елементу - **O(n)** якщо не в кінець списку, бо тоді треба буде зсунути всі інші елементи\n",
    "* Видалення елементу - аналогічно вставці, **O(n)**"
   ]
  },
  {
   "cell_type": "code",
   "execution_count": null,
   "id": "db8ba74c",
   "metadata": {},
   "outputs": [],
   "source": [
    "Також треба враховувати, що зв'язані списки зазвичай споживають більше пам'яті і, на додачу, вона аллокована в різних областях RAM"
   ]
  },
  {
   "cell_type": "markdown",
   "id": "46e0129f",
   "metadata": {},
   "source": [
    "Загалом, я б рекомендував у 90% випадків надавати перевагу звичайним спискам у Python. Звісно, існують виключення ([гарний приклад на Quora](https://www.quora.com/What-is-the-purpose-of-using-a-linked-list-in-Python)). Вибір структури даних це часто trade-off. \n",
    "\n",
    "[Гарне відео на тему вибору структури даних](https://youtu.be/34ky600VTN0)."
   ]
  }
 ],
 "metadata": {
  "kernelspec": {
   "display_name": "Python 3 (ipykernel)",
   "language": "python",
   "name": "python3"
  },
  "language_info": {
   "codemirror_mode": {
    "name": "ipython",
    "version": 3
   },
   "file_extension": ".py",
   "mimetype": "text/x-python",
   "name": "python",
   "nbconvert_exporter": "python",
   "pygments_lexer": "ipython3",
   "version": "3.9.16"
  }
 },
 "nbformat": 4,
 "nbformat_minor": 5
}
