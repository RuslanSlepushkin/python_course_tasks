{
 "cells": [
  {
   "cell_type": "markdown",
   "id": "5f99dea4",
   "metadata": {},
   "source": [
    "Повертаючись до розмов про __проблеми__ та __алгоритми__, ми можемо згадати наш приклад для проблеми __пошуку__. Для правильного аналізу задачі ми маємо оцінювати:\n",
    "\n",
    "* найгіршу складність вирішення __проблеми теоретично__ та __певним алгоритмом__\n",
    "* найкращу теоретично можливу складність вирішення __проблеми теоретично__ та __певним алгоритмом__\n",
    "* середній випадок вирішення проблеми __певним алгоритмом__"
   ]
  },
  {
   "cell_type": "code",
   "execution_count": null,
   "id": "9d6c4e62",
   "metadata": {},
   "outputs": [],
   "source": [
    "lst = [i for i in range(10)]"
   ]
  },
  {
   "cell_type": "code",
   "execution_count": null,
   "id": "ef53ecb8",
   "metadata": {},
   "outputs": [],
   "source": [
    "def linear_search(arr, target):\n",
    "    \"\"\"Best case O(1)\n",
    "       Worst case O(n)\n",
    "       Average O(n)\"\"\"\n",
    "    for index, element in enumerate(arr):\n",
    "        if element == target:\n",
    "            return index\n",
    "    return None\n"
   ]
  },
  {
   "cell_type": "code",
   "execution_count": null,
   "id": "6c890acb",
   "metadata": {},
   "outputs": [],
   "source": [
    "def binary_search(arr, target):\n",
    "    \"\"\"Best case O(1)\n",
    "       Worst case O(log(n))\n",
    "       Average O(log(n))\"\"\"\n",
    "    left = 0\n",
    "    right = len(arr) - 1\n",
    "    while left <= right:\n",
    "        mid = (left + right) // 2\n",
    "        if arr[mid] == target:\n",
    "            return mid\n",
    "        elif arr[mid] < target:\n",
    "            left = mid + 1\n",
    "        else:\n",
    "            right = mid - 1\n",
    "    return None\n"
   ]
  },
  {
   "cell_type": "markdown",
   "id": "b36c7325",
   "metadata": {},
   "source": [
    "Насправді, треба зазначити, що ці два алгоритми вирішують трошки різні проблеми. Лінійний пошук працює навіть з __невідсортованими__ списками. Тоді як бінарний пошук працює тільки коли масив __відсортований__. Також бінарний пошук чутливий до ситуацій, коли ви шукаєте величину, що знаходиться на краю колекції. Лінійний пошук чутливий до ситуацій, коли величина в кінці колекції."
   ]
  },
  {
   "cell_type": "markdown",
   "id": "47c1de66",
   "metadata": {},
   "source": [
    "Подробно можна почитати [тут](https://www.freecodecamp.org/news/search-algorithms-linear-and-binary-search-explained/). Окремо зверніть увагу на order agnostic binary search. Сортування все ще важливо; але ми можемо не переживати за його __порядок__"
   ]
  },
  {
   "cell_type": "markdown",
   "id": "d02b6eaf",
   "metadata": {},
   "source": [
    "Задача пошуку ми навряд уже покращимо. Але ми можемо вирішити схожу задачу: нехай нам треба не повернути __індекс входження__, а перевірити сам __факт наявності__ елементу в колекції. \n",
    "\n",
    "Спойлер: ми можемо це зробити за (майже) О(1) часу."
   ]
  },
  {
   "cell_type": "code",
   "execution_count": null,
   "id": "89e2bb95",
   "metadata": {},
   "outputs": [],
   "source": [
    "st = {i for i in range(10)}\n",
    "# до речі, якою буде складність створення цієї множини? \n",
    "# Якою буде складність перетворення множини зі списку та назад?"
   ]
  },
  {
   "cell_type": "code",
   "execution_count": null,
   "id": "8a36e8cc",
   "metadata": {},
   "outputs": [],
   "source": [
    "def linear_search_modified(arr, target):\n",
    "    \"\"\"Best case O(1)\n",
    "       Worst case O(n)\n",
    "       Average O(n)\"\"\"\n",
    "    for index, element in enumerate(arr):\n",
    "        if element == target:\n",
    "            return True\n",
    "    return False\n",
    "\n",
    "\n",
    "def binary_search_modified(arr, target):\n",
    "    \"\"\"Best case O(1)\n",
    "       Worst case O(log(n))\n",
    "       Average O(log(n))\"\"\"\n",
    "    left = 0\n",
    "    right = len(arr) - 1\n",
    "    while left <= right:\n",
    "        mid = (left + right) // 2\n",
    "        if arr[mid] == target:\n",
    "            return True\n",
    "        elif arr[mid] < target:\n",
    "            left = mid + 1\n",
    "        else:\n",
    "            right = mid - 1\n",
    "    return False\n"
   ]
  },
  {
   "cell_type": "code",
   "execution_count": null,
   "id": "2987f66a",
   "metadata": {},
   "outputs": [],
   "source": [
    "from random import randint"
   ]
  },
  {
   "cell_type": "code",
   "execution_count": null,
   "id": "0aca5be4",
   "metadata": {},
   "outputs": [],
   "source": [
    "#Протестуйте як для 20, так і для 200000 і вище\n",
    "\n",
    "NUMS = 2000000\n",
    "\n",
    "lst = list(range(NUMS))\n",
    "st = set(range(NUMS))"
   ]
  },
  {
   "cell_type": "code",
   "execution_count": null,
   "id": "be8184a7",
   "metadata": {},
   "outputs": [],
   "source": [
    "%%timeit\n",
    "\n",
    "linear_search_modified(lst, randint(0, NUMS))"
   ]
  },
  {
   "cell_type": "code",
   "execution_count": null,
   "id": "58e1be09",
   "metadata": {},
   "outputs": [],
   "source": [
    "%%timeit\n",
    "\n",
    "binary_search_modified(lst, randint(0, NUMS))"
   ]
  },
  {
   "cell_type": "code",
   "execution_count": null,
   "id": "5746191f",
   "metadata": {},
   "outputs": [],
   "source": [
    "%%timeit\n",
    "\n",
    "randint(0, NUMS) in st"
   ]
  },
  {
   "cell_type": "code",
   "execution_count": null,
   "id": "e6989d24",
   "metadata": {},
   "outputs": [],
   "source": [
    "import random\n",
    "\n",
    "from time import time\n",
    "from functools import partial\n",
    "from typing import Callable, Union, List, Iterable\n",
    "\n",
    "RANGE_BOUND_MAX = 700\n",
    "TESTS_NUM = 5000\n",
    "\n",
    "def function_timer(function: Callable):\n",
    "    start_time = time()\n",
    "    function()\n",
    "    return time() - start_time\n",
    "\n",
    "range_bounds = [i for i in range(10, RANGE_BOUND_MAX)]\n",
    "\n",
    "def time_algs_by_mean(func: Callable[Iterable[int], int], \n",
    "                      test_num: int, \n",
    "                      range_bounds: int, \n",
    "                      type_constr: type = list) -> List[float]:\n",
    "    algorith_times = list()\n",
    "    for range_bound in range_bounds:\n",
    "        arr = type_constr(i for i in range(range_bound))\n",
    "        times_for_n: List[float] = [function_timer(\n",
    "        partial(func,\n",
    "                arr = arr, \n",
    "                target = random.randint(0, range_bound))\n",
    "        ) for _ in range(test_num)]\n",
    "        mean_running_time = sum(times_for_n)/len(times_for_n)\n",
    "        algorith_times.append(mean_running_time)\n",
    "    return algorith_times\n",
    "\n",
    "linear_times: List[float] = time_algs_by_mean(linear_search_modified, TESTS_NUM, range_bounds)\n",
    "\n",
    "binary_times: List[float] = time_algs_by_mean(binary_search_modified, TESTS_NUM, range_bounds)\n",
    "\n",
    "set_times: List[float] = time_algs_by_mean(lambda arr, target: target in arr, TESTS_NUM, range_bounds, set)"
   ]
  },
  {
   "cell_type": "code",
   "execution_count": null,
   "id": "efdb251c",
   "metadata": {},
   "outputs": [],
   "source": [
    "import matplotlib.pyplot as plt"
   ]
  },
  {
   "cell_type": "code",
   "execution_count": null,
   "id": "88205dc4",
   "metadata": {},
   "outputs": [],
   "source": [
    "plt.plot(range_bounds, linear_times)\n",
    "plt.plot(range_bounds, binary_times)\n",
    "plt.plot(range_bounds, set_times)"
   ]
  },
  {
   "cell_type": "code",
   "execution_count": null,
   "id": "a52b349b",
   "metadata": {},
   "outputs": [],
   "source": [
    "plt.plot(range_bounds, binary_times)\n",
    "plt.plot(range_bounds, set_times)"
   ]
  },
  {
   "cell_type": "markdown",
   "id": "0f5f7041",
   "metadata": {},
   "source": [
    "За рахунок чого це відбувається? Все тому що set в Python працює на основі структури даних, що носить назву [hash table](https://iq.opengenus.org/time-complexity-of-hash-table/). Грубо кажучи, це виглядає таким чином:"
   ]
  }
 ],
 "metadata": {
  "kernelspec": {
   "display_name": "Python 3 (ipykernel)",
   "language": "python",
   "name": "python3"
  },
  "language_info": {
   "codemirror_mode": {
    "name": "ipython",
    "version": 3
   },
   "file_extension": ".py",
   "mimetype": "text/x-python",
   "name": "python",
   "nbconvert_exporter": "python",
   "pygments_lexer": "ipython3",
   "version": "3.9.16"
  }
 },
 "nbformat": 4,
 "nbformat_minor": 5
}
