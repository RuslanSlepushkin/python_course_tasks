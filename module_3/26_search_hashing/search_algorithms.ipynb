{
 "cells": [
  {
   "attachments": {},
   "cell_type": "markdown",
   "id": "5f99dea4",
   "metadata": {},
   "source": [
    "Повертаючись до розмов про __проблеми__ та __алгоритми__, ми можемо згадати наш приклад для проблеми __пошуку__. Для правильного аналізу задачі ми маємо оцінювати:\n",
    "\n",
    "* найгіршу складність вирішення __проблеми теоретично__ та __певним алгоритмом__\n",
    "* найкращу теоретично можливу складність вирішення __проблеми теоретично__ та __певним алгоритмом__\n",
    "* середній випадок вирішення проблеми __певним алгоритмом__"
   ]
  },
  {
   "cell_type": "code",
   "execution_count": 68,
   "id": "9d6c4e62",
   "metadata": {},
   "outputs": [],
   "source": [
    "lst = list(range(10))"
   ]
  },
  {
   "cell_type": "code",
   "execution_count": 69,
   "id": "ef53ecb8",
   "metadata": {},
   "outputs": [],
   "source": [
    "def linear_search(arr, target):\n",
    "    \"\"\"Best case O(1)\n",
    "       Worst case O(n)\n",
    "       Average O(n)\"\"\"\n",
    "    for index, element in enumerate(arr):\n",
    "        if element == target:\n",
    "            return index\n",
    "    return None\n"
   ]
  },
  {
   "cell_type": "code",
   "execution_count": 70,
   "id": "6c890acb",
   "metadata": {},
   "outputs": [],
   "source": [
    "def binary_search(arr, target):\n",
    "    \"\"\"Best case O(1)\n",
    "       Worst case O(log(n))\n",
    "       Average O(log(n))\"\"\"\n",
    "    left = 0\n",
    "    right = len(arr) - 1\n",
    "    while left <= right:\n",
    "        mid = (left + right) // 2\n",
    "        if arr[mid] == target:\n",
    "            return mid\n",
    "        elif arr[mid] < target:\n",
    "            left = mid + 1\n",
    "        else:\n",
    "            right = mid - 1\n",
    "    return None\n"
   ]
  },
  {
   "attachments": {},
   "cell_type": "markdown",
   "id": "b36c7325",
   "metadata": {},
   "source": [
    "Насправді, треба зазначити, що ці два алгоритми вирішують трошки різні проблеми. Лінійний пошук працює навіть з __невідсортованими__ списками. Тоді як бінарний пошук працює тільки коли масив __відсортований__. Також бінарний пошук чутливий до ситуацій, коли ви шукаєте величину, що знаходиться на краю колекції. Лінійний пошук чутливий до ситуацій, коли величина в кінці колекції."
   ]
  },
  {
   "attachments": {},
   "cell_type": "markdown",
   "id": "47c1de66",
   "metadata": {},
   "source": [
    "Подробно можна почитати [тут](https://www.freecodecamp.org/news/search-algorithms-linear-and-binary-search-explained/). Окремо зверніть увагу на order agnostic binary search. Сортування все ще важливо; але ми можемо не переживати за його __порядок__"
   ]
  },
  {
   "attachments": {},
   "cell_type": "markdown",
   "id": "d02b6eaf",
   "metadata": {},
   "source": [
    "Задача пошуку ми навряд уже покращимо. Але ми можемо вирішити схожу задачу: нехай нам треба не повернути __індекс входження__, а перевірити сам __факт наявності__ елементу в колекції. \n",
    "\n",
    "Спойлер: ми можемо це зробити за (майже) О(1) часу."
   ]
  },
  {
   "cell_type": "code",
   "execution_count": 71,
   "id": "89e2bb95",
   "metadata": {},
   "outputs": [],
   "source": [
    "st = set(range(10))\n",
    "# до речі, якою буде складність створення цієї множини? \n",
    "# Якою буде складність перетворення множини зі списку та назад?"
   ]
  },
  {
   "cell_type": "code",
   "execution_count": 72,
   "id": "8a36e8cc",
   "metadata": {},
   "outputs": [],
   "source": [
    "def linear_search_modified(arr, target):\n",
    "    \"\"\"Best case O(1)\n",
    "       Worst case O(n)\n",
    "       Average O(n)\"\"\"\n",
    "    for element in arr:\n",
    "        if element == target:\n",
    "            return True\n",
    "    return False\n",
    "\n",
    "\n",
    "def binary_search_modified(arr, target):\n",
    "    \"\"\"Best case O(1)\n",
    "       Worst case O(log(n))\n",
    "       Average O(log(n))\"\"\"\n",
    "    left = 0\n",
    "    right = len(arr) - 1\n",
    "    while left <= right:\n",
    "        mid = (left + right) // 2\n",
    "        if arr[mid] == target:\n",
    "            return True\n",
    "        elif arr[mid] < target:\n",
    "            left = mid + 1\n",
    "        else:\n",
    "            right = mid - 1\n",
    "    return False\n"
   ]
  },
  {
   "cell_type": "code",
   "execution_count": 73,
   "id": "2987f66a",
   "metadata": {},
   "outputs": [],
   "source": [
    "from random import randint"
   ]
  },
  {
   "cell_type": "code",
   "execution_count": 74,
   "id": "0aca5be4",
   "metadata": {},
   "outputs": [],
   "source": [
    "#Протестуйте як для 20, так і для 200000 і вище\n",
    "\n",
    "NUMS = 2000000\n",
    "\n",
    "lst = list(range(NUMS))\n",
    "st = set(range(NUMS))"
   ]
  },
  {
   "cell_type": "code",
   "execution_count": 75,
   "id": "be8184a7",
   "metadata": {},
   "outputs": [
    {
     "name": "stdout",
     "output_type": "stream",
     "text": [
      "89.3 ms ± 15.2 ms per loop (mean ± std. dev. of 7 runs, 10 loops each)\n"
     ]
    }
   ],
   "source": [
    "%%timeit\n",
    "\n",
    "linear_search_modified(lst, randint(0, NUMS))"
   ]
  },
  {
   "cell_type": "code",
   "execution_count": 76,
   "id": "58e1be09",
   "metadata": {},
   "outputs": [
    {
     "name": "stdout",
     "output_type": "stream",
     "text": [
      "14.6 µs ± 160 ns per loop (mean ± std. dev. of 7 runs, 100,000 loops each)\n"
     ]
    }
   ],
   "source": [
    "%%timeit\n",
    "\n",
    "binary_search_modified(lst, randint(0, NUMS))"
   ]
  },
  {
   "cell_type": "code",
   "execution_count": 77,
   "id": "5746191f",
   "metadata": {},
   "outputs": [
    {
     "name": "stdout",
     "output_type": "stream",
     "text": [
      "4.06 µs ± 35.6 ns per loop (mean ± std. dev. of 7 runs, 100,000 loops each)\n"
     ]
    }
   ],
   "source": [
    "%%timeit\n",
    "\n",
    "randint(0, NUMS) in st"
   ]
  },
  {
   "cell_type": "code",
   "execution_count": 78,
   "id": "e6989d24",
   "metadata": {},
   "outputs": [],
   "source": [
    "import random\n",
    "\n",
    "from time import time\n",
    "from functools import partial\n",
    "from typing import Callable, Union, List, Iterable\n",
    "\n",
    "RANGE_BOUND_MAX = 1500\n",
    "TESTS_NUM = 5000\n",
    "\n",
    "def function_timer(function: Callable):\n",
    "    start_time = time()\n",
    "    function()\n",
    "    return time() - start_time\n",
    "\n",
    "range_bounds = list(range(10, RANGE_BOUND_MAX))\n",
    "\n",
    "def time_algs_by_mean(func: Callable, \n",
    "                      test_num: int, \n",
    "                      range_bounds: List[int], \n",
    "                      type_constr: type = list) -> List[float]:\n",
    "    algorith_times = list()\n",
    "    for range_bound in range_bounds:\n",
    "        arr = type_constr(range(range_bound))\n",
    "        times_for_n: List[float] = [function_timer(\n",
    "        partial(func,\n",
    "                arr = arr, \n",
    "                target = random.randint(0, range_bound))\n",
    "        ) for _ in range(test_num)]\n",
    "        mean_running_time = sum(times_for_n)/len(times_for_n)\n",
    "        algorith_times.append(mean_running_time)\n",
    "    return algorith_times\n",
    "\n",
    "linear_times: List[float] = time_algs_by_mean(linear_search_modified, TESTS_NUM, range_bounds)\n",
    "\n",
    "binary_times: List[float] = time_algs_by_mean(binary_search_modified, TESTS_NUM, range_bounds)\n",
    "\n",
    "set_times: List[float] = time_algs_by_mean(lambda arr, target: target in arr, TESTS_NUM, range_bounds, set)"
   ]
  },
  {
   "cell_type": "code",
   "execution_count": 79,
   "id": "efdb251c",
   "metadata": {},
   "outputs": [],
   "source": [
    "import matplotlib.pyplot as plt"
   ]
  },
  {
   "cell_type": "code",
   "execution_count": 80,
   "id": "88205dc4",
   "metadata": {},
   "outputs": [
    {
     "data": {
      "text/plain": [
       "[<matplotlib.lines.Line2D at 0x7f759b7a9490>]"
      ]
     },
     "execution_count": 80,
     "metadata": {},
     "output_type": "execute_result"
    },
    {
     "data": {
      "image/png": "[encoded data removed]",
      "text/plain": [
       "<Figure size 640x480 with 1 Axes>"
      ]
     },
     "metadata": {},
     "output_type": "display_data"
    }
   ],
   "source": [
    "plt.plot(range_bounds, linear_times)\n",
    "plt.plot(range_bounds, binary_times)\n",
    "plt.plot(range_bounds, set_times)"
   ]
  },
  {
   "cell_type": "code",
   "execution_count": 81,
   "id": "a52b349b",
   "metadata": {},
   "outputs": [
    {
     "data": {
      "text/plain": [
       "[<matplotlib.lines.Line2D at 0x7f75e52db1d0>]"
      ]
     },
     "execution_count": 81,
     "metadata": {},
     "output_type": "execute_result"
    },
    {
     "data": {
      "image/png": "[encoded data removed]",
      "text/plain": [
       "<Figure size 640x480 with 1 Axes>"
      ]
     },
     "metadata": {},
     "output_type": "display_data"
    }
   ],
   "source": [
    "plt.plot(range_bounds, binary_times)\n",
    "plt.plot(range_bounds, set_times)"
   ]
  },
  {
   "attachments": {},
   "cell_type": "markdown",
   "id": "0f5f7041",
   "metadata": {},
   "source": [
    "За рахунок чого це відбувається? Все тому що set в Python працює на основі структури даних, що носить назву hash table [(ось таблиця її асимптотичної складності)](https://iq.opengenus.org/time-complexity-of-hash-table/). Як ми бачимо, це вражаючі показники: майже всі операції працюють за О(1). Вочевидь, за таку швидкість доводиться платити. Та і подібна асимптотична складність алгоритму є трохи ідеалізованою. \n",
    "Давайте розберемо це поглянувши на нативні реалізації хеш-таблиці в Python:"
   ]
  },
  {
   "cell_type": "code",
   "execution_count": 82,
   "id": "fcf52b47",
   "metadata": {},
   "outputs": [],
   "source": [
    "native_hash_table = {\n",
    "    \"key_1\": 1,\n",
    "    \"key_2\": 2,\n",
    "}"
   ]
  },
  {
   "cell_type": "code",
   "execution_count": 83,
   "id": "d989823c",
   "metadata": {},
   "outputs": [],
   "source": [
    "yet_another_set = set(range(10))"
   ]
  },
  {
   "attachments": {},
   "cell_type": "markdown",
   "id": "bff8562e",
   "metadata": {},
   "source": [
    "Виходячи з відомих властивостей словників і множин у Python, ми платимо:\n",
    "* Порядком (віднедавна словники у Python гарантують порядок, але в тому числі in the sake of readability є сенс використовувати ordered dict коли вам потрібно зберігати порядок ключів)\n",
    "* Обов'язковою унікальністю кожного елементу (в множині не буває дублікатів)\n",
    "* Необхідністю мати для кожного ключа **\"гарний\"** хеш. \n",
    "\n",
    "Але що таке **\"гарний\"** хеш? І які обмеження він у свою чергу накладає на дані?"
   ]
  },
  {
   "attachments": {},
   "cell_type": "markdown",
   "id": "33bea9fa",
   "metadata": {},
   "source": [
    "За визначенням, хеш-функція - це функція, котра різним об'єктам **однозначно** ставить у відповідність певне **ціле** число. Ця **однозначність** тягне за собою вимогу до **незмінності** хешуємого об'єкту. "
   ]
  },
  {
   "cell_type": "code",
   "execution_count": 84,
   "id": "5f96cc4e",
   "metadata": {},
   "outputs": [
    {
     "name": "stdout",
     "output_type": "stream",
     "text": [
      "1284\n",
      "421508102084363250\n",
      "-7422326810098710744\n"
     ]
    }
   ],
   "source": [
    "print(hash(1284))\n",
    "print(hash(1010.1828))\n",
    "print(hash(\"hash\"))"
   ]
  },
  {
   "attachments": {},
   "cell_type": "markdown",
   "id": "cf2a97dc",
   "metadata": {},
   "source": [
    "Важлива властивість хеш-функції: для неї не існує зворотнього перетворення (окрім повного перебору пар об'єкт-хеш). Ви не можете застосувати якусь іншу функцію на хеш для того щоб відновити об'єкт.\n",
    "Ця властивість активно використовується у криптографії (наприклад, для збереження паролів)."
   ]
  },
  {
   "attachments": {},
   "cell_type": "markdown",
   "id": "9261c3d8",
   "metadata": {},
   "source": [
    "Для своїх типів даних ми можемо визначити dunder-метод \\__hash\\__. Також, одне з використання хешу може бути порівняння об'єктів. Якщо в об'єктів один хеш, ми вважаємо їх рівними.\n",
    "\n",
    "Загалом, в Python є чітка конвенція по перевизначенню методів \\__eq\\__ i \\__hash\\__, [посилання на документацію](https://docs.python.org/3/reference/datamodel.html#object.__hash__)"
   ]
  },
  {
   "cell_type": "code",
   "execution_count": 85,
   "id": "de18b473",
   "metadata": {},
   "outputs": [],
   "source": [
    "from dataclasses import dataclass\n",
    "\n",
    "@dataclass\n",
    "class MyShinyClass:\n",
    "    member_1: int\n",
    "    member_2: int\n",
    "\n",
    "    def __eq__(self, other):\n",
    "        return hash(self) == hash(other)\n",
    "    \n",
    "    def __hash__(self):\n",
    "        return hash(self.member_1 + self.member_2)"
   ]
  },
  {
   "attachments": {},
   "cell_type": "markdown",
   "id": "9e96086c",
   "metadata": {},
   "source": [
    "Окрім як в імплементаціях асоціативного масиву, хеш-функції активно використовуються в криптографії та збереженні паролів. Бібліотека hashlib у Python надає для користування низку різних хешів, більшість з котрих використовують псевдо-випадкові числа в своїй роботі."
   ]
  },
  {
   "cell_type": "code",
   "execution_count": 86,
   "id": "f73cc7c7",
   "metadata": {},
   "outputs": [
    {
     "name": "stdout",
     "output_type": "stream",
     "text": [
      "14b3ca85c016d55652f18e96ee418102\n",
      "e6e7f681871c36710a67db771ef5547ce3bf2adb566eeac2f767f4dcc9ad754385bae14d1bb2d598968c84fcd18f1af4792b789c8f7aacf5a9f173b5f0cf2b07\n",
      "14829960064972961791553133400779490158879434977584872404453915472927260681993\n"
     ]
    }
   ],
   "source": [
    "import hashlib\n",
    "\n",
    "value = \"\"\"Завершенням національно-визвольної революції має бути відбудова і закріплення Самостійної Соборної Української держави.\n",
    "   Передумовою для відновлення самостійного державного життя є знищення на Українських Землях совєтської влади, \n",
    "   її органів і силових інструментів, знищення комуністичної партії і системи, усунення з України всіх сил, \n",
    "   які захищають російський імперіялізм і протиставляться самостійницьким змаганням.\"\"\"\n",
    "\n",
    "encoded_stepan_andriyovych_bandera_quote = bytes(value, encoding=\"utf-8\")\n",
    "\n",
    "hash_1 = hashlib.md5(encoded_stepan_andriyovych_bandera_quote)\n",
    "print(hash_1.hexdigest())\n",
    "\n",
    "hash_2 = hashlib.blake2b(encoded_stepan_andriyovych_bandera_quote)\n",
    "print(hash_2.hexdigest())\n",
    "\n",
    "hash_3 = hashlib.sha256(encoded_stepan_andriyovych_bandera_quote)\n",
    "print(int(hash_3.hexdigest(), 16))"
   ]
  },
  {
   "attachments": {},
   "cell_type": "markdown",
   "id": "3d005bcd",
   "metadata": {},
   "source": [
    "Тобто, ми маємо спосіб поставити якесь **ціле число** певному об'єкту, що відповідає заявленим умовам. Отже, ми можемо використовувати значення хеш-функції як **індекс** списку та складати об'єкти з відповідним хешом у елемент цього списку за цим індексом.\n",
    "\n",
    "Власне, в цьому і полягає ідея асоціативного масиву (чи хеш-таблиці. [Брайан Керніган каже](https://youtu.be/qTZJLJ3Gm6Q), що це, по суті, те саме, а я і не сперечаюсь.)"
   ]
  },
  {
   "cell_type": "code",
   "execution_count": 87,
   "id": "d184abf5",
   "metadata": {},
   "outputs": [],
   "source": [
    "class HashTable:\n",
    "    \"\"\"Ілюстративна реалізація хеш-таблиці. \n",
    "    В якості способу розв'язання колізій використовується chaining.\n",
    "    Ця реалізація не є оптимальною, але дозволяє зрозуміти принципи роботи хеш-таблиць.\n",
    "    В реальних програмах використовуйте dict\"\"\"\n",
    "    def __init__(self, load_factor):\n",
    "        \"\"\"В цьому методі ми імітуємо роботу асоціативного масиву в мовах \n",
    "        де треба вручну виділяти пам'ять під списки та масиви. \n",
    "        Для того щоб не аллокувати забагато пам'яті, вводиться поняття load_factor'у, \n",
    "        котре обмежує розмір списку та максимальне значення хешу\"\"\"\n",
    "        self.load_factor = load_factor\n",
    "        # Через обмеження на максимальне значення хешу виникає проблема коллізій (коли в різних об'єктів один хеш).\n",
    "        # З колізіями можна боротися різними способами, тут використаний так званий chainin. \n",
    "        # Для кожного ключа ми зберігаємо не об'єкт, а список об'єктів. \n",
    "        # Тому доступ за ключем може бути О(n) в найгіршому випадку замість О(1) в ідеалізованому\n",
    "        self.table = [list() for _ in range(load_factor)] \n",
    "\n",
    "    def _hash(self, key):\n",
    "        \"\"\"Ця імплементація хешу обмежує його максимальне значення згідно заданого load_factor\"\"\"\n",
    "        return hash(key) % self.load_factor\n",
    "\n",
    "    def insert(self, key, value):\n",
    "        \"\"\"В цій імплементації ми зберігаємо для кожного хешу пару ключ-значення, \n",
    "        щоб ми могли в майбутньому здобути значення саме для цього ключа \n",
    "        навіть у випадку якщо хеш ключів однаковий\"\"\"\n",
    "        index = self._hash(key)\n",
    "        for item in self.table[index]:\n",
    "            if item[0] == key:\n",
    "                item[1] = value\n",
    "                return\n",
    "        self.table[index].append((key, value))\n",
    "\n",
    "    def get(self, key):\n",
    "        index = self._hash(key)\n",
    "        for item in self.table[index]:\n",
    "            if item[0] == key:\n",
    "                return item[1]\n",
    "        raise KeyError(key)\n",
    "\n",
    "    def remove(self, key):\n",
    "        index = self._hash(key)\n",
    "        for i, item in enumerate(self.table[index]):\n",
    "            if item[0] == key:\n",
    "                del self.table[index][i]\n",
    "                return\n",
    "        raise KeyError(key)"
   ]
  },
  {
   "cell_type": "code",
   "execution_count": 88,
   "id": "306958bf",
   "metadata": {},
   "outputs": [],
   "source": [
    "d = HashTable(100)"
   ]
  },
  {
   "cell_type": "code",
   "execution_count": 89,
   "id": "207e9cf7",
   "metadata": {},
   "outputs": [],
   "source": [
    "d.insert(1, 1)"
   ]
  },
  {
   "cell_type": "code",
   "execution_count": 90,
   "id": "283fc64e",
   "metadata": {},
   "outputs": [
    {
     "data": {
      "text/plain": [
       "1"
      ]
     },
     "execution_count": 90,
     "metadata": {},
     "output_type": "execute_result"
    }
   ],
   "source": [
    "d.get(1)"
   ]
  },
  {
   "cell_type": "code",
   "execution_count": 91,
   "id": "df10960c",
   "metadata": {},
   "outputs": [],
   "source": [
    "d.insert(101, 4)"
   ]
  },
  {
   "cell_type": "code",
   "execution_count": 92,
   "id": "c9f9592e",
   "metadata": {},
   "outputs": [
    {
     "data": {
      "text/plain": [
       "4"
      ]
     },
     "execution_count": 92,
     "metadata": {},
     "output_type": "execute_result"
    }
   ],
   "source": [
    "d.get(101)"
   ]
  },
  {
   "attachments": {},
   "cell_type": "markdown",
   "id": "e432cc6a",
   "metadata": {},
   "source": [
    "Через низку причин (як-то необхідність на фізичному рівні аллокувати пам'ять заздалегідь під асоціативний масив) ми далеко не завжди зацікавлені в тому, щоб хеш-функція для кожного окремого об'єкта робила різні хеші. Тобто, коллізії в хеш-таблиці - це нормальна ситуація, закладена в дизайн. Але алгоритми вирішення коллізій мають свою ціну. Як у випадку chaining ми платимо швидкістю доступу та швидкістю видалення.\n",
    "\n",
    "Також треба розуміти, що, незважаючи на те, що колізії - це нормально, це не значить, що їх не треба уникати. Хеш-функцій існує велика множина, і найкраща хеш-функція це та, котра створює найменшу кількість колізій. "
   ]
  }
 ],
 "metadata": {
  "kernelspec": {
   "display_name": "Python 3 (ipykernel)",
   "language": "python",
   "name": "python3"
  },
  "language_info": {
   "codemirror_mode": {
    "name": "ipython",
    "version": 3
   },
   "file_extension": ".py",
   "mimetype": "text/x-python",
   "name": "python",
   "nbconvert_exporter": "python",
   "pygments_lexer": "ipython3",
   "version": "3.11.0"
  }
 },
 "nbformat": 4,
 "nbformat_minor": 5
}
