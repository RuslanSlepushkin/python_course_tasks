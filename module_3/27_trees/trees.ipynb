{
 "cells": [
  {
   "attachments": {},
   "cell_type": "markdown",
   "metadata": {},
   "source": [
    "До цього ми розглядали **лінійні** структури даних (стек, черга, зв'язний список, геш-таблиця тощо). Під **лінійністю** тут перш за все мається на увазі відсутність якогось іншого зв'язку елементів між собою, окрім, можливо, порядку. Але ми постійно зустрічаємось з задачами, де присутній **ієрархічний** зв'язок між даними.\n",
    "\n",
    "Візуалізація родового **дерева**, робота з HTML, файлова система, прийняття рішень, компіляція коду. Це все приклади задач, що вимагають роботи саме з ієрархією об'єктів. І для цього нам потрібні так звані **дерева**."
   ]
  },
  {
   "attachments": {},
   "cell_type": "markdown",
   "metadata": {},
   "source": [
    "Давайте візуалізуємо приклад дерева за допомогою бібліотек networkx і graphviz."
   ]
  },
  {
   "cell_type": "code",
   "execution_count": 2,
   "metadata": {},
   "outputs": [
    {
     "data": {
      "image/png": "[encoded data removed]",
      "text/plain": [
       "<IPython.core.display.Image object>"
      ]
     },
     "metadata": {},
     "output_type": "display_data"
    }
   ],
   "source": [
    "import os\n",
    "\n",
    "import networkx as nx\n",
    "from networkx.drawing.nx_agraph import graphviz_layout\n",
    "from graphviz import Digraph\n",
    "\n",
    "from IPython.display import Image, display\n",
    "\n",
    "def create_filesystem_tree(root_path):\n",
    "    fs_tree = nx.DiGraph()\n",
    "    fs_tree.add_node(root_path)\n",
    "    for root, dirs, files in os.walk(root_path):\n",
    "        for dir in dirs:\n",
    "            fs_tree.add_node(os.path.join(root, dir))\n",
    "            fs_tree.add_edge(root, os.path.join(root, dir))\n",
    "        for file in files:\n",
    "            fs_tree.add_node(os.path.join(root, file))\n",
    "            fs_tree.add_edge(root, os.path.join(root, file))\n",
    "    return fs_tree\n",
    "\n",
    "PATH = \"/home/illia/work/python_course_tasks/live_code_projects/etl_system/test/extract\"\n",
    "\n",
    "fs_tree = create_filesystem_tree(PATH)\n",
    "pos = graphviz_layout(fs_tree, prog='dot')\n",
    "dot = Digraph()\n",
    "for node in fs_tree.nodes:\n",
    "    dot.node(node, node.split('/')[-1])\n",
    "for edge in fs_tree.edges:\n",
    "    dot.edge(edge[0], edge[1])\n",
    "dot.format = 'png'\n",
    "display(Image(dot.render()))"
   ]
  },
  {
   "attachments": {},
   "cell_type": "markdown",
   "metadata": {},
   "source": [
    "Будь яке дерево складається з наступних компонент:\n",
    "\n",
    "* Вузол, або нода (node) - будь який з елементів дерева. В нашому випадку або директорія, або файл\n",
    "* Корінь (root) - елемент, що знаходиться на початку (директорія extract)\n",
    "* Гілка (edge) - зв'язок між нодою. В нашому випадку, якщо директорія знаходиться в іншій директорії, між ними є гілка на дереві.\n",
    "* Рівень (level) - мінімальне число кроків, котре треба зробити від корня до якоїсь ноди. В нашому випадку в нас є 4 ноди I рівня і 2 ноди II рівня.\n",
    "* Лист (leaf) - нода, у котрої немає зв'язків **на рівень нижче**. Кожен файл у нашому прикладі - лист."
   ]
  },
  {
   "attachments": {},
   "cell_type": "markdown",
   "metadata": {},
   "source": [
    "З деревами зручно працювати використовуючи Linked List-like структуру даних:"
   ]
  },
  {
   "cell_type": "code",
   "execution_count": 3,
   "metadata": {},
   "outputs": [],
   "source": [
    "from typing import Self, List, Any\n",
    "\n",
    "class Node:\n",
    "    def __init__(self, value: Any):\n",
    "        self.value: Any = value\n",
    "        self.children: List[Self] = list()\n",
    "\n",
    "    def add_child(self, child):\n",
    "        self.children.append(child)\n",
    "\n",
    "    def __repr__(self):\n",
    "        return f\"Node({self.value})\"\n",
    "\n",
    "class Tree:\n",
    "    def __init__(self, root: Node) -> None:\n",
    "        self.root: Node = root\n"
   ]
  },
  {
   "cell_type": "code",
   "execution_count": 4,
   "metadata": {},
   "outputs": [],
   "source": [
    "BASE_PATH = \"/home/illia/work/python_course_tasks/live_code_projects/etl_system/test/extract\"\n",
    "\n",
    "root = Node(BASE_PATH)\n",
    "test_data_dir = Node(f\"{BASE_PATH}/test_data\")\n",
    "root.add_child(test_data_dir)\n",
    "test_data_dir.add_child(Node(f\"{BASE_PATH}/test_data/csv_data.csv\"))\n",
    "test_data_dir.add_child(Node(f\"{BASE_PATH}/test_data/json_data.json\"))\n",
    "root.add_child(Node(f\"{BASE_PATH}/__init__.py\"))\n",
    "root.add_child(Node(f\"{BASE_PATH}/test_csv.py\"))\n",
    "root.add_child(Node(f\"{BASE_PATH}/test_json.py\"))\n",
    "\n",
    "\n",
    "custom_fs_tree = Tree(root)"
   ]
  },
  {
   "attachments": {},
   "cell_type": "markdown",
   "metadata": {},
   "source": [
    "Головна різниця дерев від лінійних структур даних - це те, що доступ до елементів цієї структури даних може бути різним. Для дерев є два класичних варіанта обходу:\n",
    "\n",
    "* Breadth-first search (обхід у ширину)\n",
    "* Depth-first search (обхід у глибину)\n",
    "\n",
    "Різниця чітко описується назвою. DFS зосереджений на тому, щоб швидше дійти до нод з найбільшим рівнем. BFS проходить рівень за рівнем.\n",
    "\n",
    "Цікаво, що імплементації DFS і BFS дуже схожі. Відрізняються лише структури даних, котрі використовують ці алгоритми (BFS використовує чергу, DFS - стек)"
   ]
  },
  {
   "cell_type": "code",
   "execution_count": 5,
   "metadata": {},
   "outputs": [],
   "source": [
    "from queue import Queue\n",
    "# Також може бути використана структура даних deque з модуля collections\n",
    "\n",
    "def breadth_first_search(tree, start_node):\n",
    "    visited = set()\n",
    "    queue = Queue()\n",
    "    queue.put(start_node)\n",
    "    visited.add(start_node)\n",
    "    while not queue.empty():\n",
    "        node = queue.get()\n",
    "        print(node)\n",
    "        for neighbor in tree.neighbors(node):\n",
    "            if neighbor not in visited:\n",
    "                visited.add(neighbor)\n",
    "                queue.put(neighbor)"
   ]
  },
  {
   "cell_type": "code",
   "execution_count": 6,
   "metadata": {},
   "outputs": [
    {
     "name": "stdout",
     "output_type": "stream",
     "text": [
      "/home/illia/work/python_course_tasks/live_code_projects/etl_system/test/extract\n"
     ]
    }
   ],
   "source": [
    "breadth_first_search(fs_tree, PATH)"
   ]
  },
  {
   "cell_type": "code",
   "execution_count": 7,
   "metadata": {},
   "outputs": [],
   "source": [
    "from queue import Queue\n",
    "# Також може бути використана структура даних deque з модуля collections\n",
    "\n",
    "def breadth_first_search_custom(tree):\n",
    "    visited = set()\n",
    "    queue = Queue()\n",
    "    root = tree.root\n",
    "    queue.put(root)\n",
    "    visited.add(root)\n",
    "    while not queue.empty():\n",
    "        node = queue.get()\n",
    "        print(node)\n",
    "        for child in node.children:\n",
    "            if child not in visited:\n",
    "                visited.add(child)\n",
    "                queue.put(child)"
   ]
  },
  {
   "cell_type": "code",
   "execution_count": 8,
   "metadata": {},
   "outputs": [
    {
     "name": "stdout",
     "output_type": "stream",
     "text": [
      "Node(/home/illia/work/python_course_tasks/live_code_projects/etl_system/test/extract)\n",
      "Node(/home/illia/work/python_course_tasks/live_code_projects/etl_system/test/extract/test_data)\n",
      "Node(/home/illia/work/python_course_tasks/live_code_projects/etl_system/test/extract/__init__.py)\n",
      "Node(/home/illia/work/python_course_tasks/live_code_projects/etl_system/test/extract/test_csv.py)\n",
      "Node(/home/illia/work/python_course_tasks/live_code_projects/etl_system/test/extract/test_json.py)\n",
      "Node(/home/illia/work/python_course_tasks/live_code_projects/etl_system/test/extract/test_data/csv_data.csv)\n",
      "Node(/home/illia/work/python_course_tasks/live_code_projects/etl_system/test/extract/test_data/json_data.json)\n"
     ]
    }
   ],
   "source": [
    "breadth_first_search_custom(custom_fs_tree)"
   ]
  },
  {
   "cell_type": "code",
   "execution_count": 9,
   "metadata": {},
   "outputs": [],
   "source": [
    "# Також може бути використана структура даних deque з модуля collections\n",
    "\n",
    "\n",
    "def depth_first_search(tree, start_node):\n",
    "    visited = set()\n",
    "    stack = [start_node]\n",
    "    visited.add(start_node)\n",
    "    while stack:\n",
    "        node = stack.pop()\n",
    "        print(node)\n",
    "        for neighbor in tree.neighbors(node):\n",
    "            if neighbor not in visited:\n",
    "                visited.add(neighbor)\n",
    "                stack.append(neighbor)"
   ]
  },
  {
   "cell_type": "code",
   "execution_count": 10,
   "metadata": {},
   "outputs": [
    {
     "name": "stdout",
     "output_type": "stream",
     "text": [
      "/home/illia/work/python_course_tasks/live_code_projects/etl_system/test/extract\n"
     ]
    }
   ],
   "source": [
    "depth_first_search(fs_tree, PATH)"
   ]
  },
  {
   "cell_type": "code",
   "execution_count": 11,
   "metadata": {},
   "outputs": [],
   "source": [
    "# Також може бути використана структура даних deque з модуля collections\n",
    "\n",
    "def depth_first_search_custom(tree):\n",
    "    visited = set()\n",
    "    root = tree.root\n",
    "    stack = [root]\n",
    "    visited.add(root)\n",
    "    while stack:\n",
    "        node = stack.pop()\n",
    "        print(node)\n",
    "        for child in node.children:\n",
    "            if child not in visited:\n",
    "                visited.add(child)\n",
    "                stack.append(child)"
   ]
  },
  {
   "cell_type": "code",
   "execution_count": 12,
   "metadata": {},
   "outputs": [
    {
     "name": "stdout",
     "output_type": "stream",
     "text": [
      "Node(/home/illia/work/python_course_tasks/live_code_projects/etl_system/test/extract)\n",
      "Node(/home/illia/work/python_course_tasks/live_code_projects/etl_system/test/extract/test_json.py)\n",
      "Node(/home/illia/work/python_course_tasks/live_code_projects/etl_system/test/extract/test_csv.py)\n",
      "Node(/home/illia/work/python_course_tasks/live_code_projects/etl_system/test/extract/__init__.py)\n",
      "Node(/home/illia/work/python_course_tasks/live_code_projects/etl_system/test/extract/test_data)\n",
      "Node(/home/illia/work/python_course_tasks/live_code_projects/etl_system/test/extract/test_data/json_data.json)\n",
      "Node(/home/illia/work/python_course_tasks/live_code_projects/etl_system/test/extract/test_data/csv_data.csv)\n"
     ]
    }
   ],
   "source": [
    "depth_first_search_custom(custom_fs_tree)"
   ]
  },
  {
   "attachments": {},
   "cell_type": "markdown",
   "metadata": {},
   "source": [
    "Існує багато видів дерев. Особлвивий інтерес представляють бінарні дерева. Бінарним є дерево, в котрого для кожної батьківської ноди є максимум 2 дочірніх."
   ]
  },
  {
   "cell_type": "code",
   "execution_count": 13,
   "metadata": {},
   "outputs": [
    {
     "data": {
      "image/png": "[encoded data removed]",
      "text/plain": [
       "<IPython.core.display.Image object>"
      ]
     },
     "execution_count": 13,
     "metadata": {},
     "output_type": "execute_result"
    }
   ],
   "source": [
    "import networkx as nx\n",
    "\n",
    "bin_tree=nx.DiGraph()\n",
    "bin_tree.add_edges_from([(1,2), (1,3), (2,4), (2,5), (3,6), (3,7),\n",
    "                 (4,8), (4,9), (5,10)])\n",
    "picture=nx.drawing.nx_agraph.to_agraph(bin_tree)\n",
    "picture.layout('dot')\n",
    "picture.draw('bintree.png')\n",
    "Image('bintree.png')"
   ]
  },
  {
   "cell_type": "code",
   "execution_count": 14,
   "metadata": {},
   "outputs": [
    {
     "name": "stdout",
     "output_type": "stream",
     "text": [
      "1\n",
      "2\n",
      "3\n",
      "4\n",
      "5\n",
      "6\n",
      "7\n",
      "8\n",
      "9\n",
      "10\n"
     ]
    }
   ],
   "source": [
    "breadth_first_search(bin_tree, 1)"
   ]
  },
  {
   "cell_type": "code",
   "execution_count": 15,
   "metadata": {},
   "outputs": [
    {
     "name": "stdout",
     "output_type": "stream",
     "text": [
      "1\n",
      "3\n",
      "7\n",
      "6\n",
      "2\n",
      "5\n",
      "10\n",
      "4\n",
      "9\n",
      "8\n"
     ]
    }
   ],
   "source": [
    "depth_first_search(bin_tree, 1)"
   ]
  },
  {
   "cell_type": "code",
   "execution_count": 16,
   "metadata": {},
   "outputs": [],
   "source": [
    "from typing import Self, Any\n",
    "\n",
    "class NodeBinary:\n",
    "    def __init__(self, value: Any, left: Self|None = None, right: Self|None = None) -> None:\n",
    "        self.value: Any = value\n",
    "        self.left: Self = left\n",
    "        self.right: Self = right\n",
    "\n",
    "    def __repr__(self) -> str:\n",
    "        return f\"Node({self.value})\"\n",
    "\n",
    "class BinaryTree:\n",
    "    def __init__(self, root: NodeBinary) -> None:\n",
    "        self.root: NodeBinary = root\n"
   ]
  },
  {
   "attachments": {},
   "cell_type": "markdown",
   "metadata": {},
   "source": [
    "Існує багато видів бінарних дерев. Особливий інтерес для нас представляє бінарне дерево пошуку.\n",
    "\n",
    "Для того, щоб бінарне дерево було бінарним деревом пошуку, воно має задовільняти умові бінарного дерева пошуку. Воно має бути структуровано таким чином, щоб для кожної ноди зліва були тільки елементи менше від неї, а справа - тільки ті, що більше.\n",
    "\n",
    "Будь який відсортований список може бути перетворений у BST. \n",
    "\n",
    "Загалом, це доволі глибока ідея: дерева можуть допомогти встановити ієрархічні зв'язки навіть між даними, чия структура здається пласкою"
   ]
  },
  {
   "cell_type": "code",
   "execution_count": 17,
   "metadata": {},
   "outputs": [],
   "source": [
    "from typing import List, Optional\n",
    "\n",
    "def arr_to_bst(arr: List[int]) -> Optional[NodeBinary]:\n",
    "    if not arr:\n",
    "        return None\n",
    "    mid = len(arr)//2\n",
    "    node = NodeBinary(arr[mid])\n",
    "    node.left = arr_to_bst(arr[:mid])\n",
    "    node.right = arr_to_bst(arr[mid + 1:])\n",
    "    return node\n"
   ]
  },
  {
   "cell_type": "code",
   "execution_count": 18,
   "metadata": {},
   "outputs": [],
   "source": [
    "arr = list(range(25))"
   ]
  },
  {
   "cell_type": "code",
   "execution_count": 19,
   "metadata": {},
   "outputs": [],
   "source": [
    "tree = BinaryTree(arr_to_bst(arr))"
   ]
  },
  {
   "attachments": {},
   "cell_type": "markdown",
   "metadata": {},
   "source": [
    "DFS, насправді, є класом **проблем**, котрі є спільними як для графів, так і для дерев (бо дерева це такі графи).\n",
    "\n",
    "Для бінарних дерев є 3 стратегії імплементації DFS:\n",
    "\n",
    "* In-order traversal\n",
    "* Pre-order traversal\n",
    "* Post-order traversal"
   ]
  },
  {
   "cell_type": "code",
   "execution_count": 20,
   "metadata": {},
   "outputs": [],
   "source": [
    "root = tree.root"
   ]
  },
  {
   "cell_type": "code",
   "execution_count": 21,
   "metadata": {},
   "outputs": [],
   "source": [
    "def in_order_traversal(tree: NodeBinary) -> None:\n",
    "    if tree:\n",
    "        in_order_traversal(tree.left)\n",
    "        print(tree)\n",
    "        in_order_traversal(tree.right)\n"
   ]
  },
  {
   "cell_type": "code",
   "execution_count": 22,
   "metadata": {},
   "outputs": [
    {
     "name": "stdout",
     "output_type": "stream",
     "text": [
      "Node(0)\n",
      "Node(1)\n",
      "Node(2)\n",
      "Node(3)\n",
      "Node(4)\n",
      "Node(5)\n",
      "Node(6)\n",
      "Node(7)\n",
      "Node(8)\n",
      "Node(9)\n",
      "Node(10)\n",
      "Node(11)\n",
      "Node(12)\n",
      "Node(13)\n",
      "Node(14)\n",
      "Node(15)\n",
      "Node(16)\n",
      "Node(17)\n",
      "Node(18)\n",
      "Node(19)\n",
      "Node(20)\n",
      "Node(21)\n",
      "Node(22)\n",
      "Node(23)\n",
      "Node(24)\n"
     ]
    }
   ],
   "source": [
    "in_order_traversal(root)"
   ]
  },
  {
   "cell_type": "code",
   "execution_count": 23,
   "metadata": {},
   "outputs": [],
   "source": [
    "def pre_order_traversal(tree: NodeBinary) -> None:\n",
    "    if tree:\n",
    "        print(tree)\n",
    "        pre_order_traversal(tree.left)\n",
    "        pre_order_traversal(tree.right)"
   ]
  },
  {
   "cell_type": "code",
   "execution_count": 24,
   "metadata": {},
   "outputs": [
    {
     "name": "stdout",
     "output_type": "stream",
     "text": [
      "Node(12)\n",
      "Node(6)\n",
      "Node(3)\n",
      "Node(1)\n",
      "Node(0)\n",
      "Node(2)\n",
      "Node(5)\n",
      "Node(4)\n",
      "Node(9)\n",
      "Node(8)\n",
      "Node(7)\n",
      "Node(11)\n",
      "Node(10)\n",
      "Node(19)\n",
      "Node(16)\n",
      "Node(14)\n",
      "Node(13)\n",
      "Node(15)\n",
      "Node(18)\n",
      "Node(17)\n",
      "Node(22)\n",
      "Node(21)\n",
      "Node(20)\n",
      "Node(24)\n",
      "Node(23)\n"
     ]
    }
   ],
   "source": [
    "pre_order_traversal(root)"
   ]
  },
  {
   "cell_type": "code",
   "execution_count": 25,
   "metadata": {},
   "outputs": [],
   "source": [
    "def post_order_traversal(tree: NodeBinary) -> None:\n",
    "    if tree:\n",
    "        post_order_traversal(tree.left)\n",
    "        post_order_traversal(tree.right)\n",
    "        print(tree)"
   ]
  },
  {
   "cell_type": "code",
   "execution_count": 26,
   "metadata": {},
   "outputs": [
    {
     "name": "stdout",
     "output_type": "stream",
     "text": [
      "Node(0)\n",
      "Node(2)\n",
      "Node(1)\n",
      "Node(4)\n",
      "Node(5)\n",
      "Node(3)\n",
      "Node(7)\n",
      "Node(8)\n",
      "Node(10)\n",
      "Node(11)\n",
      "Node(9)\n",
      "Node(6)\n",
      "Node(13)\n",
      "Node(15)\n",
      "Node(14)\n",
      "Node(17)\n",
      "Node(18)\n",
      "Node(16)\n",
      "Node(20)\n",
      "Node(21)\n",
      "Node(23)\n",
      "Node(24)\n",
      "Node(22)\n",
      "Node(19)\n",
      "Node(12)\n"
     ]
    }
   ],
   "source": [
    "post_order_traversal(root)"
   ]
  },
  {
   "attachments": {},
   "cell_type": "markdown",
   "metadata": {},
   "source": [
    "Так як BST це структура даних, що підтримує **порядок** елементів, для нього можливі також операції максимума і мінімума"
   ]
  },
  {
   "cell_type": "code",
   "execution_count": 27,
   "metadata": {},
   "outputs": [],
   "source": [
    "def maximum_bst(tree: NodeBinary) -> NodeBinary:\n",
    "    if tree.right:\n",
    "        return maximum_bst(tree.right)\n",
    "    return tree\n",
    "\n",
    "def maximum_bst_iterative(tree: NodeBinary) -> NodeBinary:\n",
    "    while tree.right:\n",
    "        tree = tree.right\n",
    "    return tree"
   ]
  },
  {
   "cell_type": "code",
   "execution_count": 28,
   "metadata": {},
   "outputs": [
    {
     "data": {
      "text/plain": [
       "Node(24)"
      ]
     },
     "execution_count": 28,
     "metadata": {},
     "output_type": "execute_result"
    }
   ],
   "source": [
    "maximum_bst_iterative(root)"
   ]
  },
  {
   "cell_type": "code",
   "execution_count": 29,
   "metadata": {},
   "outputs": [],
   "source": [
    "def minimum_bst(tree: NodeBinary) -> NodeBinary:\n",
    "    if tree.left:\n",
    "        return minimum_bst(tree.left)\n",
    "    return tree\n",
    "\n",
    "def minimum_bst_iterative(tree: NodeBinary) -> NodeBinary:\n",
    "    while tree.left:\n",
    "        tree = tree.left\n",
    "    return tree"
   ]
  },
  {
   "cell_type": "code",
   "execution_count": 30,
   "metadata": {},
   "outputs": [
    {
     "data": {
      "text/plain": [
       "Node(0)"
      ]
     },
     "execution_count": 30,
     "metadata": {},
     "output_type": "execute_result"
    }
   ],
   "source": [
    "minimum_bst(root)"
   ]
  },
  {
   "attachments": {},
   "cell_type": "markdown",
   "metadata": {},
   "source": [
    "Яка асимптотична складність цих двох алгоритмів?"
   ]
  },
  {
   "attachments": {},
   "cell_type": "markdown",
   "metadata": {},
   "source": [
    "Також для дерев (в т.ч. і BST) можливі операції вставки та видалення."
   ]
  },
  {
   "cell_type": "code",
   "execution_count": 31,
   "metadata": {},
   "outputs": [],
   "source": [
    "def insert_bst(tree: NodeBinary, value: int) -> NodeBinary:\n",
    "    if not tree:\n",
    "        return NodeBinary(value)\n",
    "    if value < tree.value:\n",
    "        tree.left = insert_bst(tree.left, value)\n",
    "    else:\n",
    "        tree.right = insert_bst(tree.right, value)\n",
    "    return tree"
   ]
  },
  {
   "cell_type": "code",
   "execution_count": 32,
   "metadata": {},
   "outputs": [
    {
     "data": {
      "text/plain": [
       "Node(12)"
      ]
     },
     "execution_count": 32,
     "metadata": {},
     "output_type": "execute_result"
    }
   ],
   "source": [
    "insert_bst(root, 25)"
   ]
  },
  {
   "cell_type": "code",
   "execution_count": 33,
   "metadata": {},
   "outputs": [
    {
     "data": {
      "text/plain": [
       "Node(25)"
      ]
     },
     "execution_count": 33,
     "metadata": {},
     "output_type": "execute_result"
    }
   ],
   "source": [
    "maximum_bst_iterative(root)"
   ]
  },
  {
   "cell_type": "code",
   "execution_count": 34,
   "metadata": {},
   "outputs": [],
   "source": [
    "def delete_bst(tree: NodeBinary, value: int) -> NodeBinary:\n",
    "    if not tree:\n",
    "        return None\n",
    "    if value < tree.value:\n",
    "        tree.left = delete_bst(tree.left, value)\n",
    "    elif value > tree.value:\n",
    "        tree.right = delete_bst(tree.right, value)\n",
    "    else:\n",
    "        if not tree.left:\n",
    "            return tree.right\n",
    "        if not tree.right:\n",
    "            return tree.left\n",
    "        temp = minimum_bst(tree.right)\n",
    "        tree.value = temp.value\n",
    "        tree.right = delete_bst(tree.right, temp.value)\n",
    "    return tree"
   ]
  },
  {
   "cell_type": "code",
   "execution_count": 35,
   "metadata": {},
   "outputs": [
    {
     "data": {
      "text/plain": [
       "Node(12)"
      ]
     },
     "execution_count": 35,
     "metadata": {},
     "output_type": "execute_result"
    }
   ],
   "source": [
    "delete_bst(root, 17)"
   ]
  },
  {
   "cell_type": "code",
   "execution_count": 36,
   "metadata": {},
   "outputs": [
    {
     "name": "stdout",
     "output_type": "stream",
     "text": [
      "Node(0)\n",
      "Node(1)\n",
      "Node(2)\n",
      "Node(3)\n",
      "Node(4)\n",
      "Node(5)\n",
      "Node(6)\n",
      "Node(7)\n",
      "Node(8)\n",
      "Node(9)\n",
      "Node(10)\n",
      "Node(11)\n",
      "Node(12)\n",
      "Node(13)\n",
      "Node(14)\n",
      "Node(15)\n",
      "Node(16)\n",
      "Node(18)\n",
      "Node(19)\n",
      "Node(20)\n",
      "Node(21)\n",
      "Node(22)\n",
      "Node(23)\n",
      "Node(24)\n",
      "Node(25)\n"
     ]
    }
   ],
   "source": [
    "in_order_traversal(root)"
   ]
  },
  {
   "attachments": {},
   "cell_type": "markdown",
   "metadata": {},
   "source": [
    "Поняття \"розміру\" дерева є нетривальним, навідміну від лінійних структур даних.\n",
    "\n",
    "В деревах ми можемо виділити як мінімум три метрики:\n",
    "\n",
    "* Кількість елементів\n",
    "* Кількість **листів**\n",
    "* Висота дерева\n",
    "\n",
    "Під **висотою** ми матимемо на увазі кількість кроків, котрі треба зробити від кореня до найбільш віддаленого листа"
   ]
  },
  {
   "cell_type": "code",
   "execution_count": 41,
   "metadata": {},
   "outputs": [],
   "source": [
    "def height_of_tree(tree: NodeBinary) -> int:\n",
    "    if not tree:\n",
    "        return 0\n",
    "    return max(height_of_tree(tree.left), height_of_tree(tree.right)) + 1"
   ]
  },
  {
   "cell_type": "code",
   "execution_count": 42,
   "metadata": {},
   "outputs": [
    {
     "data": {
      "text/plain": [
       "5"
      ]
     },
     "execution_count": 42,
     "metadata": {},
     "output_type": "execute_result"
    }
   ],
   "source": [
    "height_of_tree(root)"
   ]
  },
  {
   "attachments": {},
   "cell_type": "markdown",
   "metadata": {},
   "source": [
    "В бінарних дерев (ширше, в дерев ступеню n, наприклад, тернарні дерева тощо) ми спостерігаємо наступну властивість: для кожного рівня **максимальна** кількість нод на ньому = n**level.\n",
    "\n",
    "Але для однієї кількості нод ми можемо мати різні конфігурації дерев згідно їхнього рівня."
   ]
  },
  {
   "attachments": {},
   "cell_type": "markdown",
   "metadata": {},
   "source": [
    "Перш за все нас цікавлять так звані збалансовані бінарні дерева.\n",
    "\n",
    "Дерево є збалансованим тоді, коли його ліве і праве під-дерево мають висоти, що відрізняються не більше ніж на 1."
   ]
  },
  {
   "cell_type": "code",
   "execution_count": 43,
   "metadata": {},
   "outputs": [],
   "source": [
    "def is_tree_balanced(tree: NodeBinary) -> bool:\n",
    "    left_height = height_of_tree(tree.left)\n",
    "    right_height = height_of_tree(tree.right)\n",
    "    return abs(left_height - right_height) <= 1"
   ]
  },
  {
   "cell_type": "code",
   "execution_count": 38,
   "metadata": {},
   "outputs": [],
   "source": [
    "from copy import copy\n",
    "\n",
    "root_skewed = copy(root)\n",
    "root_skewed.left = None"
   ]
  },
  {
   "cell_type": "code",
   "execution_count": 39,
   "metadata": {},
   "outputs": [
    {
     "name": "stdout",
     "output_type": "stream",
     "text": [
      "Node(12)\n",
      "Node(13)\n",
      "Node(14)\n",
      "Node(15)\n",
      "Node(16)\n",
      "Node(18)\n",
      "Node(19)\n",
      "Node(20)\n",
      "Node(21)\n",
      "Node(22)\n",
      "Node(23)\n",
      "Node(24)\n",
      "Node(25)\n"
     ]
    }
   ],
   "source": [
    "in_order_traversal(root_skewed)"
   ]
  },
  {
   "cell_type": "code",
   "execution_count": null,
   "metadata": {},
   "outputs": [],
   "source": [
    "is_tree_balanced(root)"
   ]
  },
  {
   "cell_type": "code",
   "execution_count": 45,
   "metadata": {},
   "outputs": [
    {
     "data": {
      "text/plain": [
       "False"
      ]
     },
     "execution_count": 45,
     "metadata": {},
     "output_type": "execute_result"
    }
   ],
   "source": [
    "is_tree_balanced(root_skewed)"
   ]
  },
  {
   "attachments": {},
   "cell_type": "markdown",
   "metadata": {},
   "source": [
    "Збалансовані бінарні дерева мають важливу властивість: їхня висота h=log(n), де n - кількість елементів у бінарному дереві. Бо n = 2**h згідно попереднього твердження\n",
    "\n",
    "З урахуванням того, що складність усіх базових операцій з бінарним деревом **окрім обходу** (пошук, вставка, видалення, максимум, мінімум) складає O(h), всі ці операції є **логарифмічними**.\n",
    "\n",
    "Звідси і логарифмічний характер складності бінарного пошуку."
   ]
  },
  {
   "attachments": {},
   "cell_type": "markdown",
   "metadata": {},
   "source": [
    "Як ми бачимо, існують ситуації, коли бінарне дерево може бути незбалансоване (skewed). Для вирішення цих ситуацій існують алгоритми ре-балансировки дерев і додаткові само-збалансовані структури даних (AVL-дерева, RB-дерева тощо).\n",
    "\n",
    "Також зазначимо, що створення BST з відсортованого масиву завжди продукує **збалансоване** дерево."
   ]
  },
  {
   "cell_type": "code",
   "execution_count": 55,
   "metadata": {},
   "outputs": [],
   "source": [
    "def rebalance_binary_tree(tree: NodeBinary) -> NodeBinary:\n",
    "    arr = list()\n",
    "    \n",
    "    def in_order_traversal(tree: NodeBinary) -> None:\n",
    "        if tree:\n",
    "            in_order_traversal(tree.left)\n",
    "            arr.append(tree.value)\n",
    "            in_order_traversal(tree.right)\n",
    "\n",
    "    in_order_traversal(tree)\n",
    "    return arr_to_bst(arr)"
   ]
  },
  {
   "cell_type": "code",
   "execution_count": 56,
   "metadata": {},
   "outputs": [
    {
     "data": {
      "text/plain": [
       "True"
      ]
     },
     "execution_count": 56,
     "metadata": {},
     "output_type": "execute_result"
    }
   ],
   "source": [
    "is_tree_balanced(rebalance_binary_tree(root_skewed))"
   ]
  }
 ],
 "metadata": {
  "kernelspec": {
   "display_name": "Python 3",
   "language": "python",
   "name": "python3"
  },
  "language_info": {
   "codemirror_mode": {
    "name": "ipython",
    "version": 3
   },
   "file_extension": ".py",
   "mimetype": "text/x-python",
   "name": "python",
   "nbconvert_exporter": "python",
   "pygments_lexer": "ipython3",
   "version": "3.11.0"
  },
  "orig_nbformat": 4
 },
 "nbformat": 4,
 "nbformat_minor": 2
}
