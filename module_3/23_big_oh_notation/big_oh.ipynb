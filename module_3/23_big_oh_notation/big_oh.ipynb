{
 "cells": [
  {
   "attachments": {},
   "cell_type": "markdown",
   "id": "b30163cc",
   "metadata": {},
   "source": [
    "В контексті аналізу алгоритмів є сенс говорити про 2 пов'язаних поняття:\n",
    "\n",
    "* __Проблема__ - певна задача, котру треба вирішити (знайти корінь рівняння, знайти елемент у списку, вивести напис на екран тощо)\n",
    "* __Алгоритм__ - чітко визначений набір дій для вирішення тої чи іншої проблеми.\n",
    "\n",
    "Для однієї проблеми може існувати декілька алгоритмів. \n",
    "\n",
    "Наприклад, розглянемо проблему пошуку елементу у відсортованому списку:"
   ]
  },
  {
   "cell_type": "code",
   "execution_count": 7,
   "id": "ec0d292e",
   "metadata": {},
   "outputs": [],
   "source": [
    "lst = [i for i in range(10)]"
   ]
  },
  {
   "attachments": {},
   "cell_type": "markdown",
   "id": "77c21506",
   "metadata": {},
   "source": [
    "Для рішення цієї проблеми відомо як мінімум два алгоритми:\n",
    "* Лінійний пошук\n",
    "* Бінарний пошук"
   ]
  },
  {
   "cell_type": "code",
   "execution_count": 8,
   "id": "fa4b8c18",
   "metadata": {},
   "outputs": [],
   "source": [
    "def linear_search(arr, target):\n",
    "    for index, element in enumerate(arr):\n",
    "        if element == target:\n",
    "            return index\n",
    "    return None\n"
   ]
  },
  {
   "cell_type": "code",
   "execution_count": 9,
   "id": "a72c37e3",
   "metadata": {},
   "outputs": [
    {
     "name": "stdout",
     "output_type": "stream",
     "text": [
      "2\n",
      "None\n"
     ]
    }
   ],
   "source": [
    "print(linear_search(lst, 2))\n",
    "print(linear_search(lst, 1000))"
   ]
  },
  {
   "cell_type": "code",
   "execution_count": 11,
   "id": "c8cada27",
   "metadata": {},
   "outputs": [],
   "source": [
    "def binary_search(arr, target):\n",
    "    left = 0\n",
    "    right = len(arr) - 1\n",
    "    while left <= right:\n",
    "        mid = (left + right) // 2\n",
    "        if arr[mid] == target:\n",
    "            return mid\n",
    "        elif arr[mid] < target:\n",
    "            left = mid + 1\n",
    "        else:\n",
    "            right = mid - 1\n",
    "    return None"
   ]
  },
  {
   "cell_type": "code",
   "execution_count": 12,
   "id": "eadc20d3",
   "metadata": {},
   "outputs": [
    {
     "name": "stdout",
     "output_type": "stream",
     "text": [
      "2\n",
      "None\n"
     ]
    }
   ],
   "source": [
    "print(binary_search(lst, 2))\n",
    "print(binary_search(lst, 1000))"
   ]
  },
  {
   "attachments": {},
   "cell_type": "markdown",
   "id": "a75b76bf",
   "metadata": {},
   "source": [
    "Як ми бачимо, це два різних алгоритми, котрі працюють коректно. Як нам обрати найкращий алгоритм?\n",
    "Грубо кажучи, я би виділив 3 фактори, що мають бути враховані при виборі алгоритму:\n",
    "* Скільки часу виконується алгоритм __на тих даних, з котрими він буде працювати__?\n",
    "* Скільки пам'яті споживає алгоритм __на тих даних, з котрими він буде працювати__?\n",
    "* Наскільки складною є __правильна__ імплементація цього алгоритму?\n",
    "\n",
    "Давайте заміряємо перший аспект для наших алгоритмів пошуку"
   ]
  },
  {
   "cell_type": "code",
   "execution_count": 13,
   "id": "33bc4796",
   "metadata": {},
   "outputs": [],
   "source": [
    "range_bound = 10000"
   ]
  },
  {
   "cell_type": "code",
   "execution_count": 14,
   "id": "0d4bd1e8",
   "metadata": {},
   "outputs": [],
   "source": [
    "new_lst = [i for i in range(range_bound)]"
   ]
  },
  {
   "cell_type": "code",
   "execution_count": 15,
   "id": "f924ff61",
   "metadata": {},
   "outputs": [],
   "source": [
    "import random\n",
    "\n",
    "target = random.randint(0, range_bound) "
   ]
  },
  {
   "cell_type": "code",
   "execution_count": 16,
   "id": "743a668a",
   "metadata": {},
   "outputs": [
    {
     "name": "stdout",
     "output_type": "stream",
     "text": [
      "115 µs ± 4.36 µs per loop (mean ± std. dev. of 7 runs, 10,000 loops each)\n"
     ]
    }
   ],
   "source": [
    "%%timeit\n",
    "linear_search(new_lst, target)"
   ]
  },
  {
   "cell_type": "code",
   "execution_count": 17,
   "id": "dc4c3963",
   "metadata": {},
   "outputs": [
    {
     "name": "stdout",
     "output_type": "stream",
     "text": [
      "940 ns ± 23.5 ns per loop (mean ± std. dev. of 7 runs, 1,000,000 loops each)\n"
     ]
    }
   ],
   "source": [
    "%%timeit\n",
    "binary_search(new_lst, target)"
   ]
  },
  {
   "cell_type": "code",
   "execution_count": 18,
   "id": "9369fa14",
   "metadata": {},
   "outputs": [
    {
     "name": "stdout",
     "output_type": "stream",
     "text": [
      "212 µs ± 2.95 µs per loop (mean ± std. dev. of 7 runs, 1,000 loops each)\n"
     ]
    }
   ],
   "source": [
    "%%timeit\n",
    "linear_search(new_lst, range_bound*2)"
   ]
  },
  {
   "cell_type": "code",
   "execution_count": 19,
   "id": "0a5bf822",
   "metadata": {},
   "outputs": [
    {
     "name": "stdout",
     "output_type": "stream",
     "text": [
      "1.01 µs ± 24.9 ns per loop (mean ± std. dev. of 7 runs, 1,000,000 loops each)\n"
     ]
    }
   ],
   "source": [
    "%%timeit\n",
    "binary_search(new_lst, range_bound*2)"
   ]
  },
  {
   "attachments": {},
   "cell_type": "markdown",
   "id": "05064c69",
   "metadata": {},
   "source": [
    "Як бачимо, чим більше в нас даних, тим краще працює бінарний пошук. Давайте заміряємо та візуалізуємо __залежність__ часу виконання алгоритму від кількості вхідних даних"
   ]
  },
  {
   "cell_type": "code",
   "execution_count": 20,
   "id": "a997b20f",
   "metadata": {},
   "outputs": [],
   "source": [
    "from time import time\n",
    "from functools import partial\n",
    "from typing import Callable, Union, List\n",
    "\n",
    "RANGE_BOUND_MAX = 400\n",
    "TESTS_NUM = 5000\n",
    "\n",
    "def function_timer(function: Callable):\n",
    "    start_time = time()\n",
    "    function()\n",
    "    return time() - start_time\n",
    "\n",
    "range_bounds = [i for i in range(10, RANGE_BOUND_MAX)]\n",
    "\n",
    "def time_algs_by_mean(func: Callable, test_num: int, range_bounds: int) -> List[float]:\n",
    "    algorith_times = list()\n",
    "    for range_bound in range_bounds:\n",
    "        arr = [i for i in range(range_bound)]\n",
    "        times_for_n: List[float] = [function_timer(\n",
    "        partial(func,\n",
    "                arr = arr, \n",
    "                target = random.randint(0, range_bound))\n",
    "        ) for _ in range(test_num)]\n",
    "        mean_running_time = sum(times_for_n)/len(times_for_n)\n",
    "        algorith_times.append(mean_running_time)\n",
    "    return algorith_times\n",
    "\n",
    "linear_times: List[float] = time_algs_by_mean(linear_search, TESTS_NUM, range_bounds)\n",
    "\n",
    "binary_times: List[float] = time_algs_by_mean(binary_search, TESTS_NUM, range_bounds)"
   ]
  },
  {
   "cell_type": "code",
   "execution_count": 21,
   "id": "071ae1c6",
   "metadata": {},
   "outputs": [],
   "source": [
    "import matplotlib.pyplot as plt"
   ]
  },
  {
   "cell_type": "code",
   "execution_count": 22,
   "id": "54a91853",
   "metadata": {},
   "outputs": [
    {
     "data": {
      "text/plain": [
       "[<matplotlib.lines.Line2D at 0x7fc494684190>]"
      ]
     },
     "execution_count": 22,
     "metadata": {},
     "output_type": "execute_result"
    },
    {
     "data": {
      "image/png": "[encoded data removed]",
      "text/plain": [
       "<Figure size 640x480 with 1 Axes>"
      ]
     },
     "metadata": {},
     "output_type": "display_data"
    }
   ],
   "source": [
    "plt.plot(range_bounds, linear_times)\n",
    "plt.plot(range_bounds, binary_times)"
   ]
  },
  {
   "attachments": {},
   "cell_type": "markdown",
   "id": "cceeed7a",
   "metadata": {},
   "source": [
    "Можемо побачити, що чим більше розмір списку, по котрому відбувається пошук, тим більша різниця між лінійним пошуком (синя лінія) та бінарним (помаранчева лінія)\n",
    "\n",
    "Також зверніть увагу на коливання в графіку. Вони можуть бути викликані великою кількістю причин: навантаження на процесор від інших процесів ОС, параметри конкретної машини, нерівномірний розподіл даних у процесі рандомізації тощо. \n",
    "\n",
    "Куди важливіше три факти:\n",
    "* загальний __тренд__ у замірах\n",
    "* факт того, що починаючи з певної довжини вхідних даних бінарний пошук працює набагато швидше від лінійного\n",
    "* ця залежність виконується для __будь якої__ машини\n",
    "\n",
    "Це підводить нас до важливого висновку: враховуючи кількість випадкових і недетермінованих факторів під час вимірювань, куди більш інформативним є не конкретний замір часу виконання алгоритму, а __відносне порівняння алгоритмів між собою__."
   ]
  },
  {
   "attachments": {},
   "cell_type": "markdown",
   "id": "1d74b525",
   "metadata": {},
   "source": [
    "При чому, треба враховувати, що у випадку пошуку ми можемо знайти елемент на першій ітерації, другій, або на останній. Тобто, є сенс оцінювати як мінімум три види складності алгоритму по часу:\n",
    "\n",
    "* найкращий випадок\n",
    "* найгірший випадок\n",
    "* середній випадок\n",
    "\n",
    "Для цього якраз й існує Big-O нотація і процес асимптотичної оцінки алгоритмів. Також, виявляється, що різним елементам Big-O ми можемо поставити у відповідність [певні фрагменти програм](https://d3c33hcgiwev3.cloudfront.net/_9e4b178fa46f2b27f7beefbc5b1d2727_14AnalysisOfAlgorithms.pdf?Expires=1684108800&Signature=lG-nU4DFix-Kkv9Jrjm9VqMh1viZ95BthNO7gAElH38e2z3UGUGq6zkCIert71KzYIMyC5XOHjNYb1wpXjURUiMKbYokP8TS2H-eVEnMjRTKmXLDFWLkzo~YGEt5swVXyERPfWBko~7uiif-dknhBT~XEn-ZzFnnmABNTsMkSQw_&Key-Pair-Id=APKAJLTNE6QMUY6HBC5A). Також виявляється, що так само ми можемо оцінити не тільки час виконання програми, але і те, скільки па'мяті вона споживає під час цього."
   ]
  },
  {
   "attachments": {},
   "cell_type": "markdown",
   "id": "682af321",
   "metadata": {},
   "source": [
    "Також, нагадаємо 4 правила Big-O нотації ([чудове відео з матеріалів](https://youtu.be/v4cd1O4zkGw)):\n",
    "\n",
    "* Різні кроки обчислень додаються в загальній оцінці\n",
    "* Нас не цікавлять конкретні множники і константи. Будь який константний алгоритм - О(1), будь який лінійний - О(n)\n",
    "* Різні набори вхідних даних - різні змінні (буває O(m*n), O(m*n*k) etc)\n",
    "* Нас цікавить найбільший порядок (не буває O(e^x + n^2 + n), це буде O(e^x))"
   ]
  },
  {
   "cell_type": "code",
   "execution_count": 23,
   "id": "bb327aeb",
   "metadata": {},
   "outputs": [],
   "source": [
    "def constant_time(input_var):\n",
    "    s = 0\n",
    "    for x in range(10):\n",
    "        s += 1\n",
    "    return s\n"
   ]
  },
  {
   "cell_type": "code",
   "execution_count": 24,
   "id": "68bf67dd",
   "metadata": {},
   "outputs": [
    {
     "data": {
      "text/plain": [
       "10"
      ]
     },
     "execution_count": 24,
     "metadata": {},
     "output_type": "execute_result"
    }
   ],
   "source": [
    "constant_time(10)"
   ]
  },
  {
   "cell_type": "code",
   "execution_count": 25,
   "id": "89f57783",
   "metadata": {},
   "outputs": [
    {
     "data": {
      "text/plain": [
       "10"
      ]
     },
     "execution_count": 25,
     "metadata": {},
     "output_type": "execute_result"
    }
   ],
   "source": [
    "constant_time(40)"
   ]
  },
  {
   "cell_type": "code",
   "execution_count": null,
   "id": "571fe01c",
   "metadata": {},
   "outputs": [],
   "source": [
    "def linear_time(length):\n",
    "    for i in range(40*length):\n",
    "        print(i)\n"
   ]
  },
  {
   "cell_type": "code",
   "execution_count": null,
   "id": "a0739af1",
   "metadata": {},
   "outputs": [],
   "source": [
    "def another_linear_time(length):\n",
    "    for n in range(666*length):\n",
    "        print(n)\n",
    "\n",
    "    for n in range(10*length):\n",
    "        #Regardless of this loop, time complexity still be O(n)\n",
    "        print(n)"
   ]
  },
  {
   "cell_type": "code",
   "execution_count": 17,
   "id": "9c4e07ca",
   "metadata": {},
   "outputs": [],
   "source": [
    "def quadratic_time(length):\n",
    "    sum = 0\n",
    "    for i in range(length):\n",
    "        for k in range(length):\n",
    "            sum += 1\n",
    "    return sum\n",
    "# O(n*m)"
   ]
  },
  {
   "cell_type": "code",
   "execution_count": null,
   "id": "dd3bdabb",
   "metadata": {},
   "outputs": [],
   "source": [
    "def another_quadratic_time(length):           \n",
    "    for j in range(length):\n",
    "        #Regardless of this additional loop, there will still be O(n^2) time complexity\n",
    "        print(j)\n",
    "    \n",
    "    for i in range(length):\n",
    "        for k in range(length):\n",
    "            print(i, k)\n"
   ]
  },
  {
   "cell_type": "code",
   "execution_count": 26,
   "id": "6df6989c",
   "metadata": {},
   "outputs": [
    {
     "name": "stdout",
     "output_type": "stream",
     "text": [
      "50000\n"
     ]
    }
   ],
   "source": [
    "sum = 0\n",
    "for i in range(n):\n",
    "    for k in range(m):\n",
    "        sum += 1\n",
    "print(sum)\n",
    "# sum = n*m"
   ]
  },
  {
   "cell_type": "code",
   "execution_count": null,
   "id": "126495d1",
   "metadata": {},
   "outputs": [],
   "source": [
    "from typing import List, Any\n",
    "\n",
    "def multiplication_of_two_arrs(arr_1: List[Any]):\n",
    "    for a in arr_1:\n",
    "        for b in arr_1:\n",
    "            for c in arr_1:\n",
    "                print(arr_1)\n",
    "# O(n**3)"
   ]
  },
  {
   "cell_type": "code",
   "execution_count": 39,
   "id": "e176eed4",
   "metadata": {},
   "outputs": [],
   "source": [
    "def logarithmic_time(n: int):\n",
    "    while n != 0:\n",
    "        print(n)\n",
    "        n = n // 2\n",
    "            "
   ]
  },
  {
   "cell_type": "code",
   "execution_count": 38,
   "id": "ca50acf2",
   "metadata": {},
   "outputs": [
    {
     "name": "stdout",
     "output_type": "stream",
     "text": [
      "9000000000\n",
      "3000000000\n",
      "1000000000\n",
      "333333333\n",
      "111111111\n",
      "37037037\n",
      "12345679\n",
      "4115226\n",
      "1371742\n",
      "457247\n",
      "152415\n",
      "50805\n",
      "16935\n",
      "5645\n",
      "1881\n",
      "627\n",
      "209\n",
      "69\n",
      "23\n",
      "7\n",
      "2\n"
     ]
    }
   ],
   "source": [
    "logarithmic_time(9000000000)"
   ]
  },
  {
   "cell_type": "code",
   "execution_count": null,
   "id": "22655bd6",
   "metadata": {},
   "outputs": [],
   "source": [
    "def linearithmic_time(arr):\n",
    "    #Linearithmic means O(n*log(n))\n",
    "    if len(arr) < 2:\n",
    "        return arr\n",
    "    #Here goes the logarithmic part (where we are splitting arr into two parts recursively)\n",
    "    mid = len(arr)//2\n",
    "    left = arr[:mid]\n",
    "    right = arr[mid:]\n",
    "    \n",
    "    left_sorted = linearithmic_time(left)\n",
    "    right_sorted = linearithmic_time(right)\n",
    "    \n",
    "    return merge(left_sorted, right_sorted)\n",
    "\n",
    "def merge(left, right):\n",
    "    # Here goes our linear part. \n",
    "    result = list()\n",
    "    i = j = 0\n",
    "    while i < len(left) and j < len(right):\n",
    "        if left[i] < right[j]:\n",
    "            result.append(left[i])\n",
    "            i += 1\n",
    "        else:\n",
    "            result.append(right[j])\n",
    "            j += 1\n",
    "    while i < len(left):\n",
    "        result.append(left[i])\n",
    "        i += 1\n",
    "    while j < len(right):\n",
    "        result.append(right[j])\n",
    "        j += 1\n",
    "    return result"
   ]
  },
  {
   "attachments": {},
   "cell_type": "markdown",
   "id": "6644dd4e",
   "metadata": {},
   "source": [
    "Загалом, ієрархія класів складності алгоритмів виглядає наступним чином:\n",
    "\n",
    "O(1) < O(log(n)) < O(n) < O(n*log(n)) < O(n\\**2) < O(n\\**3) ... < O(exp(n)) < O(n!)"
   ]
  },
  {
   "cell_type": "code",
   "execution_count": null,
   "id": "ad1fa1cb",
   "metadata": {},
   "outputs": [],
   "source": [
    "# Яка буде складність цього алгоритму? (сортування у Python має складність O(n*log(n)))\n",
    "\n",
    "l_1 = [i for i in range(1000)]\n",
    "l_2 = list(reversed([i for i in range(202020)]))\n",
    "\n",
    "result = sorted(list(set(l_1 + l_2))) # "
   ]
  },
  {
   "attachments": {},
   "cell_type": "markdown",
   "id": "08d434c5",
   "metadata": {},
   "source": [
    "Як ми пам'ятаємо, програмування це сутнісно процес перетворення даних з однієї форми в іншу за якимось __алгоритмом__. Про алгоритми ми поговорили. В класичній інформатиці зазвичай ми говоримо про __структури даних__ як певний __спосіб__ збереження їх у пам'яті. Та певні __правила__ за котрими відбувається робота з даними в рамках цієї структури.\n",
    "\n",
    "У Python, як ми пам'ятаємо, є 4 вбудовані структури даних:\n",
    "\n",
    "* lists\n",
    "* tuples\n",
    "* sets\n",
    "* dicts\n"
   ]
  },
  {
   "cell_type": "code",
   "execution_count": 52,
   "id": "d20228fe",
   "metadata": {},
   "outputs": [],
   "source": [
    "l = [1, 2, 3, 4, 5]\n",
    "t = (1, 2, 3, 4, 5)\n",
    "s = {1, 2, 3, 4, 5}\n",
    "d = {1: 2, 3: 4, 5: 6}"
   ]
  },
  {
   "attachments": {},
   "cell_type": "markdown",
   "id": "71f14b46",
   "metadata": {},
   "source": [
    "В рамках аналізу алгоритмів є сенс говорити про __операції__ котрі ваша структура дозволяє робити зі своїми даними. Наприклад, вставка елементу в список. Чи читання елементу з кортежу. Кожна з цих операцій так само є __алгоритмом__, а, отже, має асимптотичну оцінку як по часу, так і по пам'яті."
   ]
  },
  {
   "attachments": {},
   "cell_type": "markdown",
   "id": "1f621645",
   "metadata": {},
   "source": [
    "[Гарна звідна таблиця](https://wiki.python.org/moin/TimeComplexity) асимптотичної оцінки основних операцій з вбудованими структурами даних у Python\n",
    "\n",
    "[Гарний матеріал з прикладами коду](https://towardsdatascience.com/understanding-time-complexity-with-python-examples-2bda6e8158a7) щодо асимптотичної оцінки алгоритмів у Python\n",
    "\n",
    "[Трохи про неформальність використання Big-O нотації в програмній інженерії](https://youtu.be/gCzOhZ_LUps?list=PLRL3Z3lpLmH0FiSWovfiBtxNczQg0Hzry)"
   ]
  }
 ],
 "metadata": {
  "kernelspec": {
   "display_name": "Python 3 (ipykernel)",
   "language": "python",
   "name": "python3"
  },
  "language_info": {
   "codemirror_mode": {
    "name": "ipython",
    "version": 3
   },
   "file_extension": ".py",
   "mimetype": "text/x-python",
   "name": "python",
   "nbconvert_exporter": "python",
   "pygments_lexer": "ipython3",
   "version": "3.11.0"
  }
 },
 "nbformat": 4,
 "nbformat_minor": 5
}
