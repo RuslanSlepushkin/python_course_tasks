{
 "cells": [
  {
   "cell_type": "markdown",
   "id": "3d9d445e",
   "metadata": {},
   "source": [
    "Загалом, структури даних діляться на дві великі категорії:\n",
    "\n",
    "* лінійні (списки, множини, стеки, черги тощо)\n",
    "* нелінійні (дерева, графи)\n",
    "\n",
    "Вбудовані структури даних у Python є лінійними. Але, окрім них, існують багато інших лінійних структур даних.\n",
    "\n",
    "Цього заняття ми розглянемо наступні:\n",
    "\n",
    "* stack\n",
    "* queue\n",
    "* deque"
   ]
  },
  {
   "cell_type": "markdown",
   "id": "30c36520",
   "metadata": {},
   "source": [
    "## Stack"
   ]
  },
  {
   "cell_type": "markdown",
   "id": "ad969600",
   "metadata": {},
   "source": [
    "Стек це структура даних, в котрій доступ до елементів організований за принципом LIFO (last in, first out)."
   ]
  },
  {
   "cell_type": "markdown",
   "id": "223b9400",
   "metadata": {},
   "source": [
    "[Прекрасний приклад стеку з реального життя](https://upload.wikimedia.org/wikipedia/commons/1/19/Tallrik_-_Ystad-2018.jpg)"
   ]
  },
  {
   "cell_type": "code",
   "execution_count": 21,
   "id": "84b4c6c7",
   "metadata": {},
   "outputs": [],
   "source": [
    "class CustomStack:\n",
    "    def __init__(self):\n",
    "        self._stack = list()\n",
    "        \n",
    "    def push(self, element):\n",
    "        self._stack.append(element)\n",
    "        \n",
    "    def pop(self):\n",
    "        return self._stack.pop()\n",
    "    \n",
    "    def empty(self):\n",
    "        return len(self._stack) == 0\n",
    "    \n",
    "    def top(self):\n",
    "        return self._stack[-1]\n"
   ]
  },
  {
   "cell_type": "code",
   "execution_count": 22,
   "id": "ab0272ce",
   "metadata": {},
   "outputs": [],
   "source": [
    "s = CustomStack()\n",
    "s.push(1)\n",
    "s.push(2)\n",
    "s.push(3)\n",
    "s.push(4)\n",
    "s.push(5)"
   ]
  },
  {
   "cell_type": "code",
   "execution_count": 23,
   "id": "5275eb24",
   "metadata": {},
   "outputs": [
    {
     "data": {
      "text/plain": [
       "5"
      ]
     },
     "execution_count": 23,
     "metadata": {},
     "output_type": "execute_result"
    }
   ],
   "source": [
    "s.pop()"
   ]
  },
  {
   "cell_type": "code",
   "execution_count": 24,
   "id": "42927ec8",
   "metadata": {},
   "outputs": [
    {
     "data": {
      "text/plain": [
       "4"
      ]
     },
     "execution_count": 24,
     "metadata": {},
     "output_type": "execute_result"
    }
   ],
   "source": [
    "s.pop()"
   ]
  },
  {
   "cell_type": "markdown",
   "id": "f24453d0",
   "metadata": {},
   "source": [
    "Загалом, ми можемо працювати зі звичайним списком як зі стеком, завдяки методам pop() і append()."
   ]
  },
  {
   "cell_type": "markdown",
   "id": "9c3003a6",
   "metadata": {},
   "source": [
    "Стек дуже активно використовується в програмуванні. Базові типи даних організовані в пам'яті як стек (а не базові організовані у heap, [прекрасне пояснення різниці](https://www.youtube.com/watch?v=IX3fDYz0WyM). Виклики функцій (в тому числі рекурсивні) організовані як стек. Саме тому, кожна рекурсія має прагнути до базового випадку. Він обчислюється першим, далі - випадок за ним і так до кінця. Тобто, саме __обчислення__ організовано за принципом LIFO.\n",
    "Більш того, процес виконання програми частково організований як стек. Вкладені блоки коду обчислюються першими, далі - ті, що над ними і так до кінця."
   ]
  },
  {
   "cell_type": "markdown",
   "id": "4268824d",
   "metadata": {},
   "source": [
    "Прекрасний приклад використання стеку - калькулятор на двох стеках від Едсгера Дейкстри. Наведена версія має певні обмеження (пов'язані з дужками), але демонструє загальну ідею."
   ]
  },
  {
   "cell_type": "code",
   "execution_count": 25,
   "id": "41915e8d",
   "metadata": {},
   "outputs": [],
   "source": [
    "expression = \"(10*2)-(3+2)*12\""
   ]
  },
  {
   "cell_type": "code",
   "execution_count": 26,
   "id": "6b962009",
   "metadata": {},
   "outputs": [
    {
     "name": "stdout",
     "output_type": "stream",
     "text": [
      "-40\n"
     ]
    }
   ],
   "source": [
    "operators = \"+-*/\"\n",
    "operators_to_funcs = {\n",
    "    \"+\": lambda a, b: a + b,\n",
    "    \"-\": lambda a, b: a - b,\n",
    "    \"*\": lambda a, b: a*b,\n",
    "    \"/\": lambda a, b: a/b\n",
    "}\n",
    "\n",
    "operators_stack = CustomStack()\n",
    "operands_stack = CustomStack()\n",
    "\n",
    "def compute_and_push_to_stack(operands_stack: CustomStack, operators_stack: CustomStack):\n",
    "    operator = operators_stack.pop()\n",
    "    operator_func = operators_to_funcs[operator]\n",
    "    right_operand = operands_stack.pop()\n",
    "    left_operand = operands_stack.pop()\n",
    "    result = operator_func(left_operand, right_operand)\n",
    "    operands_stack.push(result)\n",
    "\n",
    "\n",
    "operand = \"\"\n",
    "\n",
    "for char_index, char in enumerate(expression):\n",
    "    if char.isnumeric():\n",
    "        operand += char\n",
    "    if char in operators:\n",
    "        if operand != \"\":\n",
    "            operands_stack.push(int(operand))\n",
    "            operand = \"\"\n",
    "        operators_stack.push(char)\n",
    "    if char == \")\" or char_index == len(expression) - 1:\n",
    "        if operand != \"\":\n",
    "            operands_stack.push(int(operand))\n",
    "            operand = \"\"\n",
    "        compute_and_push_to_stack(operands_stack, operators_stack)\n",
    "\n",
    "while not operators_stack.empty():\n",
    "    compute_and_push_to_stack(operands_stack, operators_stack)\n",
    "\n",
    "result = operands_stack.pop()\n",
    "print(result)"
   ]
  },
  {
   "cell_type": "markdown",
   "id": "ef7e5b7e",
   "metadata": {},
   "source": [
    "## Queue"
   ]
  },
  {
   "cell_type": "markdown",
   "id": "9795a970",
   "metadata": {},
   "source": [
    "Черга це структура даних, в котрій доступ до елементів організований за принципом FIFO (first in, first out). Найочевиднішим прикладом буде черга в магазині."
   ]
  },
  {
   "cell_type": "code",
   "execution_count": 7,
   "id": "f6bfa1e1",
   "metadata": {},
   "outputs": [],
   "source": [
    "class CustomQueue:\n",
    "    def __init__(self):\n",
    "        self._stack = list()\n",
    "        \n",
    "    def put(self, element):\n",
    "        self._stack.append(element)\n",
    "        \n",
    "    def get(self):\n",
    "        return self._stack.pop(0)\n",
    "    \n",
    "    def is_empty(self):\n",
    "        return len(self._stack) == 0\n"
   ]
  },
  {
   "cell_type": "code",
   "execution_count": 8,
   "id": "fbd94d1b",
   "metadata": {},
   "outputs": [],
   "source": [
    "q = CustomQueue()\n",
    "q.put(1)\n",
    "q.put(2)\n",
    "q.put(3)\n",
    "q.put(4)\n",
    "q.put(5)"
   ]
  },
  {
   "cell_type": "code",
   "execution_count": 9,
   "id": "6666f887",
   "metadata": {},
   "outputs": [
    {
     "data": {
      "text/plain": [
       "1"
      ]
     },
     "execution_count": 9,
     "metadata": {},
     "output_type": "execute_result"
    }
   ],
   "source": [
    "q.get()"
   ]
  },
  {
   "cell_type": "code",
   "execution_count": 10,
   "id": "c24122e4",
   "metadata": {},
   "outputs": [
    {
     "data": {
      "text/plain": [
       "2"
      ]
     },
     "execution_count": 10,
     "metadata": {},
     "output_type": "execute_result"
    }
   ],
   "source": [
    "q.get()"
   ]
  },
  {
   "cell_type": "markdown",
   "id": "79161057",
   "metadata": {},
   "source": [
    "В Python існує вбудована імплементація черги з модуля queue. Бажано використовувати саме її, особливо для роботи з конкурентними програмами."
   ]
  },
  {
   "cell_type": "code",
   "execution_count": 11,
   "id": "22c737b0",
   "metadata": {},
   "outputs": [],
   "source": [
    "from queue import Queue\n",
    "\n",
    "q2 = Queue()"
   ]
  },
  {
   "cell_type": "markdown",
   "id": "2ed9d4a5",
   "metadata": {},
   "source": [
    "Черга використовується в основному для поступового виконання різних завдань. Черги можуть з'являтись не тільки в рамках програми, а в рамках взаємодії декількох серверів (так звані менеджери черг, наприклад, RabbitMQ).\n",
    "\n",
    "З цього сценарію використання росте й архітектурний патерн під назвою Producer-Consumer. Він використовується для послідовної обробки невідомої кількості задач необмеженою кількістю виконавців. Він складається з трьох компонентів:\n",
    "\n",
    "* Queue - черга, куди складаються задачі, котрі ще не були оброблені\n",
    "* Producer - той, хто кладе задачі в Queue\n",
    "* Consumer - той, хто вичитує задачі з Queue"
   ]
  },
  {
   "cell_type": "code",
   "execution_count": 12,
   "id": "aed64ddd",
   "metadata": {},
   "outputs": [],
   "source": [
    "list_of_statements_1 = [\"This is a tasty burger\", \n",
    "                        \"I dare you, I double dare you\",\n",
    "                        \"Say 'what' one more time!\"]*10\n",
    "\n",
    "list_of_statements_2 = [\"I just wanna feel\", \n",
    "                        \"Real love\", \n",
    "                        \"Cause i got too much life\", \n",
    "                        \"Running through mah veins\"]*10\n"
   ]
  },
  {
   "cell_type": "code",
   "execution_count": 13,
   "id": "8288b549",
   "metadata": {},
   "outputs": [],
   "source": [
    "task_queue = Queue()"
   ]
  },
  {
   "cell_type": "code",
   "execution_count": 14,
   "id": "9edc1ba4",
   "metadata": {},
   "outputs": [],
   "source": [
    "from time import sleep\n",
    "from random import randint\n",
    "from typing import List\n",
    "\n",
    "\n",
    "class Producer:\n",
    "    \"\"\"Class which reads some list and pushes messages into queue with some timeout\"\"\"\n",
    "    \n",
    "    def __init__(self, sequence: List[str], queue: Queue):\n",
    "        self._sequence = sequence\n",
    "        self._queue = queue\n",
    "        \n",
    "    def _push(self, message):\n",
    "        self._queue.put(message)\n",
    "        \n",
    "    def process_sequence(self):\n",
    "        for message in self._sequence:\n",
    "            self._push(message)\n",
    "            sleep(0.1)\n",
    "            \n",
    "            \n",
    "class Consumer:\n",
    "    \"\"\"Class which reads messages from queue and prints it with a consumer ID\"\"\"\n",
    "    \n",
    "    def __init__(self, consumer_id: int, queue: Queue):\n",
    "        self._id = consumer_id\n",
    "        self._queue = queue\n",
    "        \n",
    "    def consume(self):\n",
    "        retries = 0\n",
    "        while True:\n",
    "            if not self._queue.empty():\n",
    "                message = self._queue.get()\n",
    "                print(f\"Received message '{message}' by consumer {self._id}\")\n",
    "                sleep(0.3)\n",
    "            else:\n",
    "                sleep(1)\n",
    "                retries += 1\n",
    "            if retries >= 10:\n",
    "                print(f\"Queue seems empty and producers seems stopped. Consumer {self._id} stopped\")\n",
    "                break"
   ]
  },
  {
   "cell_type": "code",
   "execution_count": 15,
   "id": "514cf067",
   "metadata": {},
   "outputs": [],
   "source": [
    "prod_1 = Producer(list_of_statements_1, task_queue)\n",
    "prod_2 = Producer(list_of_statements_2, task_queue)\n",
    "\n",
    "cons_1 = Consumer(1, task_queue) \n",
    "cons_2 = Consumer(2, task_queue)\n",
    "cons_3 = Consumer(3, task_queue)"
   ]
  },
  {
   "cell_type": "code",
   "execution_count": 16,
   "id": "bc680399",
   "metadata": {
    "scrolled": true
   },
   "outputs": [
    {
     "name": "stdout",
     "output_type": "stream",
     "text": [
      "Received message 'This is a tasty burger' by consumer 1\n",
      "Received message 'I just wanna feel' by consumer 2\n",
      "Received message 'I dare you, I double dare you' by consumer 1\n",
      "Received message 'Real love' by consumer 2\n",
      "Received message 'Say 'what' one more time!' by consumer 1\n",
      "Received message 'Cause i got too much life' by consumer 2\n",
      "Received message 'This is a tasty burger' by consumer 1\n",
      "Received message 'Running through mah veins' by consumer 2\n",
      "Received message 'I dare you, I double dare you' by consumer 1Received message 'I just wanna feel' by consumer 2\n",
      "\n",
      "Received message 'Say 'what' one more time!' by consumer 2\n",
      "Received message 'Real love' by consumer 1\n",
      "Received message 'Cause i got too much life' by consumer 2\n",
      "Received message 'This is a tasty burger' by consumer 1\n",
      "Received message 'Running through mah veins' by consumer 2\n",
      "Received message 'I dare you, I double dare you' by consumer 1\n",
      "Received message 'I just wanna feel' by consumer 2\n",
      "Received message 'Say 'what' one more time!' by consumer 1\n",
      "Received message 'This is a tasty burger' by consumer 2\n",
      "Received message 'Real love' by consumer 1\n",
      "Received message 'I dare you, I double dare you' by consumer 2\n",
      "Received message 'Cause i got too much life' by consumer 1\n",
      "Received message 'Say 'what' one more time!' by consumer 2\n",
      "Received message 'Running through mah veins' by consumer 1\n",
      "Received message 'I just wanna feel' by consumer 2\n",
      "Received message 'This is a tasty burger' by consumer 1\n",
      "Received message 'I dare you, I double dare you' by consumer 2\n",
      "Received message 'Real love' by consumer 1\n",
      "Received message 'Say 'what' one more time!' by consumer 2\n",
      "Received message 'Cause i got too much life' by consumer 1\n",
      "Received message 'This is a tasty burger' by consumer 2\n",
      "Received message 'Running through mah veins' by consumer 1\n",
      "Received message 'I dare you, I double dare you' by consumer 2\n",
      "Received message 'I just wanna feel' by consumer 1\n",
      "Received message 'Say 'what' one more time!' by consumer 3\n",
      "Received message 'Real love' by consumer 2\n",
      "Received message 'This is a tasty burger' by consumer 1\n",
      "Received message 'Cause i got too much life' by consumer 3\n",
      "Received message 'I dare you, I double dare you' by consumer 2\n",
      "Received message 'Running through mah veins' by consumer 1\n",
      "Received message 'Say 'what' one more time!' by consumer 3\n",
      "Received message 'I just wanna feel' by consumer 2\n",
      "Received message 'This is a tasty burger' by consumer 1\n",
      "Received message 'Real love' by consumer 3\n",
      "Received message 'I dare you, I double dare you' by consumer 2\n",
      "Received message 'Cause i got too much life' by consumer 1\n",
      "Received message 'Say 'what' one more time!' by consumer 3\n",
      "Received message 'Running through mah veins' by consumer 2\n",
      "Received message 'This is a tasty burger' by consumer 1\n",
      "Received message 'I just wanna feel' by consumer 3\n",
      "Received message 'I dare you, I double dare you' by consumer 2Received message 'Real love' by consumer 1\n",
      "\n",
      "Received message 'Say 'what' one more time!' by consumer 3\n",
      "Received message 'Cause i got too much life' by consumer 1Received message 'This is a tasty burger' by consumer 2\n",
      "\n",
      "Received message 'Running through mah veins' by consumer 3\n",
      "Received message 'I dare you, I double dare you' by consumer 2Received message 'I just wanna feel' by consumer 1\n",
      "\n",
      "Received message 'Say 'what' one more time!' by consumer 3\n",
      "Received message 'Real love' by consumer 1Received message 'Cause i got too much life' by consumer 2\n",
      "\n",
      "Received message 'Running through mah veins' by consumer 3\n",
      "Received message 'I just wanna feel' by consumer 2\n",
      "Received message 'Real love' by consumer 1\n",
      "Received message 'Cause i got too much life' by consumer 3\n",
      "Received message 'Running through mah veins' by consumer 2\n",
      "Received message 'I just wanna feel' by consumer 1\n",
      "Received message 'Real love' by consumer 3\n",
      "Received message 'Cause i got too much life' by consumer 2\n",
      "Received message 'Running through mah veins' by consumer 1\n",
      "Queue seems empty and producers seems stopped. Consumer 3 stopped\n",
      "Queue seems empty and producers seems stopped. Consumer 1 stoppedQueue seems empty and producers seems stopped. Consumer 2 stopped\n",
      "\n"
     ]
    }
   ],
   "source": [
    "from threading import Thread\n",
    "\n",
    "t1 = Thread(target = prod_1.process_sequence)\n",
    "t2 = Thread(target = prod_2.process_sequence)\n",
    "\n",
    "t3 = Thread(target = cons_1.consume)\n",
    "t4 = Thread(target = cons_2.consume)\n",
    "t5 = Thread(target = cons_3.consume)\n",
    "\n",
    "t1.start()\n",
    "t2.start()\n",
    "t3.start()\n",
    "t4.start()\n",
    "t5.start()\n",
    "\n",
    "t1.join()\n",
    "t2.join()\n",
    "t3.join()\n",
    "t4.join()\n",
    "t5.join()"
   ]
  },
  {
   "cell_type": "markdown",
   "id": "6a8a3c92",
   "metadata": {},
   "source": [
    "## Deque"
   ]
  },
  {
   "cell_type": "markdown",
   "id": "d2a245ed",
   "metadata": {},
   "source": [
    "Дека, або двохстороння черга (Double Ended QUEue) - це структура даних, котра забезпечує доступ як зі свого кінця, так і зі свого початку. \n",
    "Якщо ви додаєте елементи в один кінець деки, а забираєте з іншого, вона забезпечує принцип FIFO. Якщо додаєте та виймаєте з одного кінця, це буде LIFO.\n",
    "Імплементація деки є вбудованою в Python.\n"
   ]
  },
  {
   "cell_type": "code",
   "execution_count": 116,
   "id": "90acd3a5",
   "metadata": {},
   "outputs": [],
   "source": [
    "from collections import deque\n",
    "\n",
    "my_deque = deque()"
   ]
  },
  {
   "cell_type": "code",
   "execution_count": 112,
   "id": "75d05953",
   "metadata": {},
   "outputs": [],
   "source": [
    "for i in range(10, 20):\n",
    "    my_deque.append(i)"
   ]
  },
  {
   "cell_type": "code",
   "execution_count": 118,
   "id": "fa2b331a",
   "metadata": {},
   "outputs": [],
   "source": [
    "my_deque.append(1)\n",
    "my_deque.append(2)\n",
    "my_deque.append(3)"
   ]
  },
  {
   "cell_type": "code",
   "execution_count": 120,
   "id": "7c5a70a6",
   "metadata": {},
   "outputs": [
    {
     "data": {
      "text/plain": [
       "1"
      ]
     },
     "execution_count": 120,
     "metadata": {},
     "output_type": "execute_result"
    }
   ],
   "source": [
    "my_deque.popleft()"
   ]
  },
  {
   "cell_type": "code",
   "execution_count": 113,
   "id": "88f01d19",
   "metadata": {},
   "outputs": [],
   "source": [
    "my_deque.extendleft(range(10))"
   ]
  },
  {
   "cell_type": "code",
   "execution_count": 114,
   "id": "f28bb2e8",
   "metadata": {},
   "outputs": [
    {
     "data": {
      "text/plain": [
       "19"
      ]
     },
     "execution_count": 114,
     "metadata": {},
     "output_type": "execute_result"
    }
   ],
   "source": [
    "my_deque.pop()"
   ]
  },
  {
   "cell_type": "code",
   "execution_count": 115,
   "id": "73d15859",
   "metadata": {},
   "outputs": [
    {
     "data": {
      "text/plain": [
       "9"
      ]
     },
     "execution_count": 115,
     "metadata": {},
     "output_type": "execute_result"
    }
   ],
   "source": [
    "my_deque.popleft()"
   ]
  },
  {
   "cell_type": "markdown",
   "id": "94c7123a",
   "metadata": {},
   "source": [
    "Важливою властивістю трьох розглянутих вище структур даних є те, що __всі операції з ними__ мають асимптотичну оцінку по часу О(1)"
   ]
  }
 ],
 "metadata": {
  "kernelspec": {
   "display_name": "Python 3 (ipykernel)",
   "language": "python",
   "name": "python3"
  },
  "language_info": {
   "codemirror_mode": {
    "name": "ipython",
    "version": 3
   },
   "file_extension": ".py",
   "mimetype": "text/x-python",
   "name": "python",
   "nbconvert_exporter": "python",
   "pygments_lexer": "ipython3",
   "version": "3.9.16"
  }
 },
 "nbformat": 4,
 "nbformat_minor": 5
}
