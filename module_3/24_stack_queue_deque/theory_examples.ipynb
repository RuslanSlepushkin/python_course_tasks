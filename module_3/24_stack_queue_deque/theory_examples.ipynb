{
 "cells": [
  {
   "attachments": {},
   "cell_type": "markdown",
   "id": "3974327b",
   "metadata": {},
   "source": [
    "Загалом, структури даних діляться на дві великі категорії:\n",
    "\n",
    "* лінійні (списки, множини, стеки, черги тощо)\n",
    "* нелінійні (дерева, графи)\n",
    "\n",
    "Вбудовані структури даних у Python є лінійними. Але, окрім них, існують багато інших лінійних структур даних.\n",
    "\n",
    "Цього заняття ми розглянемо наступні:\n",
    "\n",
    "* stack\n",
    "* queue\n",
    "* deque"
   ]
  },
  {
   "attachments": {},
   "cell_type": "markdown",
   "id": "20ef50c4",
   "metadata": {},
   "source": [
    "## Stack"
   ]
  },
  {
   "attachments": {},
   "cell_type": "markdown",
   "id": "4df7c48e",
   "metadata": {},
   "source": [
    "Стек це структура даних, в котрій доступ до елементів організований за принципом LIFO (last in, first out)."
   ]
  },
  {
   "attachments": {},
   "cell_type": "markdown",
   "id": "0608f8ab",
   "metadata": {},
   "source": [
    "[Прекрасний приклад стеку з реального життя](https://upload.wikimedia.org/wikipedia/commons/1/19/Tallrik_-_Ystad-2018.jpg)"
   ]
  },
  {
   "cell_type": "code",
   "execution_count": 2,
   "id": "a027ae87",
   "metadata": {},
   "outputs": [],
   "source": [
    "class CustomStack:\n",
    "    def __init__(self):\n",
    "        self._stack = list()\n",
    "        \n",
    "    def push(self, element):\n",
    "        self._stack.append(element)\n",
    "        \n",
    "    def pop(self):\n",
    "        return self._stack.pop()\n",
    "    \n",
    "    def empty(self):\n",
    "        return len(self._stack) == 0\n",
    "    \n",
    "    def top(self):\n",
    "        return self._stack[-1]\n"
   ]
  },
  {
   "cell_type": "code",
   "execution_count": 10,
   "id": "e3928e1a",
   "metadata": {},
   "outputs": [],
   "source": [
    "s = CustomStack()\n",
    "s.push(1)\n",
    "s.push(2)\n",
    "s.push(3)\n",
    "s.push(4)\n",
    "s.push(5)"
   ]
  },
  {
   "cell_type": "code",
   "execution_count": 11,
   "id": "2d70d46c",
   "metadata": {},
   "outputs": [
    {
     "data": {
      "text/plain": [
       "5"
      ]
     },
     "execution_count": 11,
     "metadata": {},
     "output_type": "execute_result"
    }
   ],
   "source": [
    "s.pop()"
   ]
  },
  {
   "cell_type": "code",
   "execution_count": 12,
   "id": "0e1fe8bd",
   "metadata": {},
   "outputs": [
    {
     "data": {
      "text/plain": [
       "4"
      ]
     },
     "execution_count": 12,
     "metadata": {},
     "output_type": "execute_result"
    }
   ],
   "source": [
    "s.pop()"
   ]
  },
  {
   "attachments": {},
   "cell_type": "markdown",
   "id": "be414eda",
   "metadata": {},
   "source": [
    "Загалом, ми можемо працювати зі звичайним списком як зі стеком, завдяки методам pop() і append()."
   ]
  },
  {
   "attachments": {},
   "cell_type": "markdown",
   "id": "e63ac261",
   "metadata": {},
   "source": [
    "Стек дуже активно використовується в програмуванні. Базові типи даних організовані в пам'яті як стек (а не базові організовані у heap, [прекрасне пояснення різниці](https://www.youtube.com/watch?v=IX3fDYz0WyM). Виклики функцій (в тому числі рекурсивні) організовані як стек. Саме тому, кожна рекурсія має прагнути до базового випадку. Він обчислюється першим, далі - випадок за ним і так до кінця. Тобто, саме __обчислення__ організовано за принципом LIFO.\n",
    "Більш того, процес виконання програми частково організований як стек. Вкладені блоки коду обчислюються першими, далі - ті, що над ними і так до кінця."
   ]
  },
  {
   "attachments": {},
   "cell_type": "markdown",
   "id": "adf919d7",
   "metadata": {},
   "source": [
    "Прекрасний приклад використання стеку - калькулятор на двох стеках від Едсгера Дейкстри. Наведена версія має певні обмеження (пов'язані з дужками), але демонструє загальну ідею."
   ]
  },
  {
   "cell_type": "code",
   "execution_count": 5,
   "id": "be44df5c",
   "metadata": {},
   "outputs": [],
   "source": [
    "expression = \"(10*2)-(3+2)*12\""
   ]
  },
  {
   "cell_type": "code",
   "execution_count": 6,
   "id": "15a2cc0f",
   "metadata": {},
   "outputs": [
    {
     "name": "stdout",
     "output_type": "stream",
     "text": [
      "-40\n"
     ]
    }
   ],
   "source": [
    "operators = \"+-*/\"\n",
    "operators_to_funcs = {\n",
    "    \"+\": lambda a, b: a + b,\n",
    "    \"-\": lambda a, b: a - b,\n",
    "    \"*\": lambda a, b: a*b,\n",
    "    \"/\": lambda a, b: a/b\n",
    "}\n",
    "\n",
    "operators_stack = CustomStack()\n",
    "operands_stack = CustomStack()\n",
    "\n",
    "def compute_and_push_to_stack(operands_stack: CustomStack, operators_stack: CustomStack):\n",
    "    operator = operators_stack.pop()\n",
    "    operator_func = operators_to_funcs[operator]\n",
    "    right_operand = operands_stack.pop()\n",
    "    left_operand = operands_stack.pop()\n",
    "    result = operator_func(left_operand, right_operand)\n",
    "    operands_stack.push(result)\n",
    "\n",
    "\n",
    "operand = \"\"\n",
    "\n",
    "for char_index, char in enumerate(expression):\n",
    "    if char.isnumeric():\n",
    "        operand += char\n",
    "    if char in operators:\n",
    "        if operand != \"\":\n",
    "            operands_stack.push(int(operand))\n",
    "            operand = \"\"\n",
    "        operators_stack.push(char)\n",
    "    if char == \")\" or char_index == len(expression) - 1:\n",
    "        if operand != \"\":\n",
    "            operands_stack.push(int(operand))\n",
    "            operand = \"\"\n",
    "        compute_and_push_to_stack(operands_stack, operators_stack)\n",
    "\n",
    "while not operators_stack.empty():\n",
    "    compute_and_push_to_stack(operands_stack, operators_stack)\n",
    "\n",
    "result = operands_stack.pop()\n",
    "print(result)"
   ]
  },
  {
   "attachments": {},
   "cell_type": "markdown",
   "id": "c8ba32ee",
   "metadata": {},
   "source": [
    "## Queue"
   ]
  },
  {
   "attachments": {},
   "cell_type": "markdown",
   "id": "6586dcf4",
   "metadata": {},
   "source": [
    "Черга це структура даних, в котрій доступ до елементів організований за принципом FIFO (first in, first out). Найочевиднішим прикладом буде черга в магазині."
   ]
  },
  {
   "cell_type": "code",
   "execution_count": 7,
   "id": "8d1fc4ec",
   "metadata": {},
   "outputs": [],
   "source": [
    "class CustomQueue:\n",
    "    def __init__(self):\n",
    "        self._queue = list()\n",
    "        \n",
    "    def put(self, element):\n",
    "        self._queue.append(element)\n",
    "        \n",
    "    def get(self):\n",
    "        return self._queue.pop(0)\n",
    "    \n",
    "    def is_empty(self):\n",
    "        return len(self._queue) == 0\n"
   ]
  },
  {
   "cell_type": "code",
   "execution_count": 13,
   "id": "c8228adb",
   "metadata": {},
   "outputs": [],
   "source": [
    "q = CustomQueue()\n",
    "q.put(1)\n",
    "q.put(2)\n",
    "q.put(3)\n",
    "q.put(4)\n",
    "q.put(5)"
   ]
  },
  {
   "cell_type": "code",
   "execution_count": 14,
   "id": "2eb0fb36",
   "metadata": {},
   "outputs": [
    {
     "data": {
      "text/plain": [
       "1"
      ]
     },
     "execution_count": 14,
     "metadata": {},
     "output_type": "execute_result"
    }
   ],
   "source": [
    "q.get()"
   ]
  },
  {
   "cell_type": "code",
   "execution_count": 16,
   "id": "346c0596",
   "metadata": {},
   "outputs": [
    {
     "data": {
      "text/plain": [
       "3"
      ]
     },
     "execution_count": 16,
     "metadata": {},
     "output_type": "execute_result"
    }
   ],
   "source": [
    "q.get()"
   ]
  },
  {
   "attachments": {},
   "cell_type": "markdown",
   "id": "743a1e72",
   "metadata": {},
   "source": [
    "В Python існує вбудована імплементація черги з модуля queue. Бажано використовувати саме її, особливо для роботи з конкурентними програмами. Одна з причин в тому, що асимптотична складність операції pop(0) складає O(n)."
   ]
  },
  {
   "cell_type": "code",
   "execution_count": 17,
   "id": "9db469bb",
   "metadata": {},
   "outputs": [],
   "source": [
    "from queue import Queue\n",
    "\n",
    "q2 = Queue()"
   ]
  },
  {
   "attachments": {},
   "cell_type": "markdown",
   "id": "4840c5e1",
   "metadata": {},
   "source": [
    "Черга використовується в основному для поступового виконання різних завдань. Черги можуть з'являтись не тільки в рамках програми, а в рамках взаємодії декількох серверів (так звані менеджери черг, наприклад, RabbitMQ).\n",
    "\n",
    "З цього сценарію використання росте й архітектурний патерн під назвою Producer-Consumer. Він використовується для послідовної обробки невідомої кількості задач необмеженою кількістю виконавців. Він складається з трьох компонентів:\n",
    "\n",
    "* Queue - черга, куди складаються задачі, котрі ще не були оброблені\n",
    "* Producer - той, хто кладе задачі в Queue\n",
    "* Consumer - той, хто вичитує задачі з Queue"
   ]
  },
  {
   "cell_type": "code",
   "execution_count": 18,
   "id": "ad1ae067",
   "metadata": {},
   "outputs": [],
   "source": [
    "list_of_statements_1 = [\"This is a tasty burger\", \n",
    "                        \"I dare you, I double dare you\",\n",
    "                        \"Say 'what' one more time!\"]*10\n",
    "\n",
    "list_of_statements_2 = [\"I just wanna feel\", \n",
    "                        \"Real love\", \n",
    "                        \"Cause i got too much life\", \n",
    "                        \"Running through mah veins\"]*10\n"
   ]
  },
  {
   "cell_type": "code",
   "execution_count": 19,
   "id": "f9a7b155",
   "metadata": {},
   "outputs": [],
   "source": [
    "task_queue = Queue()"
   ]
  },
  {
   "cell_type": "code",
   "execution_count": 20,
   "id": "a0eb9cf6",
   "metadata": {},
   "outputs": [],
   "source": [
    "from time import sleep\n",
    "from random import randint\n",
    "from typing import List\n",
    "\n",
    "\n",
    "class Producer:\n",
    "    \"\"\"Class which reads some list and pushes messages into queue with some timeout\"\"\"\n",
    "    \n",
    "    def __init__(self, sequence: List[str], queue: Queue):\n",
    "        self._sequence = sequence\n",
    "        self._queue = queue\n",
    "        \n",
    "    def _push(self, message):\n",
    "        self._queue.put(message)\n",
    "        \n",
    "    def process_sequence(self):\n",
    "        for message in self._sequence:\n",
    "            self._push(message)\n",
    "            sleep(0.1)\n",
    "            \n",
    "            \n",
    "class Consumer:\n",
    "    \"\"\"Class which reads messages from queue and prints it with a consumer ID\"\"\"\n",
    "    \n",
    "    def __init__(self, consumer_id: int, queue: Queue):\n",
    "        self._id = consumer_id\n",
    "        self._queue = queue\n",
    "        \n",
    "    def consume(self):\n",
    "        retries = 0\n",
    "        while True:\n",
    "            if not self._queue.empty():\n",
    "                message = self._queue.get()\n",
    "                print(f\"Received message '{message}' by consumer {self._id}\")\n",
    "                sleep(0.3)\n",
    "            else:\n",
    "                sleep(1)\n",
    "                retries += 1\n",
    "            if retries >= 10:\n",
    "                print(f\"Queue seems empty and producers seems stopped. Consumer {self._id} stopped\")\n",
    "                break"
   ]
  },
  {
   "cell_type": "code",
   "execution_count": 21,
   "id": "278a1ad6",
   "metadata": {},
   "outputs": [],
   "source": [
    "prod_1 = Producer(list_of_statements_1, task_queue)\n",
    "prod_2 = Producer(list_of_statements_2, task_queue)\n",
    "\n",
    "cons_1 = Consumer(1, task_queue) \n",
    "cons_2 = Consumer(2, task_queue)\n",
    "cons_3 = Consumer(3, task_queue)"
   ]
  },
  {
   "cell_type": "code",
   "execution_count": 22,
   "id": "f32a57f6",
   "metadata": {
    "scrolled": true
   },
   "outputs": [
    {
     "name": "stdout",
     "output_type": "stream",
     "text": [
      "Received message 'This is a tasty burger' by consumer 1\n",
      "Received message 'I just wanna feel' by consumer 2\n",
      "Received message 'I dare you, I double dare you' by consumer 1\n",
      "Received message 'Real love' by consumer 2\n",
      "Received message 'Say 'what' one more time!' by consumer 1\n",
      "Received message 'Cause i got too much life' by consumer 2\n",
      "Received message 'This is a tasty burger' by consumer 1Received message 'Running through mah veins' by consumer 2\n",
      "\n",
      "Received message 'I dare you, I double dare you' by consumer 3\n",
      "Received message 'I just wanna feel' by consumer 2\n",
      "Received message 'Say 'what' one more time!' by consumer 1\n",
      "Received message 'Real love' by consumer 3\n",
      "Received message 'This is a tasty burger' by consumer 2\n",
      "Received message 'Cause i got too much life' by consumer 1\n",
      "Received message 'I dare you, I double dare you' by consumer 3\n",
      "Received message 'Running through mah veins' by consumer 2\n",
      "Received message 'Say 'what' one more time!' by consumer 1\n",
      "Received message 'I just wanna feel' by consumer 3\n",
      "Received message 'This is a tasty burger' by consumer 2Received message 'Real love' by consumer 1\n",
      "\n",
      "Received message 'I dare you, I double dare you' by consumer 3\n",
      "Received message 'Cause i got too much life' by consumer 1Received message 'Say 'what' one more time!' by consumer 2\n",
      "\n",
      "Received message 'Running through mah veins' by consumer 3\n",
      "Received message 'This is a tasty burger' by consumer 2Received message 'I just wanna feel' by consumer 1\n",
      "\n",
      "Received message 'I dare you, I double dare you' by consumer 3\n",
      "Received message 'Real love' by consumer 1\n",
      "Received message 'Say 'what' one more time!' by consumer 2\n",
      "Received message 'Cause i got too much life' by consumer 3\n",
      "Received message 'This is a tasty burger' by consumer 1\n",
      "Received message 'Running through mah veins' by consumer 2\n",
      "Received message 'I dare you, I double dare you' by consumer 3\n",
      "Received message 'I just wanna feel' by consumer 1\n",
      "Received message 'Say 'what' one more time!' by consumer 2\n",
      "Received message 'Real love' by consumer 3\n",
      "Received message 'This is a tasty burger' by consumer 1\n",
      "Received message 'Cause i got too much life' by consumer 2\n",
      "Received message 'I dare you, I double dare you' by consumer 3\n",
      "Received message 'Running through mah veins' by consumer 1\n",
      "Received message 'Say 'what' one more time!' by consumer 2\n",
      "Received message 'I just wanna feel' by consumer 3\n",
      "Received message 'This is a tasty burger' by consumer 1\n",
      "Received message 'Real love' by consumer 2\n",
      "Received message 'I dare you, I double dare you' by consumer 3\n",
      "Received message 'Cause i got too much life' by consumer 1\n",
      "Received message 'Say 'what' one more time!' by consumer 2\n",
      "Received message 'Running through mah veins' by consumer 3\n",
      "Received message 'This is a tasty burger' by consumer 1Received message 'I just wanna feel' by consumer 2\n",
      "\n",
      "Received message 'I dare you, I double dare you' by consumer 3\n",
      "Received message 'Real love' by consumer 2\n",
      "Received message 'Say 'what' one more time!' by consumer 1\n",
      "Received message 'Cause i got too much life' by consumer 3\n",
      "Received message 'This is a tasty burger' by consumer 2Received message 'Running through mah veins' by consumer 1\n",
      "\n",
      "Received message 'I dare you, I double dare you' by consumer 3\n",
      "Received message 'I just wanna feel' by consumer 1Received message 'Say 'what' one more time!' by consumer 2\n",
      "\n",
      "Received message 'Real love' by consumer 3\n",
      "Received message 'Cause i got too much life' by consumer 1Received message 'Running through mah veins' by consumer 2\n",
      "\n",
      "Received message 'I just wanna feel' by consumer 3\n",
      "Received message 'Real love' by consumer 2\n",
      "Received message 'Cause i got too much life' by consumer 1\n",
      "Received message 'Running through mah veins' by consumer 3\n",
      "Received message 'I just wanna feel' by consumer 2Received message 'Real love' by consumer 1\n",
      "\n",
      "Received message 'Cause i got too much life' by consumer 3\n",
      "Received message 'Running through mah veins' by consumer 1\n",
      "Queue seems empty and producers seems stopped. Consumer 3 stopped\n",
      "Queue seems empty and producers seems stopped. Consumer 2 stopped\n",
      "Queue seems empty and producers seems stopped. Consumer 1 stopped\n"
     ]
    }
   ],
   "source": [
    "from threading import Thread\n",
    "\n",
    "t1 = Thread(target = prod_1.process_sequence)\n",
    "t2 = Thread(target = prod_2.process_sequence)\n",
    "\n",
    "t3 = Thread(target = cons_1.consume)\n",
    "t4 = Thread(target = cons_2.consume)\n",
    "t5 = Thread(target = cons_3.consume)\n",
    "\n",
    "t1.start()\n",
    "t2.start()\n",
    "t3.start()\n",
    "t4.start()\n",
    "t5.start()\n",
    "\n",
    "t1.join()\n",
    "t2.join()\n",
    "t3.join()\n",
    "t4.join()\n",
    "t5.join()"
   ]
  },
  {
   "attachments": {},
   "cell_type": "markdown",
   "id": "8ec155d2",
   "metadata": {},
   "source": [
    "## Deque"
   ]
  },
  {
   "attachments": {},
   "cell_type": "markdown",
   "id": "4376e660",
   "metadata": {},
   "source": [
    "Дека, або двохстороння черга (Double Ended QUEue) - це структура даних, котра забезпечує доступ як зі свого кінця, так і зі свого початку. \n",
    "Якщо ви додаєте елементи в один кінець деки, а забираєте з іншого, вона забезпечує принцип FIFO. Якщо додаєте та виймаєте з одного кінця, це буде LIFO.\n",
    "Імплементація деки є вбудованою в Python.\n"
   ]
  },
  {
   "cell_type": "code",
   "execution_count": 35,
   "id": "da753a3d",
   "metadata": {},
   "outputs": [],
   "source": [
    "from collections import deque\n",
    "\n",
    "my_deque = deque()"
   ]
  },
  {
   "cell_type": "code",
   "execution_count": 39,
   "id": "9f845f4c",
   "metadata": {},
   "outputs": [],
   "source": [
    "for i in range(10, 20):\n",
    "    my_deque.append(i)"
   ]
  },
  {
   "cell_type": "code",
   "execution_count": 37,
   "id": "73af087d",
   "metadata": {},
   "outputs": [],
   "source": [
    "my_deque.append(1)\n",
    "my_deque.append(2)\n",
    "my_deque.append(3)"
   ]
  },
  {
   "cell_type": "code",
   "execution_count": 34,
   "id": "ca389d4f",
   "metadata": {},
   "outputs": [
    {
     "data": {
      "text/plain": [
       "15"
      ]
     },
     "execution_count": 34,
     "metadata": {},
     "output_type": "execute_result"
    }
   ],
   "source": [
    "my_deque.popleft()"
   ]
  },
  {
   "cell_type": "code",
   "execution_count": 40,
   "id": "e4f594aa",
   "metadata": {},
   "outputs": [],
   "source": [
    "my_deque.extendleft(range(10))"
   ]
  },
  {
   "cell_type": "code",
   "execution_count": 45,
   "id": "29d25fe2",
   "metadata": {},
   "outputs": [
    {
     "data": {
      "text/plain": [
       "15"
      ]
     },
     "execution_count": 45,
     "metadata": {},
     "output_type": "execute_result"
    }
   ],
   "source": [
    "my_deque.pop()"
   ]
  },
  {
   "cell_type": "code",
   "execution_count": 59,
   "id": "ff511aad",
   "metadata": {},
   "outputs": [
    {
     "data": {
      "text/plain": [
       "6"
      ]
     },
     "execution_count": 59,
     "metadata": {},
     "output_type": "execute_result"
    }
   ],
   "source": [
    "my_deque.popleft()"
   ]
  },
  {
   "attachments": {},
   "cell_type": "markdown",
   "id": "d8da4c29",
   "metadata": {},
   "source": [
    "Важливою властивістю трьох розглянутих вище структур даних є те, що __всі операції з ними__ мають асимптотичну оцінку по часу О(1)"
   ]
  }
 ],
 "metadata": {
  "kernelspec": {
   "display_name": "Python 3 (ipykernel)",
   "language": "python",
   "name": "python3"
  },
  "language_info": {
   "codemirror_mode": {
    "name": "ipython",
    "version": 3
   },
   "file_extension": ".py",
   "mimetype": "text/x-python",
   "name": "python",
   "nbconvert_exporter": "python",
   "pygments_lexer": "ipython3",
   "version": "3.11.0"
  }
 },
 "nbformat": 4,
 "nbformat_minor": 5
}
