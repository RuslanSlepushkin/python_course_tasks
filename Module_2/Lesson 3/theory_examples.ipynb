{
 "cells": [
  {
   "cell_type": "markdown",
   "id": "762c2c24",
   "metadata": {},
   "source": [
    "# Поняття класу. Поняття об'єкту."
   ]
  },
  {
   "cell_type": "code",
   "execution_count": 84,
   "id": "a90a4e1c",
   "metadata": {},
   "outputs": [],
   "source": [
    "class Human:\n",
    "    \n",
    "    species: str = \"homo sapiens\"\n",
    "    _thoughts: str = \"some mediocre stuff\"\n",
    "    \n",
    "    def __init__(self, name, gender, occupation, age) -> None:\n",
    "        self.name = name\n",
    "        self.age = age\n",
    "        self.gender = gender\n",
    "        self.occupation = occupation\n",
    "        \n",
    "    def greeting(self) -> str:\n",
    "        return f\"Hello! My name is {self.name}, i am {self.species} and i am {self.age} year\"\n",
    "        \n",
    "    def speak(self) -> str:\n",
    "        return self.__thoughts\n",
    "    \n",
    "    def breathe(self) -> str:\n",
    "        return \"ooooh\"\n"
   ]
  },
  {
   "cell_type": "code",
   "execution_count": 55,
   "id": "3cd4c315",
   "metadata": {},
   "outputs": [],
   "source": [
    "socrates = Human(\"Socrates\", \"male\", \"philosopher\")"
   ]
  },
  {
   "cell_type": "code",
   "execution_count": 82,
   "id": "822de5d4",
   "metadata": {},
   "outputs": [],
   "source": [
    "illia = Human(name = \"Illia\", gender = \"male\", age = 27, occupation = \"python tutor\")"
   ]
  },
  {
   "cell_type": "code",
   "execution_count": 86,
   "id": "374115d6",
   "metadata": {},
   "outputs": [
    {
     "data": {
      "text/plain": [
       "'some mediocre stuff'"
      ]
     },
     "execution_count": 86,
     "metadata": {},
     "output_type": "execute_result"
    }
   ],
   "source": [
    "illia._thoughts"
   ]
  },
  {
   "cell_type": "code",
   "execution_count": 4,
   "id": "ac961733",
   "metadata": {},
   "outputs": [],
   "source": [
    "illia2 = Human(name = \"Illia\", age = 27, gender = \"male\", occupation = \"python tutor\")"
   ]
  },
  {
   "cell_type": "markdown",
   "id": "f691ee15",
   "metadata": {},
   "source": [
    "# Класи - це задані користувачем типи даних. Їхні значення можуть бути елементами інших класів."
   ]
  },
  {
   "cell_type": "code",
   "execution_count": 63,
   "id": "1273b9dd",
   "metadata": {},
   "outputs": [],
   "source": [
    "class Muse:\n",
    "    def __init__(self, name: str) -> None:\n",
    "        self.name: str = name\n",
    "    \n",
    "    def speak(self) -> str:\n",
    "        return \"Some Masterpiece\"\n"
   ]
  },
  {
   "cell_type": "code",
   "execution_count": 65,
   "id": "40f16dd3",
   "metadata": {},
   "outputs": [],
   "source": [
    "from typing import Optional\n",
    "\n",
    "class Art:\n",
    "    def __init__(self, name: str, muse: Muse, description: Optional[str] = \"\") -> None:\n",
    "        self.name: str = name\n",
    "        self.muse: Muse = muse\n",
    "        self.description: Optional[str] = description\n"
   ]
  },
  {
   "cell_type": "code",
   "execution_count": 66,
   "id": "832b8d3d",
   "metadata": {},
   "outputs": [],
   "source": [
    "from typing import Dict\n",
    "\n",
    "muses_and_arts: Dict[str, str] = {\n",
    "    \"Calliope\": \"Epic Poetry\",\n",
    "    \"Euterpe\": \"Flutes and Music\",\n",
    "    \"Melpomene\": \"Tragedy\",\n",
    "    \"Erato\": \"Love Poetry and Lyric Poetry\",\n",
    "    \"Polyhymnia\": \"Hymns and Sacred Poetry\",\n",
    "    \"Terpsichore\": \"Dance\",\n",
    "    \"Clio\": \"History\",\n",
    "    \"Urania\": \"Astronomy\",\n",
    "    \"Thalia\": \"Comedy and Pastoral Poetry\"\n",
    "}"
   ]
  },
  {
   "cell_type": "code",
   "execution_count": 67,
   "id": "55642740",
   "metadata": {},
   "outputs": [],
   "source": [
    "from typing import List\n",
    "\n",
    "muses: Dict[str, Muse] = dict()\n",
    "ancient_arts: Dict[str, Art] = dict()\n",
    "\n",
    "for muse_name, art_name in muses_and_arts.items():\n",
    "    muse: Muse = Muse(muse_name)\n",
    "    muses[muse_name] = muse\n",
    "    art: Art = Art(art_name, muse)\n",
    "    ancient_arts[art_name] = art"
   ]
  },
  {
   "cell_type": "code",
   "execution_count": 74,
   "id": "0ff3de94",
   "metadata": {},
   "outputs": [
    {
     "data": {
      "text/plain": [
       "'Terpsichore'"
      ]
     },
     "execution_count": 74,
     "metadata": {},
     "output_type": "execute_result"
    }
   ],
   "source": [
    "ancient_arts[\"Dance\"].muse.name"
   ]
  },
  {
   "cell_type": "code",
   "execution_count": 68,
   "id": "c456e46e",
   "metadata": {},
   "outputs": [],
   "source": [
    "tragedy = ancient_arts[\"Tragedy\"]"
   ]
  },
  {
   "cell_type": "code",
   "execution_count": 69,
   "id": "59d9188c",
   "metadata": {},
   "outputs": [],
   "source": [
    "arts_and_muses: Dict[str, Muse] = {ancient_art.name: ancient_art.muse for ancient_art in ancient_arts.values()}"
   ]
  },
  {
   "cell_type": "markdown",
   "id": "c821e903",
   "metadata": {},
   "source": [
    "# Три принципа ООП: \n",
    "* Інкапсуляція. Це об'єднання семантично близьких елементів у клас з можливістю працювати з класом або об'єктом як з black box. У випадку класу Human нам неважливо, як саме реалізован метод speak(). Але ми можемо ним скористатися. Інкапсуляція дозволяє нам працювати тільки з так званими \"публічними атрибутами\".\n",
    "* Наслідування. Це вибудова ієрархії сутностей. Існують люди різних гендерів, існують люди різних занять (артисти, поети та навіть програмісти).\n",
    "* Поліморфізм. Це обробка значень різних типів одними методами. Звичайна людина говорить дурню. Великі поети говорять великі думки. Але метод speak() у них один. Що в звичайної людини, що в великого поета один **інтерфейс взаємодії**."
   ]
  },
  {
   "cell_type": "code",
   "execution_count": 94,
   "id": "7ee4cde7",
   "metadata": {},
   "outputs": [],
   "source": [
    "class Artist(Human):\n",
    "    _thoughts: str = \"some great stuff\"\n",
    "    another_thought = \"haahha\"\n",
    "    \n",
    "    def __init__(self, art: Art, *args, **kwargs) -> None:\n",
    "        self.art = art\n",
    "        self.muse = art.muse\n",
    "        super().__init__(*args, **kwargs)\n",
    "\n",
    "    def speak(self) -> str:\n",
    "        return self.muse.speak() + \" and \" + self.thoughts"
   ]
  },
  {
   "cell_type": "code",
   "execution_count": 97,
   "id": "0626c03c",
   "metadata": {},
   "outputs": [],
   "source": [
    "homer = Artist(ancient_arts[\"Epic Poetry\"], name=\"Homer\", age=2800, gender=\"male\", occupation=\"great poet\")"
   ]
  },
  {
   "cell_type": "code",
   "execution_count": 92,
   "id": "ff1e5e46",
   "metadata": {},
   "outputs": [
    {
     "data": {
      "text/plain": [
       "'ooooh'"
      ]
     },
     "execution_count": 92,
     "metadata": {},
     "output_type": "execute_result"
    }
   ],
   "source": [
    "homer.breathe()"
   ]
  },
  {
   "cell_type": "code",
   "execution_count": 16,
   "id": "ac762b6a",
   "metadata": {},
   "outputs": [
    {
     "data": {
      "text/plain": [
       "'ooooh'"
      ]
     },
     "execution_count": 16,
     "metadata": {},
     "output_type": "execute_result"
    }
   ],
   "source": [
    "homer.breathe()"
   ]
  }
 ],
 "metadata": {
  "kernelspec": {
   "display_name": "Python 3 (ipykernel)",
   "language": "python",
   "name": "python3"
  },
  "language_info": {
   "codemirror_mode": {
    "name": "ipython",
    "version": 3
   },
   "file_extension": ".py",
   "mimetype": "text/x-python",
   "name": "python",
   "nbconvert_exporter": "python",
   "pygments_lexer": "ipython3",
   "version": "3.9.16"
  }
 },
 "nbformat": 4,
 "nbformat_minor": 5
}
