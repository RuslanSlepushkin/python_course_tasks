{
 "cells": [
  {
   "cell_type": "markdown",
   "id": "a6e1fb78",
   "metadata": {},
   "source": [
    "## Генератори - це функції, що реалізовують протокол ітератора за допомогою ключового слова yield.\n",
    "## З кожним новим викликом функції next() на одному і тому самому генераторі буде викликатися **наступний** yield statement."
   ]
  },
  {
   "cell_type": "code",
   "execution_count": null,
   "id": "88cf8ab8",
   "metadata": {},
   "outputs": [],
   "source": [
    "def get_values():\n",
    "    yield \"hello\"\n",
    "    yield \"my\"\n",
    "    yield \"love\"\n",
    "    return \"EHEHEHEHE\"\n",
    "\n",
    "gen = get_values()\n",
    "\n",
    "print(next(gen))\n",
    "print(next(gen))\n",
    "print(next(gen))"
   ]
  },
  {
   "cell_type": "markdown",
   "id": "d4467a12",
   "metadata": {},
   "source": [
    "return value генератора передається в помилці StopIteration, котра викликається, коли генератор доходить до return statement"
   ]
  },
  {
   "cell_type": "code",
   "execution_count": null,
   "id": "b994b882",
   "metadata": {},
   "outputs": [],
   "source": [
    "print(next(gen))"
   ]
  },
  {
   "cell_type": "code",
   "execution_count": null,
   "id": "c5474b0e",
   "metadata": {},
   "outputs": [],
   "source": [
    "print(next(get_values()))\n",
    "print(next(get_values()))\n",
    "print(next(get_values()))"
   ]
  },
  {
   "cell_type": "code",
   "execution_count": null,
   "id": "b153d8a3",
   "metadata": {},
   "outputs": [],
   "source": [
    "for i in iter(get_values()):\n",
    "    print(i)"
   ]
  },
  {
   "cell_type": "markdown",
   "id": "d61d517d",
   "metadata": {},
   "source": [
    "## Генератори, як і ітератори, покликані для генерації послідовностей"
   ]
  },
  {
   "cell_type": "code",
   "execution_count": null,
   "id": "37e142ab",
   "metadata": {},
   "outputs": [],
   "source": [
    "def gen_factorial(n):\n",
    "    if n < 0:\n",
    "        raise ValueError(\"n must be >= 0\")\n",
    "    fac = 1\n",
    "    i = 1\n",
    "    while True:\n",
    "        yield fac\n",
    "        fac *= i\n",
    "        i += 1\n",
    "        if i > n + 1:\n",
    "            break"
   ]
  },
  {
   "cell_type": "code",
   "execution_count": null,
   "id": "06d38565",
   "metadata": {},
   "outputs": [],
   "source": [
    "for i in gen_factorial(10):\n",
    "    print(i)"
   ]
  },
  {
   "cell_type": "markdown",
   "id": "1edf1b72",
   "metadata": {},
   "source": [
    "## Або для лінивого виконання різних операцій"
   ]
  },
  {
   "cell_type": "code",
   "execution_count": null,
   "id": "de2161cb",
   "metadata": {},
   "outputs": [],
   "source": [
    "def lazy_csv_read(filepath) -> str:\n",
    "    with open(filepath) as f:\n",
    "        while True:\n",
    "            line = f.readline()\n",
    "            if not line or line == \"\":\n",
    "                break\n",
    "            yield line.strip().split(\",\")\n",
    "\n",
    "\n",
    "lazy_file_reader = lazy_csv_read(path)\n",
    "\n",
    "columns_list = next(lazy_file_reader)\n",
    "\n",
    "csv_to_dict_compr = (\n",
    "    {column: line[n] for n, column in enumerate(columns_list)}\n",
    "    for line in lazy_file_reader\n",
    ")\n",
    "\n",
    "filter_by_index = filter(\n",
    "    lambda x: SOME PREDICATE, csv_to_dict_compr\n",
    ")\n",
    "\n",
    "for i in filter_by_index:\n",
    "    print(i)\n"
   ]
  },
  {
   "cell_type": "markdown",
   "id": "b9b70efe",
   "metadata": {},
   "source": [
    "## Comprehensions - це теж генератори"
   ]
  },
  {
   "cell_type": "code",
   "execution_count": null,
   "id": "e5469d4f",
   "metadata": {},
   "outputs": [],
   "source": [
    "compr = (f**2 for f in range(10))"
   ]
  },
  {
   "cell_type": "code",
   "execution_count": null,
   "id": "5b693e9f",
   "metadata": {},
   "outputs": [],
   "source": [
    "next(compr)"
   ]
  },
  {
   "cell_type": "code",
   "execution_count": null,
   "id": "59aeb02c",
   "metadata": {},
   "outputs": [],
   "source": [
    "next(compr)"
   ]
  },
  {
   "cell_type": "code",
   "execution_count": null,
   "id": "9881830d",
   "metadata": {},
   "outputs": [],
   "source": [
    "next(iter(compr))"
   ]
  },
  {
   "cell_type": "code",
   "execution_count": null,
   "id": "54d0aad1",
   "metadata": {},
   "outputs": [],
   "source": [
    "next(compr)"
   ]
  },
  {
   "cell_type": "markdown",
   "id": "cbc5afb6",
   "metadata": {},
   "source": [
    "## map, filter - теж"
   ]
  },
  {
   "cell_type": "code",
   "execution_count": null,
   "id": "deb99221",
   "metadata": {},
   "outputs": [],
   "source": [
    "mapp = map(lambda x: x**2, range(10))"
   ]
  },
  {
   "cell_type": "code",
   "execution_count": null,
   "id": "96e6ad65",
   "metadata": {},
   "outputs": [],
   "source": [
    "next(mapp)"
   ]
  },
  {
   "cell_type": "code",
   "execution_count": null,
   "id": "d9aa789c",
   "metadata": {},
   "outputs": [],
   "source": [
    "next(mapp)"
   ]
  },
  {
   "cell_type": "code",
   "execution_count": null,
   "id": "240dec44",
   "metadata": {},
   "outputs": [],
   "source": [
    "def double_inputs():\n",
    "    while True:\n",
    "        x = yield \n",
    "        yield x * 2"
   ]
  },
  {
   "cell_type": "code",
   "execution_count": null,
   "id": "39afbb4c",
   "metadata": {},
   "outputs": [],
   "source": [
    "gen = double_inputs()"
   ]
  },
  {
   "cell_type": "code",
   "execution_count": null,
   "id": "ff34c904",
   "metadata": {},
   "outputs": [],
   "source": [
    "next(gen)\n",
    "print(gen.send(2))\n",
    "next(gen)\n",
    "print(gen.send(3))"
   ]
  },
  {
   "cell_type": "markdown",
   "id": "ae63321a",
   "metadata": {},
   "source": [
    "## Advanced: в генератори можна передавати повідомлення за допомогою метода send()"
   ]
  },
  {
   "cell_type": "code",
   "execution_count": null,
   "id": "bedafb32",
   "metadata": {},
   "outputs": [],
   "source": [
    "from collections import deque\n",
    "\n",
    "def worker(f):\n",
    "    tasks = deque()\n",
    "    value = None\n",
    "    while True:\n",
    "        batch = yield value\n",
    "        value = None\n",
    "        if batch is not None:\n",
    "            tasks.extend(batch)\n",
    "        else: \n",
    "            if tasks:\n",
    "                args = tasks.popleft()\n",
    "                value = f(*args)\n"
   ]
  },
  {
   "cell_type": "code",
   "execution_count": null,
   "id": "8f4621c5",
   "metadata": {},
   "outputs": [],
   "source": [
    "def example_worker():\n",
    "    w = worker(str)\n",
    "    w.send(None)\n",
    "    w.send([(1,), (2,), (3,)])\n",
    "    print(next(w))\n",
    "    print(next(w))\n",
    "    print(next(w))\n",
    "    print(next(w))\n",
    "    w.send([(1,), (2,), (3,)])\n",
    "    print(next(w))\n",
    "    print(next(w))\n",
    "    print(next(w))\n"
   ]
  },
  {
   "cell_type": "code",
   "execution_count": null,
   "id": "8974f69a",
   "metadata": {},
   "outputs": [],
   "source": [
    "example_worker()"
   ]
  },
  {
   "cell_type": "markdown",
   "id": "877ae282",
   "metadata": {},
   "source": [
    "## map(callable, iter1, iter2 ... itern) vs starmap(callable, iter_of_args)"
   ]
  },
  {
   "cell_type": "code",
   "execution_count": 1,
   "id": "1e45a5fd",
   "metadata": {},
   "outputs": [],
   "source": [
    "from itertools import starmap"
   ]
  },
  {
   "cell_type": "code",
   "execution_count": 3,
   "id": "0dcdf336",
   "metadata": {},
   "outputs": [],
   "source": [
    "a = [(1,), (2,), (3,)]"
   ]
  },
  {
   "cell_type": "code",
   "execution_count": 5,
   "id": "95dfead2",
   "metadata": {},
   "outputs": [
    {
     "data": {
      "text/plain": [
       "[1, 4, 9]"
      ]
     },
     "execution_count": 5,
     "metadata": {},
     "output_type": "execute_result"
    }
   ],
   "source": [
    "list(starmap(lambda x: x**2, a))"
   ]
  }
 ],
 "metadata": {
  "kernelspec": {
   "display_name": "Python 3 (ipykernel)",
   "language": "python",
   "name": "python3"
  },
  "language_info": {
   "codemirror_mode": {
    "name": "ipython",
    "version": 3
   },
   "file_extension": ".py",
   "mimetype": "text/x-python",
   "name": "python",
   "nbconvert_exporter": "python",
   "pygments_lexer": "ipython3",
   "version": "3.9.16"
  }
 },
 "nbformat": 4,
 "nbformat_minor": 5
}
