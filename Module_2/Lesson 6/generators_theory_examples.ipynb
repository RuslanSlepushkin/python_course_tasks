{
 "cells": [
  {
   "cell_type": "markdown",
   "id": "a6e1fb78",
   "metadata": {},
   "source": [
    "## Генератори - це функції, що реалізовують протокол ітератора за допомогою ключового слова yield.\n",
    "## З кожним новим викликом функції next() на одному і тому самому генераторі буде викликатися **наступний** yield statement."
   ]
  },
  {
   "cell_type": "code",
   "execution_count": 17,
   "id": "88cf8ab8",
   "metadata": {},
   "outputs": [
    {
     "name": "stdout",
     "output_type": "stream",
     "text": [
      "hello\n",
      "my\n",
      "love\n"
     ]
    }
   ],
   "source": [
    "def get_values():\n",
    "    yield \"hello\"\n",
    "    yield \"my\"\n",
    "    yield \"love\"\n",
    "    return \"EHEHEHEHE\"\n",
    "\n",
    "gen = get_values()\n",
    "\n",
    "print(next(gen))\n",
    "print(next(gen))\n",
    "print(next(gen))"
   ]
  },
  {
   "cell_type": "markdown",
   "id": "d4467a12",
   "metadata": {},
   "source": [
    "return value генератора передається в помилці StopIteration, котра викликається, коли генератор доходить до return statement"
   ]
  },
  {
   "cell_type": "code",
   "execution_count": 18,
   "id": "b994b882",
   "metadata": {},
   "outputs": [
    {
     "ename": "StopIteration",
     "evalue": "EHEHEHEHE",
     "output_type": "error",
     "traceback": [
      "\u001b[0;31m---------------------------------------------------------------------------\u001b[0m",
      "\u001b[0;31mStopIteration\u001b[0m                             Traceback (most recent call last)",
      "Cell \u001b[0;32mIn [18], line 1\u001b[0m\n\u001b[0;32m----> 1\u001b[0m \u001b[38;5;28mprint\u001b[39m(\u001b[38;5;28;43mnext\u001b[39;49m\u001b[43m(\u001b[49m\u001b[43mgen\u001b[49m\u001b[43m)\u001b[49m)\n",
      "\u001b[0;31mStopIteration\u001b[0m: EHEHEHEHE"
     ]
    }
   ],
   "source": [
    "print(next(gen))"
   ]
  },
  {
   "cell_type": "code",
   "execution_count": 11,
   "id": "c5474b0e",
   "metadata": {},
   "outputs": [
    {
     "name": "stdout",
     "output_type": "stream",
     "text": [
      "hello\n",
      "hello\n",
      "hello\n"
     ]
    }
   ],
   "source": [
    "print(next(get_values()))\n",
    "print(next(get_values()))\n",
    "print(next(get_values()))"
   ]
  },
  {
   "cell_type": "code",
   "execution_count": 19,
   "id": "b153d8a3",
   "metadata": {},
   "outputs": [
    {
     "name": "stdout",
     "output_type": "stream",
     "text": [
      "hello\n",
      "my\n",
      "love\n"
     ]
    }
   ],
   "source": [
    "for i in iter(get_values()):\n",
    "    print(i)"
   ]
  },
  {
   "cell_type": "markdown",
   "id": "d61d517d",
   "metadata": {},
   "source": [
    "## Генератори, як і ітератори, покликані для генерації послідовностей"
   ]
  },
  {
   "cell_type": "code",
   "execution_count": 61,
   "id": "37e142ab",
   "metadata": {},
   "outputs": [],
   "source": [
    "def gen_factorial(n):\n",
    "    if n < 0:\n",
    "        raise ValueError(\"n must be >= 0\")\n",
    "    fac = 1\n",
    "    i = 1\n",
    "    while True:\n",
    "        yield fac\n",
    "        fac *= i\n",
    "        i += 1\n",
    "        if i > n + 1:\n",
    "            break"
   ]
  },
  {
   "cell_type": "code",
   "execution_count": 68,
   "id": "06d38565",
   "metadata": {},
   "outputs": [
    {
     "name": "stdout",
     "output_type": "stream",
     "text": [
      "1\n",
      "1\n",
      "2\n",
      "6\n",
      "24\n",
      "120\n",
      "720\n",
      "5040\n",
      "40320\n",
      "362880\n",
      "3628800\n"
     ]
    }
   ],
   "source": [
    "for i in gen_factorial(10):\n",
    "    print(i)"
   ]
  },
  {
   "cell_type": "markdown",
   "id": "1edf1b72",
   "metadata": {},
   "source": [
    "## Або для лінивого виконання різних операцій"
   ]
  },
  {
   "cell_type": "code",
   "execution_count": 141,
   "id": "de2161cb",
   "metadata": {},
   "outputs": [],
   "source": [
    "def lazy_csv_read(filepath) -> str:\n",
    "    with open(filepath) as f:\n",
    "        while True:\n",
    "            line = f.readline()\n",
    "            if not line or line == \"\":\n",
    "                break\n",
    "            yield line.strip().split(\",\")\n",
    "\n",
    "\n",
    "lazy_file_reader = lazy_csv_read(path)\n",
    "\n",
    "columns_list = next(lazy_file_reader)\n",
    "\n",
    "csv_to_dict_compr = (\n",
    "    {column: line[n] for n, column in enumerate(columns_list)}\n",
    "    for line in lazy_file_reader\n",
    ")\n",
    "\n",
    "filter_by_index = filter(\n",
    "    lambda x: SOME PREDICATE, csv_to_dict_compr\n",
    ")\n",
    "\n",
    "for i in filter_by_index:\n",
    "    print(i)\n"
   ]
  },
  {
   "cell_type": "markdown",
   "id": "b9b70efe",
   "metadata": {},
   "source": [
    "## Comprehensions - це теж генератори"
   ]
  },
  {
   "cell_type": "code",
   "execution_count": 274,
   "id": "e5469d4f",
   "metadata": {},
   "outputs": [],
   "source": [
    "compr = (f**2 for f in range(10))"
   ]
  },
  {
   "cell_type": "code",
   "execution_count": 275,
   "id": "5b693e9f",
   "metadata": {},
   "outputs": [
    {
     "data": {
      "text/plain": [
       "0"
      ]
     },
     "execution_count": 275,
     "metadata": {},
     "output_type": "execute_result"
    }
   ],
   "source": [
    "next(compr)"
   ]
  },
  {
   "cell_type": "code",
   "execution_count": 283,
   "id": "59aeb02c",
   "metadata": {},
   "outputs": [
    {
     "data": {
      "text/plain": [
       "64"
      ]
     },
     "execution_count": 283,
     "metadata": {},
     "output_type": "execute_result"
    }
   ],
   "source": [
    "next(compr)"
   ]
  },
  {
   "cell_type": "code",
   "execution_count": 284,
   "id": "9881830d",
   "metadata": {},
   "outputs": [
    {
     "data": {
      "text/plain": [
       "81"
      ]
     },
     "execution_count": 284,
     "metadata": {},
     "output_type": "execute_result"
    }
   ],
   "source": [
    "next(iter(compr))"
   ]
  },
  {
   "cell_type": "code",
   "execution_count": null,
   "id": "54d0aad1",
   "metadata": {},
   "outputs": [],
   "source": [
    "next(compr)"
   ]
  },
  {
   "cell_type": "markdown",
   "id": "cbc5afb6",
   "metadata": {},
   "source": [
    "## map, filter - теж"
   ]
  },
  {
   "cell_type": "code",
   "execution_count": 262,
   "id": "deb99221",
   "metadata": {},
   "outputs": [],
   "source": [
    "mapp = map(lambda x: x**2, range(10))"
   ]
  },
  {
   "cell_type": "code",
   "execution_count": 267,
   "id": "96e6ad65",
   "metadata": {},
   "outputs": [
    {
     "data": {
      "text/plain": [
       "16"
      ]
     },
     "execution_count": 267,
     "metadata": {},
     "output_type": "execute_result"
    }
   ],
   "source": [
    "next(mapp)"
   ]
  },
  {
   "cell_type": "code",
   "execution_count": 268,
   "id": "d9aa789c",
   "metadata": {},
   "outputs": [
    {
     "data": {
      "text/plain": [
       "25"
      ]
     },
     "execution_count": 268,
     "metadata": {},
     "output_type": "execute_result"
    }
   ],
   "source": [
    "next(mapp)"
   ]
  },
  {
   "cell_type": "code",
   "execution_count": 332,
   "id": "240dec44",
   "metadata": {},
   "outputs": [],
   "source": [
    "def double_inputs():\n",
    "    while True:\n",
    "        x = yield \n",
    "        yield x * 2"
   ]
  },
  {
   "cell_type": "code",
   "execution_count": 333,
   "id": "39afbb4c",
   "metadata": {},
   "outputs": [],
   "source": [
    "gen = double_inputs()"
   ]
  },
  {
   "cell_type": "code",
   "execution_count": 334,
   "id": "ff34c904",
   "metadata": {},
   "outputs": [
    {
     "name": "stdout",
     "output_type": "stream",
     "text": [
      "4\n",
      "6\n"
     ]
    }
   ],
   "source": [
    "next(gen)\n",
    "print(gen.send(2))\n",
    "next(gen)\n",
    "print(gen.send(3))"
   ]
  },
  {
   "cell_type": "code",
   "execution_count": 342,
   "id": "07feaaa3",
   "metadata": {},
   "outputs": [
    {
     "name": "stdout",
     "output_type": "stream",
     "text": [
      "[1]\n",
      "[1, 2]\n",
      "[2]\n",
      "[1, 2, 3]\n",
      "[2, 3]\n",
      "[3]\n",
      "[1, 2, 3, 4]\n",
      "[2, 3, 4]\n",
      "[3, 4]\n",
      "[4]\n",
      "[1, 2, 3, 4, 5]\n",
      "[2, 3, 4, 5]\n",
      "[3, 4, 5]\n",
      "[4, 5]\n",
      "[5]\n"
     ]
    }
   ],
   "source": [
    "def generate_sublists(lst):\n",
    "    n = len(lst)\n",
    "    for i in range(n + 1):\n",
    "        for j in range(i):\n",
    "            yield lst[j:i]\n",
    "\n",
    "lst = [1, 2, 3, 4, 5]\n",
    "for sublst in generate_sublists(lst):\n",
    "    print(sublst)\n"
   ]
  },
  {
   "cell_type": "code",
   "execution_count": 14,
   "id": "a6e83f83",
   "metadata": {},
   "outputs": [],
   "source": [
    "circle_areas = [3.56773, 5.57668, 4.31914, 6.20241, 91.01344, 32.01213]\n",
    "\n",
    "result1 = list(map(round, circle_areas, [3]*4))"
   ]
  },
  {
   "cell_type": "code",
   "execution_count": 15,
   "id": "44bab910",
   "metadata": {},
   "outputs": [
    {
     "data": {
      "text/plain": [
       "[3.568, 5.577, 4.319, 6.202]"
      ]
     },
     "execution_count": 15,
     "metadata": {},
     "output_type": "execute_result"
    }
   ],
   "source": [
    "result1"
   ]
  }
 ],
 "metadata": {
  "kernelspec": {
   "display_name": "Python 3 (ipykernel)",
   "language": "python",
   "name": "python3"
  },
  "language_info": {
   "codemirror_mode": {
    "name": "ipython",
    "version": 3
   },
   "file_extension": ".py",
   "mimetype": "text/x-python",
   "name": "python",
   "nbconvert_exporter": "python",
   "pygments_lexer": "ipython3",
   "version": "3.9.16"
  }
 },
 "nbformat": 4,
 "nbformat_minor": 5
}
