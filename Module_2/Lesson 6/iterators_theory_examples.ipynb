{
 "cells": [
  {
   "cell_type": "markdown",
   "id": "54990808",
   "metadata": {},
   "source": [
    "## В Python ми користуємось 3 дуже схожими поняттями:\n",
    "* Ітератор (iterator) - об'єкт, для котрого реалізовані валідні dunder-методи \\__iter\\__ і \\__next\\__. Вони призначені для проходження за елементами колекції по порядку, один за одним. Викликаються вони за допомогою вбудованих функцій iter() і next() відповідно.\n",
    "* Ітеруємий об'єкт (iterable) - об'єкт, для котрого ми можемо створити ітератор (наприклад, за допомогою вбудованої функції iter()).\n",
    "* Генератор (generator) - функція, що реалізовує протокол ітератора за допомогою ключового слова yield."
   ]
  },
  {
   "cell_type": "code",
   "execution_count": 101,
   "id": "6454899c",
   "metadata": {},
   "outputs": [],
   "source": [
    "l = [\"Kyiv\", \"Donets'k\", \"Luhans'k\", \"Sevastopil'\"]\n",
    "\n",
    "iter_l = iter(l)"
   ]
  },
  {
   "cell_type": "code",
   "execution_count": 106,
   "id": "5ce0b5c7",
   "metadata": {},
   "outputs": [
    {
     "name": "stdout",
     "output_type": "stream",
     "text": [
      "Kyiv\n",
      "Donets'k\n",
      "Luhans'k\n",
      "Sevastopil'\n"
     ]
    }
   ],
   "source": [
    "print(next(iter_l))\n",
    "print(next(iter_l))\n",
    "print(next(iter_l))\n",
    "print(next(iter_l))"
   ]
  },
  {
   "cell_type": "code",
   "execution_count": 107,
   "id": "a15c99c8",
   "metadata": {},
   "outputs": [
    {
     "ename": "StopIteration",
     "evalue": "",
     "output_type": "error",
     "traceback": [
      "\u001b[0;31m---------------------------------------------------------------------------\u001b[0m",
      "\u001b[0;31mStopIteration\u001b[0m                             Traceback (most recent call last)",
      "Cell \u001b[0;32mIn [107], line 1\u001b[0m\n\u001b[0;32m----> 1\u001b[0m \u001b[38;5;28mprint\u001b[39m(\u001b[38;5;28;43mnext\u001b[39;49m\u001b[43m(\u001b[49m\u001b[43miter_l\u001b[49m\u001b[43m)\u001b[49m)\n",
      "\u001b[0;31mStopIteration\u001b[0m: "
     ]
    }
   ],
   "source": [
    "print(next(iter_l))"
   ]
  },
  {
   "cell_type": "code",
   "execution_count": 98,
   "id": "4a0d7fda",
   "metadata": {},
   "outputs": [
    {
     "name": "stdout",
     "output_type": "stream",
     "text": [
      "Kyiv\n",
      "Kyiv\n",
      "Kyiv\n"
     ]
    }
   ],
   "source": [
    "print(next(iter(l)))\n",
    "print(next(iter(l)))\n",
    "print(next(iter(l)))"
   ]
  },
  {
   "cell_type": "markdown",
   "id": "7304f17d",
   "metadata": {},
   "source": [
    "## Вбудована функція \\__iter()\\__ повертає ітератор для об'єкту, на котрому вона викликана. Вона автоматично викликається у двох випадках:\n",
    "* використання for-loop\n",
    "* використання методу iter()\n",
    "\n",
    "Кожен ітератор має функцію \\__iter\\__()"
   ]
  },
  {
   "cell_type": "code",
   "execution_count": 129,
   "id": "818c8a97",
   "metadata": {},
   "outputs": [
    {
     "name": "stdout",
     "output_type": "stream",
     "text": [
      "Kyiv\n",
      "Donets'k\n",
      "Luhans'k\n",
      "Sevastopil'\n"
     ]
    }
   ],
   "source": [
    "iter_while = iter(l)\n",
    "\n",
    "while True:\n",
    "    try:\n",
    "        print(next(iter_while))\n",
    "    except StopIteration:\n",
    "        break"
   ]
  },
  {
   "cell_type": "code",
   "execution_count": 125,
   "id": "03898e38",
   "metadata": {},
   "outputs": [
    {
     "name": "stdout",
     "output_type": "stream",
     "text": [
      "Kyiv\n",
      "Donets'k\n",
      "Luhans'k\n",
      "Sevastopil'\n"
     ]
    }
   ],
   "source": [
    "for x in l:\n",
    "    print(x)"
   ]
  },
  {
   "cell_type": "code",
   "execution_count": 126,
   "id": "1850a6fb",
   "metadata": {},
   "outputs": [
    {
     "name": "stdout",
     "output_type": "stream",
     "text": [
      "Kyiv\n",
      "Donets'k\n",
      "Luhans'k\n",
      "Sevastopil'\n"
     ]
    }
   ],
   "source": [
    "for x in iter(l):\n",
    "    print(x)"
   ]
  },
  {
   "cell_type": "code",
   "execution_count": 127,
   "id": "d9f36d50",
   "metadata": {},
   "outputs": [
    {
     "name": "stdout",
     "output_type": "stream",
     "text": [
      "Kyiv\n",
      "Donets'k\n",
      "Luhans'k\n",
      "Sevastopil'\n"
     ]
    }
   ],
   "source": [
    "for x in iter(iter(l)):\n",
    "    print(x)"
   ]
  },
  {
   "cell_type": "code",
   "execution_count": 102,
   "id": "6f08d551",
   "metadata": {},
   "outputs": [
    {
     "data": {
      "text/plain": [
       "list_iterator"
      ]
     },
     "execution_count": 102,
     "metadata": {},
     "output_type": "execute_result"
    }
   ],
   "source": [
    "type(iter_l)"
   ]
  },
  {
   "cell_type": "code",
   "execution_count": 120,
   "id": "e884f601",
   "metadata": {},
   "outputs": [
    {
     "ename": "TypeError",
     "evalue": "'int' object is not iterable",
     "output_type": "error",
     "traceback": [
      "\u001b[0;31m---------------------------------------------------------------------------\u001b[0m",
      "\u001b[0;31mTypeError\u001b[0m                                 Traceback (most recent call last)",
      "Cell \u001b[0;32mIn [120], line 1\u001b[0m\n\u001b[0;32m----> 1\u001b[0m \u001b[38;5;28;43miter\u001b[39;49m\u001b[43m(\u001b[49m\u001b[38;5;241;43m1\u001b[39;49m\u001b[43m)\u001b[49m\n",
      "\u001b[0;31mTypeError\u001b[0m: 'int' object is not iterable"
     ]
    }
   ],
   "source": [
    "iter(1)"
   ]
  },
  {
   "cell_type": "code",
   "execution_count": 121,
   "id": "31ff6c3d",
   "metadata": {},
   "outputs": [
    {
     "data": {
      "text/plain": [
       "True"
      ]
     },
     "execution_count": 121,
     "metadata": {},
     "output_type": "execute_result"
    }
   ],
   "source": [
    "\"__next__\" in dir(iter_l) and \"__iter__\" in dir(iter_l)"
   ]
  },
  {
   "cell_type": "code",
   "execution_count": 122,
   "id": "0f88f212",
   "metadata": {},
   "outputs": [
    {
     "data": {
      "text/plain": [
       "False"
      ]
     },
     "execution_count": 122,
     "metadata": {},
     "output_type": "execute_result"
    }
   ],
   "source": [
    "\"__next__\" in dir(l)"
   ]
  },
  {
   "cell_type": "code",
   "execution_count": 123,
   "id": "d68cf8b0",
   "metadata": {},
   "outputs": [
    {
     "data": {
      "text/plain": [
       "True"
      ]
     },
     "execution_count": 123,
     "metadata": {},
     "output_type": "execute_result"
    }
   ],
   "source": [
    "\"__iter__\" in dir(l)"
   ]
  },
  {
   "cell_type": "code",
   "execution_count": 124,
   "id": "c9329cc6",
   "metadata": {},
   "outputs": [],
   "source": [
    "iter_l_dunder = l.__iter__()"
   ]
  },
  {
   "cell_type": "code",
   "execution_count": 128,
   "id": "b88a586f",
   "metadata": {},
   "outputs": [
    {
     "name": "stdout",
     "output_type": "stream",
     "text": [
      "Kyiv\n",
      "Donets'k\n",
      "Luhans'k\n",
      "Sevastopil'\n"
     ]
    }
   ],
   "source": [
    "for x in iter_l_dunder:\n",
    "    print(x)"
   ]
  },
  {
   "cell_type": "markdown",
   "id": "3dfa715f",
   "metadata": {},
   "source": [
    "## Як було сказано, ітератором є об'єкт, для котрого реалізовані dunder методи \\__next\\__ і \\__iter\\__. "
   ]
  },
  {
   "cell_type": "markdown",
   "id": "74be2f6b",
   "metadata": {},
   "source": [
    "Щоб об'єкт був повноцінним ітератором, мають бути реалізовані обидва методи."
   ]
  },
  {
   "cell_type": "code",
   "execution_count": 195,
   "id": "6e15670f",
   "metadata": {},
   "outputs": [],
   "source": [
    "class MyShinyInfiniteIterator:\n",
    "    def __init__(self):\n",
    "        self.num: int = 0\n",
    "        \n",
    "    def __iter__(self):\n",
    "        return self\n",
    "    \n",
    "    def __next__(self) -> int:\n",
    "        self.num += 1\n",
    "        return self.num\n"
   ]
  },
  {
   "cell_type": "code",
   "execution_count": 196,
   "id": "591f8102",
   "metadata": {},
   "outputs": [],
   "source": [
    "class MyShinyFiniteIterator:\n",
    "    def __init__(self, limit):\n",
    "        self.num: int = 0\n",
    "        self.limit: int = limit\n",
    "        \n",
    "    def __iter__(self):\n",
    "        return self\n",
    "    \n",
    "    def __next__(self) -> int:\n",
    "        if self.num > self.limit:\n",
    "            raise StopIteration\n",
    "        self.num += 1\n",
    "        return self.num\n"
   ]
  },
  {
   "cell_type": "code",
   "execution_count": 189,
   "id": "1e2e1f44",
   "metadata": {},
   "outputs": [
    {
     "data": {
      "text/plain": [
       "<__main__.MyShinyInfiniteIterator at 0x7f303403f9a0>"
      ]
     },
     "execution_count": 189,
     "metadata": {},
     "output_type": "execute_result"
    }
   ],
   "source": [
    "iter(MyShinyInfiniteIterator())"
   ]
  },
  {
   "cell_type": "code",
   "execution_count": 200,
   "id": "e6dc2c29",
   "metadata": {},
   "outputs": [
    {
     "data": {
      "text/plain": [
       "1"
      ]
     },
     "execution_count": 200,
     "metadata": {},
     "output_type": "execute_result"
    }
   ],
   "source": [
    "next(MyShinyInfiniteIterator())"
   ]
  },
  {
   "cell_type": "code",
   "execution_count": 199,
   "id": "e1bb7bdf",
   "metadata": {},
   "outputs": [
    {
     "data": {
      "text/plain": [
       "<__main__.MyShinyFiniteIterator at 0x7f302c7390a0>"
      ]
     },
     "execution_count": 199,
     "metadata": {},
     "output_type": "execute_result"
    }
   ],
   "source": [
    "iter(MyShinyFiniteIterator(10))"
   ]
  },
  {
   "cell_type": "code",
   "execution_count": 198,
   "id": "7b4e2038",
   "metadata": {},
   "outputs": [
    {
     "data": {
      "text/plain": [
       "1"
      ]
     },
     "execution_count": 198,
     "metadata": {},
     "output_type": "execute_result"
    }
   ],
   "source": [
    "next(MyShinyFiniteIterator(10))"
   ]
  },
  {
   "cell_type": "code",
   "execution_count": 131,
   "id": "e862223d",
   "metadata": {},
   "outputs": [],
   "source": [
    "class Range:\n",
    "    def __init__(self, end):\n",
    "        self.start = 0\n",
    "        self.end = end\n",
    "\n",
    "    def __iter__(self):\n",
    "        curr = self.start\n",
    "        while curr < self.end:\n",
    "            print(\"Yielding: {}\".format(curr))\n",
    "            yield curr\n",
    "            curr += 1\n",
    "            print(\"Incremented: {}\".format(curr))"
   ]
  },
  {
   "cell_type": "code",
   "execution_count": 203,
   "id": "59f74c2a",
   "metadata": {},
   "outputs": [
    {
     "name": "stdout",
     "output_type": "stream",
     "text": [
      "Yielding: 0\n",
      "Incremented: 1\n",
      "Yielding: 1\n",
      "Incremented: 2\n",
      "Yielding: 2\n",
      "Incremented: 3\n",
      "Yielding: 3\n",
      "Incremented: 4\n",
      "Yielding: 4\n",
      "Incremented: 5\n",
      "Yielding: 5\n",
      "Incremented: 6\n",
      "Yielding: 6\n",
      "Incremented: 7\n",
      "Yielding: 7\n",
      "Incremented: 8\n",
      "Yielding: 8\n",
      "Incremented: 9\n",
      "Yielding: 9\n",
      "Incremented: 10\n"
     ]
    }
   ],
   "source": [
    "for i in Range(10):\n",
    "    i"
   ]
  },
  {
   "cell_type": "code",
   "execution_count": 134,
   "id": "441efa54",
   "metadata": {},
   "outputs": [
    {
     "data": {
      "text/plain": [
       "<generator object Range.__iter__ at 0x7f3034305f20>"
      ]
     },
     "execution_count": 134,
     "metadata": {},
     "output_type": "execute_result"
    }
   ],
   "source": [
    "iter(Range(10))"
   ]
  },
  {
   "cell_type": "code",
   "execution_count": 201,
   "id": "d39c88c3",
   "metadata": {},
   "outputs": [
    {
     "ename": "TypeError",
     "evalue": "'Range' object is not an iterator",
     "output_type": "error",
     "traceback": [
      "\u001b[0;31m---------------------------------------------------------------------------\u001b[0m",
      "\u001b[0;31mTypeError\u001b[0m                                 Traceback (most recent call last)",
      "Cell \u001b[0;32mIn [201], line 1\u001b[0m\n\u001b[0;32m----> 1\u001b[0m \u001b[38;5;28;43mnext\u001b[39;49m\u001b[43m(\u001b[49m\u001b[43mRange\u001b[49m\u001b[43m(\u001b[49m\u001b[38;5;241;43m10\u001b[39;49m\u001b[43m)\u001b[49m\u001b[43m)\u001b[49m\n",
      "\u001b[0;31mTypeError\u001b[0m: 'Range' object is not an iterator"
     ]
    }
   ],
   "source": [
    "next(Range(10))"
   ]
  },
  {
   "cell_type": "code",
   "execution_count": 79,
   "id": "d16a8580",
   "metadata": {},
   "outputs": [],
   "source": [
    "from collections import deque\n",
    "\n",
    "def worker(f):\n",
    "    tasks = collections.deque()\n",
    "    value = None\n",
    "    while True:\n",
    "        batch = yield value\n",
    "        value = None\n",
    "        if batch is not None:\n",
    "            tasks.extend(batch)\n",
    "        else: \n",
    "            if tasks:\n",
    "                args = tasks.popleft()\n",
    "                value = f(*args)\n"
   ]
  },
  {
   "cell_type": "code",
   "execution_count": null,
   "id": "fdf0ac90",
   "metadata": {},
   "outputs": [],
   "source": [
    "def example_worker():\n",
    "    w = worket(str)\n",
    "    w.send(None)"
   ]
  }
 ],
 "metadata": {
  "kernelspec": {
   "display_name": "Python 3 (ipykernel)",
   "language": "python",
   "name": "python3"
  },
  "language_info": {
   "codemirror_mode": {
    "name": "ipython",
    "version": 3
   },
   "file_extension": ".py",
   "mimetype": "text/x-python",
   "name": "python",
   "nbconvert_exporter": "python",
   "pygments_lexer": "ipython3",
   "version": "3.9.16"
  }
 },
 "nbformat": 4,
 "nbformat_minor": 5
}
