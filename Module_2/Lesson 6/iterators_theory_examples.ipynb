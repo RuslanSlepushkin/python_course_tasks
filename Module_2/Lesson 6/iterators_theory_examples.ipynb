{
 "cells": [
  {
   "cell_type": "markdown",
   "id": "54990808",
   "metadata": {},
   "source": [
    "## В Python ми користуємось 3 дуже схожими поняттями:\n",
    "* Ітератор (iterator) - об'єкт, для котрого реалізовані валідні dunder-методи \\__iter\\__ і \\__next\\__. Вони призначені для проходження за елементами колекції по порядку, один за одним. Викликаються вони за допомогою вбудованих функцій iter() і next() відповідно.\n",
    "* Ітеруємий об'єкт (iterable) - об'єкт, для котрого ми можемо створити ітератор (наприклад, за допомогою вбудованої функції iter()).\n",
    "* Генератор (generator) - функція, що реалізовує протокол ітератора за допомогою ключового слова yield."
   ]
  },
  {
   "cell_type": "code",
   "execution_count": null,
   "id": "6454899c",
   "metadata": {},
   "outputs": [],
   "source": [
    "l = [\"Kyiv\", \"Donets'k\", \"Luhans'k\", \"Sevastopil'\"]\n",
    "\n",
    "iter_l = iter(l)"
   ]
  },
  {
   "cell_type": "code",
   "execution_count": null,
   "id": "5ce0b5c7",
   "metadata": {},
   "outputs": [],
   "source": [
    "print(next(iter_l))\n",
    "print(next(iter_l))\n",
    "print(next(iter_l))\n",
    "print(next(iter_l))"
   ]
  },
  {
   "cell_type": "code",
   "execution_count": null,
   "id": "a15c99c8",
   "metadata": {},
   "outputs": [],
   "source": [
    "print(next(iter_l))"
   ]
  },
  {
   "cell_type": "code",
   "execution_count": null,
   "id": "4a0d7fda",
   "metadata": {},
   "outputs": [],
   "source": [
    "print(next(iter(l)))\n",
    "print(next(iter(l)))\n",
    "print(next(iter(l)))"
   ]
  },
  {
   "cell_type": "markdown",
   "id": "7304f17d",
   "metadata": {},
   "source": [
    "## Вбудована функція \\__iter()\\__ повертає ітератор для об'єкту, на котрому вона викликана. Вона автоматично викликається у двох випадках:\n",
    "* використання for-loop\n",
    "* використання методу iter()\n",
    "\n",
    "Кожен ітератор має функцію \\__iter\\__()"
   ]
  },
  {
   "cell_type": "code",
   "execution_count": null,
   "id": "818c8a97",
   "metadata": {},
   "outputs": [],
   "source": [
    "iter_while = iter(l)\n",
    "\n",
    "while True:\n",
    "    try:\n",
    "        print(next(iter_while))\n",
    "    except StopIteration:\n",
    "        break"
   ]
  },
  {
   "cell_type": "code",
   "execution_count": null,
   "id": "03898e38",
   "metadata": {},
   "outputs": [],
   "source": [
    "for x in l:\n",
    "    print(x)"
   ]
  },
  {
   "cell_type": "code",
   "execution_count": null,
   "id": "1850a6fb",
   "metadata": {},
   "outputs": [],
   "source": [
    "for x in iter(l):\n",
    "    print(x)"
   ]
  },
  {
   "cell_type": "code",
   "execution_count": null,
   "id": "d9f36d50",
   "metadata": {},
   "outputs": [],
   "source": [
    "for x in iter(iter(l)):\n",
    "    print(x)"
   ]
  },
  {
   "cell_type": "code",
   "execution_count": null,
   "id": "6f08d551",
   "metadata": {},
   "outputs": [],
   "source": [
    "type(iter_l)"
   ]
  },
  {
   "cell_type": "code",
   "execution_count": null,
   "id": "e884f601",
   "metadata": {},
   "outputs": [],
   "source": [
    "iter(1)"
   ]
  },
  {
   "cell_type": "code",
   "execution_count": null,
   "id": "31ff6c3d",
   "metadata": {},
   "outputs": [],
   "source": [
    "\"__next__\" in dir(iter_l) and \"__iter__\" in dir(iter_l)"
   ]
  },
  {
   "cell_type": "code",
   "execution_count": null,
   "id": "0f88f212",
   "metadata": {},
   "outputs": [],
   "source": [
    "\"__next__\" in dir(l)"
   ]
  },
  {
   "cell_type": "code",
   "execution_count": null,
   "id": "d68cf8b0",
   "metadata": {},
   "outputs": [],
   "source": [
    "\"__iter__\" in dir(l)"
   ]
  },
  {
   "cell_type": "code",
   "execution_count": null,
   "id": "c9329cc6",
   "metadata": {},
   "outputs": [],
   "source": [
    "iter_l_dunder = l.__iter__()"
   ]
  },
  {
   "cell_type": "code",
   "execution_count": null,
   "id": "b88a586f",
   "metadata": {},
   "outputs": [],
   "source": [
    "for x in iter_l_dunder:\n",
    "    print(x)"
   ]
  },
  {
   "cell_type": "markdown",
   "id": "3dfa715f",
   "metadata": {},
   "source": [
    "## Як було сказано, ітератором є об'єкт, для котрого реалізовані dunder методи \\__next\\__ і \\__iter\\__. "
   ]
  },
  {
   "cell_type": "markdown",
   "id": "74be2f6b",
   "metadata": {},
   "source": [
    "Щоб об'єкт був повноцінним ітератором, мають бути реалізовані обидва методи."
   ]
  },
  {
   "cell_type": "code",
   "execution_count": null,
   "id": "6e15670f",
   "metadata": {},
   "outputs": [],
   "source": [
    "class MyShinyInfiniteIterator:\n",
    "    def __init__(self):\n",
    "        self.num: int = 0\n",
    "        \n",
    "    def __iter__(self):\n",
    "        return self\n",
    "    \n",
    "    def __next__(self) -> int:\n",
    "        self.num += 1\n",
    "        return self.num\n"
   ]
  },
  {
   "cell_type": "code",
   "execution_count": null,
   "id": "591f8102",
   "metadata": {},
   "outputs": [],
   "source": [
    "class MyShinyFiniteIterator:\n",
    "    def __init__(self, limit):\n",
    "        self.num: int = 0\n",
    "        self.limit: int = limit\n",
    "        \n",
    "    def __iter__(self):\n",
    "        return self\n",
    "    \n",
    "    def __next__(self) -> int:\n",
    "        if self.num > self.limit:\n",
    "            raise StopIteration\n",
    "        self.num += 1\n",
    "        return self.num\n"
   ]
  },
  {
   "cell_type": "code",
   "execution_count": null,
   "id": "1e2e1f44",
   "metadata": {},
   "outputs": [],
   "source": [
    "iter(MyShinyInfiniteIterator())"
   ]
  },
  {
   "cell_type": "code",
   "execution_count": null,
   "id": "e6dc2c29",
   "metadata": {},
   "outputs": [],
   "source": [
    "next(MyShinyInfiniteIterator())"
   ]
  },
  {
   "cell_type": "code",
   "execution_count": null,
   "id": "e1bb7bdf",
   "metadata": {},
   "outputs": [],
   "source": [
    "iter(MyShinyFiniteIterator(10))"
   ]
  },
  {
   "cell_type": "code",
   "execution_count": null,
   "id": "7b4e2038",
   "metadata": {},
   "outputs": [],
   "source": [
    "next(MyShinyFiniteIterator(10))"
   ]
  },
  {
   "cell_type": "code",
   "execution_count": null,
   "id": "e862223d",
   "metadata": {},
   "outputs": [],
   "source": [
    "class Range:\n",
    "    def __init__(self, end):\n",
    "        self.start = 0\n",
    "        self.end = end\n",
    "\n",
    "    def __iter__(self):\n",
    "        curr = self.start\n",
    "        while curr < self.end:\n",
    "            print(\"Yielding: {}\".format(curr))\n",
    "            yield curr\n",
    "            curr += 1\n",
    "            print(\"Incremented: {}\".format(curr))"
   ]
  },
  {
   "cell_type": "code",
   "execution_count": null,
   "id": "59f74c2a",
   "metadata": {},
   "outputs": [],
   "source": [
    "for i in Range(10):\n",
    "    i"
   ]
  },
  {
   "cell_type": "code",
   "execution_count": null,
   "id": "441efa54",
   "metadata": {},
   "outputs": [],
   "source": [
    "iter(Range(10))"
   ]
  },
  {
   "cell_type": "code",
   "execution_count": null,
   "id": "d39c88c3",
   "metadata": {},
   "outputs": [],
   "source": [
    "next(Range(10))"
   ]
  },
  {
   "cell_type": "code",
   "execution_count": null,
   "id": "d16a8580",
   "metadata": {},
   "outputs": [],
   "source": [
    "from collections import deque\n",
    "\n",
    "def worker(f):\n",
    "    tasks = collections.deque()\n",
    "    value = None\n",
    "    while True:\n",
    "        batch = yield value\n",
    "        value = None\n",
    "        if batch is not None:\n",
    "            tasks.extend(batch)\n",
    "        else: \n",
    "            if tasks:\n",
    "                args = tasks.popleft()\n",
    "                value = f(*args)\n"
   ]
  },
  {
   "cell_type": "code",
   "execution_count": null,
   "id": "fdf0ac90",
   "metadata": {},
   "outputs": [],
   "source": [
    "def example_worker():\n",
    "    w = worket(str)\n",
    "    w.send(None)"
   ]
  }
 ],
 "metadata": {
  "kernelspec": {
   "display_name": "Python 3 (ipykernel)",
   "language": "python",
   "name": "python3"
  },
  "language_info": {
   "codemirror_mode": {
    "name": "ipython",
    "version": 3
   },
   "file_extension": ".py",
   "mimetype": "text/x-python",
   "name": "python",
   "nbconvert_exporter": "python",
   "pygments_lexer": "ipython3",
   "version": "3.9.16"
  }
 },
 "nbformat": 4,
 "nbformat_minor": 5
}
