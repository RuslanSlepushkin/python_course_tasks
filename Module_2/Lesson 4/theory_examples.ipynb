{
 "cells": [
  {
   "cell_type": "markdown",
   "id": "30d78d89",
   "metadata": {},
   "source": [
    "# Наслідування"
   ]
  },
  {
   "cell_type": "markdown",
   "id": "025719a9",
   "metadata": {},
   "source": [
    "Визначимо наслідування як можливість створювати новий клас на основі існуючого. "
   ]
  },
  {
   "cell_type": "code",
   "execution_count": 72,
   "id": "adf96697",
   "metadata": {},
   "outputs": [],
   "source": [
    "class ParentClass:\n",
    "    a = 10\n",
    "    \n",
    "class ChildClass(ParentClass):\n",
    "    pass"
   ]
  },
  {
   "cell_type": "code",
   "execution_count": 75,
   "id": "06383bd4",
   "metadata": {},
   "outputs": [
    {
     "data": {
      "text/plain": [
       "10"
      ]
     },
     "execution_count": 75,
     "metadata": {},
     "output_type": "execute_result"
    }
   ],
   "source": [
    "ParentClass.a"
   ]
  },
  {
   "cell_type": "code",
   "execution_count": 76,
   "id": "95bbb88b",
   "metadata": {},
   "outputs": [
    {
     "data": {
      "text/plain": [
       "10"
      ]
     },
     "execution_count": 76,
     "metadata": {},
     "output_type": "execute_result"
    }
   ],
   "source": [
    "ChildClass.a"
   ]
  },
  {
   "cell_type": "markdown",
   "id": "e6261706",
   "metadata": {},
   "source": [
    "# Клас може наслідуватися як від одного класу, так і від багатьох."
   ]
  },
  {
   "cell_type": "code",
   "execution_count": 96,
   "id": "16d62361",
   "metadata": {},
   "outputs": [],
   "source": [
    "class A:\n",
    "    a = 10\n",
    "    \n",
    "    def print_some_stuff(self):\n",
    "        print(\"some_stuff\")\n",
    "    \n",
    "class B:\n",
    "    b = 20\n",
    "    \n",
    "class C(A, B):\n",
    "    c = 5050"
   ]
  },
  {
   "cell_type": "code",
   "execution_count": 95,
   "id": "3c81c2f3",
   "metadata": {},
   "outputs": [
    {
     "data": {
      "text/plain": [
       "20"
      ]
     },
     "execution_count": 95,
     "metadata": {},
     "output_type": "execute_result"
    }
   ],
   "source": [
    "C.a"
   ]
  },
  {
   "cell_type": "code",
   "execution_count": 80,
   "id": "5b6c5885",
   "metadata": {},
   "outputs": [
    {
     "data": {
      "text/plain": [
       "20"
      ]
     },
     "execution_count": 80,
     "metadata": {},
     "output_type": "execute_result"
    }
   ],
   "source": [
    "C.b"
   ]
  },
  {
   "cell_type": "code",
   "execution_count": 85,
   "id": "eca6b2d1",
   "metadata": {},
   "outputs": [
    {
     "name": "stdout",
     "output_type": "stream",
     "text": [
      "some_stuff\n"
     ]
    }
   ],
   "source": [
    "c = C()\n",
    "c.print_some_stuff()"
   ]
  },
  {
   "cell_type": "markdown",
   "id": "088f2c76",
   "metadata": {},
   "source": [
    "# Однак, так робити не рекомендується. Це створює парадокс, котрий українською називається ромбовидним наслідування (або, англійською, [diamond problem](https://upload.wikimedia.org/wikipedia/commons/thumb/8/8e/Diamond_inheritance.svg/1024px-Diamond_inheritance.svg.png))"
   ]
  },
  {
   "cell_type": "code",
   "execution_count": 101,
   "id": "3cd77065",
   "metadata": {},
   "outputs": [],
   "source": [
    "class Base:\n",
    "    a = 10\n",
    "    \n",
    "class Child1(Base):\n",
    "    a = 20\n",
    "    \n",
    "class Child2(Base):\n",
    "    a = 30\n",
    "    \n",
    "class Child3(Base):\n",
    "    pass\n",
    "    \n",
    "class GrandChild(Child1, Child2):\n",
    "    pass\n",
    "\n",
    "class GrandChild2(Child2, Child1):\n",
    "    pass\n",
    "\n",
    "class GrandChild3(Child3, Child1, Child2):\n",
    "    pass"
   ]
  },
  {
   "cell_type": "code",
   "execution_count": 102,
   "id": "228d0a56",
   "metadata": {},
   "outputs": [
    {
     "data": {
      "text/plain": [
       "20"
      ]
     },
     "execution_count": 102,
     "metadata": {},
     "output_type": "execute_result"
    }
   ],
   "source": [
    "# Який буде результат цього коду?\n",
    "\n",
    "GrandChild.a"
   ]
  },
  {
   "cell_type": "code",
   "execution_count": 103,
   "id": "1b97b0c1",
   "metadata": {},
   "outputs": [
    {
     "data": {
      "text/plain": [
       "30"
      ]
     },
     "execution_count": 103,
     "metadata": {},
     "output_type": "execute_result"
    }
   ],
   "source": [
    "GrandChild2.a"
   ]
  },
  {
   "cell_type": "code",
   "execution_count": 123,
   "id": "067fb6c3",
   "metadata": {},
   "outputs": [
    {
     "data": {
      "text/plain": [
       "20"
      ]
     },
     "execution_count": 123,
     "metadata": {},
     "output_type": "execute_result"
    }
   ],
   "source": [
    "GrandChild3.a"
   ]
  },
  {
   "cell_type": "markdown",
   "id": "a55f591d",
   "metadata": {},
   "source": [
    "# Можете запам'ятати порядок пошуку атрибуту в множинному наслідуванні в Python (в тому порядку, в котрому перелічені класи в наслідуванні). А, можете скористатися атрибутом __mro__"
   ]
  },
  {
   "cell_type": "code",
   "execution_count": 111,
   "id": "6105b89f",
   "metadata": {},
   "outputs": [
    {
     "data": {
      "text/plain": [
       "(__main__.GrandChild3,\n",
       " __main__.Child3,\n",
       " __main__.Child1,\n",
       " __main__.Child2,\n",
       " __main__.Base,\n",
       " object)"
      ]
     },
     "execution_count": 111,
     "metadata": {},
     "output_type": "execute_result"
    }
   ],
   "source": [
    "GrandChild3.__mro__"
   ]
  },
  {
   "cell_type": "markdown",
   "id": "b4fbcf37",
   "metadata": {},
   "source": [
    "# Для доступу до атрибутів батьківського класу є метод super()."
   ]
  },
  {
   "cell_type": "code",
   "execution_count": 120,
   "id": "8c6d308f",
   "metadata": {},
   "outputs": [],
   "source": [
    "class Base1:\n",
    "    a = 10\n",
    "    \n",
    "class Base2:\n",
    "    pass\n",
    "    \n",
    "class Child1(Base2, Base1):\n",
    "    a = 20\n",
    "    \n",
    "    def b(self):\n",
    "        print(self.a)\n",
    "        print(super().a)\n"
   ]
  },
  {
   "cell_type": "markdown",
   "id": "f79c2d37",
   "metadata": {},
   "source": [
    "# У випадку множинного наслідування super() працює не так однозначно (деталі в [відео](https://youtu.be/X1PQ7zzltz4))"
   ]
  },
  {
   "cell_type": "markdown",
   "id": "ae1f2913",
   "metadata": {},
   "source": [
    "# Альтернативою наслідуванню є принцип під назвою композиція. Композицією є передача якогось функціоналу класу за допомогою передачі об'єкта іншого класу"
   ]
  },
  {
   "cell_type": "code",
   "execution_count": 132,
   "id": "347b0204",
   "metadata": {},
   "outputs": [],
   "source": [
    "class A:\n",
    "    def some_func(self):\n",
    "        print(\"my functionality\")\n",
    "    \n",
    "class B(A):\n",
    "    pass\n",
    "\n",
    "class C:\n",
    "    some_func = A().some_func"
   ]
  },
  {
   "cell_type": "code",
   "execution_count": 133,
   "id": "44f49527",
   "metadata": {},
   "outputs": [
    {
     "name": "stdout",
     "output_type": "stream",
     "text": [
      "my functionality\n"
     ]
    }
   ],
   "source": [
    "B().some_func()"
   ]
  },
  {
   "cell_type": "code",
   "execution_count": 134,
   "id": "a064af9f",
   "metadata": {},
   "outputs": [
    {
     "name": "stdout",
     "output_type": "stream",
     "text": [
      "my functionality\n"
     ]
    }
   ],
   "source": [
    "C.some_func()"
   ]
  }
 ],
 "metadata": {
  "kernelspec": {
   "display_name": "Python 3 (ipykernel)",
   "language": "python",
   "name": "python3"
  },
  "language_info": {
   "codemirror_mode": {
    "name": "ipython",
    "version": 3
   },
   "file_extension": ".py",
   "mimetype": "text/x-python",
   "name": "python",
   "nbconvert_exporter": "python",
   "pygments_lexer": "ipython3",
   "version": "3.9.16"
  }
 },
 "nbformat": 4,
 "nbformat_minor": 5
}
