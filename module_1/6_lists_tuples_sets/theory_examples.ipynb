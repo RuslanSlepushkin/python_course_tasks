{
 "cells": [
  {
   "cell_type": "markdown",
   "id": "69665fd3",
   "metadata": {},
   "source": [
    "# 1. List and set comprehensions"
   ]
  },
  {
   "cell_type": "code",
   "execution_count": 9,
   "id": "21c54a99",
   "metadata": {},
   "outputs": [],
   "source": [
    "compr_list = [i for i in range(0, 10)]"
   ]
  },
  {
   "cell_type": "code",
   "execution_count": 24,
   "id": "300a7c24",
   "metadata": {},
   "outputs": [],
   "source": [
    "compr_list_str = \"Зродились ми великої години з пожеж війни і полум'я вогнів\""
   ]
  },
  {
   "cell_type": "code",
   "execution_count": 25,
   "id": "e315db80",
   "metadata": {
    "scrolled": true
   },
   "outputs": [
    {
     "data": {
      "text/plain": [
       "['З',\n",
       " 'р',\n",
       " 'о',\n",
       " 'д',\n",
       " 'и',\n",
       " 'л',\n",
       " 'и',\n",
       " 'с',\n",
       " 'ь',\n",
       " ' ',\n",
       " 'м',\n",
       " 'и',\n",
       " ' ',\n",
       " 'в',\n",
       " 'е',\n",
       " 'л',\n",
       " 'и',\n",
       " 'к',\n",
       " 'о',\n",
       " 'ї',\n",
       " ' ',\n",
       " 'г',\n",
       " 'о',\n",
       " 'д',\n",
       " 'и',\n",
       " 'н',\n",
       " 'и',\n",
       " ' ',\n",
       " 'з',\n",
       " ' ',\n",
       " 'п',\n",
       " 'о',\n",
       " 'ж',\n",
       " 'е',\n",
       " 'ж',\n",
       " ' ',\n",
       " 'в',\n",
       " 'і',\n",
       " 'й',\n",
       " 'н',\n",
       " 'и',\n",
       " ' ',\n",
       " 'і',\n",
       " ' ',\n",
       " 'п',\n",
       " 'о',\n",
       " 'л',\n",
       " 'у',\n",
       " 'м',\n",
       " \"'\",\n",
       " 'я',\n",
       " ' ',\n",
       " 'в',\n",
       " 'о',\n",
       " 'г',\n",
       " 'н',\n",
       " 'і',\n",
       " 'в']"
      ]
     },
     "execution_count": 25,
     "metadata": {},
     "output_type": "execute_result"
    }
   ],
   "source": [
    "[symbol for symbol in compr_list_str]"
   ]
  },
  {
   "cell_type": "code",
   "execution_count": 26,
   "id": "ff23a11e",
   "metadata": {},
   "outputs": [],
   "source": [
    "compr_set_1 = {i for i in range(0, 10)}"
   ]
  },
  {
   "cell_type": "code",
   "execution_count": 27,
   "id": "2a0734e1",
   "metadata": {},
   "outputs": [
    {
     "name": "stdout",
     "output_type": "stream",
     "text": [
      "{0, 1, 2, 3, 4, 5, 6, 7, 8, 9}\n"
     ]
    }
   ],
   "source": [
    "print(compr_set_1)"
   ]
  },
  {
   "cell_type": "code",
   "execution_count": 28,
   "id": "c8729c99",
   "metadata": {},
   "outputs": [
    {
     "ename": "TypeError",
     "evalue": "unhashable type: 'list'",
     "output_type": "error",
     "traceback": [
      "\u001b[0;31m---------------------------------------------------------------------------\u001b[0m",
      "\u001b[0;31mTypeError\u001b[0m                                 Traceback (most recent call last)",
      "\u001b[0;32m/tmp/ipykernel_110563/1868610751.py\u001b[0m in \u001b[0;36m<module>\u001b[0;34m\u001b[0m\n\u001b[0;32m----> 1\u001b[0;31m \u001b[0mcompr_set_2\u001b[0m \u001b[0;34m=\u001b[0m \u001b[0;34m{\u001b[0m\u001b[0;34m[\u001b[0m\u001b[0mi\u001b[0m\u001b[0;34m]\u001b[0m \u001b[0;32mfor\u001b[0m \u001b[0mi\u001b[0m \u001b[0;32min\u001b[0m \u001b[0mrange\u001b[0m\u001b[0;34m(\u001b[0m\u001b[0;36m0\u001b[0m\u001b[0;34m,\u001b[0m \u001b[0;36m10\u001b[0m\u001b[0;34m)\u001b[0m\u001b[0;34m}\u001b[0m\u001b[0;34m\u001b[0m\u001b[0;34m\u001b[0m\u001b[0m\n\u001b[0m",
      "\u001b[0;32m/tmp/ipykernel_110563/1868610751.py\u001b[0m in \u001b[0;36m<setcomp>\u001b[0;34m(.0)\u001b[0m\n\u001b[0;32m----> 1\u001b[0;31m \u001b[0mcompr_set_2\u001b[0m \u001b[0;34m=\u001b[0m \u001b[0;34m{\u001b[0m\u001b[0;34m[\u001b[0m\u001b[0mi\u001b[0m\u001b[0;34m]\u001b[0m \u001b[0;32mfor\u001b[0m \u001b[0mi\u001b[0m \u001b[0;32min\u001b[0m \u001b[0mrange\u001b[0m\u001b[0;34m(\u001b[0m\u001b[0;36m0\u001b[0m\u001b[0;34m,\u001b[0m \u001b[0;36m10\u001b[0m\u001b[0;34m)\u001b[0m\u001b[0;34m}\u001b[0m\u001b[0;34m\u001b[0m\u001b[0;34m\u001b[0m\u001b[0m\n\u001b[0m",
      "\u001b[0;31mTypeError\u001b[0m: unhashable type: 'list'"
     ]
    }
   ],
   "source": [
    "compr_set_2 = {[i] for i in range(0, 10)}"
   ]
  },
  {
   "cell_type": "code",
   "execution_count": null,
   "id": "243ec1ba",
   "metadata": {},
   "outputs": [],
   "source": [
    "print(compr_set_2)"
   ]
  },
  {
   "cell_type": "code",
   "execution_count": 31,
   "id": "f33f6dd6",
   "metadata": {},
   "outputs": [],
   "source": [
    "compr_set_3 = {(i,) for i in range(0, 10)}"
   ]
  },
  {
   "cell_type": "code",
   "execution_count": 32,
   "id": "234a8273",
   "metadata": {},
   "outputs": [
    {
     "name": "stdout",
     "output_type": "stream",
     "text": [
      "{(6,), (2,), (5,), (8,), (4,), (1,), (7,), (0,), (3,), (9,)}\n"
     ]
    }
   ],
   "source": [
    "print(compr_set_3)"
   ]
  },
  {
   "cell_type": "code",
   "execution_count": 43,
   "id": "ca9fb0d7",
   "metadata": {},
   "outputs": [
    {
     "data": {
      "text/plain": [
       "(0, 1, 2, 3, 4, 5, 6, 7, 8, 9)"
      ]
     },
     "execution_count": 43,
     "metadata": {},
     "output_type": "execute_result"
    }
   ],
   "source": [
    "tuple(i for i in range(0, 10))"
   ]
  },
  {
   "cell_type": "code",
   "execution_count": 50,
   "id": "5c0bb23a",
   "metadata": {},
   "outputs": [],
   "source": [
    "action_list_compr = [(m, m**2) if m%3==0 else (m, m**3) for m in range(1,101) if m == 20]"
   ]
  },
  {
   "cell_type": "code",
   "execution_count": 51,
   "id": "cef144c9",
   "metadata": {},
   "outputs": [
    {
     "data": {
      "text/plain": [
       "[(20, 8000)]"
      ]
     },
     "execution_count": 51,
     "metadata": {},
     "output_type": "execute_result"
    }
   ],
   "source": [
    "action_list_compr"
   ]
  },
  {
   "cell_type": "markdown",
   "id": "1b9605a1",
   "metadata": {},
   "source": [
    "# 2. Трошки про itertools і zip"
   ]
  },
  {
   "cell_type": "code",
   "execution_count": 52,
   "id": "226f2528",
   "metadata": {},
   "outputs": [],
   "source": [
    "import itertools"
   ]
  },
  {
   "cell_type": "code",
   "execution_count": 60,
   "id": "d2a41ddd",
   "metadata": {},
   "outputs": [],
   "source": [
    "a = [1,2,3,4,5]\n",
    "b = [6,7,8,9,10,11,12]"
   ]
  },
  {
   "cell_type": "code",
   "execution_count": 55,
   "id": "0ba1ec66",
   "metadata": {},
   "outputs": [],
   "source": [
    "lazy_compr = (i for i in range(0, 10))"
   ]
  },
  {
   "cell_type": "code",
   "execution_count": 54,
   "id": "c507995d",
   "metadata": {},
   "outputs": [
    {
     "data": {
      "text/plain": [
       "<itertools.product at 0x7f79c03fc3c0>"
      ]
     },
     "execution_count": 54,
     "metadata": {},
     "output_type": "execute_result"
    }
   ],
   "source": [
    "itertools.product(a, b)"
   ]
  },
  {
   "cell_type": "code",
   "execution_count": 62,
   "id": "2d7ccd93",
   "metadata": {
    "scrolled": true
   },
   "outputs": [
    {
     "data": {
      "text/plain": [
       "((1, 6),\n",
       " (1, 7),\n",
       " (1, 8),\n",
       " (1, 9),\n",
       " (1, 10),\n",
       " (1, 11),\n",
       " (1, 12),\n",
       " (2, 6),\n",
       " (2, 7),\n",
       " (2, 8),\n",
       " (2, 9),\n",
       " (2, 10),\n",
       " (2, 11),\n",
       " (2, 12),\n",
       " (3, 6),\n",
       " (3, 7),\n",
       " (3, 8),\n",
       " (3, 9),\n",
       " (3, 10),\n",
       " (3, 11),\n",
       " (3, 12),\n",
       " (4, 6),\n",
       " (4, 7),\n",
       " (4, 8),\n",
       " (4, 9),\n",
       " (4, 10),\n",
       " (4, 11),\n",
       " (4, 12),\n",
       " (5, 6),\n",
       " (5, 7),\n",
       " (5, 8),\n",
       " (5, 9),\n",
       " (5, 10),\n",
       " (5, 11),\n",
       " (5, 12))"
      ]
     },
     "execution_count": 62,
     "metadata": {},
     "output_type": "execute_result"
    }
   ],
   "source": [
    "tuple(itertools.product(a, b))"
   ]
  },
  {
   "cell_type": "code",
   "execution_count": null,
   "id": "69978087",
   "metadata": {},
   "outputs": [],
   "source": [
    "list(itertools.product(a, b))"
   ]
  },
  {
   "cell_type": "code",
   "execution_count": 63,
   "id": "1f03845b",
   "metadata": {},
   "outputs": [
    {
     "data": {
      "text/plain": [
       "[(1, 2, 3, 4, 5),\n",
       " (1, 2, 3, 5, 4),\n",
       " (1, 2, 4, 3, 5),\n",
       " (1, 2, 4, 5, 3),\n",
       " (1, 2, 5, 3, 4),\n",
       " (1, 2, 5, 4, 3),\n",
       " (1, 3, 2, 4, 5),\n",
       " (1, 3, 2, 5, 4),\n",
       " (1, 3, 4, 2, 5),\n",
       " (1, 3, 4, 5, 2),\n",
       " (1, 3, 5, 2, 4),\n",
       " (1, 3, 5, 4, 2),\n",
       " (1, 4, 2, 3, 5),\n",
       " (1, 4, 2, 5, 3),\n",
       " (1, 4, 3, 2, 5),\n",
       " (1, 4, 3, 5, 2),\n",
       " (1, 4, 5, 2, 3),\n",
       " (1, 4, 5, 3, 2),\n",
       " (1, 5, 2, 3, 4),\n",
       " (1, 5, 2, 4, 3),\n",
       " (1, 5, 3, 2, 4),\n",
       " (1, 5, 3, 4, 2),\n",
       " (1, 5, 4, 2, 3),\n",
       " (1, 5, 4, 3, 2),\n",
       " (2, 1, 3, 4, 5),\n",
       " (2, 1, 3, 5, 4),\n",
       " (2, 1, 4, 3, 5),\n",
       " (2, 1, 4, 5, 3),\n",
       " (2, 1, 5, 3, 4),\n",
       " (2, 1, 5, 4, 3),\n",
       " (2, 3, 1, 4, 5),\n",
       " (2, 3, 1, 5, 4),\n",
       " (2, 3, 4, 1, 5),\n",
       " (2, 3, 4, 5, 1),\n",
       " (2, 3, 5, 1, 4),\n",
       " (2, 3, 5, 4, 1),\n",
       " (2, 4, 1, 3, 5),\n",
       " (2, 4, 1, 5, 3),\n",
       " (2, 4, 3, 1, 5),\n",
       " (2, 4, 3, 5, 1),\n",
       " (2, 4, 5, 1, 3),\n",
       " (2, 4, 5, 3, 1),\n",
       " (2, 5, 1, 3, 4),\n",
       " (2, 5, 1, 4, 3),\n",
       " (2, 5, 3, 1, 4),\n",
       " (2, 5, 3, 4, 1),\n",
       " (2, 5, 4, 1, 3),\n",
       " (2, 5, 4, 3, 1),\n",
       " (3, 1, 2, 4, 5),\n",
       " (3, 1, 2, 5, 4),\n",
       " (3, 1, 4, 2, 5),\n",
       " (3, 1, 4, 5, 2),\n",
       " (3, 1, 5, 2, 4),\n",
       " (3, 1, 5, 4, 2),\n",
       " (3, 2, 1, 4, 5),\n",
       " (3, 2, 1, 5, 4),\n",
       " (3, 2, 4, 1, 5),\n",
       " (3, 2, 4, 5, 1),\n",
       " (3, 2, 5, 1, 4),\n",
       " (3, 2, 5, 4, 1),\n",
       " (3, 4, 1, 2, 5),\n",
       " (3, 4, 1, 5, 2),\n",
       " (3, 4, 2, 1, 5),\n",
       " (3, 4, 2, 5, 1),\n",
       " (3, 4, 5, 1, 2),\n",
       " (3, 4, 5, 2, 1),\n",
       " (3, 5, 1, 2, 4),\n",
       " (3, 5, 1, 4, 2),\n",
       " (3, 5, 2, 1, 4),\n",
       " (3, 5, 2, 4, 1),\n",
       " (3, 5, 4, 1, 2),\n",
       " (3, 5, 4, 2, 1),\n",
       " (4, 1, 2, 3, 5),\n",
       " (4, 1, 2, 5, 3),\n",
       " (4, 1, 3, 2, 5),\n",
       " (4, 1, 3, 5, 2),\n",
       " (4, 1, 5, 2, 3),\n",
       " (4, 1, 5, 3, 2),\n",
       " (4, 2, 1, 3, 5),\n",
       " (4, 2, 1, 5, 3),\n",
       " (4, 2, 3, 1, 5),\n",
       " (4, 2, 3, 5, 1),\n",
       " (4, 2, 5, 1, 3),\n",
       " (4, 2, 5, 3, 1),\n",
       " (4, 3, 1, 2, 5),\n",
       " (4, 3, 1, 5, 2),\n",
       " (4, 3, 2, 1, 5),\n",
       " (4, 3, 2, 5, 1),\n",
       " (4, 3, 5, 1, 2),\n",
       " (4, 3, 5, 2, 1),\n",
       " (4, 5, 1, 2, 3),\n",
       " (4, 5, 1, 3, 2),\n",
       " (4, 5, 2, 1, 3),\n",
       " (4, 5, 2, 3, 1),\n",
       " (4, 5, 3, 1, 2),\n",
       " (4, 5, 3, 2, 1),\n",
       " (5, 1, 2, 3, 4),\n",
       " (5, 1, 2, 4, 3),\n",
       " (5, 1, 3, 2, 4),\n",
       " (5, 1, 3, 4, 2),\n",
       " (5, 1, 4, 2, 3),\n",
       " (5, 1, 4, 3, 2),\n",
       " (5, 2, 1, 3, 4),\n",
       " (5, 2, 1, 4, 3),\n",
       " (5, 2, 3, 1, 4),\n",
       " (5, 2, 3, 4, 1),\n",
       " (5, 2, 4, 1, 3),\n",
       " (5, 2, 4, 3, 1),\n",
       " (5, 3, 1, 2, 4),\n",
       " (5, 3, 1, 4, 2),\n",
       " (5, 3, 2, 1, 4),\n",
       " (5, 3, 2, 4, 1),\n",
       " (5, 3, 4, 1, 2),\n",
       " (5, 3, 4, 2, 1),\n",
       " (5, 4, 1, 2, 3),\n",
       " (5, 4, 1, 3, 2),\n",
       " (5, 4, 2, 1, 3),\n",
       " (5, 4, 2, 3, 1),\n",
       " (5, 4, 3, 1, 2),\n",
       " (5, 4, 3, 2, 1)]"
      ]
     },
     "execution_count": 63,
     "metadata": {},
     "output_type": "execute_result"
    }
   ],
   "source": [
    "list(itertools.permutations(a))"
   ]
  },
  {
   "cell_type": "code",
   "execution_count": 68,
   "id": "0d43505b",
   "metadata": {},
   "outputs": [],
   "source": [
    "c = [11, 12, 13, 14, 15, 16, 17, 18]"
   ]
  },
  {
   "cell_type": "code",
   "execution_count": 80,
   "id": "39a05476",
   "metadata": {},
   "outputs": [],
   "source": [
    "a = [1,1,1,2,3,4,5]\n",
    "b = [6,7,8,9,10,11,12]"
   ]
  },
  {
   "cell_type": "code",
   "execution_count": 77,
   "id": "209d87b3",
   "metadata": {},
   "outputs": [
    {
     "data": {
      "text/plain": [
       "{6: 1, 7: 2, 8: 3, 9: 4, 10: 5}"
      ]
     },
     "execution_count": 77,
     "metadata": {},
     "output_type": "execute_result"
    }
   ],
   "source": [
    "dict(zip(b, a))"
   ]
  },
  {
   "cell_type": "code",
   "execution_count": 75,
   "id": "ba3ca5f2",
   "metadata": {},
   "outputs": [
    {
     "data": {
      "text/plain": [
       "[(1, 6, 11), (2, 7, 12), (3, 8, 13), (4, 9, 14), (5, 10, 15)]"
      ]
     },
     "execution_count": 75,
     "metadata": {},
     "output_type": "execute_result"
    }
   ],
   "source": [
    "list(zip(a, b, c))"
   ]
  },
  {
   "cell_type": "code",
   "execution_count": 82,
   "id": "fe9be202",
   "metadata": {},
   "outputs": [
    {
     "data": {
      "text/plain": [
       "[(1, 11), (1, 12), (1, 13), (2, 14), (3, 15), (4, 16), (5, 17), (None, 18)]"
      ]
     },
     "execution_count": 82,
     "metadata": {},
     "output_type": "execute_result"
    }
   ],
   "source": [
    "list(itertools.zip_longest(a, c))"
   ]
  },
  {
   "cell_type": "code",
   "execution_count": 81,
   "id": "68ecba5e",
   "metadata": {},
   "outputs": [
    {
     "data": {
      "text/plain": [
       "{1: 13, 2: 14, 3: 15, 4: 16, 5: 17, None: 18}"
      ]
     },
     "execution_count": 81,
     "metadata": {},
     "output_type": "execute_result"
    }
   ],
   "source": [
    "dict(itertools.zip_longest(a, c))"
   ]
  },
  {
   "cell_type": "markdown",
   "id": "1b0b5dc2",
   "metadata": {},
   "source": [
    "# 3. sum() і map()"
   ]
  },
  {
   "cell_type": "code",
   "execution_count": 105,
   "id": "b7b791e4",
   "metadata": {},
   "outputs": [],
   "source": [
    "a = [i**2 for i in range(0, 25)]"
   ]
  },
  {
   "cell_type": "code",
   "execution_count": 84,
   "id": "e12126cc",
   "metadata": {},
   "outputs": [],
   "source": [
    "def cubes(x):\n",
    "    return x**3"
   ]
  },
  {
   "cell_type": "code",
   "execution_count": 89,
   "id": "f09650bc",
   "metadata": {},
   "outputs": [
    {
     "name": "stdout",
     "output_type": "stream",
     "text": [
      "Введи число1 2 3 4 5\n"
     ]
    }
   ],
   "source": [
    "a = input(\"Введи число\").split()"
   ]
  },
  {
   "cell_type": "code",
   "execution_count": null,
   "id": "1e5a6f13",
   "metadata": {},
   "outputs": [],
   "source": [
    "list(map(int, input(\"Введи число\")))"
   ]
  },
  {
   "cell_type": "code",
   "execution_count": 96,
   "id": "79398bdd",
   "metadata": {},
   "outputs": [],
   "source": [
    "sum_var = 0\n",
    "\n",
    "for i in a:\n",
    "    sum_var += i"
   ]
  },
  {
   "cell_type": "code",
   "execution_count": 97,
   "id": "097112ad",
   "metadata": {},
   "outputs": [
    {
     "data": {
      "text/plain": [
       "90000"
      ]
     },
     "execution_count": 97,
     "metadata": {},
     "output_type": "execute_result"
    }
   ],
   "source": [
    "sum_var"
   ]
  },
  {
   "cell_type": "code",
   "execution_count": 102,
   "id": "f6247715",
   "metadata": {},
   "outputs": [
    {
     "data": {
      "text/plain": [
       "'0123456789101112131415161718192021222324'"
      ]
     },
     "execution_count": 102,
     "metadata": {},
     "output_type": "execute_result"
    }
   ],
   "source": [
    "\"\".join(a)"
   ]
  },
  {
   "cell_type": "code",
   "execution_count": 106,
   "id": "8216ad5b",
   "metadata": {},
   "outputs": [],
   "source": [
    "from math import sqrt\n",
    "\n",
    "sqrt_list = map(sqrt, a)\n",
    "str_list = map(str, a)"
   ]
  },
  {
   "cell_type": "code",
   "execution_count": 107,
   "id": "fbfb01a5",
   "metadata": {},
   "outputs": [
    {
     "data": {
      "text/plain": [
       "[0.0,\n",
       " 1.0,\n",
       " 2.0,\n",
       " 3.0,\n",
       " 4.0,\n",
       " 5.0,\n",
       " 6.0,\n",
       " 7.0,\n",
       " 8.0,\n",
       " 9.0,\n",
       " 10.0,\n",
       " 11.0,\n",
       " 12.0,\n",
       " 13.0,\n",
       " 14.0,\n",
       " 15.0,\n",
       " 16.0,\n",
       " 17.0,\n",
       " 18.0,\n",
       " 19.0,\n",
       " 20.0,\n",
       " 21.0,\n",
       " 22.0,\n",
       " 23.0,\n",
       " 24.0]"
      ]
     },
     "execution_count": 107,
     "metadata": {},
     "output_type": "execute_result"
    }
   ],
   "source": [
    "list(sqrt_list)"
   ]
  },
  {
   "cell_type": "code",
   "execution_count": 108,
   "id": "32da2928",
   "metadata": {},
   "outputs": [
    {
     "data": {
      "text/plain": [
       "['0',\n",
       " '1',\n",
       " '4',\n",
       " '9',\n",
       " '16',\n",
       " '25',\n",
       " '36',\n",
       " '49',\n",
       " '64',\n",
       " '81',\n",
       " '100',\n",
       " '121',\n",
       " '144',\n",
       " '169',\n",
       " '196',\n",
       " '225',\n",
       " '256',\n",
       " '289',\n",
       " '324',\n",
       " '361',\n",
       " '400',\n",
       " '441',\n",
       " '484',\n",
       " '529',\n",
       " '576']"
      ]
     },
     "execution_count": 108,
     "metadata": {},
     "output_type": "execute_result"
    }
   ],
   "source": [
    "list(str_list)"
   ]
  },
  {
   "cell_type": "markdown",
   "id": "cc01feaf",
   "metadata": {},
   "source": [
    "# 4. NumPy (прекрасна документація лежить [тут](https://numpy.org/doc/stable/user/absolute_beginners.html))"
   ]
  },
  {
   "cell_type": "code",
   "execution_count": 109,
   "id": "f4963513",
   "metadata": {},
   "outputs": [],
   "source": [
    "import numpy as np"
   ]
  },
  {
   "cell_type": "code",
   "execution_count": 110,
   "id": "d4e3b2dc",
   "metadata": {},
   "outputs": [
    {
     "data": {
      "text/plain": [
       "array([0, 1, 2, 3, 4, 5])"
      ]
     },
     "execution_count": 110,
     "metadata": {},
     "output_type": "execute_result"
    }
   ],
   "source": [
    "np.arange(6)"
   ]
  },
  {
   "cell_type": "code",
   "execution_count": 111,
   "id": "4cce6077",
   "metadata": {},
   "outputs": [
    {
     "data": {
      "text/plain": [
       "numpy.ndarray"
      ]
     },
     "execution_count": 111,
     "metadata": {},
     "output_type": "execute_result"
    }
   ],
   "source": [
    "type(np.arange(5))"
   ]
  },
  {
   "cell_type": "code",
   "execution_count": 114,
   "id": "c9f42c50",
   "metadata": {},
   "outputs": [
    {
     "data": {
      "text/plain": [
       "numpy.int64"
      ]
     },
     "execution_count": 114,
     "metadata": {},
     "output_type": "execute_result"
    }
   ],
   "source": [
    "type(np.arange(19)[4])"
   ]
  },
  {
   "cell_type": "code",
   "execution_count": 115,
   "id": "8f623c4c",
   "metadata": {},
   "outputs": [
    {
     "data": {
      "text/plain": [
       "array([1, 2, 3])"
      ]
     },
     "execution_count": 115,
     "metadata": {},
     "output_type": "execute_result"
    }
   ],
   "source": [
    "np.array([1, 2, 3])"
   ]
  },
  {
   "cell_type": "code",
   "execution_count": 112,
   "id": "5120c507",
   "metadata": {},
   "outputs": [
    {
     "data": {
      "text/plain": [
       "array([0., 0.])"
      ]
     },
     "execution_count": 112,
     "metadata": {},
     "output_type": "execute_result"
    }
   ],
   "source": [
    "np.zeros(2)"
   ]
  },
  {
   "cell_type": "code",
   "execution_count": 113,
   "id": "d1854a30",
   "metadata": {},
   "outputs": [
    {
     "data": {
      "text/plain": [
       "numpy.float64"
      ]
     },
     "execution_count": 113,
     "metadata": {},
     "output_type": "execute_result"
    }
   ],
   "source": [
    "type(np.zeros(4)[3])"
   ]
  },
  {
   "cell_type": "code",
   "execution_count": 116,
   "id": "d374a1a7",
   "metadata": {},
   "outputs": [
    {
     "data": {
      "text/plain": [
       "array([[1., 1., 1., 1., 1., 1., 1., 1., 1., 1.],\n",
       "       [1., 1., 1., 1., 1., 1., 1., 1., 1., 1.],\n",
       "       [1., 1., 1., 1., 1., 1., 1., 1., 1., 1.],\n",
       "       [1., 1., 1., 1., 1., 1., 1., 1., 1., 1.],\n",
       "       [1., 1., 1., 1., 1., 1., 1., 1., 1., 1.],\n",
       "       [1., 1., 1., 1., 1., 1., 1., 1., 1., 1.],\n",
       "       [1., 1., 1., 1., 1., 1., 1., 1., 1., 1.],\n",
       "       [1., 1., 1., 1., 1., 1., 1., 1., 1., 1.],\n",
       "       [1., 1., 1., 1., 1., 1., 1., 1., 1., 1.],\n",
       "       [1., 1., 1., 1., 1., 1., 1., 1., 1., 1.]])"
      ]
     },
     "execution_count": 116,
     "metadata": {},
     "output_type": "execute_result"
    }
   ],
   "source": [
    "np.ones([10, 10])"
   ]
  },
  {
   "cell_type": "code",
   "execution_count": 117,
   "id": "1d7ca093",
   "metadata": {},
   "outputs": [
    {
     "data": {
      "text/plain": [
       "array([ 0.        ,  0.1010101 ,  0.2020202 ,  0.3030303 ,  0.4040404 ,\n",
       "        0.50505051,  0.60606061,  0.70707071,  0.80808081,  0.90909091,\n",
       "        1.01010101,  1.11111111,  1.21212121,  1.31313131,  1.41414141,\n",
       "        1.51515152,  1.61616162,  1.71717172,  1.81818182,  1.91919192,\n",
       "        2.02020202,  2.12121212,  2.22222222,  2.32323232,  2.42424242,\n",
       "        2.52525253,  2.62626263,  2.72727273,  2.82828283,  2.92929293,\n",
       "        3.03030303,  3.13131313,  3.23232323,  3.33333333,  3.43434343,\n",
       "        3.53535354,  3.63636364,  3.73737374,  3.83838384,  3.93939394,\n",
       "        4.04040404,  4.14141414,  4.24242424,  4.34343434,  4.44444444,\n",
       "        4.54545455,  4.64646465,  4.74747475,  4.84848485,  4.94949495,\n",
       "        5.05050505,  5.15151515,  5.25252525,  5.35353535,  5.45454545,\n",
       "        5.55555556,  5.65656566,  5.75757576,  5.85858586,  5.95959596,\n",
       "        6.06060606,  6.16161616,  6.26262626,  6.36363636,  6.46464646,\n",
       "        6.56565657,  6.66666667,  6.76767677,  6.86868687,  6.96969697,\n",
       "        7.07070707,  7.17171717,  7.27272727,  7.37373737,  7.47474747,\n",
       "        7.57575758,  7.67676768,  7.77777778,  7.87878788,  7.97979798,\n",
       "        8.08080808,  8.18181818,  8.28282828,  8.38383838,  8.48484848,\n",
       "        8.58585859,  8.68686869,  8.78787879,  8.88888889,  8.98989899,\n",
       "        9.09090909,  9.19191919,  9.29292929,  9.39393939,  9.49494949,\n",
       "        9.5959596 ,  9.6969697 ,  9.7979798 ,  9.8989899 , 10.        ])"
      ]
     },
     "execution_count": 117,
     "metadata": {},
     "output_type": "execute_result"
    }
   ],
   "source": [
    "np.linspace(0, 10, num=100)"
   ]
  },
  {
   "cell_type": "code",
   "execution_count": 118,
   "id": "d45f9b08",
   "metadata": {},
   "outputs": [
    {
     "data": {
      "text/plain": [
       "array([[1, 1, 1],\n",
       "       [1, 1, 1],\n",
       "       [1, 1, 1]])"
      ]
     },
     "execution_count": 118,
     "metadata": {},
     "output_type": "execute_result"
    }
   ],
   "source": [
    "np.ones([3, 3], dtype=np.int64)"
   ]
  },
  {
   "cell_type": "markdown",
   "id": "dbecfa33",
   "metadata": {},
   "source": [
    "# 5. Трохи про словники"
   ]
  },
  {
   "cell_type": "code",
   "execution_count": 120,
   "id": "2f29f3f8",
   "metadata": {},
   "outputs": [],
   "source": [
    "employee_hierarchy = {\n",
    "    \"CEO\":\n",
    "    {\n",
    "        \"CTO\":\n",
    "        {\n",
    "            \"VP of Engineering\":\n",
    "            {\n",
    "                \"Project Manager 1\":\n",
    "                [\n",
    "                    \"Employee 1\",\n",
    "                    \"Employee 2\",\n",
    "                    \"Employee 3\"\n",
    "                ],\n",
    "                \"Project Manager 2\":\n",
    "                [\n",
    "                    \"Employee 1\",\n",
    "                    \"Employee 2\",\n",
    "                    \"Employee 3\"\n",
    "                ]\n",
    "\n",
    "            },\n",
    "            \"VP of R&D\":\n",
    "            {\n",
    "                \"Research Manager 1\":\n",
    "                [\n",
    "                    \"Employee 1\",\n",
    "                    \"Employee 2\",\n",
    "                    \"Employee 3\"\n",
    "                ],\n",
    "                \"Research Manager 2\":\n",
    "                [\n",
    "                    \"Employee 1\",\n",
    "                    \"Employee 2\",\n",
    "                    \"Employee 3\"\n",
    "                ]\n",
    "\n",
    "            },\n",
    "        },\n",
    "        \"CMO\":\n",
    "        {\n",
    "            \"Brand Manager\":\n",
    "                [\"SMM manager\", \"BTL manager\", \"ATL manager\"]\n",
    "        }\n",
    "    }\n",
    "}"
   ]
  },
  {
   "cell_type": "code",
   "execution_count": 124,
   "id": "e32c0249",
   "metadata": {},
   "outputs": [
    {
     "data": {
      "text/plain": [
       "['Employee 1', 'Employee 2', 'Employee 3']"
      ]
     },
     "execution_count": 124,
     "metadata": {},
     "output_type": "execute_result"
    }
   ],
   "source": [
    "employee_hierarchy[\"CEO\"][\"CTO\"][\"VP of R&D\"][\"Research Manager 1\"]"
   ]
  },
  {
   "cell_type": "code",
   "execution_count": null,
   "id": "0194df4d",
   "metadata": {},
   "outputs": [],
   "source": []
  },
  {
   "cell_type": "code",
   "execution_count": 125,
   "id": "59874c15",
   "metadata": {},
   "outputs": [],
   "source": [
    "movies_dataset = {\n",
    "    \"Avatar\": 2047674,\n",
    "    \"Citizen Kane\": 2858859,\n",
    "}"
   ]
  },
  {
   "cell_type": "code",
   "execution_count": null,
   "id": "ec22f9b9",
   "metadata": {},
   "outputs": [],
   "source": []
  },
  {
   "cell_type": "code",
   "execution_count": null,
   "id": "1ef6989b",
   "metadata": {},
   "outputs": [],
   "source": [
    "another_movie_dataset = [\n",
    "    {'id': 645, 'name': 'James Bond Collection', 'poster_path': '/HORpg5CSkmeQlAolx3bKMrKgfi.jpg',\n",
    "     'backdrop_path': '/6VcVl48kNKvdXOZfJPdarlUGOsk.jpg', \"rank\": 8},\n",
    "    {'id': 117693, 'name': 'Balto Collection', 'poster_path': '/w0ZgH6Lgxt2bQYnf1ss74UvYftm.jpg',\n",
    "     'backdrop_path': '/9VM5LiJV0bGb1st1KyHA3cVnO2G.jpg', \"rank\": 7},\n",
    "    {'id': 136214, 'name': 'Pocahontas Collection', 'poster_path': '/s4RkDe4AjwyrlltdF6Ui7INlME6.jpg',\n",
    "     'backdrop_path': '/qqeOxNmtAW7WXdbrmQftgluvve7.jpg', \"rank\": 10}\n",
    "]\n"
   ]
  },
  {
   "cell_type": "code",
   "execution_count": null,
   "id": "a9f0f283",
   "metadata": {},
   "outputs": [],
   "source": [
    "{\n",
    "    645: {'name': 'James Bond Collection', 'poster_path': '/HORpg5CSkmeQlAolx3bKMrKgfi.jpg',\n",
    "     'backdrop_path': '/6VcVl48kNKvdXOZfJPdarlUGOsk.jpg', \"rank\": 8},\n",
    "    117693: {'name': 'Balto Collection', 'poster_path': '/w0ZgH6Lgxt2bQYnf1ss74UvYftm.jpg',\n",
    "     'backdrop_path': '/9VM5LiJV0bGb1st1KyHA3cVnO2G.jpg', \"rank\": 7},\n",
    "}"
   ]
  },
  {
   "cell_type": "code",
   "execution_count": 127,
   "id": "8dc04962",
   "metadata": {},
   "outputs": [
    {
     "name": "stdout",
     "output_type": "stream",
     "text": [
      "heyPryvit\n"
     ]
    }
   ],
   "source": [
    "a = {\n",
    "    1: input(\"hey\")\n",
    "}"
   ]
  },
  {
   "cell_type": "code",
   "execution_count": 130,
   "id": "693d1b4c",
   "metadata": {},
   "outputs": [],
   "source": [
    "def enter_film_data(id_num):\n",
    "    return {\n",
    "        \"id\": id_num,\n",
    "        \"name\": input(\"Enter films name\"),\n",
    "        \"director\": input(\"Enter films director\"),\n",
    "        \"rank\": input(\"Enter films rank\")\n",
    "    }"
   ]
  },
  {
   "cell_type": "markdown",
   "id": "f82b5867",
   "metadata": {},
   "source": [
    "Створити консольний застосунок для збереження інформації про фільми.\n",
    "\n",
    "Застосунок має мати можливість робити наступне:\n",
    "\n",
    "1. Створювати новий фільм в базі\n",
    "2. Переглядати інформацію про фільм\n",
    "3. Шукати фільм в базі\n",
    "4. Оновлювати фільм в базі\n",
    "5. Видаляти фільм з бази"
   ]
  },
  {
   "cell_type": "markdown",
   "id": "a620bfbe",
   "metadata": {},
   "source": [
    "# 1 крок: базові сутності, їхня структура та формат"
   ]
  },
  {
   "cell_type": "markdown",
   "id": "7e190244",
   "metadata": {},
   "source": [
    "Базова сутність - фільм.\n",
    "Атрибути:\n",
    "\n",
    "1. Назва\n",
    "2. Жанр (опціонально)\n",
    "3. Рік випуску\n",
    "4. Режисер\n",
    "5. Рейтинг IMDB\n",
    "6. Склад акторів (опціонально)\n",
    "7. Вікові обмеження (опціонально)\n",
    "8. Тривалість (опціонально)\n",
    "9. Компанія-виробник\n",
    "10. Мова (опціонально)"
   ]
  },
  {
   "cell_type": "markdown",
   "id": "e5b1e240",
   "metadata": {},
   "source": [
    "# 2 крок: дії, котрі треба робити з базовою сутністю"
   ]
  },
  {
   "cell_type": "markdown",
   "id": "f4e432ac",
   "metadata": {},
   "source": [
    "Стандартний набір дій (CRUD)"
   ]
  },
  {
   "cell_type": "markdown",
   "id": "769a0059",
   "metadata": {},
   "source": [
    "# 3. Аналіз базових сутностей, типів даних і їх обмежень"
   ]
  },
  {
   "cell_type": "markdown",
   "id": "015e726a",
   "metadata": {},
   "source": [
    "    Назва: str\n",
    "    Жанр (опціонально): List[str], max = 3\n",
    "    Рік випуску: int > 0\n",
    "    Режисер: str, only alphabet chars\n",
    "    Рейтинг IMDB: float >= 0, round(2,1)\n",
    "    Склад акторів (опціонально): List[str]\n",
    "    Вікові обмеження (опціонально): str\n",
    "    Тривалість (опціонально): int\n",
    "    Мова (опціонально): str"
   ]
  },
  {
   "cell_type": "markdown",
   "id": "af6c2623",
   "metadata": {},
   "source": [
    "# 4. Приклад реалізації базової сутності на Python"
   ]
  },
  {
   "cell_type": "code",
   "execution_count": 148,
   "id": "1d2a6363",
   "metadata": {},
   "outputs": [],
   "source": [
    "example_film_dict = {\n",
    "    \"id\": 2,\n",
    "    \"name\": \"Аватар: Шлях води\",\n",
    "    \"genres\": [\"Action\"],\n",
    "    \"year\": 2022,\n",
    "    \"director\": \"James Cameron\",\n",
    "    \"imdb\": 7.8,\n",
    "}\n",
    "\n",
    "example_film_dict_2 = {\n",
    "    \"id\": 3,\n",
    "    \"name\": \"Аватар: Шлях води 3\",\n",
    "    \"genres\": [\"Action\"],\n",
    "    \"year\": 2022,\n",
    "    \"director\": \"James Cameron\",\n",
    "    \"imdb\": 7.8,    \n",
    "}"
   ]
  },
  {
   "cell_type": "markdown",
   "id": "fb30f6b9",
   "metadata": {},
   "source": [
    "# 5. Загальний сценарій використання"
   ]
  },
  {
   "cell_type": "markdown",
   "id": "93515eac",
   "metadata": {},
   "source": [
    "1. Користувач обирає команду щоб виконати\n",
    "2. Система вирішує, що зробити з базою фільмів згідно команди\n",
    "3. Система запитує в користувача додаткові дані за потреби\n",
    "4. Система видає якийсь очікуваний результат (дані про фільм, повідомлення про успішне створення фільму, повідомлення про успішне видалення фільму ітд)"
   ]
  },
  {
   "cell_type": "markdown",
   "id": "d01cc496",
   "metadata": {},
   "source": [
    "# 6. Імплементація"
   ]
  },
  {
   "cell_type": "code",
   "execution_count": 154,
   "id": "e86fad17",
   "metadata": {},
   "outputs": [
    {
     "data": {
      "text/plain": [
       "{1: {'name': 'Аватар: Шлях води',\n",
       "  'genres': ['Action'],\n",
       "  'year': 2022,\n",
       "  'director': 'James Cameron',\n",
       "  'imdb': 7.8},\n",
       " 2: {'name': 'Аватар: Шлях води 3',\n",
       "  'genres': ['Action'],\n",
       "  'year': 2022,\n",
       "  'director': 'James Cameron',\n",
       "  'imdb': 7.8}}"
      ]
     },
     "execution_count": 154,
     "metadata": {},
     "output_type": "execute_result"
    }
   ],
   "source": [
    "{\n",
    "    1: {\n",
    "    \"name\": \"Аватар: Шлях води\",\n",
    "    \"genres\": [\"Action\"],\n",
    "    \"year\": 2022,\n",
    "    \"director\": \"James Cameron\",\n",
    "    \"imdb\": 7.8,\n",
    "},\n",
    "    2: {\n",
    "    \"name\": \"Аватар: Шлях води 3\",\n",
    "    \"genres\": [\"Action\"],\n",
    "    \"year\": 2022,\n",
    "    \"director\": \"James Cameron\",\n",
    "    \"imdb\": 7.8,    \n",
    "},\n",
    "}"
   ]
  },
  {
   "cell_type": "code",
   "execution_count": 156,
   "id": "de773c1b",
   "metadata": {},
   "outputs": [],
   "source": [
    "lists_container = dict()"
   ]
  },
  {
   "cell_type": "code",
   "execution_count": 157,
   "id": "4ccc5641",
   "metadata": {},
   "outputs": [],
   "source": [
    "def create_film():\n",
    "    pass\n",
    "\n",
    "def update_film():\n",
    "    pass\n",
    "\n",
    "def delete_film():\n",
    "    pass\n",
    "\n",
    "def read_film():\n",
    "    pass"
   ]
  },
  {
   "cell_type": "code",
   "execution_count": 196,
   "id": "fc652c55",
   "metadata": {},
   "outputs": [],
   "source": [
    "new_dict = {\n",
    "    \"id\": {\n",
    "        1: {\n",
    "            \"name\": \"Avatar\",\n",
    "            \"director\": \"James Cameron\"\n",
    "        },\n",
    "        2: {\n",
    "            \"name\": \"Harry Potter\",\n",
    "            \"director\": \"Chis Colambus\"\n",
    "        }\n",
    "    }\n",
    "}"
   ]
  },
  {
   "cell_type": "code",
   "execution_count": 197,
   "id": "9ac373de",
   "metadata": {},
   "outputs": [
    {
     "data": {
      "text/plain": [
       "{1: {'name': 'Avatar', 'director': 'James Cameron'},\n",
       " 2: {'name': 'Harry Potter', 'director': 'Chis Colambus'}}"
      ]
     },
     "execution_count": 197,
     "metadata": {},
     "output_type": "execute_result"
    }
   ],
   "source": [
    "new_dict[\"id\"]"
   ]
  },
  {
   "cell_type": "markdown",
   "id": "4ba4d6b7",
   "metadata": {},
   "source": [
    "Створимо головний фрагмент програми, де буде виконуватися логіка взаємодії з користувачем"
   ]
  },
  {
   "cell_type": "code",
   "execution_count": 175,
   "id": "a49885e5",
   "metadata": {},
   "outputs": [],
   "source": [
    "def read_command_from_user():\n",
    "    GREETING_TEXT = \"\"\"Вітаю в системі для збереження даних про фільми.\"\"\"\n",
    "\n",
    "\n",
    "    commands_container = [command.lower() for command in [\"create\", \"update\", \"read\", \"delete\"]]\n",
    "\n",
    "    print(GREETING_TEXT)\n",
    "    print(\"Print help for help\")\n",
    "\n",
    "    while True:\n",
    "        command = input(\"Введіть команду: \").lower()\n",
    "        if command == \"help\":\n",
    "            print(\"\"\"Вам доступні наступні команди:\"\"\")\n",
    "            for number, command in enumerate(commands_container):\n",
    "                print(f\"{number + 1}. {command}\")\n",
    "        elif command in commands_container:\n",
    "            break\n",
    "        else:\n",
    "            print(\"Введена невалідна команда. Введіть, будь ласка, команду ще раз\")\n",
    "    return command"
   ]
  },
  {
   "cell_type": "code",
   "execution_count": 186,
   "id": "8ee49d83",
   "metadata": {},
   "outputs": [],
   "source": [
    "def menu():\n",
    "    GREETING_TEXT = \"\"\"Welcome in 'Save film' system!\n",
    "You can enter next commands:\n",
    "1) Create\n",
    "2) Update\n",
    "3) Read\n",
    "4) Delete \"\"\"\n",
    "    commands_container = [command.lower() for command in [\"create\", \"update\", \"read\", \"delete\"]]\n",
    "    while True:\n",
    "        print(GREETING_TEXT)\n",
    "        command = input('Enter command: ')\n",
    "        if command.lower() in commands_container:\n",
    "            break\n",
    "        else:\n",
    "            print('You entered wrong command, try again.')\n",
    "    return command"
   ]
  },
  {
   "cell_type": "code",
   "execution_count": 187,
   "id": "d6db5753",
   "metadata": {},
   "outputs": [
    {
     "name": "stdout",
     "output_type": "stream",
     "text": [
      "Welcome in 'Save film' system!\n",
      "You can enter next commands:\n",
      "1) Create\n",
      "2) Update\n",
      "3) Read\n",
      "4) Delete \n",
      "Enter command: create\n"
     ]
    },
    {
     "data": {
      "text/plain": [
       "'create'"
      ]
     },
     "execution_count": 187,
     "metadata": {},
     "output_type": "execute_result"
    }
   ],
   "source": [
    "menu()"
   ]
  },
  {
   "cell_type": "code",
   "execution_count": 202,
   "id": "a7b57780",
   "metadata": {},
   "outputs": [],
   "source": [
    "new_dict = {\n",
    "    \"films\": {\n",
    "        1: {\n",
    "            \"name\": \"Avatar\",\n",
    "            \"director\": \"James Cameron\"\n",
    "        },\n",
    "        2: {\n",
    "            \"name\": \"Harry Potter\",\n",
    "            \"director\": \"Chis Colambus\"\n",
    "        }\n",
    "    }\n",
    "}"
   ]
  },
  {
   "cell_type": "code",
   "execution_count": 200,
   "id": "6c5094d3",
   "metadata": {},
   "outputs": [
    {
     "data": {
      "text/plain": [
       "{1: {'name': 'Avatar', 'director': 'James Cameron'},\n",
       " 2: {'name': 'Harry Potter', 'director': 'Chis Colambus'}}"
      ]
     },
     "execution_count": 200,
     "metadata": {},
     "output_type": "execute_result"
    }
   ],
   "source": [
    "new_dict[\"films\"]"
   ]
  },
  {
   "cell_type": "code",
   "execution_count": 185,
   "id": "e69506c6",
   "metadata": {},
   "outputs": [
    {
     "name": "stdout",
     "output_type": "stream",
     "text": [
      "Welcome in 'Save film' system!\n",
      "You can enter next commands:\n",
      "1) Create\n",
      "2) Update\n",
      "3) Read\n",
      "4) Delete \n",
      "Enter command: create\n",
      "create\n",
      "<class 'str'>\n"
     ]
    }
   ],
   "source": [
    "a = menu(some_str)\n",
    "print(a)\n",
    "print(type(a))"
   ]
  },
  {
   "cell_type": "code",
   "execution_count": 177,
   "id": "0d4f4aae",
   "metadata": {},
   "outputs": [
    {
     "name": "stdout",
     "output_type": "stream",
     "text": [
      "Welcome in 'Save film' system!\n",
      "You can enter next commands:\n",
      "1) Create\n",
      "2) Update\n",
      "3) Read\n",
      "4) Delete \n",
      "Enter command: create\n"
     ]
    },
    {
     "data": {
      "text/plain": [
       "'create'"
      ]
     },
     "execution_count": 177,
     "metadata": {},
     "output_type": "execute_result"
    }
   ],
   "source": [
    "print(menu()"
   ]
  },
  {
   "cell_type": "code",
   "execution_count": 174,
   "id": "c7a1df89",
   "metadata": {},
   "outputs": [],
   "source": [
    "if command == \"create\":\n",
    "    create_film()\n",
    "elif command == \"update\":\n",
    "    update_film()\n",
    "elif command == \"delete\":\n",
    "    delete_film()\n",
    "elif command == \"read\":\n",
    "    read_film()"
   ]
  },
  {
   "cell_type": "markdown",
   "id": "c2fc9b06",
   "metadata": {},
   "source": [
    "1. Дивимось на набір полів, котрі необхідні для фільму\n",
    "2. Запитуємо кожне з полів в юзера\n",
    "3. Валідуємо значення цих полів\n",
    "4. Якщо не валідне, запитуємо значення знову\n",
    "5. Повторюємо для необов'язкових полів, якщо значення не валідне чи не введене - пропускаємо\n",
    "6. Перевіряємо наявність фільму в базі"
   ]
  },
  {
   "cell_type": "markdown",
   "id": "160f98f1",
   "metadata": {},
   "source": [
    "Назва: str\n",
    "Жанр (опціонально): List[str], max = 3\n",
    "Рік випуску: int > 0\n",
    "Режисер: str, only alphabet chars\n",
    "Рейтинг IMDB: float >= 0, round(2,1)\n",
    "Склад акторів (опціонально): List[str]\n",
    "Вікові обмеження (опціонально): str\n",
    "Тривалість (опціонально): int\n",
    "Мова (опціонально): str"
   ]
  },
  {
   "cell_type": "code",
   "execution_count": 193,
   "id": "9afa4a87",
   "metadata": {},
   "outputs": [],
   "source": [
    "# Валідатори обмежень\n",
    "\n",
    "def validate_int(value):\n",
    "    return value.isnumeric()\n",
    "\n",
    "def validate_float():\n",
    "    pass    \n",
    "\n",
    "def validate_num():\n",
    "    pass"
   ]
  },
  {
   "cell_type": "code",
   "execution_count": 195,
   "id": "68ad5522",
   "metadata": {},
   "outputs": [],
   "source": [
    "# Валідатори полів\n",
    "\n",
    "def validate_name():\n",
    "    pass\n",
    "\n",
    "def validate_year():\n",
    "    return validate_int()\n",
    "    \n",
    "def validate_rank(rank):\n",
    "    return validate_float() and rank > 0"
   ]
  },
  {
   "cell_type": "code",
   "execution_count": null,
   "id": "252682d5",
   "metadata": {},
   "outputs": [],
   "source": []
  },
  {
   "cell_type": "code",
   "execution_count": 190,
   "id": "2118b4ab",
   "metadata": {
    "scrolled": true
   },
   "outputs": [
    {
     "name": "stdout",
     "output_type": "stream",
     "text": [
      "Введить значення для поля name flfl\n",
      "Це поле не є валідним!\n",
      "Введить значення для поля name ffk\n",
      "Це поле не є валідним!\n"
     ]
    },
    {
     "ename": "KeyboardInterrupt",
     "evalue": "Interrupted by user",
     "output_type": "error",
     "traceback": [
      "\u001b[0;31m---------------------------------------------------------------------------\u001b[0m",
      "\u001b[0;31mKeyboardInterrupt\u001b[0m                         Traceback (most recent call last)",
      "\u001b[0;32m/tmp/ipykernel_110563/2601167688.py\u001b[0m in \u001b[0;36m<module>\u001b[0;34m\u001b[0m\n\u001b[1;32m      9\u001b[0m     \u001b[0mis_field_valid\u001b[0m \u001b[0;34m=\u001b[0m \u001b[0;32mFalse\u001b[0m\u001b[0;34m\u001b[0m\u001b[0;34m\u001b[0m\u001b[0m\n\u001b[1;32m     10\u001b[0m     \u001b[0;32mwhile\u001b[0m \u001b[0;32mnot\u001b[0m \u001b[0mis_field_valid\u001b[0m\u001b[0;34m:\u001b[0m\u001b[0;34m\u001b[0m\u001b[0;34m\u001b[0m\u001b[0m\n\u001b[0;32m---> 11\u001b[0;31m         \u001b[0mfield_value\u001b[0m \u001b[0;34m=\u001b[0m \u001b[0minput\u001b[0m\u001b[0;34m(\u001b[0m\u001b[0;34mf\"Введить значення для поля {field} \"\u001b[0m\u001b[0;34m)\u001b[0m\u001b[0;34m\u001b[0m\u001b[0;34m\u001b[0m\u001b[0m\n\u001b[0m\u001b[1;32m     12\u001b[0m         \u001b[0mis_field_valid\u001b[0m \u001b[0;34m=\u001b[0m \u001b[0mvalidate\u001b[0m\u001b[0;34m(\u001b[0m\u001b[0mfield_value\u001b[0m\u001b[0;34m)\u001b[0m\u001b[0;34m\u001b[0m\u001b[0;34m\u001b[0m\u001b[0m\n\u001b[1;32m     13\u001b[0m         \u001b[0;32mif\u001b[0m \u001b[0;32mnot\u001b[0m \u001b[0mis_field_valid\u001b[0m\u001b[0;34m:\u001b[0m\u001b[0;34m\u001b[0m\u001b[0;34m\u001b[0m\u001b[0m\n",
      "\u001b[0;32m~/anaconda3/lib/python3.9/site-packages/ipykernel/kernelbase.py\u001b[0m in \u001b[0;36mraw_input\u001b[0;34m(self, prompt)\u001b[0m\n\u001b[1;32m   1175\u001b[0m                 \u001b[0;34m\"raw_input was called, but this frontend does not support input requests.\"\u001b[0m\u001b[0;34m\u001b[0m\u001b[0;34m\u001b[0m\u001b[0m\n\u001b[1;32m   1176\u001b[0m             )\n\u001b[0;32m-> 1177\u001b[0;31m         return self._input_request(\n\u001b[0m\u001b[1;32m   1178\u001b[0m             \u001b[0mstr\u001b[0m\u001b[0;34m(\u001b[0m\u001b[0mprompt\u001b[0m\u001b[0;34m)\u001b[0m\u001b[0;34m,\u001b[0m\u001b[0;34m\u001b[0m\u001b[0;34m\u001b[0m\u001b[0m\n\u001b[1;32m   1179\u001b[0m             \u001b[0mself\u001b[0m\u001b[0;34m.\u001b[0m\u001b[0m_parent_ident\u001b[0m\u001b[0;34m[\u001b[0m\u001b[0;34m\"shell\"\u001b[0m\u001b[0;34m]\u001b[0m\u001b[0;34m,\u001b[0m\u001b[0;34m\u001b[0m\u001b[0;34m\u001b[0m\u001b[0m\n",
      "\u001b[0;32m~/anaconda3/lib/python3.9/site-packages/ipykernel/kernelbase.py\u001b[0m in \u001b[0;36m_input_request\u001b[0;34m(self, prompt, ident, parent, password)\u001b[0m\n\u001b[1;32m   1217\u001b[0m             \u001b[0;32mexcept\u001b[0m \u001b[0mKeyboardInterrupt\u001b[0m\u001b[0;34m:\u001b[0m\u001b[0;34m\u001b[0m\u001b[0;34m\u001b[0m\u001b[0m\n\u001b[1;32m   1218\u001b[0m                 \u001b[0;31m# re-raise KeyboardInterrupt, to truncate traceback\u001b[0m\u001b[0;34m\u001b[0m\u001b[0;34m\u001b[0m\u001b[0m\n\u001b[0;32m-> 1219\u001b[0;31m                 \u001b[0;32mraise\u001b[0m \u001b[0mKeyboardInterrupt\u001b[0m\u001b[0;34m(\u001b[0m\u001b[0;34m\"Interrupted by user\"\u001b[0m\u001b[0;34m)\u001b[0m \u001b[0;32mfrom\u001b[0m \u001b[0;32mNone\u001b[0m\u001b[0;34m\u001b[0m\u001b[0;34m\u001b[0m\u001b[0m\n\u001b[0m\u001b[1;32m   1220\u001b[0m             \u001b[0;32mexcept\u001b[0m \u001b[0mException\u001b[0m\u001b[0;34m:\u001b[0m\u001b[0;34m\u001b[0m\u001b[0;34m\u001b[0m\u001b[0m\n\u001b[1;32m   1221\u001b[0m                 \u001b[0mself\u001b[0m\u001b[0;34m.\u001b[0m\u001b[0mlog\u001b[0m\u001b[0;34m.\u001b[0m\u001b[0mwarning\u001b[0m\u001b[0;34m(\u001b[0m\u001b[0;34m\"Invalid Message:\"\u001b[0m\u001b[0;34m,\u001b[0m \u001b[0mexc_info\u001b[0m\u001b[0;34m=\u001b[0m\u001b[0;32mTrue\u001b[0m\u001b[0;34m)\u001b[0m\u001b[0;34m\u001b[0m\u001b[0;34m\u001b[0m\u001b[0m\n",
      "\u001b[0;31mKeyboardInterrupt\u001b[0m: Interrupted by user"
     ]
    }
   ],
   "source": [
    "\n",
    "\n",
    "mandatory_fields_list = [\"name\", \"year\", \"director\", \"imdb\"]\n",
    "\n",
    "non_mandatory_fields_list = [\"genre\", \"actors\", \"age\", \"duration\", \"language\"]\n",
    "\n",
    "for field in mandatory_fields_list:\n",
    "    is_field_valid = False\n",
    "    while not is_field_valid:\n",
    "        field_value = input(f\"Введить значення для поля {field} \")\n",
    "        is_field_valid = validate(field_value)\n",
    "        if not is_field_valid:\n",
    "            print(\"Це поле не є валідним!\")"
   ]
  },
  {
   "cell_type": "code",
   "execution_count": 191,
   "id": "cb117471",
   "metadata": {},
   "outputs": [],
   "source": []
  },
  {
   "cell_type": "code",
   "execution_count": null,
   "id": "c8c93d99",
   "metadata": {},
   "outputs": [],
   "source": [
    "example_film_dict = {\n",
    "    \"id\": 2,\n",
    "    \"name\": \"Аватар: Шлях води\",\n",
    "    \"genres\": [\"Action\"],\n",
    "    \"year\": 2022,\n",
    "    \"director\": \"James Cameron\",\n",
    "    \"imdb\": 7.8,\n",
    "}"
   ]
  },
  {
   "cell_type": "code",
   "execution_count": 172,
   "id": "2a66c01b",
   "metadata": {},
   "outputs": [
    {
     "name": "stdout",
     "output_type": "stream",
     "text": [
      "Вітаю в системі для збереження даних про фільми.\n",
      "Print help for help\n",
      "Введіть команду: help\n",
      "Вам доступні наступні команди:\n",
      "1. create\n",
      "2. update\n",
      "3. read\n",
      "4. delete\n",
      "Введіть команду: create\n",
      "create\n"
     ]
    }
   ],
   "source": [
    "command_to_function_mapping = {\n",
    "    \"create\": create_film,\n",
    "    \"update\": update_film,\n",
    "    \"delete\": delete_film,\n",
    "    \"read\": read_film\n",
    "}"
   ]
  },
  {
   "cell_type": "code",
   "execution_count": 163,
   "id": "1354dec6",
   "metadata": {},
   "outputs": [
    {
     "name": "stdout",
     "output_type": "stream",
     "text": [
      "Вітаю в системі для збереження даних про фільми. \n",
      "Ви можете ввести наступні команди:\n",
      "1. create\n",
      "2. update\n",
      "3. read\n",
      "4. delete\n"
     ]
    }
   ],
   "source": [
    "print(\"\"\"Вітаю в системі для збереження даних про фільми. \n",
    "Ви можете ввести наступні команди:\"\"\")\n",
    "for number, command in enumerate(commands_container):\n",
    "    print(f\"{number + 1}. {command}\")"
   ]
  },
  {
   "cell_type": "code",
   "execution_count": null,
   "id": "02da4bde",
   "metadata": {},
   "outputs": [],
   "source": []
  },
  {
   "cell_type": "code",
   "execution_count": null,
   "id": "736abdc4",
   "metadata": {},
   "outputs": [],
   "source": [
    "[{\n",
    "    \"id\": 3,\n",
    "    \"name\": \"Аватар: Шлях води 3\",\n",
    "    \"genres\": [\"Action\"],\n",
    "    \"year\": 2022,\n",
    "    \"director\": \"James Cameron\",\n",
    "    \"imdb\": 7.8,    \n",
    "},\n",
    "{\n",
    "    \"id\": 3,\n",
    "    \"name\": \"Аватар: Шлях води 3\",\n",
    "    \"genres\": [\"Action\"],\n",
    "    \"year\": 2022,\n",
    "    \"director\": \"James Cameron\",\n",
    "    \"imdb\": 7.8,    \n",
    "},\n",
    "{\n",
    "    \"id\": 3,\n",
    "    \"name\": \"Аватар: Шлях води 3\",\n",
    "    \"genres\": [\"Action\"],\n",
    "    \"year\": 2022,\n",
    "    \"director\": \"James Cameron\",\n",
    "    \"imdb\": 7.8,    \n",
    "}]"
   ]
  },
  {
   "cell_type": "code",
   "execution_count": null,
   "id": "eb285b7e",
   "metadata": {},
   "outputs": [],
   "source": []
  },
  {
   "cell_type": "markdown",
   "id": "ca6d8d55",
   "metadata": {},
   "source": [
    "##### "
   ]
  },
  {
   "cell_type": "code",
   "execution_count": null,
   "id": "18322205",
   "metadata": {},
   "outputs": [],
   "source": []
  },
  {
   "cell_type": "code",
   "execution_count": null,
   "id": "938bdaf4",
   "metadata": {},
   "outputs": [],
   "source": [
    "#Here goes code for average rank of the film in the last dataset"
   ]
  },
  {
   "cell_type": "code",
   "execution_count": null,
   "id": "4936778f",
   "metadata": {},
   "outputs": [],
   "source": [
    "nested_dict = {\n",
    "    \"key\": \"value\",\n",
    "    \"another_key\":\n",
    "    {\n",
    "        \"yet_another_key\": \"yet_another_value\",\n",
    "        \"and_yet_another_key\": \n",
    "        [\n",
    "            {\n",
    "                \"i_am_tired_of_this_keys\": \"i_am_tired_of_this_value\"\n",
    "            },\n",
    "            {\n",
    "                \"hey!\": \"don't soomoovat'!\"\n",
    "            },\n",
    "            \"just some random string\".\n",
    "            [\n",
    "                \"yes\",\n",
    "                \"i\", \n",
    "                \"created\", \n",
    "                \"nested\", \n",
    "                \"list\", \n",
    "                \"in\", \n",
    "                \"nested\", \n",
    "                \"dict\", \n",
    "                {\n",
    "                    \"with a dict\": \"in here!\"\n",
    "                }\n",
    "            ]\n",
    "        ]\n",
    "    }\n",
    "}"
   ]
  },
  {
   "cell_type": "code",
   "execution_count": 131,
   "id": "828b6f0d",
   "metadata": {},
   "outputs": [],
   "source": [
    "d = {'a': 10, 'b': 20, 'c': 30}"
   ]
  },
  {
   "cell_type": "code",
   "execution_count": 132,
   "id": "72e3a930",
   "metadata": {},
   "outputs": [],
   "source": [
    "d.clear()"
   ]
  },
  {
   "cell_type": "code",
   "execution_count": 134,
   "id": "110b4a02",
   "metadata": {},
   "outputs": [
    {
     "data": {
      "text/plain": [
       "dict"
      ]
     },
     "execution_count": 134,
     "metadata": {},
     "output_type": "execute_result"
    }
   ],
   "source": [
    "d"
   ]
  },
  {
   "cell_type": "code",
   "execution_count": 135,
   "id": "c310d803",
   "metadata": {},
   "outputs": [],
   "source": [
    "a = {1: 2}"
   ]
  },
  {
   "cell_type": "code",
   "execution_count": 139,
   "id": "53449731",
   "metadata": {},
   "outputs": [
    {
     "data": {
      "text/plain": [
       "-1"
      ]
     },
     "execution_count": 139,
     "metadata": {},
     "output_type": "execute_result"
    }
   ],
   "source": [
    "a.get(10, -1)"
   ]
  },
  {
   "cell_type": "code",
   "execution_count": null,
   "id": "b09f076a",
   "metadata": {},
   "outputs": [],
   "source": [
    "a.get(6, \"Default value\")"
   ]
  },
  {
   "cell_type": "code",
   "execution_count": 140,
   "id": "165cd2c1",
   "metadata": {},
   "outputs": [],
   "source": [
    "dict_from_compr = {key: key**2 for key in range(10, 1, -1)}"
   ]
  },
  {
   "cell_type": "code",
   "execution_count": 141,
   "id": "e10294a4",
   "metadata": {},
   "outputs": [
    {
     "data": {
      "text/plain": [
       "{10: 100, 9: 81, 8: 64, 7: 49, 6: 36, 5: 25, 4: 16, 3: 9, 2: 4}"
      ]
     },
     "execution_count": 141,
     "metadata": {},
     "output_type": "execute_result"
    }
   ],
   "source": [
    "dict_from_compr"
   ]
  },
  {
   "cell_type": "code",
   "execution_count": null,
   "id": "84219528",
   "metadata": {},
   "outputs": [],
   "source": [
    "dict_from_compr.keys()"
   ]
  },
  {
   "cell_type": "code",
   "execution_count": null,
   "id": "d6064e53",
   "metadata": {},
   "outputs": [],
   "source": [
    "dict_from_compr.values()"
   ]
  },
  {
   "cell_type": "code",
   "execution_count": null,
   "id": "27105889",
   "metadata": {},
   "outputs": [],
   "source": [
    "dict_from_compr.items()"
   ]
  },
  {
   "cell_type": "code",
   "execution_count": null,
   "id": "08cdf33c",
   "metadata": {},
   "outputs": [],
   "source": [
    "dict_from_compr.pop(0)"
   ]
  },
  {
   "cell_type": "code",
   "execution_count": 143,
   "id": "02c66ae5",
   "metadata": {},
   "outputs": [
    {
     "data": {
      "text/plain": [
       "4"
      ]
     },
     "execution_count": 143,
     "metadata": {},
     "output_type": "execute_result"
    }
   ],
   "source": [
    "dict_from_compr.pop(2, \"Default value\")"
   ]
  },
  {
   "cell_type": "code",
   "execution_count": 144,
   "id": "628c2db6",
   "metadata": {},
   "outputs": [
    {
     "data": {
      "text/plain": [
       "{10: 100, 9: 81, 8: 64, 7: 49, 6: 36, 5: 25, 4: 16, 3: 9}"
      ]
     },
     "execution_count": 144,
     "metadata": {},
     "output_type": "execute_result"
    }
   ],
   "source": [
    "dict_from_compr"
   ]
  },
  {
   "cell_type": "code",
   "execution_count": null,
   "id": "cf0aab95",
   "metadata": {},
   "outputs": [],
   "source": [
    "dict_from_compr"
   ]
  },
  {
   "cell_type": "code",
   "execution_count": 145,
   "id": "3efdd89c",
   "metadata": {},
   "outputs": [
    {
     "data": {
      "text/plain": [
       "(3, 9)"
      ]
     },
     "execution_count": 145,
     "metadata": {},
     "output_type": "execute_result"
    }
   ],
   "source": [
    "dict_from_compr.popitem()"
   ]
  },
  {
   "cell_type": "code",
   "execution_count": 146,
   "id": "48593c39",
   "metadata": {},
   "outputs": [
    {
     "data": {
      "text/plain": [
       "{10: 100, 9: 81, 8: 64, 7: 49, 6: 36, 5: 25, 4: 16}"
      ]
     },
     "execution_count": 146,
     "metadata": {},
     "output_type": "execute_result"
    }
   ],
   "source": [
    "dict_from_compr"
   ]
  },
  {
   "cell_type": "code",
   "execution_count": 147,
   "id": "d47bcd40",
   "metadata": {},
   "outputs": [
    {
     "name": "stdout",
     "output_type": "stream",
     "text": [
      "Введи перший операнд 1.2\n",
      "Введи другий операнд 2.0\n",
      "Введи дію +\n",
      "3.2\n"
     ]
    }
   ],
   "source": [
    "DEFAULT_VALUE_ON_INCORRECT_OP = \"Введи іншу операцію! Цей символ некорректний!\"\n",
    "\n",
    "a = float(input(\"Введи перший операнд \"))\n",
    "b = float(input(\"Введи другий операнд \"))\n",
    "\n",
    "command = input(\"Введи дію \")\n",
    "\n",
    "operations_dict = {\n",
    "    \"+\": a + b,\n",
    "    \"-\": a - b,\n",
    "    \"*\": a*b,\n",
    "    \"/\": a/b if b !=0 else \"Division by zero is prohibited\"\n",
    "}\n",
    "\n",
    "print(operations_dict.get(command, DEFAULT_VALUE_ON_INCORRECT_OP))"
   ]
  },
  {
   "cell_type": "code",
   "execution_count": null,
   "id": "d3bf7cd0",
   "metadata": {},
   "outputs": [],
   "source": [
    "print(\"Привіт! Ця проста програма приймає кордони значень, крок і команду, \\\n",
    "      що описує список, який треба згенерувати\")\n",
    "\n",
    "lower_threshold = int(input(\"Введи нижнє обмеження для програми\"))\n",
    "upper_threshold = int(input(\"Введи верхнє обмеження для програми\"))\n",
    "step = int(input(\"Введи крок, з яким ми будемо ітеруватися\"))\n",
    "\n",
    "command = input(\"Введи команду. Доступні команди: make_squares, make_cubes\")\n",
    "\n",
    "is_odd = input(\"Введи команду для парності числа. Введи odd для підрахунку списку для непарних\\\n",
    "чисел і even для парних\")\n",
    "\n",
    "commands_to_actions_mapping = {\n",
    "    \"make_squares\": {\n",
    "        \"even\": (i**2 for i in range(lower_threshold, upper_threshold, step) if i%2 == 0),\n",
    "        \"odd\":  (i**2 for i in range(lower_threshold, upper_threshold, step) if i%2 == 1),\n",
    "    },\n",
    "    \"make_cubes\": {\n",
    "        \"even\": (i**3 for i in range(lower_threshold, upper_threshold, step) if i%2 == 0),\n",
    "        \"odd\":  (i**3 for i in range(lower_threshold, upper_threshold, step) if i%2 == 1),\n",
    "    }\n",
    "}\n",
    "\n",
    "print(list(commands_to_actions_mapping[command][is_odd]))"
   ]
  }
 ],
 "metadata": {
  "kernelspec": {
   "display_name": "Python 3 (ipykernel)",
   "language": "python",
   "name": "python3"
  },
  "language_info": {
   "codemirror_mode": {
    "name": "ipython",
    "version": 3
   },
   "file_extension": ".py",
   "mimetype": "text/x-python",
   "name": "python",
   "nbconvert_exporter": "python",
   "pygments_lexer": "ipython3",
   "version": "3.9.13"
  }
 },
 "nbformat": 4,
 "nbformat_minor": 5
}
