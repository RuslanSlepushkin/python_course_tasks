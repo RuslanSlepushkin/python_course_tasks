{
 "cells": [
  {
   "cell_type": "markdown",
   "id": "99f58d4b",
   "metadata": {},
   "source": [
    "# 1. Трохи про функції:"
   ]
  },
  {
   "cell_type": "markdown",
   "id": "7e2068cd",
   "metadata": {},
   "source": [
    "Назва функції, а, також, набір аргументів з їхніми іменами називається сігнатурою"
   ]
  },
  {
   "cell_type": "code",
   "execution_count": 6,
   "id": "624a1381",
   "metadata": {},
   "outputs": [],
   "source": [
    "def make_some_noise(arg1, arg2, arg3, arg4 = None):\n",
    "    print(\"My signature is make_some_noise: arg1, arg2, arg3 and here are their values: \",\n",
    "          f\"{arg1},\",\n",
    "          f\"{arg2},\",\n",
    "          f\"{arg3}\")\n",
    "    if arg4 is not None:\n",
    "        print(\"Yay! arg4 was initialized!\")"
   ]
  },
  {
   "cell_type": "code",
   "execution_count": 7,
   "id": "865d9feb",
   "metadata": {},
   "outputs": [
    {
     "name": "stdout",
     "output_type": "stream",
     "text": [
      "My signature is make_some_noise: arg1, arg2, arg3 and here are their values:  1, 2, 3\n"
     ]
    }
   ],
   "source": [
    "make_some_noise(1, 2, 3)"
   ]
  },
  {
   "cell_type": "code",
   "execution_count": 8,
   "id": "65d91967",
   "metadata": {},
   "outputs": [
    {
     "name": "stdout",
     "output_type": "stream",
     "text": [
      "My signature is make_some_noise: arg1, arg2, arg3 and here are their values:  1, 2, 3\n",
      "Yay! arg4 was initialized!\n"
     ]
    }
   ],
   "source": [
    "make_some_noise(1, 2, 3, 4)"
   ]
  },
  {
   "cell_type": "markdown",
   "id": "406dbb26",
   "metadata": {},
   "source": [
    "Існує можливість описати функцію або її аргументи перед описом її логіки, що може бути корисним для подальшого використання. Цей рядок-опис називається docstring"
   ]
  },
  {
   "cell_type": "code",
   "execution_count": 9,
   "id": "c5a6b3ab",
   "metadata": {},
   "outputs": [],
   "source": [
    "def docstring_example_func():\n",
    "    \"\"\"This is the docstring of a function\"\"\"\n",
    "    pass"
   ]
  },
  {
   "cell_type": "code",
   "execution_count": 12,
   "id": "2927bd89",
   "metadata": {},
   "outputs": [
    {
     "name": "stdout",
     "output_type": "stream",
     "text": [
      "This is the docstring of a function\n"
     ]
    }
   ],
   "source": [
    "print(docstring_example_func.__doc__)"
   ]
  },
  {
   "cell_type": "code",
   "execution_count": 13,
   "id": "a60861d9",
   "metadata": {},
   "outputs": [],
   "source": [
    "def calculate_vector_module(x, y):\n",
    "    \"\"\"This function calculates vector module.\n",
    "    Args:\n",
    "    x - float, the x coordinate of vector\n",
    "    y - float, the y coordinate of vector\"\"\"\n",
    "    module = (x**2 + y**2)**0.5\n",
    "    return module"
   ]
  },
  {
   "cell_type": "code",
   "execution_count": 14,
   "id": "c34751d5",
   "metadata": {},
   "outputs": [
    {
     "name": "stdout",
     "output_type": "stream",
     "text": [
      "This function calculates vector module.\n",
      "    Args:\n",
      "    x - float, the x coordinate of vector\n",
      "    y - float, the y coordinate of vector\n"
     ]
    }
   ],
   "source": [
    "print(calculate_vector_module.__doc__)"
   ]
  },
  {
   "cell_type": "code",
   "execution_count": 24,
   "id": "bfbe8925",
   "metadata": {},
   "outputs": [
    {
     "name": "stdout",
     "output_type": "stream",
     "text": [
      "<class 'str'>\n"
     ]
    }
   ],
   "source": [
    "print(type(str(21)))"
   ]
  },
  {
   "cell_type": "code",
   "execution_count": 30,
   "id": "fad07755",
   "metadata": {},
   "outputs": [
    {
     "name": "stdout",
     "output_type": "stream",
     "text": [
      "This function calculates vector module.\n",
      "    Args:\n",
      "    x - float, the x coordinate of vector\n",
      "    y - float, the y coordinate of vector\n"
     ]
    }
   ],
   "source": [
    "print(calculate_vector_module(1, 2))"
   ]
  },
  {
   "cell_type": "markdown",
   "id": "a148bcee",
   "metadata": {},
   "source": [
    "Правила написання докстрінгів можна знайти [тут](https://peps.python.org/pep-0257/)"
   ]
  },
  {
   "cell_type": "code",
   "execution_count": 34,
   "id": "d69dd9e2",
   "metadata": {},
   "outputs": [],
   "source": [
    "some_mutable_obj = list()\n",
    "\n",
    "def example_func(my_precious_arg = some_mutable_obj):\n",
    "    print(my_precious_arg)"
   ]
  },
  {
   "cell_type": "code",
   "execution_count": 103,
   "id": "9d70feee",
   "metadata": {},
   "outputs": [
    {
     "name": "stdout",
     "output_type": "stream",
     "text": [
      "[]\n",
      "[1]\n"
     ]
    }
   ],
   "source": [
    "example_func()\n",
    "some_mutable_obj.append(1)\n",
    "example_func()"
   ]
  },
  {
   "cell_type": "code",
   "execution_count": null,
   "id": "1ae47795",
   "metadata": {},
   "outputs": [],
   "source": [
    "print(type(example_func))"
   ]
  },
  {
   "cell_type": "code",
   "execution_count": 106,
   "id": "2584526c",
   "metadata": {},
   "outputs": [],
   "source": [
    "my_lambda_func = lambda arg1, arg2: arg1*arg2"
   ]
  },
  {
   "cell_type": "code",
   "execution_count": 105,
   "id": "63abc1d1",
   "metadata": {},
   "outputs": [
    {
     "data": {
      "text/plain": [
       "[1, 4, 9, 16, 25]"
      ]
     },
     "execution_count": 105,
     "metadata": {},
     "output_type": "execute_result"
    }
   ],
   "source": [
    "list(map(lambda x: x**2, [1, 2, 3, 4, 5]))"
   ]
  },
  {
   "cell_type": "code",
   "execution_count": 107,
   "id": "d5f349d8",
   "metadata": {},
   "outputs": [
    {
     "name": "stdout",
     "output_type": "stream",
     "text": [
      "<class 'function'>\n"
     ]
    }
   ],
   "source": [
    "print(type(my_lambda_func))"
   ]
  },
  {
   "cell_type": "code",
   "execution_count": 112,
   "id": "ca2e5c6b",
   "metadata": {},
   "outputs": [
    {
     "name": "stdout",
     "output_type": "stream",
     "text": [
      "6\n"
     ]
    }
   ],
   "source": [
    "print(my_lambda_func(arg1=3, arg2=2))"
   ]
  },
  {
   "cell_type": "markdown",
   "id": "77a8fd9c",
   "metadata": {},
   "source": [
    "# 2. Трошки про type hints"
   ]
  },
  {
   "cell_type": "code",
   "execution_count": null,
   "id": "3bf236e4",
   "metadata": {},
   "outputs": [],
   "source": [
    "my_int_var: int = 2"
   ]
  },
  {
   "cell_type": "code",
   "execution_count": null,
   "id": "67d07682",
   "metadata": {},
   "outputs": [],
   "source": [
    "print(my_int_var)"
   ]
  },
  {
   "cell_type": "code",
   "execution_count": null,
   "id": "b9b55cdf",
   "metadata": {},
   "outputs": [],
   "source": [
    "my_another_int_var: int = 2.0"
   ]
  },
  {
   "cell_type": "code",
   "execution_count": null,
   "id": "046b30ba",
   "metadata": {},
   "outputs": [],
   "source": [
    "print(my_another_int_var)"
   ]
  },
  {
   "cell_type": "code",
   "execution_count": null,
   "id": "d436bb92",
   "metadata": {},
   "outputs": [],
   "source": [
    "from typing import List\n",
    "\n",
    "my_homogenic_list: List[str] = [\"Hello\", \"guys\", \"!\"]"
   ]
  },
  {
   "cell_type": "code",
   "execution_count": null,
   "id": "b3bd10c7",
   "metadata": {},
   "outputs": [],
   "source": [
    "print(my_homogenic_list)"
   ]
  },
  {
   "cell_type": "code",
   "execution_count": null,
   "id": "5b1c9fda",
   "metadata": {},
   "outputs": [],
   "source": [
    "from typing import List, Union, Any\n",
    "\n",
    "my_heterogenic_list_1: List[Union[int, float]] = [1, 2, 3, .0, 5.4]\n",
    "my_heterogenic_list_2: List[Any] = [1, 2, \"4\", None, \"jfjfj\", [\"hello\"]]"
   ]
  },
  {
   "cell_type": "code",
   "execution_count": null,
   "id": "e5b2824d",
   "metadata": {},
   "outputs": [],
   "source": [
    "from typing import Dict\n",
    "\n",
    "my_precious_dict: Dict[str, int] = {\"a\": 1, \"b\": 2, \"c\": 3}"
   ]
  },
  {
   "cell_type": "code",
   "execution_count": null,
   "id": "9d568641",
   "metadata": {},
   "outputs": [],
   "source": [
    "def multiplicate_three_nums(a: float, b: float, c: float) -> float:\n",
    "    return a*b*c"
   ]
  },
  {
   "cell_type": "code",
   "execution_count": null,
   "id": "f146d6d5",
   "metadata": {},
   "outputs": [],
   "source": [
    "from typing import List, Any\n",
    "\n",
    "def append_value_to_list(my_list: List[Any], my_value: Any) -> None:\n",
    "    my_list.append(my_value)"
   ]
  },
  {
   "cell_type": "code",
   "execution_count": null,
   "id": "820d9c73",
   "metadata": {},
   "outputs": [],
   "source": [
    "some_list = [1, 2, 3, 4, 6]\n",
    "some_value = 10000\n",
    "\n",
    "print(append_value_to_list(some_list, some_value))\n",
    "print(some_list)"
   ]
  },
  {
   "cell_type": "markdown",
   "id": "7ffce5a4",
   "metadata": {},
   "source": [
    "# 3. Ще раз про map і list comprehension"
   ]
  },
  {
   "cell_type": "code",
   "execution_count": null,
   "id": "c3c66910",
   "metadata": {},
   "outputs": [],
   "source": [
    "my_list: List[int] = [number for number in range(1, 11)]"
   ]
  },
  {
   "cell_type": "code",
   "execution_count": null,
   "id": "2c73a44f",
   "metadata": {},
   "outputs": [],
   "source": [
    "def calculate_square(number: int) -> int:\n",
    "    return number*number\n"
   ]
  },
  {
   "cell_type": "code",
   "execution_count": null,
   "id": "4410e0af",
   "metadata": {},
   "outputs": [],
   "source": [
    "from typing import Callable\n",
    "\n",
    "another_square: Callable = lambda number: number*number"
   ]
  },
  {
   "cell_type": "code",
   "execution_count": null,
   "id": "4a7cd24d",
   "metadata": {},
   "outputs": [],
   "source": [
    "sq_list_1 = list(map(square, my_list))"
   ]
  },
  {
   "cell_type": "code",
   "execution_count": null,
   "id": "ea55e501",
   "metadata": {},
   "outputs": [],
   "source": [
    "sq_list_2 = list(map(another_square, my_list))"
   ]
  },
  {
   "cell_type": "code",
   "execution_count": null,
   "id": "dcf17dca",
   "metadata": {},
   "outputs": [],
   "source": [
    "sq_list_3 = [square(num) for num in my_list]"
   ]
  },
  {
   "cell_type": "code",
   "execution_count": null,
   "id": "510e76e7",
   "metadata": {},
   "outputs": [],
   "source": [
    "sq_list_4 = [another_square(num) for num in my_list]"
   ]
  },
  {
   "cell_type": "code",
   "execution_count": null,
   "id": "05f9024c",
   "metadata": {},
   "outputs": [],
   "source": [
    "sq_list_5 = [(lambda x: x**2)(num) for num in my_list]"
   ]
  },
  {
   "cell_type": "code",
   "execution_count": null,
   "id": "f2342226",
   "metadata": {},
   "outputs": [],
   "source": [
    "sq_list_6 = list(map(lambda t: t*t, my_list))"
   ]
  },
  {
   "cell_type": "code",
   "execution_count": null,
   "id": "77e4773f",
   "metadata": {},
   "outputs": [],
   "source": [
    "print(sq_list_1, sq_list_2, sq_list_3, sq_list_4, sq_list_5, sq_list_6, sep=\"\\n\")"
   ]
  }
 ],
 "metadata": {
  "kernelspec": {
   "display_name": "Python 3 (ipykernel)",
   "language": "python",
   "name": "python3"
  },
  "language_info": {
   "codemirror_mode": {
    "name": "ipython",
    "version": 3
   },
   "file_extension": ".py",
   "mimetype": "text/x-python",
   "name": "python",
   "nbconvert_exporter": "python",
   "pygments_lexer": "ipython3",
   "version": "3.9.16"
  }
 },
 "nbformat": 4,
 "nbformat_minor": 5
}
