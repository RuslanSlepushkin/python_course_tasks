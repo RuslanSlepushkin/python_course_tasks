{
 "cells": [
  {
   "cell_type": "markdown",
   "id": "be2c6513-c29b-4173-b952-e21c1173423a",
   "metadata": {
    "tags": []
   },
   "source": [
    "## Можна сміливо сказати, що програмування - це завжди про \"якісь дії\" з \"якимись даними\".\n",
    "## А, значить, для того, щоб писати коректні програми, треба \n",
    "\n",
    "### 1. Розуміти, з якими даними ви маєте справу на вході програми.\n",
    "### 2. Розуміти, який вихідний результат від програми очікується.\n",
    "### 3. Розуміти, які операції над вхідними даними треба провести, щоб отримати очікуваний результат."
   ]
  },
  {
   "cell_type": "markdown",
   "id": "c70eff89-e7cd-4419-bfd7-5736f7845a96",
   "metadata": {
    "tags": []
   },
   "source": [
    "### Перші два пункти включають аналіз того, з якими типами даних ви працюєте, як ці типи взаємодіють між собою, які в них є можливості та обмеження."
   ]
  },
  {
   "cell_type": "markdown",
   "id": "532654dc",
   "metadata": {},
   "source": [
    "### Питання 0: як працюватиме наступний код?"
   ]
  },
  {
   "cell_type": "markdown",
   "id": "31538796-ef70-4ad2-935a-b9ab32e150e3",
   "metadata": {},
   "source": [
    "### Питання 1: згадати та навести по прикладу значення кожного базового типа в Python:"
   ]
  },
  {
   "cell_type": "code",
   "execution_count": null,
   "id": "2890247a-3906-4d0d-a069-b475b6f0a60d",
   "metadata": {
    "tags": []
   },
   "outputs": [],
   "source": []
  },
  {
   "cell_type": "markdown",
   "id": "683470d2-556b-4c7c-86b0-49b3f97aa36f",
   "metadata": {
    "tags": []
   },
   "source": [
    "### Будемо називати кожне окреме значення кожного окремого типа \"інстансом\" (instance), або \"об'єктом\" (object) певного типу."
   ]
  },
  {
   "cell_type": "code",
   "execution_count": 19,
   "id": "c6756749-ea30-4879-a7bf-20ebd2d9d87d",
   "metadata": {
    "tags": []
   },
   "outputs": [],
   "source": [
    "int_var = 12\n",
    "\n",
    "# об'єкт типу int"
   ]
  },
  {
   "cell_type": "code",
   "execution_count": 20,
   "id": "2cbdbadb-084d-4ffd-844f-cc4842e2bc64",
   "metadata": {
    "tags": []
   },
   "outputs": [],
   "source": [
    "string_var = \"Morning, boys! How's the water?\"\n",
    "\n",
    "# об'єкт типу string"
   ]
  },
  {
   "cell_type": "code",
   "execution_count": 21,
   "id": "fd2deede-9a7c-4276-9291-5431dbf56384",
   "metadata": {
    "tags": []
   },
   "outputs": [],
   "source": [
    "float_var_1 = 0.1\n",
    "float_var_2 = 0.2\n",
    "\n",
    "# інстанси типу float"
   ]
  },
  {
   "cell_type": "markdown",
   "id": "9211b5e4-7f61-48c5-a235-b8eab4ffbb01",
   "metadata": {
    "tags": []
   },
   "source": [
    "### Типи задають не тільки вид даних, а й операції, котрі над ними можна проводити. Наприклад, ми можемо додавати int + int"
   ]
  },
  {
   "cell_type": "code",
   "execution_count": 22,
   "id": "6b042ce6-a154-45de-a57b-397ec0867ac3",
   "metadata": {
    "tags": []
   },
   "outputs": [
    {
     "name": "stdout",
     "output_type": "stream",
     "text": [
      "3\n"
     ]
    }
   ],
   "source": [
    "print(1+2)"
   ]
  },
  {
   "cell_type": "markdown",
   "id": "29c958b5-db55-4f20-9b24-d52d40801634",
   "metadata": {
    "tags": []
   },
   "source": [
    "### Або string + string:"
   ]
  },
  {
   "cell_type": "code",
   "execution_count": 23,
   "id": "bb76a8db-6580-4a8a-a50d-6e864402231c",
   "metadata": {
    "tags": []
   },
   "outputs": [],
   "source": [
    "first = \"I'm\"\n",
    "second = \" your teacher\""
   ]
  },
  {
   "cell_type": "code",
   "execution_count": 24,
   "id": "070c92b1-1a49-48a9-9041-963ef99cfc0b",
   "metadata": {
    "tags": []
   },
   "outputs": [
    {
     "name": "stdout",
     "output_type": "stream",
     "text": [
      "I'm your teacher\n"
     ]
    }
   ],
   "source": [
    "print (first + second)"
   ]
  },
  {
   "cell_type": "markdown",
   "id": "0858a4e3-57fa-4bd3-8267-1aa58cf3ac4f",
   "metadata": {},
   "source": [
    "### Питання 2: який буде результат операції нижче?"
   ]
  },
  {
   "cell_type": "code",
   "execution_count": 25,
   "id": "103729e4-edc6-434a-9db3-e6ab5862835f",
   "metadata": {
    "tags": []
   },
   "outputs": [],
   "source": [
    "float_sum = 0.1 + 0.2"
   ]
  },
  {
   "cell_type": "code",
   "execution_count": 26,
   "id": "2559b33a-7695-45b1-bb8d-c9b448e2d03a",
   "metadata": {
    "tags": []
   },
   "outputs": [
    {
     "name": "stdout",
     "output_type": "stream",
     "text": [
      "0.30000000000000004\n"
     ]
    }
   ],
   "source": [
    "print(float_sum)"
   ]
  },
  {
   "cell_type": "markdown",
   "id": "31fcf54f-7d1a-4a50-a282-6383b26c1977",
   "metadata": {
    "tags": []
   },
   "source": [
    "### Це все результат такого явища, як floating point precision error. Числа з плаваючою точкою не є безкінечно точними. Існує безліч задач, де їхньої точності достатньо. Але, також, існують задачі, де їхнє використання недоцільно. Наприклад, в них не бажано зберігати фінансову інформацію. [Ось більше деталей про те, як зазвичай влаштований float](https://www.youtube.com/watch?v=PZRI1IfStY0)"
   ]
  },
  {
   "cell_type": "markdown",
   "id": "084d86f4-308d-4917-adaf-10b52515135c",
   "metadata": {
    "tags": []
   },
   "source": [
    "### Іноді, можна робити операції над значеннями різних типів."
   ]
  },
  {
   "cell_type": "code",
   "execution_count": 28,
   "id": "b877ce67-7d0f-4b65-803a-07da0d13e77b",
   "metadata": {
    "tags": []
   },
   "outputs": [
    {
     "name": "stdout",
     "output_type": "stream",
     "text": [
      "Тип першого операнду: <class 'int'>\n"
     ]
    }
   ],
   "source": [
    "first_operand = 1\n",
    "print(f\"Тип першого операнду: {type(first_operand)}\")"
   ]
  },
  {
   "cell_type": "code",
   "execution_count": 29,
   "id": "177d9a55-7b42-4365-8837-c8e219bdf6ea",
   "metadata": {
    "tags": []
   },
   "outputs": [],
   "source": [
    "sum_float_int = 0.1 + 1.0"
   ]
  },
  {
   "cell_type": "code",
   "execution_count": 30,
   "id": "61672805-e454-4231-8a69-5d28eb49deef",
   "metadata": {
    "tags": []
   },
   "outputs": [
    {
     "name": "stdout",
     "output_type": "stream",
     "text": [
      "1.1\n"
     ]
    }
   ],
   "source": [
    "print(sum_float_int)"
   ]
  },
  {
   "cell_type": "code",
   "execution_count": 31,
   "id": "6b74afd5-a6c3-435f-aadf-d4968e105d6a",
   "metadata": {
    "tags": []
   },
   "outputs": [
    {
     "name": "stdout",
     "output_type": "stream",
     "text": [
      "<class 'float'>\n"
     ]
    }
   ],
   "source": [
    "print(type(sum_float_int))"
   ]
  },
  {
   "cell_type": "code",
   "execution_count": null,
   "id": "0e3f8ee0",
   "metadata": {},
   "outputs": [],
   "source": []
  },
  {
   "cell_type": "markdown",
   "id": "708fa3a6-851c-4e82-bbdf-935589dd0b8f",
   "metadata": {},
   "source": [
    "### У випадку взаємодії типів int і float відбулося так зване приведення типів. Фактично, для того, щоб скласти int і float ми зробили із int число з плаваючою точкою.\n",
    "### Це був приклад неявного приведення типів (implicit type conversion). В тих мовах, де воно існує, зазвичай є певна ієрархія типів даних (наприклад, у Python, коли відбувається операція між float і int, всі цілі числа приводяться до float)."
   ]
  },
  {
   "cell_type": "markdown",
   "id": "94234962-1728-4c38-9633-2dea70506369",
   "metadata": {},
   "source": [
    "### Окрім цього ми можемо змінити тип даних явно. Для цього достатньо викликати так званий конструктор відповідного типу. Конструктори базових типів - такі ж вбудовані функції, як print(), len(), abs() і так далі. Більше вбудованих функцій [тут](https://www.w3schools.com/python/python_ref_functions.asp)."
   ]
  },
  {
   "cell_type": "code",
   "execution_count": 32,
   "id": "3de3b376-a8db-499f-898b-fe05617d9d18",
   "metadata": {
    "tags": []
   },
   "outputs": [
    {
     "name": "stdout",
     "output_type": "stream",
     "text": [
      "Зараз тип змінної string_var: <class 'str'>\n",
      "Після приведення до float тип став <class 'float'>, а значення стало: 19.91\n"
     ]
    }
   ],
   "source": [
    "string_var = \"19.91\"\n",
    "print(f\"Зараз тип змінної string_var: {type(string_var)}\")\n",
    "\n",
    "casted_to_float_var = float(string_var)\n",
    "print(f\"Після приведення до float тип став {type(casted_to_float_var)}, а значення стало: {casted_to_float_var}\")"
   ]
  },
  {
   "cell_type": "markdown",
   "id": "42787d56-4433-41b1-840b-aaab3933589b",
   "metadata": {},
   "source": [
    "### Питання 3: яким буде результат цих двох операцій int(string_var)"
   ]
  },
  {
   "cell_type": "code",
   "execution_count": 68,
   "id": "13d3cd95-39b9-4169-940d-e230d9745b85",
   "metadata": {},
   "outputs": [],
   "source": [
    "casted_to_int_another_string = int(\"212\")"
   ]
  },
  {
   "cell_type": "markdown",
   "id": "f3cc3d07-a0c3-447e-9df4-5a6ccf756997",
   "metadata": {},
   "source": [
    "### Як бачимо, далеко не кожний рядок можна перетворити в число. Але будь яке число може бути перетворене в рядок"
   ]
  },
  {
   "cell_type": "code",
   "execution_count": 51,
   "id": "acd48c2d-aa21-48ff-8291-9373f2fa5546",
   "metadata": {
    "tags": []
   },
   "outputs": [],
   "source": [
    "integer_value = 1995\n",
    "float_value = 19.95"
   ]
  },
  {
   "cell_type": "code",
   "execution_count": 52,
   "id": "6256c883-5c41-429f-8bbb-381a719c24a1",
   "metadata": {
    "tags": []
   },
   "outputs": [],
   "source": [
    "int_casted_to_str = str(integer_value)\n",
    "float_casted_to_str = str(float_value)"
   ]
  },
  {
   "cell_type": "code",
   "execution_count": 53,
   "id": "9c7237b0-e83e-4785-bf4c-8cb4ee9a6177",
   "metadata": {
    "tags": []
   },
   "outputs": [],
   "source": [
    "concatenated_string = int_casted_to_str + float_casted_to_str"
   ]
  },
  {
   "cell_type": "code",
   "execution_count": 55,
   "id": "b2c8e6ca-bff2-4b4a-a9f3-e330679c5a67",
   "metadata": {
    "tags": []
   },
   "outputs": [
    {
     "data": {
      "text/plain": [
       "'AB'"
      ]
     },
     "execution_count": 55,
     "metadata": {},
     "output_type": "execute_result"
    }
   ],
   "source": [
    "concatenate(\"A\", \"B\")"
   ]
  },
  {
   "cell_type": "markdown",
   "id": "476a179f-fbd4-4d26-b8a3-36eb6c50acfb",
   "metadata": {},
   "source": [
    "### Зверніть увагу, що ми не вказуємо в змінній значення якого типу туди потрапить. Ми цілком можемо покласти в зміну var як int, так і string. Цей підхід називається duck typing (\"якщо воно крякає як качка, літає як качка та виглядає як качка - це й є качка\") і є одним з видів динамічної системи типізації. Більше, наприклад, [тут](https://stackoverflow.com/a/40434829)"
   ]
  },
  {
   "cell_type": "code",
   "execution_count": 56,
   "id": "e6416008-4ace-4548-9998-9c7f8a4bac9f",
   "metadata": {
    "tags": []
   },
   "outputs": [
    {
     "name": "stdout",
     "output_type": "stream",
     "text": [
      "Спочатку тип нашої змінної був числовий: <class 'int'>\n",
      "Тепер тип нашої змінної став рядковий: <class 'str'>\n"
     ]
    }
   ],
   "source": [
    "a = 1\n",
    "print(f\"Спочатку тип нашої змінної був числовий: {type(a)}\")\n",
    "a = \"Hey hey hey!\"\n",
    "print(\"Тепер тип нашої змінної став рядковий: {type_a}\".format(type_a = type(a)))"
   ]
  },
  {
   "cell_type": "markdown",
   "id": "d8f4dcb9-ce9e-46c7-bf59-de7d5298a9f5",
   "metadata": {},
   "source": [
    "### Якщо ми не впевнені, ми завжди можемо перевірити тип змінної, викликавши вбудовану функцію type()"
   ]
  },
  {
   "cell_type": "code",
   "execution_count": 57,
   "id": "540a5463-77d5-4118-b6ae-29b44e3673c4",
   "metadata": {
    "tags": []
   },
   "outputs": [
    {
     "name": "stdout",
     "output_type": "stream",
     "text": [
      "<class 'float'>\n"
     ]
    }
   ],
   "source": [
    "print(type(19.91))\n",
    "\n",
    "#Як і було сказано, тип змінної c - float"
   ]
  },
  {
   "cell_type": "markdown",
   "id": "1f2643e6-c326-4cbb-8a2a-cebf67737276",
   "metadata": {},
   "source": [
    "### Або викликати вбудовану функцію isinstance, що приймає першим аргументом змінну, а другим - конструктор типу"
   ]
  },
  {
   "cell_type": "code",
   "execution_count": 58,
   "id": "c13860ef-3c8b-41f0-9ba9-20689ffbbb3a",
   "metadata": {
    "tags": []
   },
   "outputs": [
    {
     "name": "stdout",
     "output_type": "stream",
     "text": [
      "True\n"
     ]
    }
   ],
   "source": [
    "print(isinstance(19.91, float))"
   ]
  },
  {
   "cell_type": "markdown",
   "id": "4a0ed68c-6419-415b-bf50-908b0b8d8246",
   "metadata": {},
   "source": [
    "### Питання 4: яким буде результат цієї операції?"
   ]
  },
  {
   "cell_type": "code",
   "execution_count": 59,
   "id": "04229387-bdf3-46a5-a06b-dd10e07bdd1e",
   "metadata": {},
   "outputs": [
    {
     "ename": "TypeError",
     "evalue": "can only concatenate str (not \"int\") to str",
     "output_type": "error",
     "traceback": [
      "\u001b[0;31m---------------------------------------------------------------------------\u001b[0m",
      "\u001b[0;31mTypeError\u001b[0m                                 Traceback (most recent call last)",
      "\u001b[0;32m/tmp/ipykernel_85668/3666467456.py\u001b[0m in \u001b[0;36m<module>\u001b[0;34m\u001b[0m\n\u001b[0;32m----> 1\u001b[0;31m \u001b[0msum_str_int\u001b[0m \u001b[0;34m=\u001b[0m \u001b[0;34m\"10\"\u001b[0m \u001b[0;34m+\u001b[0m \u001b[0;36m2\u001b[0m\u001b[0;34m\u001b[0m\u001b[0;34m\u001b[0m\u001b[0m\n\u001b[0m",
      "\u001b[0;31mTypeError\u001b[0m: can only concatenate str (not \"int\") to str"
     ]
    }
   ],
   "source": [
    "sum_str_int = \"10\" + 2"
   ]
  },
  {
   "cell_type": "markdown",
   "id": "737b46cf-cfc2-4e44-98c2-6521b546d136",
   "metadata": {},
   "source": [
    "### Інший випадок операцій, де в операндів різні типи, це коли для оператора або вбудовано в мові, або окремим розробником передбачена логіка виконання такої операції"
   ]
  },
  {
   "cell_type": "code",
   "execution_count": 60,
   "id": "9fcd4a82-7940-4abb-820a-e54135dc90d8",
   "metadata": {},
   "outputs": [],
   "source": [
    "mul_str_int = \"10\" * 10"
   ]
  },
  {
   "cell_type": "code",
   "execution_count": 61,
   "id": "73257866-ddcd-4788-abfe-91732b27ee72",
   "metadata": {},
   "outputs": [
    {
     "name": "stdout",
     "output_type": "stream",
     "text": [
      "10101010101010101010\n"
     ]
    }
   ],
   "source": [
    "print(mul_str_int)"
   ]
  },
  {
   "cell_type": "code",
   "execution_count": 70,
   "id": "b91f94d6",
   "metadata": {},
   "outputs": [
    {
     "data": {
      "text/plain": [
       "['my', ' family', ' is', ' best', '']"
      ]
     },
     "execution_count": 70,
     "metadata": {},
     "output_type": "execute_result"
    }
   ],
   "source": [
    "\"\""
   ]
  },
  {
   "cell_type": "markdown",
   "id": "55205205",
   "metadata": {},
   "source": [
    "### Ви можете перебрати символи в рядку за допомогою конструкції for:"
   ]
  },
  {
   "cell_type": "code",
   "execution_count": 71,
   "id": "a79a6fac",
   "metadata": {},
   "outputs": [
    {
     "name": "stdout",
     "output_type": "stream",
     "text": [
      "Поточний символ 1\n",
      "Квадрат символа: 1\n",
      "Поточний символ 2\n",
      "Квадрат символа: 4\n",
      "Поточний символ 3\n",
      "Квадрат символа: 9\n",
      "Поточний символ 4\n",
      "Квадрат символа: 16\n",
      "Поточний символ 5\n",
      "Квадрат символа: 25\n"
     ]
    }
   ],
   "source": [
    "example_string = \"12345\"\n",
    "for number in example_string:\n",
    "    print(f\"Поточний символ {number}\")\n",
    "    print(f\"Квадрат символа: {int(number) ** 2}\")"
   ]
  },
  {
   "cell_type": "markdown",
   "id": "2df21f6d",
   "metadata": {},
   "source": [
    "### Задача 1: вивести суму чисел, котрі складають певний рядок a.\n",
    "### Наприклад, a = \"111\", сума = 3"
   ]
  },
  {
   "cell_type": "code",
   "execution_count": 83,
   "id": "fcc36afd",
   "metadata": {},
   "outputs": [],
   "source": [
    "id_number = \"greattalentgreatresponsibility-240891\""
   ]
  },
  {
   "cell_type": "code",
   "execution_count": 84,
   "id": "31a7fef8",
   "metadata": {},
   "outputs": [
    {
     "data": {
      "text/plain": [
       "'greattalentgreatresponsibility-'"
      ]
     },
     "execution_count": 84,
     "metadata": {},
     "output_type": "execute_result"
    }
   ],
   "source": [
    "id_number[:-6]"
   ]
  },
  {
   "cell_type": "markdown",
   "id": "ff0ff43b",
   "metadata": {},
   "source": [
    "### Задача 2: для даних ПІБ і серії-номера паспорту зробити наступне:\n",
    "### 1. ПІБ очистити від небажаних символів і привести в офіційний формат\n",
    "### 2. Серію паспорта привести в належний формат (тільки великі літери, ніяких інших символів).\n",
    "### 3. Вивести серію-номер паспорта в зворотньому порядку.\n",
    "### 4. Вивести суму цифр в номері паспорта.\n",
    "### 5. Перевірити, чи є рядок \"great poet\" в рядку статуса громадянина\n",
    "\n",
    "### Для цілей задачі вважаємо, що серія може бути довільної довжини, номер - 6 символів.\n",
    "### Також, нагадую, що якщо ви не знаєте, як шукати специфічні для типу методи (як-то \"abc\".lower()),\n",
    "### ви можете завжди викликати вбудовану функцію dir() з переданим у неї конструктором типу."
   ]
  },
  {
   "cell_type": "code",
   "execution_count": null,
   "id": "304e4bda-4023-4849-a1c2-01e6d5ee0984",
   "metadata": {
    "tags": []
   },
   "outputs": [],
   "source": [
    "corrupted_name_1 = \"    $%taras shevchenko& \"\n",
    "id_number = \"greattalentgreatresponsibility-240891\"\n",
    "corrupted_status = \"jfsnljnlsfgnjfsgnjlsgfnlngfslnsdglnlsdgnljgsdnlnln great poet 'akk;ldnflkjsabg;kbouht024h0pijngadknsn\""
   ]
  }
 ],
 "metadata": {
  "kernelspec": {
   "display_name": "Python 3 (ipykernel)",
   "language": "python",
   "name": "python3"
  },
  "language_info": {
   "codemirror_mode": {
    "name": "ipython",
    "version": 3
   },
   "file_extension": ".py",
   "mimetype": "text/x-python",
   "name": "python",
   "nbconvert_exporter": "python",
   "pygments_lexer": "ipython3",
   "version": "3.9.13"
  }
 },
 "nbformat": 4,
 "nbformat_minor": 5
}
