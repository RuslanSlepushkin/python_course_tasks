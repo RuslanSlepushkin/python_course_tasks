{
 "cells": [
  {
   "cell_type": "markdown",
   "id": "a4090bf7",
   "metadata": {},
   "source": [
    "# 1. Змінювані та незмінювані об'єкти"
   ]
  },
  {
   "cell_type": "code",
   "execution_count": 181,
   "id": "27ec7ba1",
   "metadata": {},
   "outputs": [],
   "source": [
    "from collections import namedtuple"
   ]
  },
  {
   "cell_type": "code",
   "execution_count": 149,
   "id": "e2fb7989",
   "metadata": {},
   "outputs": [],
   "source": [
    "ex_list = [1, 2, 3, 4, 5]\n",
    "ex_tuple = (1, 2, 3, 4, 5)\n",
    "ex_set = {1, 2, 3, 4, 5}\n",
    "ex_frozenset = frozenset(ex_set)\n",
    "\n",
    "named_tuple_example_type = namedtuple(typename=\"example_col\", field_names=[\"list\", \"tuple\", \"set\", \"frozenset\"])\n",
    "\n",
    "named_tuple = named_tuple_example_type(list=ex_list,  set=ex_set, tuple=ex_tuple, frozenset=ex_frozenset)"
   ]
  },
  {
   "cell_type": "code",
   "execution_count": 199,
   "id": "d998d9ee",
   "metadata": {},
   "outputs": [
    {
     "name": "stdout",
     "output_type": "stream",
     "text": [
      "This collection type is mutable, so it's unhashable\n",
      "This collection type is immutable, so it's hashable. See this particular objects hash below.\n",
      "-5659871693760987716\n",
      "This collection type is mutable, so it's unhashable\n",
      "This collection type is immutable, so it's hashable. See this particular objects hash below.\n",
      "-3779889356588604112\n"
     ]
    }
   ],
   "source": [
    "for item in named_tuple:\n",
    "    if item.__hash__ is not None:\n",
    "        print(\"This collection type is immutable, so it's hashable. See this particular objects hash below.\")\n",
    "        print(item.__hash__())\n",
    "    else:\n",
    "        print(\"This collection type is mutable, so it's unhashable\")"
   ]
  },
  {
   "cell_type": "markdown",
   "id": "b5d38cab",
   "metadata": {},
   "source": [
    "## 1.1. Різниця між list() і []:"
   ]
  },
  {
   "cell_type": "code",
   "execution_count": 237,
   "id": "207bca2d",
   "metadata": {},
   "outputs": [],
   "source": [
    "import dis"
   ]
  },
  {
   "cell_type": "code",
   "execution_count": 238,
   "id": "01b6fef0",
   "metadata": {},
   "outputs": [
    {
     "name": "stdout",
     "output_type": "stream",
     "text": [
      "  1           0 BUILD_LIST               0\n",
      "              2 RETURN_VALUE\n",
      "None\n"
     ]
    }
   ],
   "source": [
    "print(dis.dis(\"[]\"))"
   ]
  },
  {
   "cell_type": "code",
   "execution_count": 239,
   "id": "81e5a43a",
   "metadata": {},
   "outputs": [
    {
     "name": "stdout",
     "output_type": "stream",
     "text": [
      "  1           0 LOAD_NAME                0 (list)\n",
      "              2 CALL_FUNCTION            0\n",
      "              4 RETURN_VALUE\n",
      "None\n"
     ]
    }
   ],
   "source": [
    "print(dis.dis(\"list()\"))"
   ]
  },
  {
   "cell_type": "code",
   "execution_count": 253,
   "id": "2939938d",
   "metadata": {},
   "outputs": [
    {
     "name": "stdout",
     "output_type": "stream",
     "text": [
      "This is an example of list creation via []\n",
      "140252268251712\n",
      "140252268264640\n",
      "140252268251712\n",
      "140252268264640\n",
      "140252268251712\n",
      "140252268264640\n",
      "140252268251712\n",
      "140252268264640\n",
      "140252268251712\n",
      "140252268264640\n"
     ]
    }
   ],
   "source": [
    "print(\"This is an example of list creation via []\")\n",
    "for i in range(0, 10):\n",
    "    a = []\n",
    "    print(id(a))"
   ]
  },
  {
   "cell_type": "code",
   "execution_count": 240,
   "id": "cb6f55ff",
   "metadata": {},
   "outputs": [
    {
     "name": "stdout",
     "output_type": "stream",
     "text": [
      "This is an example of list creation via list()\n",
      "140252268367296\n",
      "140252268379008\n",
      "140252268375616\n"
     ]
    }
   ],
   "source": [
    "print(\"This is an example of list creation via list()\")\n",
    "for i in range(0, 3):\n",
    "    print(id(list()))"
   ]
  },
  {
   "cell_type": "markdown",
   "id": "f9640aec",
   "metadata": {},
   "source": [
    "# 2. Додатково про множини:"
   ]
  },
  {
   "cell_type": "markdown",
   "id": "45978189",
   "metadata": {},
   "source": [
    "## 2.1. Difference between {1,2}, set() and {}:"
   ]
  },
  {
   "cell_type": "code",
   "execution_count": 254,
   "id": "e77119fb",
   "metadata": {},
   "outputs": [
    {
     "name": "stdout",
     "output_type": "stream",
     "text": [
      "<class 'set'>\n"
     ]
    }
   ],
   "source": [
    "test_set_1 = set()\n",
    "print(type(test_set_1))"
   ]
  },
  {
   "cell_type": "code",
   "execution_count": 255,
   "id": "9425905d",
   "metadata": {},
   "outputs": [
    {
     "name": "stdout",
     "output_type": "stream",
     "text": [
      "<class 'set'>\n"
     ]
    }
   ],
   "source": [
    "test_set_2 = {1}\n",
    "print(type(test_set_2))"
   ]
  },
  {
   "cell_type": "code",
   "execution_count": 265,
   "id": "7e2adbde",
   "metadata": {},
   "outputs": [
    {
     "name": "stdout",
     "output_type": "stream",
     "text": [
      "<class 'dict'>\n"
     ]
    }
   ],
   "source": [
    "test_set_3 = {}\n",
    "print(type(test_set_3))"
   ]
  },
  {
   "cell_type": "markdown",
   "id": "599631e5",
   "metadata": {},
   "source": [
    "## 2.2. Операції з множинами (гарна діаграма [тут](https://static.javatpoint.com/blog/images/symmetric-difference-between-two-sets2.png))"
   ]
  },
  {
   "cell_type": "code",
   "execution_count": 266,
   "id": "5f8eea1b",
   "metadata": {},
   "outputs": [],
   "source": [
    "a = {1, 2, 3, 4}\n",
    "b = {2, 3, 5}"
   ]
  },
  {
   "cell_type": "code",
   "execution_count": 267,
   "id": "6e571a99",
   "metadata": {},
   "outputs": [
    {
     "data": {
      "text/plain": [
       "{2, 3}"
      ]
     },
     "execution_count": 267,
     "metadata": {},
     "output_type": "execute_result"
    }
   ],
   "source": [
    "a.intersection(b)"
   ]
  },
  {
   "cell_type": "code",
   "execution_count": 268,
   "id": "97a49859",
   "metadata": {},
   "outputs": [
    {
     "data": {
      "text/plain": [
       "{1, 2, 3, 4, 5}"
      ]
     },
     "execution_count": 268,
     "metadata": {},
     "output_type": "execute_result"
    }
   ],
   "source": [
    "a.union(b)"
   ]
  },
  {
   "cell_type": "code",
   "execution_count": 269,
   "id": "f0f53c9a",
   "metadata": {},
   "outputs": [
    {
     "data": {
      "text/plain": [
       "{1, 4, 5}"
      ]
     },
     "execution_count": 269,
     "metadata": {},
     "output_type": "execute_result"
    }
   ],
   "source": [
    "a.symmetric_difference(b)"
   ]
  },
  {
   "cell_type": "markdown",
   "id": "af61c598",
   "metadata": {},
   "source": [
    "## 2.3. Некоммутативність операції difference()"
   ]
  },
  {
   "cell_type": "code",
   "execution_count": 270,
   "id": "05c02b49",
   "metadata": {},
   "outputs": [
    {
     "data": {
      "text/plain": [
       "{1, 4}"
      ]
     },
     "execution_count": 270,
     "metadata": {},
     "output_type": "execute_result"
    }
   ],
   "source": [
    "a - b"
   ]
  },
  {
   "cell_type": "code",
   "execution_count": 271,
   "id": "19e080a2",
   "metadata": {},
   "outputs": [
    {
     "data": {
      "text/plain": [
       "{5}"
      ]
     },
     "execution_count": 271,
     "metadata": {},
     "output_type": "execute_result"
    }
   ],
   "source": [
    "b - a"
   ]
  },
  {
   "cell_type": "code",
   "execution_count": 272,
   "id": "b91186f3",
   "metadata": {},
   "outputs": [
    {
     "data": {
      "text/plain": [
       "{1, 4}"
      ]
     },
     "execution_count": 272,
     "metadata": {},
     "output_type": "execute_result"
    }
   ],
   "source": [
    "a.difference(b)"
   ]
  },
  {
   "cell_type": "code",
   "execution_count": 273,
   "id": "3b2afa21",
   "metadata": {},
   "outputs": [
    {
     "data": {
      "text/plain": [
       "{5}"
      ]
     },
     "execution_count": 273,
     "metadata": {},
     "output_type": "execute_result"
    }
   ],
   "source": [
    "b.difference(a)"
   ]
  },
  {
   "cell_type": "markdown",
   "id": "c2bad6e4",
   "metadata": {},
   "source": [
    "# 3. range(0,3) vs [0,1,2]"
   ]
  },
  {
   "cell_type": "code",
   "execution_count": null,
   "id": "885dc13b",
   "metadata": {},
   "outputs": [],
   "source": [
    "import sys"
   ]
  },
  {
   "cell_type": "code",
   "execution_count": 277,
   "id": "5cbfc2fe",
   "metadata": {},
   "outputs": [
    {
     "name": "stdout",
     "output_type": "stream",
     "text": [
      "1\n",
      "2\n",
      "3\n",
      "4\n",
      "5\n"
     ]
    }
   ],
   "source": [
    "for i in range(1,6):\n",
    "    print(i)"
   ]
  },
  {
   "cell_type": "code",
   "execution_count": 280,
   "id": "e8332fe8",
   "metadata": {},
   "outputs": [
    {
     "data": {
      "text/plain": [
       "48"
      ]
     },
     "execution_count": 280,
     "metadata": {},
     "output_type": "execute_result"
    }
   ],
   "source": [
    "sys.getsizeof(range(0,10000000))"
   ]
  },
  {
   "cell_type": "code",
   "execution_count": 281,
   "id": "df88cac1",
   "metadata": {},
   "outputs": [
    {
     "data": {
      "text/plain": [
       "89095160"
      ]
     },
     "execution_count": 281,
     "metadata": {},
     "output_type": "execute_result"
    }
   ],
   "source": [
    "sys.getsizeof([i for i in range(0, 10000000)])"
   ]
  },
  {
   "cell_type": "markdown",
   "id": "f7e01089",
   "metadata": {},
   "source": [
    "# 4. Рядки та списки"
   ]
  },
  {
   "cell_type": "code",
   "execution_count": 282,
   "id": "52c1e685",
   "metadata": {},
   "outputs": [],
   "source": [
    "string_to_list = \"1,2,3,4,5\""
   ]
  },
  {
   "cell_type": "code",
   "execution_count": 291,
   "id": "7770754c",
   "metadata": {},
   "outputs": [
    {
     "data": {
      "text/plain": [
       "['1', ',', '2', ',', '3', ',', '4', ',', '5']"
      ]
     },
     "execution_count": 291,
     "metadata": {},
     "output_type": "execute_result"
    }
   ],
   "source": [
    "list(string_to_list)"
   ]
  },
  {
   "cell_type": "code",
   "execution_count": 283,
   "id": "9e0e334c",
   "metadata": {},
   "outputs": [],
   "source": [
    "list_to_string = string_to_list.split(\",\")"
   ]
  },
  {
   "cell_type": "code",
   "execution_count": 284,
   "id": "3c171cdb",
   "metadata": {},
   "outputs": [
    {
     "name": "stdout",
     "output_type": "stream",
     "text": [
      "['1', '2', '3', '4', '5']\n"
     ]
    }
   ],
   "source": [
    "print(list_to_string)"
   ]
  },
  {
   "cell_type": "code",
   "execution_count": 292,
   "id": "ea5d41dd",
   "metadata": {},
   "outputs": [],
   "source": [
    "var = \"\".join(list_to_string)"
   ]
  },
  {
   "cell_type": "code",
   "execution_count": 293,
   "id": "a1c2e742",
   "metadata": {},
   "outputs": [
    {
     "data": {
      "text/plain": [
       "'12345'"
      ]
     },
     "execution_count": 293,
     "metadata": {},
     "output_type": "execute_result"
    }
   ],
   "source": [
    "var"
   ]
  },
  {
   "cell_type": "code",
   "execution_count": 294,
   "id": "3061e015",
   "metadata": {},
   "outputs": [
    {
     "data": {
      "text/plain": [
       "['1', '2', '3', '4', '5']"
      ]
     },
     "execution_count": 294,
     "metadata": {},
     "output_type": "execute_result"
    }
   ],
   "source": [
    "list(var)"
   ]
  }
 ],
 "metadata": {
  "kernelspec": {
   "display_name": "Python 3.10",
   "language": "python",
   "name": "python310"
  },
  "language_info": {
   "codemirror_mode": {
    "name": "ipython",
    "version": 3
   },
   "file_extension": ".py",
   "mimetype": "text/x-python",
   "name": "python",
   "nbconvert_exporter": "python",
   "pygments_lexer": "ipython3",
   "version": "3.10.9"
  }
 },
 "nbformat": 4,
 "nbformat_minor": 5
}
