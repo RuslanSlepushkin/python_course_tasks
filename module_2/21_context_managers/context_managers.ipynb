{
 "cells": [
  {
   "cell_type": "markdown",
   "id": "e64db5ac",
   "metadata": {},
   "source": [
    "## Контекстні менеджери - це спосіб контролювати створення та \"знищення\" якогось ресурсу. Наприклад, відкритого файлу чи конекшну до бази даних."
   ]
  },
  {
   "cell_type": "markdown",
   "id": "fc48e61a",
   "metadata": {},
   "source": [
    "### Загалом, контекстні менеджери еквівалентні наступному блоку коду:"
   ]
  },
  {
   "cell_type": "code",
   "execution_count": 4,
   "id": "56c0c663",
   "metadata": {},
   "outputs": [],
   "source": [
    "class MockResource:\n",
    "    def get(self):\n",
    "        pass\n",
    "    \n",
    "    def close(self):\n",
    "        pass\n",
    "    \n",
    "    def interact(self):\n",
    "        pass"
   ]
  },
  {
   "cell_type": "code",
   "execution_count": 18,
   "id": "1b8bbd91",
   "metadata": {},
   "outputs": [
    {
     "name": "stdout",
     "output_type": "stream",
     "text": [
      "else\n",
      "finally\n"
     ]
    }
   ],
   "source": [
    "try:\n",
    "    f = open(titanic_path, \"r\")\n",
    "    print(f.readlines())    \n",
    "finally:\n",
    "    f.close()\n"
   ]
  },
  {
   "cell_type": "code",
   "execution_count": 3,
   "id": "56df7c02",
   "metadata": {},
   "outputs": [],
   "source": [
    "try:\n",
    "    resource = MockResource()\n",
    "    resource.get()\n",
    "    resource.interact()\n",
    "finally:\n",
    "    resource.close()\n"
   ]
  },
  {
   "cell_type": "markdown",
   "id": "a9c3c7c3",
   "metadata": {},
   "source": [
    "### Блок коду в finally виконається обов'язково, щоб не сталося в try. Тобто, він ідеально подходить для того, щоб \"знищити\" або \"закрити\" якийсь ресурс."
   ]
  },
  {
   "cell_type": "markdown",
   "id": "9cb08d2c",
   "metadata": {},
   "source": [
    "## Є два способи визначити контекстний менеджер:\n",
    "* Клас\n",
    "* Декоратор з модуля contextlib"
   ]
  },
  {
   "cell_type": "code",
   "execution_count": 6,
   "id": "ef6b2a6a",
   "metadata": {},
   "outputs": [],
   "source": [
    "class MyShinyFileOpener:\n",
    "    def __init__(self, file_name):\n",
    "        self.file_name = file_name\n",
    "\n",
    "    def __enter__(self):\n",
    "        self.file = open(self.file_name, 'r')\n",
    "        return self.file\n",
    "\n",
    "    def __exit__(self, exc_type, exc_val, exc_tb):\n",
    "        self.file.close()\n"
   ]
  },
  {
   "cell_type": "code",
   "execution_count": 7,
   "id": "88059f5d",
   "metadata": {},
   "outputs": [],
   "source": [
    "from contextlib import contextmanager"
   ]
  },
  {
   "cell_type": "code",
   "execution_count": 8,
   "id": "f75d5b7d",
   "metadata": {},
   "outputs": [],
   "source": [
    "@contextmanager\n",
    "def my_shiny_file_opener(file_name: str):\n",
    "    try:\n",
    "        file = open(file_name, 'r')\n",
    "        yield file\n",
    "    finally:\n",
    "        file.close()"
   ]
  },
  {
   "cell_type": "code",
   "execution_count": 1,
   "id": "80c80f25",
   "metadata": {},
   "outputs": [],
   "source": [
    "titanic_path = \"/home/illia-teacher/PycharmProjects/python_course_tasks/Module_2/Lesson 1/titanic_data/titanic_data.csv\""
   ]
  },
  {
   "cell_type": "code",
   "execution_count": 14,
   "id": "642e11c6",
   "metadata": {},
   "outputs": [
    {
     "name": "stdout",
     "output_type": "stream",
     "text": [
      "PassengerId,Survived,Pclass,Name,Sex,Age,SibSp,Parch,Ticket,Fare,Cabin,Embarked\n",
      "\n"
     ]
    }
   ],
   "source": [
    "with MyShinyFileOpener(titanic_path) as f:\n",
    "    print(f.readline())"
   ]
  },
  {
   "cell_type": "code",
   "execution_count": 15,
   "id": "d1a5ad24",
   "metadata": {},
   "outputs": [
    {
     "name": "stdout",
     "output_type": "stream",
     "text": [
      "PassengerId,Survived,Pclass,Name,Sex,Age,SibSp,Parch,Ticket,Fare,Cabin,Embarked\n",
      "\n"
     ]
    }
   ],
   "source": [
    "with my_shiny_file_opener(titanic_path) as f:\n",
    "    print(f.readline())"
   ]
  },
  {
   "cell_type": "code",
   "execution_count": 16,
   "id": "28a86c75",
   "metadata": {},
   "outputs": [],
   "source": [
    "a = my_shiny_file_opener(titanic_path)"
   ]
  }
 ],
 "metadata": {
  "kernelspec": {
   "display_name": "Python 3 (ipykernel)",
   "language": "python",
   "name": "python3"
  },
  "language_info": {
   "codemirror_mode": {
    "name": "ipython",
    "version": 3
   },
   "file_extension": ".py",
   "mimetype": "text/x-python",
   "name": "python",
   "nbconvert_exporter": "python",
   "pygments_lexer": "ipython3",
   "version": "3.9.16"
  }
 },
 "nbformat": 4,
 "nbformat_minor": 5
}
