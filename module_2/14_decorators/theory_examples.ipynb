{
 "cells": [
  {
   "cell_type": "markdown",
   "id": "78721d4c",
   "metadata": {},
   "source": [
    "# Замикання"
   ]
  },
  {
   "cell_type": "markdown",
   "id": "2793ac41",
   "metadata": {},
   "source": [
    "В Python функції можуть бути оголошені всередині інших функцій. У такому випадку, змінні, оголошені в тілі зовнішьної функції, будуть доступні внутрішнім функціям."
   ]
  },
  {
   "cell_type": "code",
   "execution_count": 25,
   "id": "bd4f68cd",
   "metadata": {},
   "outputs": [],
   "source": [
    "def closure_func(y):\n",
    "    a = 1\n",
    "    x = 2\n",
    "    def inner_func():\n",
    "        print(f\"This i an a param: {a}\")\n",
    "    inner_func()"
   ]
  },
  {
   "cell_type": "markdown",
   "id": "0fdf077d",
   "metadata": {},
   "source": [
    "Це стосується, також, і аргументів функції:"
   ]
  },
  {
   "cell_type": "code",
   "execution_count": 5,
   "id": "419d44f6",
   "metadata": {},
   "outputs": [],
   "source": [
    "def yet_another_closure(*args):\n",
    "    def inner_func():\n",
    "        return sum(args)\n",
    "    return inner_func()"
   ]
  },
  {
   "cell_type": "code",
   "execution_count": 6,
   "id": "e7c4e4b9",
   "metadata": {},
   "outputs": [
    {
     "data": {
      "text/plain": [
       "59"
      ]
     },
     "execution_count": 6,
     "metadata": {},
     "output_type": "execute_result"
    }
   ],
   "source": [
    "yet_another_closure(20, 19, 20)"
   ]
  },
  {
   "cell_type": "markdown",
   "id": "f9c373d5",
   "metadata": {},
   "source": [
    "### Замиканням (closure) inner_func ми назвемо набір змінних, доступних їй через те, що вони оголошені у зовнішній функції (closure_func або yet_another_closure). "
   ]
  },
  {
   "cell_type": "markdown",
   "id": "f69dae94",
   "metadata": {},
   "source": [
    "Область видимості, котру утворює замикання, називається не-локальною (nonlocal)."
   ]
  },
  {
   "cell_type": "markdown",
   "id": "828bb0d5",
   "metadata": {},
   "source": [
    "# Декоратори"
   ]
  },
  {
   "cell_type": "markdown",
   "id": "b35cbe9a",
   "metadata": {},
   "source": [
    "Декоратор - це спосіб \"обгорнути\", доповнити код певної функції."
   ]
  },
  {
   "cell_type": "code",
   "execution_count": 27,
   "id": "f0ec13eb",
   "metadata": {},
   "outputs": [],
   "source": [
    "from typing import Callable, TypeVar, Any\n",
    "\n",
    "T = TypeVar(\"T\")\n",
    "\n",
    "def my_precious_decorator(func: Callable[T, T]) -> Callable[T, T]:\n",
    "    def wrap() -> T:\n",
    "        print(\"side effect yo!\")\n",
    "        func()\n",
    "        print(\"another side effect yo!\")\n",
    "    return wrap"
   ]
  },
  {
   "cell_type": "code",
   "execution_count": 30,
   "id": "e7695443",
   "metadata": {},
   "outputs": [],
   "source": [
    "decorated_function = my_precious_decorator(printer)"
   ]
  },
  {
   "cell_type": "code",
   "execution_count": 28,
   "id": "6b018be9",
   "metadata": {},
   "outputs": [],
   "source": [
    "@my_precious_decorator\n",
    "def printer():\n",
    "    print(\"some stuff\")"
   ]
  },
  {
   "cell_type": "code",
   "execution_count": 29,
   "id": "786c2466",
   "metadata": {},
   "outputs": [
    {
     "name": "stdout",
     "output_type": "stream",
     "text": [
      "side effect yo!\n",
      "some stuff\n",
      "another side effect yo!\n"
     ]
    }
   ],
   "source": [
    "printer()"
   ]
  },
  {
   "cell_type": "markdown",
   "id": "40a5758e",
   "metadata": {},
   "source": [
    "Так само, ви можете обгортати функції з аргументами"
   ]
  },
  {
   "cell_type": "code",
   "execution_count": 66,
   "id": "531d4a74",
   "metadata": {},
   "outputs": [],
   "source": [
    "from functools import wraps\n",
    "\n",
    "def yet_another_precious_decorator(func: Callable[T, T]) -> Callable[T, T]:\n",
    "    @wraps(func)\n",
    "    def wrap(*args, **kwargs) -> T:\n",
    "        print(\"Here we go again\")\n",
    "        a = func(*args, **kwargs)\n",
    "        print(\"We did our calculations\")\n",
    "        return a\n",
    "    return wrap"
   ]
  },
  {
   "cell_type": "code",
   "execution_count": 67,
   "id": "b9aecca1",
   "metadata": {},
   "outputs": [],
   "source": [
    "def sum_all_vars(a, b, *args) -> float:\n",
    "    logger.info(\"Was called\")\n",
    "    return a + b + sum(args)"
   ]
  },
  {
   "cell_type": "code",
   "execution_count": 68,
   "id": "6bb725be",
   "metadata": {},
   "outputs": [],
   "source": [
    "@yet_another_precious_decorator\n",
    "def sum_all_vars_decorated(a, b, *args):\n",
    "    return a + b + sum(args)"
   ]
  },
  {
   "cell_type": "code",
   "execution_count": 69,
   "id": "cd67fd4a",
   "metadata": {},
   "outputs": [
    {
     "name": "stdout",
     "output_type": "stream",
     "text": [
      "Here we go again\n",
      "We did our calculations\n"
     ]
    },
    {
     "data": {
      "text/plain": [
       "3"
      ]
     },
     "execution_count": 69,
     "metadata": {},
     "output_type": "execute_result"
    }
   ],
   "source": [
    "sum_all_vars_decorated(1, 2)"
   ]
  },
  {
   "cell_type": "code",
   "execution_count": 71,
   "id": "c829b766",
   "metadata": {},
   "outputs": [
    {
     "data": {
      "text/plain": [
       "15"
      ]
     },
     "execution_count": 71,
     "metadata": {},
     "output_type": "execute_result"
    }
   ],
   "source": [
    "sum_all_vars_decorated.__wrapped__(1, 2, 3, 4, 5,)"
   ]
  },
  {
   "cell_type": "code",
   "execution_count": 41,
   "id": "aa9ea5bb",
   "metadata": {},
   "outputs": [],
   "source": [
    "def sum_all_vars_not_decorated(a, b, *args):\n",
    "    return a + b + sum(args)"
   ]
  },
  {
   "cell_type": "code",
   "execution_count": 43,
   "id": "2e7eeed9",
   "metadata": {},
   "outputs": [
    {
     "data": {
      "text/plain": [
       "3"
      ]
     },
     "execution_count": 43,
     "metadata": {},
     "output_type": "execute_result"
    }
   ],
   "source": [
    "sum_all_vars_not_decorated(1, 2)"
   ]
  },
  {
   "cell_type": "code",
   "execution_count": 39,
   "id": "b57652fe",
   "metadata": {},
   "outputs": [
    {
     "name": "stdout",
     "output_type": "stream",
     "text": [
      "Here we go again\n",
      "We did our calculations\n"
     ]
    },
    {
     "data": {
      "text/plain": [
       "55"
      ]
     },
     "execution_count": 39,
     "metadata": {},
     "output_type": "execute_result"
    }
   ],
   "source": [
    "sum_all_vars(1, 2, 3, 4, 5, 6, 7, 8, 9, 10)"
   ]
  },
  {
   "cell_type": "markdown",
   "id": "7cfb3577",
   "metadata": {},
   "source": [
    "І передавати аргументи в декоратор, або створювати змінні в декораторі."
   ]
  },
  {
   "cell_type": "code",
   "execution_count": 20,
   "id": "69fd2246",
   "metadata": {},
   "outputs": [],
   "source": [
    "from functools import wraps\n",
    "\n",
    "def multiplicative_decorator(multiplier: int):\n",
    "    and_another_multiplier: int = 3\n",
    "    def inside_func(func):\n",
    "        @wraps(func)\n",
    "        def wrap(*args, **kwargs):\n",
    "            print(f\"This result will be altered my multiplying on {and_another_multiplier} and {multiplier}\")\n",
    "            result = func(*args, **kwargs)\n",
    "            print(f\"Initial result {result}\")\n",
    "            return result*multiplier*and_another_multiplier\n",
    "        return wrap\n",
    "    return inside_func"
   ]
  },
  {
   "cell_type": "code",
   "execution_count": 21,
   "id": "311567d6",
   "metadata": {},
   "outputs": [],
   "source": [
    "@multiplicative_decorator(num_of_tries = 20)\n",
    "def reverse_and_sum(*args):\n",
    "    return 1/sum(args)"
   ]
  },
  {
   "cell_type": "markdown",
   "id": "b2072929",
   "metadata": {},
   "source": [
    "# Корисні декоратори"
   ]
  },
  {
   "cell_type": "markdown",
   "id": "0e9c09f8",
   "metadata": {},
   "source": [
    "Декоратори - хліб з маслом Python-програміста. Якщо ви їх не пишете, то ви їх точно будете постійно використовувати. \n",
    "\n",
    "Декілька найбільш потрібних декораторів (частину з них ви дізнаєтесь пізніше в рамках курсу з ООП):\n",
    "\n",
    "* @lru_cache\n",
    "* @property\n",
    "* @wraps\n",
    "* @abstractmethod\n",
    "* @staticmethod\n",
    "* @dataclass\n",
    "* @jit\n",
    "* @app.get в FastAPI\n",
    "\n",
    "І так далі."
   ]
  },
  {
   "cell_type": "markdown",
   "id": "773ff7b7",
   "metadata": {},
   "source": [
    "Гарний список Python-декораторів є [тут](https://github.com/lord63/awesome-python-decorator)"
   ]
  },
  {
   "cell_type": "code",
   "execution_count": 65,
   "id": "3de30383",
   "metadata": {},
   "outputs": [],
   "source": [
    "from functools import lru_cache"
   ]
  },
  {
   "cell_type": "code",
   "execution_count": 66,
   "id": "362d61b7",
   "metadata": {},
   "outputs": [],
   "source": [
    "def factorial(n):\n",
    "    if n == 1:\n",
    "        return 1\n",
    "    else:\n",
    "        return n*factorial(n-1)"
   ]
  },
  {
   "cell_type": "code",
   "execution_count": 67,
   "id": "4f772560",
   "metadata": {},
   "outputs": [
    {
     "name": "stdout",
     "output_type": "stream",
     "text": [
      "2.2 µs ± 218 ns per loop (mean ± std. dev. of 7 runs, 100,000 loops each)\n"
     ]
    }
   ],
   "source": [
    "%%timeit\n",
    "\n",
    "factorial(15)"
   ]
  },
  {
   "cell_type": "code",
   "execution_count": 68,
   "id": "ee155780",
   "metadata": {},
   "outputs": [],
   "source": [
    "@lru_cache\n",
    "def factorial_cached(n):\n",
    "    if n == 1:\n",
    "        return 1\n",
    "    else:\n",
    "        return n*factorial(n-1)"
   ]
  },
  {
   "cell_type": "code",
   "execution_count": 69,
   "id": "a2e64168",
   "metadata": {},
   "outputs": [
    {
     "name": "stdout",
     "output_type": "stream",
     "text": [
      "82.7 ns ± 5.33 ns per loop (mean ± std. dev. of 7 runs, 10,000,000 loops each)\n"
     ]
    }
   ],
   "source": [
    "%%timeit\n",
    "\n",
    "factorial_cached(15)"
   ]
  },
  {
   "cell_type": "code",
   "execution_count": 75,
   "id": "5a81d2dc",
   "metadata": {},
   "outputs": [],
   "source": [
    "from functools import wraps\n",
    "\n",
    "def my_cache(func):\n",
    "    @wraps(func)\n",
    "    def wrapper(*args, **kwargs):\n",
    "        call = (func, args)\n",
    "        if call in container.keys():\n",
    "            a = container[call]\n",
    "            return a\n",
    "        else:\n",
    "            a = func(*args, **kwargs)\n",
    "            container[call] = a\n",
    "            return a\n",
    "    return wrapper"
   ]
  },
  {
   "cell_type": "code",
   "execution_count": 77,
   "id": "2f78b779",
   "metadata": {},
   "outputs": [
    {
     "data": {
      "text/plain": [
       "<function __main__.fib(n)>"
      ]
     },
     "execution_count": 77,
     "metadata": {},
     "output_type": "execute_result"
    }
   ],
   "source": [
    "my_cache(fib)"
   ]
  },
  {
   "cell_type": "code",
   "execution_count": 71,
   "id": "946b529e",
   "metadata": {},
   "outputs": [],
   "source": [
    "def fib(n):\n",
    "    if n == 0:\n",
    "        return 0\n",
    "    if n == 1:\n",
    "        return 1\n",
    "    else:\n",
    "        return fib(n-1) + fib(n-2)"
   ]
  },
  {
   "cell_type": "code",
   "execution_count": 61,
   "id": "3fd5c831",
   "metadata": {},
   "outputs": [
    {
     "name": "stdout",
     "output_type": "stream",
     "text": [
      "617 ns ± 65.6 ns per loop (mean ± std. dev. of 7 runs, 1,000,000 loops each)\n"
     ]
    }
   ],
   "source": [
    "%%timeit\n",
    "\n",
    "fib(10)\n",
    "fib(10)"
   ]
  },
  {
   "cell_type": "code",
   "execution_count": 62,
   "id": "626565c6",
   "metadata": {},
   "outputs": [
    {
     "name": "stdout",
     "output_type": "stream",
     "text": [
      "1.65 µs ± 161 ns per loop (mean ± std. dev. of 7 runs, 100,000 loops each)\n"
     ]
    }
   ],
   "source": [
    "%%timeit\n",
    "\n",
    "fib.__wrapped__(10)\n",
    "fib.__wrapped__(10)"
   ]
  },
  {
   "cell_type": "code",
   "execution_count": 49,
   "id": "048decbe",
   "metadata": {},
   "outputs": [
    {
     "name": "stdout",
     "output_type": "stream",
     "text": [
      "6.75 µs ± 718 ns per loop (mean ± std. dev. of 7 runs, 100,000 loops each)\n"
     ]
    }
   ],
   "source": [
    "%%timeit\n",
    "\n",
    "def factorial_not_cached(n):\n",
    "    if n == 1:\n",
    "        return 1\n",
    "    else:\n",
    "        return n*factorial_not_cached(n-1)\n",
    "\n",
    "factorial_not_cached(6)\n",
    "factorial_not_cached(6)\n",
    "factorial_not_cached(6)\n",
    "factorial_not_cached(6)\n",
    "factorial_not_cached(6)\n",
    "factorial_not_cached(6)\n",
    "factorial_not_cached(6)\n",
    "factorial_not_cached(6)"
   ]
  }
 ],
 "metadata": {
  "kernelspec": {
   "display_name": "Python 3 (ipykernel)",
   "language": "python",
   "name": "python3"
  },
  "language_info": {
   "codemirror_mode": {
    "name": "ipython",
    "version": 3
   },
   "file_extension": ".py",
   "mimetype": "text/x-python",
   "name": "python",
   "nbconvert_exporter": "python",
   "pygments_lexer": "ipython3",
   "version": "3.9.16"
  }
 },
 "nbformat": 4,
 "nbformat_minor": 5
}
