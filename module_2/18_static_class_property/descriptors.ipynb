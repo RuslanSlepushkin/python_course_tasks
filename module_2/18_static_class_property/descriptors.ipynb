{
 "cells": [
  {
   "cell_type": "markdown",
   "id": "d856899c-465c-4559-81d4-0f81c0911a48",
   "metadata": {},
   "source": [
    "Загалом, дескриптори - це об'єкти, для котрих перевизначена операція отримання об'єкта, задання об'єкта або видалення об'єкта.\n",
    "Цей функціонал може бути перевантажений через методи \\__get\\__(), \\__set\\__() чи \\__delete\\__() відповідно."
   ]
  },
  {
   "cell_type": "markdown",
   "id": "5b3f28ac-d88a-4a4a-8808-8af1fd53ea70",
   "metadata": {},
   "source": [
    "Якщо в об'єкта визначений тільки метод \\__get\\__(), цей об'єкт називається non-data descriptor"
   ]
  },
  {
   "cell_type": "code",
   "execution_count": 50,
   "id": "9218f1b2-c512-4646-bc03-a8a5c0c19d9b",
   "metadata": {
    "tags": []
   },
   "outputs": [
    {
     "name": "stdout",
     "output_type": "stream",
     "text": [
      "descriptor\n",
      "not a descriptor\n"
     ]
    }
   ],
   "source": [
    "class NotADescriptor:\n",
    "    def __init__(self):\n",
    "        print(\"not a descriptor\")\n",
    "    \n",
    "    def __repr__(self):\n",
    "        return \"hey\"\n",
    "    \n",
    "    def __str__(self):\n",
    "        return self.__repr__()\n",
    "\n",
    "class NonDataDescriptor:\n",
    "    \"\"\"Descriptor which defines only __get__ method named 'non-data descriptor'\"\"\"\n",
    "    def __init__(self):\n",
    "        print(\"descriptor\")\n",
    "\n",
    "    def __get__(self, inst, owner=None):\n",
    "        print(\"__get__\")\n",
    "        return 5\n",
    "\n",
    "class ExampleOne:\n",
    "    d = NonDataDescriptor()\n",
    "    e = NotADescriptor()\n",
    "    f = 4\n",
    "    \n",
    "    @property\n",
    "    def fjfj(self):\n",
    "        return \"fjfj\"\n",
    "    "
   ]
  },
  {
   "cell_type": "code",
   "execution_count": 18,
   "id": "b33fed07-ea60-4fa3-bda7-6f22faceff23",
   "metadata": {
    "tags": []
   },
   "outputs": [
    {
     "data": {
      "text/plain": [
       "hey"
      ]
     },
     "execution_count": 18,
     "metadata": {},
     "output_type": "execute_result"
    }
   ],
   "source": [
    "ExampleOne().e"
   ]
  },
  {
   "cell_type": "code",
   "execution_count": 19,
   "id": "6e0bc28b-4422-4a53-a86a-6c9728dd91cc",
   "metadata": {
    "tags": []
   },
   "outputs": [
    {
     "data": {
      "text/plain": [
       "4"
      ]
     },
     "execution_count": 19,
     "metadata": {},
     "output_type": "execute_result"
    }
   ],
   "source": [
    "ExampleOne().f"
   ]
  },
  {
   "cell_type": "code",
   "execution_count": 21,
   "id": "88b78e7e-f3ef-4e3f-bf42-d6294fff80ae",
   "metadata": {
    "tags": []
   },
   "outputs": [
    {
     "name": "stdout",
     "output_type": "stream",
     "text": [
      "__get__\n"
     ]
    },
    {
     "data": {
      "text/plain": [
       "5"
      ]
     },
     "execution_count": 21,
     "metadata": {},
     "output_type": "execute_result"
    }
   ],
   "source": [
    "ExampleOne().d"
   ]
  },
  {
   "cell_type": "markdown",
   "id": "329f763a-a30d-4020-aba8-ddc74c60e2e4",
   "metadata": {
    "tags": []
   },
   "source": [
    "Загалом, послідовність отримання атрибуту класу наступна:\n",
    "* Python дивиться у data descriptors, що пов'язані з цим атрибутом\n",
    "* Після цього Python дивиться у \\__dict\\__ об'єкта, де оголошений атрибут, котрий ми намагаємось отримати\n",
    "* І, після цього, Python намагатиметься викликати non data descriptor для цього об'єкта"
   ]
  },
  {
   "cell_type": "code",
   "execution_count": 24,
   "id": "f373df93-9f5d-4880-934b-56b40cb19a60",
   "metadata": {
    "tags": []
   },
   "outputs": [
    {
     "name": "stdout",
     "output_type": "stream",
     "text": [
      "descriptor\n",
      "descriptor\n",
      "<__main__.DataDescriptorWithSetName object at 0x7f6fb4a4a1c0> <class '__main__.ExampleTwo'> c\n"
     ]
    }
   ],
   "source": [
    "from typing import Any\n",
    "\n",
    "class DataDescriptor:\n",
    "    \"\"\"Descriptor which defines not only __get__, but either __set__ or __delete__ methods is named 'data descriptor'\"\"\"\n",
    "    def __init__(self):\n",
    "        print(\"descriptor\")\n",
    "\n",
    "    def __get__(self, inst, owner=None) -> Any:\n",
    "        print(\"__get__\")\n",
    "        return getattr(inst, \"secret_name\", 5)\n",
    "\n",
    "    def __set__(self, inst, val) -> None:\n",
    "        print(f\"got __set__ for {inst} with {val}\")\n",
    "        inst.secret_name = val\n",
    "              \n",
    "    def __del__(self, inst) -> None:\n",
    "        del inst.secret_name\n",
    "        \n",
    "class DataDescriptorWithSetName:\n",
    "    def __set_name__(self, owner, name):\n",
    "        print(self, owner, name)\n",
    "        self.d_name = \"_\" + name\n",
    "        \n",
    "    def __get__(self, inst, owner=None) -> Any:\n",
    "        print(self, inst, owner)\n",
    "        print(\"__get__\")\n",
    "        return getattr(inst, self.d_name, 5)\n",
    "\n",
    "    def __set__(self, inst, val) -> None:\n",
    "        print(f\"got __set__ for {inst} with {val}\")\n",
    "        setattr(inst, self.d_name, val)\n",
    "              \n",
    "    def __del__(self, inst) -> None:\n",
    "        del inst.secret_name\n",
    "        delattr(inst, self.d_name)\n",
    "    \n",
    "\n",
    "class ExampleTwo:\n",
    "    a = NonDataDescriptor()\n",
    "    b = DataDescriptor()\n",
    "    c = DataDescriptorWithSetName()\n",
    "    \n",
    "    def __init__(self):\n",
    "        self.__dict__[\"a\"] = 100\n",
    "        self.__dict__[\"b\"] = 200\n"
   ]
  },
  {
   "cell_type": "code",
   "execution_count": 32,
   "id": "c5d9da37-9e0b-4cc6-9dfd-ab6998cf9ecb",
   "metadata": {
    "tags": []
   },
   "outputs": [
    {
     "name": "stdout",
     "output_type": "stream",
     "text": [
      "got __set__ for <__main__.ExampleTwo object at 0x7f6fb4aaae50> with 2\n"
     ]
    }
   ],
   "source": [
    "obj = ExampleTwo()\n",
    "obj.c = 2"
   ]
  },
  {
   "cell_type": "code",
   "execution_count": 33,
   "id": "480dad76-f8f4-4a1a-810d-e4955edc8c76",
   "metadata": {
    "tags": []
   },
   "outputs": [
    {
     "data": {
      "text/plain": [
       "{'a': 100, 'b': 200, '_c': 2}"
      ]
     },
     "execution_count": 33,
     "metadata": {},
     "output_type": "execute_result"
    }
   ],
   "source": [
    "obj.__dict__"
   ]
  },
  {
   "cell_type": "markdown",
   "id": "072c3b1b-9057-4406-b535-58280f95161f",
   "metadata": {},
   "source": [
    "Більш приземлений приклад дескриптора: об'єкт, що видає розмір директорії"
   ]
  },
  {
   "cell_type": "code",
   "execution_count": 41,
   "id": "6d124c02-c3c3-4eff-8a69-95b7caac5ec8",
   "metadata": {
    "tags": []
   },
   "outputs": [],
   "source": [
    "import os\n",
    "\n",
    "class DirectorySize:\n",
    "\n",
    "    def __get__(self, obj, objtype=None):\n",
    "        #print(self, obj, objtype)\n",
    "        #print(type(self), type(obj), type(objtype))\n",
    "        print(self, obj, objtype)\n",
    "        return len(os.listdir(obj.dirname))\n",
    "    \n",
    "    def __repr__(self):\n",
    "        return f\"DirectorySizeObject\"\n",
    "\n",
    "class Directory:\n",
    "\n",
    "    size = DirectorySize()\n",
    "\n",
    "    def __init__(self, dirname):\n",
    "        self.dirname = dirname \n",
    "        \n",
    "    def __repr__(self):\n",
    "        return f\"directory {self.dirname}\"\n"
   ]
  },
  {
   "cell_type": "code",
   "execution_count": 42,
   "id": "38986d11-5d74-4e16-8117-7afb9eaa69f0",
   "metadata": {
    "tags": []
   },
   "outputs": [
    {
     "name": "stdout",
     "output_type": "stream",
     "text": [
      "DirectorySizeObject directory /home/illia-teacher <class '__main__.Directory'>\n"
     ]
    },
    {
     "data": {
      "text/plain": [
       "54"
      ]
     },
     "execution_count": 42,
     "metadata": {},
     "output_type": "execute_result"
    }
   ],
   "source": [
    "Directory(\"/home/illia-teacher\").size"
   ]
  },
  {
   "cell_type": "code",
   "execution_count": 33,
   "id": "8a03aafb-f6b3-4fca-89f5-bff0cb138604",
   "metadata": {
    "tags": []
   },
   "outputs": [
    {
     "data": {
      "text/plain": [
       "'__main__'"
      ]
     },
     "execution_count": 33,
     "metadata": {},
     "output_type": "execute_result"
    }
   ],
   "source": [
    "vars(NotADescriptor)[\"__module__\"]"
   ]
  },
  {
   "cell_type": "markdown",
   "id": "22a2c034-e995-4831-b82b-7fcf8a64e761",
   "metadata": {},
   "source": [
    "Класи, що оголошують дескриптори - повноцінні. Тобто, вони можуть бути абстрактними, брати участь в ієрархії наслідування тощо. Ось приклад з офіційної документації Python з побудови валідатору за допомогою дескрипторів."
   ]
  },
  {
   "cell_type": "code",
   "execution_count": 44,
   "id": "97cb6044-ad9f-4806-b72e-f341eb6a33ce",
   "metadata": {
    "tags": []
   },
   "outputs": [],
   "source": [
    "from abc import ABC, abstractmethod\n",
    "\n",
    "class Validator(ABC):\n",
    "\n",
    "    def __set_name__(self, owner, name):\n",
    "        print(self, owner, name)\n",
    "        self.private_name = '_' + name\n",
    "\n",
    "    def __get__(self, obj, objtype=None):\n",
    "        return getattr(obj, self.private_name)\n",
    "\n",
    "    def __set__(self, obj, value):\n",
    "        self.validate(value)\n",
    "        setattr(obj, self.private_name, value)\n",
    "\n",
    "    @abstractmethod\n",
    "    def validate(self, value):\n",
    "        pass\n"
   ]
  },
  {
   "cell_type": "code",
   "execution_count": 45,
   "id": "e81e8857-9973-4592-83e6-9279592080e9",
   "metadata": {
    "tags": []
   },
   "outputs": [],
   "source": [
    "class OneOf(Validator):\n",
    "\n",
    "    def __init__(self, *options):\n",
    "        self.options = set(options)\n",
    "\n",
    "    def validate(self, value):\n",
    "        if value not in self.options:\n",
    "            raise ValueError(f'Expected {value!r} to be one of {self.options!r}')\n",
    "\n",
    "class Number(Validator):\n",
    "\n",
    "    def __init__(self, minvalue=None, maxvalue=None):\n",
    "        self.minvalue = minvalue\n",
    "        self.maxvalue = maxvalue\n",
    "\n",
    "    def validate(self, value):\n",
    "        if not isinstance(value, (int, float)):\n",
    "            raise TypeError(f'Expected {value!r} to be an int or float')\n",
    "        if self.minvalue is not None and value < self.minvalue:\n",
    "            raise ValueError(\n",
    "                f'Expected {value!r} to be at least {self.minvalue!r}'\n",
    "            )\n",
    "        if self.maxvalue is not None and value > self.maxvalue:\n",
    "            raise ValueError(\n",
    "                f'Expected {value!r} to be no more than {self.maxvalue!r}'\n",
    "            )\n",
    "\n",
    "class String(Validator):\n",
    "\n",
    "    def __init__(self, minsize=None, maxsize=None, predicate=None):\n",
    "        self.minsize = minsize\n",
    "        self.maxsize = maxsize\n",
    "        self.predicate = predicate\n",
    "\n",
    "    def validate(self, value):\n",
    "        if not isinstance(value, str):\n",
    "            raise TypeError(f'Expected {value!r} to be an str')\n",
    "        if self.minsize is not None and len(value) < self.minsize:\n",
    "            raise ValueError(\n",
    "                f'Expected {value!r} to be no smaller than {self.minsize!r}'\n",
    "            )\n",
    "        if self.maxsize is not None and len(value) > self.maxsize:\n",
    "            raise ValueError(\n",
    "                f'Expected {value!r} to be no bigger than {self.maxsize!r}'\n",
    "            )\n",
    "        if self.predicate is not None and not self.predicate(value):\n",
    "            raise ValueError(\n",
    "                f'Expected {self.predicate} to be true for {value!r}'\n",
    "            )"
   ]
  },
  {
   "cell_type": "code",
   "execution_count": 46,
   "id": "aaabbd2c-ae07-4b9b-96b7-6829122f4b4d",
   "metadata": {
    "tags": []
   },
   "outputs": [
    {
     "name": "stdout",
     "output_type": "stream",
     "text": [
      "<__main__.String object at 0x7f6fb041daf0> <class '__main__.Component'> name\n",
      "<__main__.OneOf object at 0x7f6fb02ba280> <class '__main__.Component'> kind\n",
      "<__main__.Number object at 0x7f6fb4ae7cd0> <class '__main__.Component'> quantity\n"
     ]
    }
   ],
   "source": [
    "class Component:\n",
    "\n",
    "    name = String(minsize=3, maxsize=10, predicate=str.isupper)\n",
    "    kind = OneOf('wood', 'metal', 'plastic')\n",
    "    quantity = Number(minvalue=0)\n",
    "\n",
    "    def __init__(self, name, kind, quantity):\n",
    "        self.name = name\n",
    "        self.kind = kind\n",
    "        self.quantity = quantity"
   ]
  },
  {
   "cell_type": "code",
   "execution_count": 47,
   "id": "64aff112-1db0-4218-ade1-4fb28eecd64e",
   "metadata": {
    "tags": []
   },
   "outputs": [
    {
     "ename": "ValueError",
     "evalue": "Expected <method 'isupper' of 'str' objects> to be true for 'Widget'",
     "output_type": "error",
     "traceback": [
      "\u001b[0;31m---------------------------------------------------------------------------\u001b[0m",
      "\u001b[0;31mValueError\u001b[0m                                Traceback (most recent call last)",
      "Cell \u001b[0;32mIn[47], line 1\u001b[0m\n\u001b[0;32m----> 1\u001b[0m \u001b[43mComponent\u001b[49m\u001b[43m(\u001b[49m\u001b[38;5;124;43m'\u001b[39;49m\u001b[38;5;124;43mWidget\u001b[39;49m\u001b[38;5;124;43m'\u001b[39;49m\u001b[43m,\u001b[49m\u001b[43m \u001b[49m\u001b[38;5;124;43m'\u001b[39;49m\u001b[38;5;124;43mmetal\u001b[39;49m\u001b[38;5;124;43m'\u001b[39;49m\u001b[43m,\u001b[49m\u001b[43m \u001b[49m\u001b[38;5;241;43m5\u001b[39;49m\u001b[43m)\u001b[49m\n",
      "Cell \u001b[0;32mIn[46], line 8\u001b[0m, in \u001b[0;36mComponent.__init__\u001b[0;34m(self, name, kind, quantity)\u001b[0m\n\u001b[1;32m      7\u001b[0m \u001b[38;5;28;01mdef\u001b[39;00m \u001b[38;5;21m__init__\u001b[39m(\u001b[38;5;28mself\u001b[39m, name, kind, quantity):\n\u001b[0;32m----> 8\u001b[0m     \u001b[38;5;28mself\u001b[39m\u001b[38;5;241m.\u001b[39mname \u001b[38;5;241m=\u001b[39m name\n\u001b[1;32m      9\u001b[0m     \u001b[38;5;28mself\u001b[39m\u001b[38;5;241m.\u001b[39mkind \u001b[38;5;241m=\u001b[39m kind\n\u001b[1;32m     10\u001b[0m     \u001b[38;5;28mself\u001b[39m\u001b[38;5;241m.\u001b[39mquantity \u001b[38;5;241m=\u001b[39m quantity\n",
      "Cell \u001b[0;32mIn[44], line 13\u001b[0m, in \u001b[0;36mValidator.__set__\u001b[0;34m(self, obj, value)\u001b[0m\n\u001b[1;32m     12\u001b[0m \u001b[38;5;28;01mdef\u001b[39;00m \u001b[38;5;21m__set__\u001b[39m(\u001b[38;5;28mself\u001b[39m, obj, value):\n\u001b[0;32m---> 13\u001b[0m     \u001b[38;5;28;43mself\u001b[39;49m\u001b[38;5;241;43m.\u001b[39;49m\u001b[43mvalidate\u001b[49m\u001b[43m(\u001b[49m\u001b[43mvalue\u001b[49m\u001b[43m)\u001b[49m\n\u001b[1;32m     14\u001b[0m     \u001b[38;5;28msetattr\u001b[39m(obj, \u001b[38;5;28mself\u001b[39m\u001b[38;5;241m.\u001b[39mprivate_name, value)\n",
      "Cell \u001b[0;32mIn[45], line 47\u001b[0m, in \u001b[0;36mString.validate\u001b[0;34m(self, value)\u001b[0m\n\u001b[1;32m     43\u001b[0m     \u001b[38;5;28;01mraise\u001b[39;00m \u001b[38;5;167;01mValueError\u001b[39;00m(\n\u001b[1;32m     44\u001b[0m         \u001b[38;5;124mf\u001b[39m\u001b[38;5;124m'\u001b[39m\u001b[38;5;124mExpected \u001b[39m\u001b[38;5;132;01m{\u001b[39;00mvalue\u001b[38;5;132;01m!r}\u001b[39;00m\u001b[38;5;124m to be no bigger than \u001b[39m\u001b[38;5;132;01m{\u001b[39;00m\u001b[38;5;28mself\u001b[39m\u001b[38;5;241m.\u001b[39mmaxsize\u001b[38;5;132;01m!r}\u001b[39;00m\u001b[38;5;124m'\u001b[39m\n\u001b[1;32m     45\u001b[0m     )\n\u001b[1;32m     46\u001b[0m \u001b[38;5;28;01mif\u001b[39;00m \u001b[38;5;28mself\u001b[39m\u001b[38;5;241m.\u001b[39mpredicate \u001b[38;5;129;01mis\u001b[39;00m \u001b[38;5;129;01mnot\u001b[39;00m \u001b[38;5;28;01mNone\u001b[39;00m \u001b[38;5;129;01mand\u001b[39;00m \u001b[38;5;129;01mnot\u001b[39;00m \u001b[38;5;28mself\u001b[39m\u001b[38;5;241m.\u001b[39mpredicate(value):\n\u001b[0;32m---> 47\u001b[0m     \u001b[38;5;28;01mraise\u001b[39;00m \u001b[38;5;167;01mValueError\u001b[39;00m(\n\u001b[1;32m     48\u001b[0m         \u001b[38;5;124mf\u001b[39m\u001b[38;5;124m'\u001b[39m\u001b[38;5;124mExpected \u001b[39m\u001b[38;5;132;01m{\u001b[39;00m\u001b[38;5;28mself\u001b[39m\u001b[38;5;241m.\u001b[39mpredicate\u001b[38;5;132;01m}\u001b[39;00m\u001b[38;5;124m to be true for \u001b[39m\u001b[38;5;132;01m{\u001b[39;00mvalue\u001b[38;5;132;01m!r}\u001b[39;00m\u001b[38;5;124m'\u001b[39m\n\u001b[1;32m     49\u001b[0m     )\n",
      "\u001b[0;31mValueError\u001b[0m: Expected <method 'isupper' of 'str' objects> to be true for 'Widget'"
     ]
    }
   ],
   "source": [
    "Component('Widget', 'metal', 5) "
   ]
  },
  {
   "cell_type": "code",
   "execution_count": 48,
   "id": "2ec78b5b-4448-4781-8701-8390c32e71e7",
   "metadata": {
    "tags": []
   },
   "outputs": [],
   "source": [
    "c = Component('WIDGET', 'metal', 5)"
   ]
  },
  {
   "cell_type": "code",
   "execution_count": 49,
   "id": "70e4abb3-696e-48a9-8906-2a931fd33fb9",
   "metadata": {
    "tags": []
   },
   "outputs": [
    {
     "data": {
      "text/plain": [
       "{'_name': 'WIDGET', '_kind': 'metal', '_quantity': 5}"
      ]
     },
     "execution_count": 49,
     "metadata": {},
     "output_type": "execute_result"
    }
   ],
   "source": [
    "vars(c)"
   ]
  }
 ],
 "metadata": {
  "kernelspec": {
   "display_name": "Python 3 (ipykernel)",
   "language": "python",
   "name": "python3"
  },
  "language_info": {
   "codemirror_mode": {
    "name": "ipython",
    "version": 3
   },
   "file_extension": ".py",
   "mimetype": "text/x-python",
   "name": "python",
   "nbconvert_exporter": "python",
   "pygments_lexer": "ipython3",
   "version": "3.9.16"
  }
 },
 "nbformat": 4,
 "nbformat_minor": 5
}
