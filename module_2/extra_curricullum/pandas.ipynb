{
 "cells": [
  {
   "cell_type": "markdown",
   "id": "c9fe3532-a07a-49bf-b4bf-69b43341fe87",
   "metadata": {},
   "source": [
    "## Pandas - модуль, призначений для обробки та аналізу даних на Python.\n",
    "## Pandas побудований на основі іншої бібліотеки під назвою NumPy. Він використовує типи даних NumPy і можливо просто переходити між об'єктами обох бібліотек."
   ]
  },
  {
   "cell_type": "code",
   "execution_count": null,
   "id": "e64853b4-3441-41e1-8269-885ec5210307",
   "metadata": {
    "tags": []
   },
   "outputs": [],
   "source": [
    "import pandas as pd\n",
    "import numpy as np"
   ]
  },
  {
   "cell_type": "markdown",
   "id": "460e86b7-a39e-46c9-b49f-67d000a6b928",
   "metadata": {
    "tags": []
   },
   "source": [
    "## Pandas працює з двома основними структурами даних: Series і DataFrame"
   ]
  },
  {
   "cell_type": "markdown",
   "id": "3f8c731b-9581-49e3-90d8-ff8ce09d7dbb",
   "metadata": {},
   "source": [
    "### Сприймайте Series як колонку з індексом\n",
    "### У Series може бути визначений тип даних (атрибут dtype)"
   ]
  },
  {
   "cell_type": "code",
   "execution_count": null,
   "id": "7e5e524c-e789-4296-81fd-df3154f4945c",
   "metadata": {
    "tags": []
   },
   "outputs": [],
   "source": [
    "my_data = ['Adenosine', 'Thymine', 'Citosine', 'Guanine']\n",
    "\n",
    "my_series_1 = pd.Series(my_data)"
   ]
  },
  {
   "cell_type": "code",
   "execution_count": null,
   "id": "7d0010eb-4aaf-4018-90d7-7617c43bfa2e",
   "metadata": {
    "tags": []
   },
   "outputs": [],
   "source": [
    "my_series_1"
   ]
  },
  {
   "cell_type": "code",
   "execution_count": null,
   "id": "4273a46a-bda1-4527-8eef-7987b6ae1f6f",
   "metadata": {
    "tags": []
   },
   "outputs": [],
   "source": [
    "type(my_series_1)"
   ]
  },
  {
   "cell_type": "code",
   "execution_count": null,
   "id": "cde5124e-b3f9-44af-ac48-4c28ee991cb7",
   "metadata": {
    "tags": []
   },
   "outputs": [],
   "source": [
    "my_other_data = [1, 2, 3, 4]\n",
    "\n",
    "mah_series_2 = pd.Series(my_other_data)"
   ]
  },
  {
   "cell_type": "code",
   "execution_count": null,
   "id": "b2e916ae-c1e4-45ae-80e1-0b7c190a200c",
   "metadata": {
    "tags": []
   },
   "outputs": [],
   "source": [
    "mah_series_2"
   ]
  },
  {
   "cell_type": "code",
   "execution_count": null,
   "id": "26fc5271-a226-4e59-aef2-be5d3bf146fe",
   "metadata": {
    "tags": []
   },
   "outputs": [],
   "source": [
    "my_other_data_2 = [1, 2, 3, 4.0]\n",
    "\n",
    "mah_series_3 = pd.Series(my_other_data_2)"
   ]
  },
  {
   "cell_type": "code",
   "execution_count": null,
   "id": "e5489bff-42fe-48c3-b828-b1b02cf0d762",
   "metadata": {
    "tags": []
   },
   "outputs": [],
   "source": [
    "mah_series_3"
   ]
  },
  {
   "cell_type": "code",
   "execution_count": null,
   "id": "3769dfc7-7afc-4e63-b994-d7bb3be56dc0",
   "metadata": {
    "tags": []
   },
   "outputs": [],
   "source": [
    "mah_series_2 +  mah_series_3"
   ]
  },
  {
   "cell_type": "code",
   "execution_count": null,
   "id": "54c9f414-eb63-4d5d-afe1-c0174580a522",
   "metadata": {
    "tags": []
   },
   "outputs": [],
   "source": [
    "mah_series_2**2"
   ]
  },
  {
   "cell_type": "code",
   "execution_count": null,
   "id": "5bbbddbf-b165-4c09-910e-d0da0555d1eb",
   "metadata": {
    "tags": []
   },
   "outputs": [],
   "source": [
    "mah_series_3 % 2"
   ]
  },
  {
   "cell_type": "markdown",
   "id": "a7eb8b4a-22ec-4b7d-bf8d-966ae0547482",
   "metadata": {},
   "source": [
    "### Індекс може бути визначений окремим параметром і не обов'язково має бути послідовністю цілих чисел"
   ]
  },
  {
   "cell_type": "code",
   "execution_count": null,
   "id": "8fb7c63d-c3ef-40de-b9b6-886a54c72795",
   "metadata": {
    "tags": []
   },
   "outputs": [],
   "source": [
    "s1 = pd.Series([1, 2], index=['A', 'B'], name = \"s1\")"
   ]
  },
  {
   "cell_type": "code",
   "execution_count": null,
   "id": "253bb651-2c20-425a-8395-677b0ab74cb8",
   "metadata": {
    "tags": []
   },
   "outputs": [],
   "source": [
    "s1"
   ]
  },
  {
   "cell_type": "code",
   "execution_count": null,
   "id": "658b98c7-7dec-4073-82c1-60858e43d51b",
   "metadata": {
    "tags": []
   },
   "outputs": [],
   "source": [
    "s2 = pd.Series([3, 4], index=['A', 'B'], name='s2')"
   ]
  },
  {
   "cell_type": "code",
   "execution_count": null,
   "id": "04239d5d-47b0-4111-bbbd-e6bb89c03ea3",
   "metadata": {
    "tags": []
   },
   "outputs": [],
   "source": [
    "s2"
   ]
  },
  {
   "cell_type": "markdown",
   "id": "c615deb7-7946-413a-9bbc-f60ea81cc3d4",
   "metadata": {},
   "source": [
    "## Ми можемо комбінувати Series різними способами"
   ]
  },
  {
   "cell_type": "code",
   "execution_count": null,
   "id": "808f16fd-29cb-41fe-a82f-8d17ac7c55dd",
   "metadata": {
    "tags": []
   },
   "outputs": [],
   "source": [
    "comb_1 = pd.concat([s1, s2])"
   ]
  },
  {
   "cell_type": "code",
   "execution_count": null,
   "id": "176118ff-aaaa-4194-ad80-97f70ec486dc",
   "metadata": {
    "tags": []
   },
   "outputs": [],
   "source": [
    "comb_1"
   ]
  },
  {
   "cell_type": "code",
   "execution_count": null,
   "id": "edb2e49a-2fd5-4d5b-adb5-daa36e00ea5a",
   "metadata": {
    "tags": []
   },
   "outputs": [],
   "source": [
    "type(comb_1)"
   ]
  },
  {
   "cell_type": "code",
   "execution_count": null,
   "id": "ecb1ef93-cd33-49e1-bc0e-7c4264b080bf",
   "metadata": {
    "tags": []
   },
   "outputs": [],
   "source": [
    "comb_2 = pd.concat([s1, s2], axis=1)"
   ]
  },
  {
   "cell_type": "code",
   "execution_count": null,
   "id": "86a38aea-7790-4557-8455-263d4d79ad78",
   "metadata": {
    "tags": []
   },
   "outputs": [],
   "source": [
    "comb_2"
   ]
  },
  {
   "cell_type": "code",
   "execution_count": null,
   "id": "0fd9f248-9756-483c-aedb-4d151492fa20",
   "metadata": {
    "tags": []
   },
   "outputs": [],
   "source": [
    "type(comb_2)"
   ]
  },
  {
   "cell_type": "markdown",
   "id": "420f75f7-6a0d-40af-8213-3ea16e043687",
   "metadata": {},
   "source": [
    "### comb_2 - об'єкт типу DataFrame. DataFrame це \"таблиця\", де кожна колонка - це окрема Series. І ці Series об'єднані разом за спільним індексом"
   ]
  },
  {
   "cell_type": "code",
   "execution_count": null,
   "id": "710ccd39-83f8-45b0-8925-e78dff080029",
   "metadata": {
    "tags": []
   },
   "outputs": [],
   "source": [
    "pd.concat([s1, mah_series_3], axis=1)"
   ]
  },
  {
   "cell_type": "code",
   "execution_count": null,
   "id": "43815a75-5f67-479d-95c2-6196892d789b",
   "metadata": {
    "tags": []
   },
   "outputs": [],
   "source": [
    "df = pd.concat([s1, mah_series_3], axis=1)"
   ]
  },
  {
   "cell_type": "code",
   "execution_count": null,
   "id": "419d94d6-6e6c-4fbb-9aa2-d86131207313",
   "metadata": {
    "tags": []
   },
   "outputs": [],
   "source": [
    "df.columns = [\"c1\", \"c2\"]"
   ]
  },
  {
   "cell_type": "code",
   "execution_count": null,
   "id": "173b2eef-00ae-4fd8-8048-07db6218edcf",
   "metadata": {
    "tags": []
   },
   "outputs": [],
   "source": [
    "df"
   ]
  },
  {
   "cell_type": "markdown",
   "id": "4744508a-30b8-400f-b38a-a9062022bd2a",
   "metadata": {
    "tags": []
   },
   "source": [
    "## В основному, звісно, ви будете працювати з DataFrame, отриманими в результаті читання тих чи інших файлів \n",
    "## У Pandas є коннектори для читання великої кількості різних форматів файлів (csv, json, xlsx, xml, parquet, orc тощо)"
   ]
  },
  {
   "cell_type": "code",
   "execution_count": null,
   "id": "bc9422e6-a9bb-40c2-9e55-bb22e6e63eb8",
   "metadata": {
    "tags": []
   },
   "outputs": [],
   "source": [
    "# Отримаємо поточну директорію для більш гнучкого відкриття файлів\n",
    "import os\n",
    "import pathlib\n",
    "\n",
    "cwd = pathlib.Path(os.getcwd())"
   ]
  },
  {
   "cell_type": "code",
   "execution_count": null,
   "id": "1e842e2d-3596-4ca0-a4d9-4030ac0362b6",
   "metadata": {
    "tags": []
   },
   "outputs": [],
   "source": [
    "diabetes_csv_path = cwd / \"diabetes/diabetes_prediction_dataset.csv\""
   ]
  },
  {
   "cell_type": "code",
   "execution_count": null,
   "id": "650bd5fc-512f-4e13-a65d-f69819de5a04",
   "metadata": {
    "tags": []
   },
   "outputs": [],
   "source": [
    "diabetes_df = pd.read_csv(diabetes_csv_path)"
   ]
  },
  {
   "cell_type": "code",
   "execution_count": null,
   "id": "be015696-adba-46e4-a908-00dbd57454f8",
   "metadata": {
    "tags": []
   },
   "outputs": [],
   "source": [
    "pd.read_csv(diabetes_csv_path, header=None)"
   ]
  },
  {
   "cell_type": "code",
   "execution_count": null,
   "id": "f6fa7a33-d524-4d35-80d7-047f265fd7cd",
   "metadata": {
    "tags": []
   },
   "outputs": [],
   "source": [
    "diabetes_df"
   ]
  },
  {
   "cell_type": "markdown",
   "id": "ddcddbf2-5700-456a-8835-48c8436f35f0",
   "metadata": {},
   "source": [
    "### DataFrame можна фільтрувати доволі різним чином. Можна обирати тільки потрібні вам колонки, можна фільтрувати їх за значеннями певної колонки тощо"
   ]
  },
  {
   "cell_type": "code",
   "execution_count": null,
   "id": "115a31e4-77c2-4cfe-93d2-4bb78311e282",
   "metadata": {
    "tags": []
   },
   "outputs": [],
   "source": [
    "diabetes_df[\"gender\"]"
   ]
  },
  {
   "cell_type": "code",
   "execution_count": null,
   "id": "117f9a4e-3127-40d1-8e7b-c85f261f2023",
   "metadata": {
    "tags": []
   },
   "outputs": [],
   "source": [
    "diabetes_df[[\"gender\", \"age\", \"smoking_history\"]]"
   ]
  },
  {
   "cell_type": "code",
   "execution_count": null,
   "id": "159af671-4f76-4109-bfed-41976ee1d3cd",
   "metadata": {
    "tags": []
   },
   "outputs": [],
   "source": [
    "diabetes_df[diabetes_df[\"gender\"] == \"Female\"]"
   ]
  },
  {
   "cell_type": "code",
   "execution_count": null,
   "id": "0c7fb01a-16eb-4a82-8447-e430ac63c9e1",
   "metadata": {
    "tags": []
   },
   "outputs": [],
   "source": [
    "filtered_women_df = diabetes_df[(diabetes_df[\"gender\"] == \"Female\") & (diabetes_df[\"hypertension\"] != 0) & (diabetes_df[\"diabetes\"] == 1)]"
   ]
  },
  {
   "cell_type": "code",
   "execution_count": null,
   "id": "46ec2499-891b-40a1-85f0-bcabde38c60a",
   "metadata": {
    "tags": []
   },
   "outputs": [],
   "source": [
    "filtered_women_df"
   ]
  },
  {
   "cell_type": "code",
   "execution_count": null,
   "id": "2a80c652-5861-4eed-9957-8f8651b038aa",
   "metadata": {
    "tags": []
   },
   "outputs": [],
   "source": [
    "filtered_women_df.query(\"blood_glucose_level > 200\")"
   ]
  },
  {
   "cell_type": "markdown",
   "id": "2d574e35-1567-4f77-9edd-48e2b32539dc",
   "metadata": {},
   "source": [
    "### Найголовніше призначення Pandas - EDA (exploratory data analysis). Отже, він може показати багато статистичних і метаданих про ваші дані"
   ]
  },
  {
   "cell_type": "code",
   "execution_count": null,
   "id": "96ab0748-e7c6-4670-8fda-25c7d2442821",
   "metadata": {
    "tags": []
   },
   "outputs": [],
   "source": [
    "diabetes_df.head(20)"
   ]
  },
  {
   "cell_type": "code",
   "execution_count": null,
   "id": "0b9d3bad-4106-4a2b-993c-1e8bc04e1a02",
   "metadata": {
    "tags": []
   },
   "outputs": [],
   "source": [
    "diabetes_df.tail(15)"
   ]
  },
  {
   "cell_type": "code",
   "execution_count": null,
   "id": "b3e3838b-4151-42b8-8444-aea2f863b632",
   "metadata": {
    "tags": []
   },
   "outputs": [],
   "source": [
    "diabetes_df.dtypes"
   ]
  },
  {
   "cell_type": "code",
   "execution_count": null,
   "id": "a6502051-c164-4a8e-87c0-37eb9d713838",
   "metadata": {
    "tags": []
   },
   "outputs": [],
   "source": [
    "diabetes_df.info()"
   ]
  },
  {
   "cell_type": "code",
   "execution_count": null,
   "id": "27d7bfe2-c5ae-4d1f-9fc2-b212f0d803f8",
   "metadata": {
    "tags": []
   },
   "outputs": [],
   "source": [
    "diabetes_df.describe()"
   ]
  },
  {
   "cell_type": "markdown",
   "id": "ed6593e2-1e9a-4675-9973-92b3530ecc61",
   "metadata": {
    "tags": []
   },
   "source": [
    "### В Pandas можливі операції з окремими рядками"
   ]
  },
  {
   "cell_type": "code",
   "execution_count": null,
   "id": "c5465c06-2029-485c-b4fb-b82089aff0ce",
   "metadata": {
    "tags": []
   },
   "outputs": [],
   "source": [
    "diabetes_df.loc[0]"
   ]
  },
  {
   "cell_type": "code",
   "execution_count": null,
   "id": "27b5ba65-c312-4711-9bce-9f1aceefca27",
   "metadata": {
    "tags": []
   },
   "outputs": [],
   "source": [
    "diabetes_df.iloc[10]"
   ]
  },
  {
   "cell_type": "code",
   "execution_count": null,
   "id": "e9fd2a1e-c9b2-46f5-8e83-34d7c2588dea",
   "metadata": {
    "tags": []
   },
   "outputs": [],
   "source": [
    "diabetes_df.loc[0] = diabetes_df.loc[1]"
   ]
  },
  {
   "cell_type": "code",
   "execution_count": null,
   "id": "a9bfefe9-d0da-4835-8261-903b28a8d5ae",
   "metadata": {
    "tags": []
   },
   "outputs": [],
   "source": [
    "diabetes_df.head(3)"
   ]
  },
  {
   "cell_type": "code",
   "execution_count": null,
   "id": "7f7b9a53-e5d5-41dc-9770-018e39a303cf",
   "metadata": {
    "tags": []
   },
   "outputs": [],
   "source": [
    "diabetes_df.loc[0:7, [\"heart_disease\", \"bmi\"]]"
   ]
  },
  {
   "cell_type": "markdown",
   "id": "9bb57a97-8fde-4494-8ac6-a552778e433f",
   "metadata": {},
   "source": [
    "### Ви можете так само змінювати індекси у DataFrame як забажаєте"
   ]
  },
  {
   "cell_type": "code",
   "execution_count": null,
   "id": "be85cd9c-e184-4209-87d4-45eaa2947e10",
   "metadata": {
    "tags": []
   },
   "outputs": [],
   "source": [
    "diabetes_df.set_index(\"smoking_history\")"
   ]
  },
  {
   "cell_type": "code",
   "execution_count": null,
   "id": "adfb54da-6c62-4fd5-af84-060ccd33ea23",
   "metadata": {
    "tags": []
   },
   "outputs": [],
   "source": [
    "diabetes_df"
   ]
  },
  {
   "cell_type": "code",
   "execution_count": null,
   "id": "d902cb27-f9e2-4eb1-be90-3a7bf69433d7",
   "metadata": {
    "tags": []
   },
   "outputs": [],
   "source": [
    "reindexed_df = diabetes_df.set_index(\"smoking_history\")"
   ]
  },
  {
   "cell_type": "code",
   "execution_count": null,
   "id": "80aa9ffc-d315-42da-acf1-4f8c1bbb468b",
   "metadata": {
    "tags": []
   },
   "outputs": [],
   "source": [
    "reindexed_df.loc[\"never\"]"
   ]
  },
  {
   "cell_type": "code",
   "execution_count": null,
   "id": "cff97805-2820-4c0c-8a41-9409c2c4e29d",
   "metadata": {
    "tags": []
   },
   "outputs": [],
   "source": [
    "diabetes_df"
   ]
  },
  {
   "cell_type": "markdown",
   "id": "def7ec2f-cb2a-4855-b7a0-93af377f7e18",
   "metadata": {},
   "source": [
    "### DataFrame, так само, можна комбінувати один з одним"
   ]
  },
  {
   "cell_type": "code",
   "execution_count": null,
   "id": "02849700-b45f-4a82-be64-1a9347d5ded2",
   "metadata": {
    "tags": []
   },
   "outputs": [],
   "source": [
    "us_video_csv_path = cwd / \"youtube_trends/USvideos.csv\"\n",
    "us_cat_json_path = cwd / \"youtube_trends/US_category_id.json\""
   ]
  },
  {
   "cell_type": "code",
   "execution_count": null,
   "id": "6d7718df-e908-4d17-bf38-160fbd12d25f",
   "metadata": {
    "tags": []
   },
   "outputs": [],
   "source": [
    "gb_video_csv_path = cwd / \"youtube_trends/GBvideos.csv\"\n",
    "gb_cat_json_path = cwd / \"youtube_trends/GB_category_id.json\""
   ]
  },
  {
   "cell_type": "code",
   "execution_count": null,
   "id": "d6bd858b-b911-4616-a686-a169743faf50",
   "metadata": {
    "tags": []
   },
   "outputs": [],
   "source": [
    "us_video_df = pd.read_csv(us_video_csv_path)"
   ]
  },
  {
   "cell_type": "code",
   "execution_count": null,
   "id": "83fcff15-0312-4da3-9517-75b09654ec04",
   "metadata": {
    "tags": []
   },
   "outputs": [],
   "source": [
    "gb_video_df = pd.read_csv(gb_video_csv_path)"
   ]
  },
  {
   "cell_type": "code",
   "execution_count": null,
   "id": "38e8eede-b50a-4fc5-a437-77bd2a886bd1",
   "metadata": {
    "tags": []
   },
   "outputs": [],
   "source": [
    "gb_video_df.head(2)"
   ]
  },
  {
   "cell_type": "code",
   "execution_count": null,
   "id": "f994c66e-a619-411c-8109-8b944e168955",
   "metadata": {
    "tags": []
   },
   "outputs": [],
   "source": [
    "gb_video_df.describe()"
   ]
  },
  {
   "cell_type": "code",
   "execution_count": null,
   "id": "4c7260fa-6c09-4d03-92f4-62a47038d598",
   "metadata": {
    "tags": []
   },
   "outputs": [],
   "source": [
    "us_video_df.head(2)"
   ]
  },
  {
   "cell_type": "code",
   "execution_count": null,
   "id": "367c96c9-1ff4-4b3f-9489-aee003e56eb9",
   "metadata": {
    "tags": []
   },
   "outputs": [],
   "source": [
    "us_video_df.describe()"
   ]
  },
  {
   "cell_type": "code",
   "execution_count": null,
   "id": "3f790503-a081-4381-b3c0-db9c8da9ba28",
   "metadata": {
    "tags": []
   },
   "outputs": [],
   "source": [
    "anglo_sax_df = pd.concat([gb_video_df, us_video_df])"
   ]
  },
  {
   "cell_type": "code",
   "execution_count": null,
   "id": "ae66f676-2699-4d7b-be4d-f6e8d87bfaff",
   "metadata": {
    "tags": []
   },
   "outputs": [],
   "source": [
    "anglo_sax_df.head(2)"
   ]
  },
  {
   "cell_type": "code",
   "execution_count": null,
   "id": "f62774ac-1551-4dd8-b152-7359ffff3bd8",
   "metadata": {
    "tags": []
   },
   "outputs": [],
   "source": [
    "anglo_sax_df.describe()"
   ]
  },
  {
   "cell_type": "code",
   "execution_count": null,
   "id": "764bba38-b536-450d-87b4-2891272f6b9f",
   "metadata": {
    "tags": []
   },
   "outputs": [],
   "source": [
    "us_cat_df = pd.read_json(us_cat_json_path)"
   ]
  },
  {
   "cell_type": "code",
   "execution_count": null,
   "id": "63a591cc-eeaf-40f4-b380-0e37fe343b79",
   "metadata": {
    "tags": []
   },
   "outputs": [],
   "source": [
    "us_cat_df.head(2)"
   ]
  },
  {
   "cell_type": "code",
   "execution_count": null,
   "id": "11264cb6-24ef-4ac2-813e-796d56ff6ed6",
   "metadata": {
    "tags": []
   },
   "outputs": [],
   "source": [
    "us_cat_df = pd.json_normalize(us_cat_df[\"items\"])"
   ]
  },
  {
   "cell_type": "code",
   "execution_count": null,
   "id": "0be80999-11b3-4a60-b770-56cb19309d3d",
   "metadata": {
    "tags": []
   },
   "outputs": [],
   "source": [
    "us_cat_df = us_cat_df.rename(columns={\"id\": \"category_id\"})"
   ]
  },
  {
   "cell_type": "code",
   "execution_count": null,
   "id": "3b820317-c8ea-49d2-8703-54e820986d47",
   "metadata": {
    "tags": []
   },
   "outputs": [],
   "source": [
    "us_video_df.dtypes"
   ]
  },
  {
   "cell_type": "code",
   "execution_count": null,
   "id": "b4d5b1ac-5cac-4060-88c0-1f9f5c11743d",
   "metadata": {
    "tags": []
   },
   "outputs": [],
   "source": [
    "us_cat_df.category_id = us_cat_df.category_id.astype(\"int64\")"
   ]
  },
  {
   "cell_type": "code",
   "execution_count": null,
   "id": "4cfbc38d-b213-4187-945d-bbf7875d77a8",
   "metadata": {
    "tags": []
   },
   "outputs": [],
   "source": [
    "joined_df = pd.merge(us_video_df, us_cat_df, how=\"inner\", on=\"category_id\")"
   ]
  },
  {
   "cell_type": "code",
   "execution_count": null,
   "id": "7e412439-38b1-40e9-bc99-4d08888b0c81",
   "metadata": {
    "tags": []
   },
   "outputs": [],
   "source": [
    "joined_df[(joined_df[\"category_id\"] == 22) & (joined_df[\"snippet.assignable\"])].head(2)"
   ]
  },
  {
   "cell_type": "markdown",
   "id": "3239dd31-97e6-4cb4-b395-7f43a32c3851",
   "metadata": {},
   "source": [
    "## Трансформації можуть бути доволі складними. Бажано планувати такі трансформації, щоб їх можна було описати через apply (це метод, котрий застосовує певну функцію на кожен рядок вашого DataFrame)"
   ]
  },
  {
   "cell_type": "code",
   "execution_count": null,
   "id": "dbfe0b96-1a31-4334-a40c-23581f370947",
   "metadata": {
    "tags": []
   },
   "outputs": [],
   "source": [
    "from datetime import datetime, timedelta\n",
    "\n",
    "joined_df[\"parsed_date\"] = joined_df[\"trending_date\"].apply(lambda column_value: datetime.strptime(column_value, \"%y.%d.%m\"))"
   ]
  },
  {
   "cell_type": "code",
   "execution_count": null,
   "id": "4f9eef02-b095-4ed7-aeb9-abb5dc9a2670",
   "metadata": {
    "tags": []
   },
   "outputs": [],
   "source": [
    "joined_df[joined_df[\"parsed_date\"] - datetime(2017, 11, 14) < timedelta(days=2)].head(2)"
   ]
  },
  {
   "cell_type": "code",
   "execution_count": null,
   "id": "fc2c8361-53fb-4f13-a3c4-9c6d3b87b17f",
   "metadata": {
    "tags": []
   },
   "outputs": [],
   "source": [
    "joined_df[\"parsed_tags\"] = joined_df[\"tags\"].apply(lambda col: col.split(\"|\"))"
   ]
  },
  {
   "cell_type": "code",
   "execution_count": null,
   "id": "5ba1be29-e4b9-4469-b474-1440e587ccf8",
   "metadata": {
    "tags": []
   },
   "outputs": [],
   "source": [
    "joined_df.explode(\"parsed_tags\")"
   ]
  },
  {
   "cell_type": "markdown",
   "id": "42ff685a-b34d-4d6a-bd1d-a23535a85c4f",
   "metadata": {},
   "source": [
    "### Pandas дозволяє групувати дані між собою та рахувати ті чи інші функції агрегації. В Pandas це називається [split-apply-combine](https://pandas.pydata.org/docs/user_guide/groupby.html) процес"
   ]
  },
  {
   "cell_type": "code",
   "execution_count": null,
   "id": "aaaec7c1-b694-441c-a322-fb02df2d1ba5",
   "metadata": {
    "tags": []
   },
   "outputs": [],
   "source": [
    "joined_df.groupby(\"category_id\").sum()"
   ]
  }
 ],
 "metadata": {
  "kernelspec": {
   "display_name": "Python 3 (ipykernel)",
   "language": "python",
   "name": "python3"
  },
  "language_info": {
   "codemirror_mode": {
    "name": "ipython",
    "version": 3
   },
   "file_extension": ".py",
   "mimetype": "text/x-python",
   "name": "python",
   "nbconvert_exporter": "python",
   "pygments_lexer": "ipython3",
   "version": "3.9.16"
  }
 },
 "nbformat": 4,
 "nbformat_minor": 5
}
