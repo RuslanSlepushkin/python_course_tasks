{
 "cells": [
  {
   "cell_type": "markdown",
   "id": "30d78d89",
   "metadata": {},
   "source": [
    "# Наслідування"
   ]
  },
  {
   "cell_type": "markdown",
   "id": "025719a9",
   "metadata": {},
   "source": [
    "Визначимо наслідування як можливість створювати новий клас на основі існуючого. "
   ]
  },
  {
   "cell_type": "code",
   "execution_count": 1,
   "id": "adf96697",
   "metadata": {},
   "outputs": [],
   "source": [
    "class ParentClass:\n",
    "    a = 10\n",
    "    \n",
    "class ChildClass(ParentClass):\n",
    "    pass"
   ]
  },
  {
   "cell_type": "code",
   "execution_count": 2,
   "id": "06383bd4",
   "metadata": {},
   "outputs": [
    {
     "data": {
      "text/plain": [
       "10"
      ]
     },
     "execution_count": 2,
     "metadata": {},
     "output_type": "execute_result"
    }
   ],
   "source": [
    "ParentClass.a"
   ]
  },
  {
   "cell_type": "code",
   "execution_count": 3,
   "id": "95bbb88b",
   "metadata": {},
   "outputs": [
    {
     "data": {
      "text/plain": [
       "10"
      ]
     },
     "execution_count": 3,
     "metadata": {},
     "output_type": "execute_result"
    }
   ],
   "source": [
    "ChildClass.a"
   ]
  },
  {
   "cell_type": "markdown",
   "id": "e6261706",
   "metadata": {},
   "source": [
    "# Клас може наслідуватися як від одного класу, так і від багатьох."
   ]
  },
  {
   "cell_type": "code",
   "execution_count": 4,
   "id": "16d62361",
   "metadata": {},
   "outputs": [],
   "source": [
    "class A:\n",
    "    a = 10\n",
    "    \n",
    "    def print_some_stuff(self):\n",
    "        print(\"some_stuff\")\n",
    "    \n",
    "class B:\n",
    "    b = 20\n",
    "    \n",
    "class C(A, B):\n",
    "    c = 5050"
   ]
  },
  {
   "cell_type": "code",
   "execution_count": 5,
   "id": "3c81c2f3",
   "metadata": {},
   "outputs": [
    {
     "data": {
      "text/plain": [
       "10"
      ]
     },
     "execution_count": 5,
     "metadata": {},
     "output_type": "execute_result"
    }
   ],
   "source": [
    "C.a"
   ]
  },
  {
   "cell_type": "code",
   "execution_count": 6,
   "id": "5b6c5885",
   "metadata": {},
   "outputs": [
    {
     "data": {
      "text/plain": [
       "20"
      ]
     },
     "execution_count": 6,
     "metadata": {},
     "output_type": "execute_result"
    }
   ],
   "source": [
    "C.b"
   ]
  },
  {
   "cell_type": "code",
   "execution_count": 7,
   "id": "eca6b2d1",
   "metadata": {},
   "outputs": [
    {
     "name": "stdout",
     "output_type": "stream",
     "text": [
      "some_stuff\n"
     ]
    }
   ],
   "source": [
    "c = C()\n",
    "c.print_some_stuff()"
   ]
  },
  {
   "cell_type": "markdown",
   "id": "088f2c76",
   "metadata": {},
   "source": [
    "# Однак, так робити не рекомендується. Це створює парадокс, котрий українською називається ромбовидним наслідування (або, англійською, [diamond problem](https://upload.wikimedia.org/wikipedia/commons/thumb/8/8e/Diamond_inheritance.svg/1024px-Diamond_inheritance.svg.png))"
   ]
  },
  {
   "cell_type": "code",
   "execution_count": 23,
   "id": "3cd77065",
   "metadata": {},
   "outputs": [],
   "source": [
    "class Base:\n",
    "    a = 10\n",
    "\n",
    "class Child4(Base2):\n",
    "    pass\n",
    "    \n",
    "class Child1(Base):\n",
    "    a = 20\n",
    "    \n",
    "class Child2(Base):\n",
    "    a = 30\n",
    "    \n",
    "class Child3(Base):\n",
    "    pass\n",
    "    \n",
    "class GrandChild(Child1, Child2):\n",
    "    pass\n",
    "\n",
    "class GrandChild2(Child2, Child1):\n",
    "    pass\n",
    "\n",
    "class GrandChild3(Child3, Child1, Child2):\n",
    "    pass"
   ]
  },
  {
   "cell_type": "code",
   "execution_count": 25,
   "id": "228d0a56",
   "metadata": {},
   "outputs": [
    {
     "data": {
      "text/plain": [
       "(__main__.GrandChild, __main__.Child1, __main__.Child2, __main__.Base, object)"
      ]
     },
     "execution_count": 25,
     "metadata": {},
     "output_type": "execute_result"
    }
   ],
   "source": [
    "# Який буде результат цього коду?\n",
    "\n",
    "GrandChild.__mro__"
   ]
  },
  {
   "cell_type": "code",
   "execution_count": 10,
   "id": "1b97b0c1",
   "metadata": {},
   "outputs": [
    {
     "data": {
      "text/plain": [
       "30"
      ]
     },
     "execution_count": 10,
     "metadata": {},
     "output_type": "execute_result"
    }
   ],
   "source": [
    "GrandChild2.a"
   ]
  },
  {
   "cell_type": "code",
   "execution_count": 11,
   "id": "067fb6c3",
   "metadata": {},
   "outputs": [
    {
     "data": {
      "text/plain": [
       "20"
      ]
     },
     "execution_count": 11,
     "metadata": {},
     "output_type": "execute_result"
    }
   ],
   "source": [
    "GrandChild3.a"
   ]
  },
  {
   "cell_type": "markdown",
   "id": "a55f591d",
   "metadata": {},
   "source": [
    "# Можете запам'ятати порядок пошуку атрибуту в множинному наслідуванні в Python (в тому порядку, в котрому перелічені класи в наслідуванні). А, можете скористатися атрибутом __mro__"
   ]
  },
  {
   "cell_type": "code",
   "execution_count": 12,
   "id": "6105b89f",
   "metadata": {},
   "outputs": [
    {
     "data": {
      "text/plain": [
       "(__main__.GrandChild3,\n",
       " __main__.Child3,\n",
       " __main__.Child1,\n",
       " __main__.Child2,\n",
       " __main__.Base,\n",
       " object)"
      ]
     },
     "execution_count": 12,
     "metadata": {},
     "output_type": "execute_result"
    }
   ],
   "source": [
    "GrandChild3.__mro__"
   ]
  },
  {
   "cell_type": "markdown",
   "id": "b4fbcf37",
   "metadata": {},
   "source": [
    "# Для доступу до атрибутів батьківського класу є метод super()."
   ]
  },
  {
   "cell_type": "code",
   "execution_count": 13,
   "id": "8c6d308f",
   "metadata": {},
   "outputs": [],
   "source": [
    "class Base1:\n",
    "    a = 10\n",
    "    \n",
    "class Base2:\n",
    "    pass\n",
    "    \n",
    "class Child1(Base2, Base1):\n",
    "    a = 20\n",
    "    \n",
    "    def b(self):\n",
    "        print(self.a)\n",
    "        print(super().a)\n"
   ]
  },
  {
   "cell_type": "markdown",
   "id": "f79c2d37",
   "metadata": {},
   "source": [
    "# У випадку множинного наслідування super() працює не так однозначно (деталі в [відео](https://youtu.be/X1PQ7zzltz4))"
   ]
  },
  {
   "cell_type": "markdown",
   "id": "ae1f2913",
   "metadata": {},
   "source": [
    "# Альтернативою наслідуванню є принцип під назвою композиція. Композицією є передача якогось функціоналу класу за допомогою передачі об'єкта іншого класу"
   ]
  },
  {
   "cell_type": "code",
   "execution_count": 27,
   "id": "347b0204",
   "metadata": {},
   "outputs": [],
   "source": [
    "class A:\n",
    "    def some_func(self):\n",
    "        print(\"my functionality\")\n",
    "    \n",
    "class B(A):\n",
    "    pass\n",
    "\n",
    "class C:\n",
    "    some_func = A().some_func"
   ]
  },
  {
   "cell_type": "code",
   "execution_count": 28,
   "id": "44f49527",
   "metadata": {},
   "outputs": [
    {
     "name": "stdout",
     "output_type": "stream",
     "text": [
      "my functionality\n"
     ]
    }
   ],
   "source": [
    "B().some_func()"
   ]
  },
  {
   "cell_type": "code",
   "execution_count": 30,
   "id": "a064af9f",
   "metadata": {},
   "outputs": [
    {
     "name": "stdout",
     "output_type": "stream",
     "text": [
      "my functionality\n"
     ]
    }
   ],
   "source": [
    "C().some_func()"
   ]
  },
  {
   "cell_type": "code",
   "execution_count": 79,
   "id": "a7cdb96b",
   "metadata": {},
   "outputs": [],
   "source": [
    "from abc import ABC, abstractmethod\n",
    "\n",
    "class A(ABC):\n",
    "    cls_attr = 10\n",
    "    \n",
    "    def __init__(self):\n",
    "        self.inst_attr = 20\n",
    "        \n",
    "    @abstractmethod\n",
    "    def first_abs_method(self):\n",
    "        pass\n",
    "    \n",
    "    @abstractmethod\n",
    "    def second_abs_method(self):\n",
    "        print(\"hey!\")\n"
   ]
  },
  {
   "cell_type": "code",
   "execution_count": 82,
   "id": "9aa2f629",
   "metadata": {},
   "outputs": [],
   "source": [
    "class B(A):\n",
    "    def first_abs_method(self):\n",
    "        print(\"some stuff\")\n",
    "        \n",
    "    def second_abs_method(self):\n",
    "        super().second_abs_method()\n"
   ]
  },
  {
   "cell_type": "code",
   "execution_count": 84,
   "id": "f2ac35b3",
   "metadata": {},
   "outputs": [
    {
     "name": "stdout",
     "output_type": "stream",
     "text": [
      "hey!\n"
     ]
    }
   ],
   "source": [
    "B().second_abs_method()"
   ]
  },
  {
   "cell_type": "code",
   "execution_count": 66,
   "id": "402a4501",
   "metadata": {},
   "outputs": [
    {
     "data": {
      "text/plain": [
       "10"
      ]
     },
     "execution_count": 66,
     "metadata": {},
     "output_type": "execute_result"
    }
   ],
   "source": [
    "a.cls_attr"
   ]
  },
  {
   "cell_type": "code",
   "execution_count": 67,
   "id": "91edf468",
   "metadata": {},
   "outputs": [],
   "source": [
    "A.cls_attr = 30"
   ]
  },
  {
   "cell_type": "code",
   "execution_count": 68,
   "id": "5f1e12fd",
   "metadata": {},
   "outputs": [
    {
     "data": {
      "text/plain": [
       "30"
      ]
     },
     "execution_count": 68,
     "metadata": {},
     "output_type": "execute_result"
    }
   ],
   "source": [
    "a.cls_attr"
   ]
  },
  {
   "cell_type": "code",
   "execution_count": 69,
   "id": "212fd641",
   "metadata": {},
   "outputs": [],
   "source": [
    "a.cls_attr = 15"
   ]
  },
  {
   "cell_type": "code",
   "execution_count": 70,
   "id": "ec7e8c15",
   "metadata": {},
   "outputs": [
    {
     "data": {
      "text/plain": [
       "30"
      ]
     },
     "execution_count": 70,
     "metadata": {},
     "output_type": "execute_result"
    }
   ],
   "source": [
    "A.cls_attr"
   ]
  },
  {
   "cell_type": "code",
   "execution_count": 50,
   "id": "b1445798",
   "metadata": {},
   "outputs": [],
   "source": [
    "# Polymorphism\n",
    "# Encapsulation\n",
    "# Inheritance\n",
    "\n",
    "from abc import ABC, abstractmethod\n",
    "\n",
    "\n",
    "class Animal(ABC):\n",
    "    name = \"Barsique\"\n",
    "    \n",
    "    _protected = True\n",
    "    __private_attribute = \"this is private attr\"\n",
    "\n",
    "    def __init__(self, animal_type, size):\n",
    "        self.type = animal_type\n",
    "        self.size = size\n",
    "\n",
    "    @abstractmethod\n",
    "    def speak(self):\n",
    "        pass\n",
    "\n",
    "    def walk(self):\n",
    "        return \"walking\"\n",
    "\n",
    "\n",
    "class Dog(Animal):\n",
    "    \n",
    "    def __init__(self, animal_type, size, owner):\n",
    "        super().__init__(animal_type, size)\n",
    "        self.owner = owner\n",
    "\n",
    "    def __return_woof(self):\n",
    "        return \"woof\"\n",
    "\n",
    "    def speak(self):\n",
    "        return self.__return_woof()\n",
    "    \n",
    "class Cat(Animal):    \n",
    "    def speak(self):\n",
    "        return \"meow\"\n",
    "\n"
   ]
  },
  {
   "cell_type": "code",
   "execution_count": 51,
   "id": "4dab3304",
   "metadata": {},
   "outputs": [],
   "source": [
    "my_lovely_cat = Cat(\"semka\", \"big_fluffy_and nice\")"
   ]
  },
  {
   "cell_type": "code",
   "execution_count": 53,
   "id": "668d5122",
   "metadata": {},
   "outputs": [],
   "source": [
    "my_lovely_cat._Animal__private_attribute = \"EHEHE\""
   ]
  },
  {
   "cell_type": "code",
   "execution_count": 54,
   "id": "ff6d07ce",
   "metadata": {},
   "outputs": [
    {
     "data": {
      "text/plain": [
       "'EHEHE'"
      ]
     },
     "execution_count": 54,
     "metadata": {},
     "output_type": "execute_result"
    }
   ],
   "source": [
    "my_lovely_cat._Animal__private_attribute"
   ]
  },
  {
   "cell_type": "code",
   "execution_count": 49,
   "id": "e0dd79e8",
   "metadata": {},
   "outputs": [
    {
     "data": {
      "text/plain": [
       "['_Animal__private_attribute',\n",
       " '__abstractmethods__',\n",
       " '__class__',\n",
       " '__delattr__',\n",
       " '__dict__',\n",
       " '__dir__',\n",
       " '__doc__',\n",
       " '__eq__',\n",
       " '__format__',\n",
       " '__ge__',\n",
       " '__getattribute__',\n",
       " '__gt__',\n",
       " '__hash__',\n",
       " '__init__',\n",
       " '__init_subclass__',\n",
       " '__le__',\n",
       " '__lt__',\n",
       " '__module__',\n",
       " '__ne__',\n",
       " '__new__',\n",
       " '__reduce__',\n",
       " '__reduce_ex__',\n",
       " '__repr__',\n",
       " '__setattr__',\n",
       " '__sizeof__',\n",
       " '__slots__',\n",
       " '__str__',\n",
       " '__subclasshook__',\n",
       " '__weakref__',\n",
       " '_abc_impl',\n",
       " '_protected',\n",
       " 'name',\n",
       " 'size',\n",
       " 'speak',\n",
       " 'type',\n",
       " 'walk']"
      ]
     },
     "execution_count": 49,
     "metadata": {},
     "output_type": "execute_result"
    }
   ],
   "source": [
    "dir(my_lovely_cat)"
   ]
  }
 ],
 "metadata": {
  "kernelspec": {
   "display_name": "Python 3 (ipykernel)",
   "language": "python",
   "name": "python3"
  },
  "language_info": {
   "codemirror_mode": {
    "name": "ipython",
    "version": 3
   },
   "file_extension": ".py",
   "mimetype": "text/x-python",
   "name": "python",
   "nbconvert_exporter": "python",
   "pygments_lexer": "ipython3",
   "version": "3.9.16"
  }
 },
 "nbformat": 4,
 "nbformat_minor": 5
}
